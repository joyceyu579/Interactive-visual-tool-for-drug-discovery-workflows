{
 "cells": [
  {
   "cell_type": "code",
   "execution_count": 1,
   "id": "857bea07-7dff-47c9-9e65-49520464ddc9",
   "metadata": {},
   "outputs": [
    {
     "name": "stdout",
     "output_type": "stream",
     "text": [
      "Requirement already satisfied: plotly in /opt/anaconda3/lib/python3.12/site-packages (5.22.0)\n",
      "Requirement already satisfied: tenacity>=6.2.0 in /opt/anaconda3/lib/python3.12/site-packages (from plotly) (8.2.2)\n",
      "Requirement already satisfied: packaging in /opt/anaconda3/lib/python3.12/site-packages (from plotly) (23.2)\n",
      "Requirement already satisfied: datascience in /opt/anaconda3/lib/python3.12/site-packages (0.17.6)\n",
      "Requirement already satisfied: folium>=0.9.1 in /opt/anaconda3/lib/python3.12/site-packages (from datascience) (0.18.0)\n",
      "Requirement already satisfied: setuptools in /opt/anaconda3/lib/python3.12/site-packages (from datascience) (75.1.0)\n",
      "Requirement already satisfied: matplotlib>=3.0.0 in /opt/anaconda3/lib/python3.12/site-packages (from datascience) (3.8.4)\n",
      "Requirement already satisfied: pandas in /opt/anaconda3/lib/python3.12/site-packages (from datascience) (2.2.3)\n",
      "Requirement already satisfied: scipy in /opt/anaconda3/lib/python3.12/site-packages (from datascience) (1.13.1)\n",
      "Requirement already satisfied: numpy in /opt/anaconda3/lib/python3.12/site-packages (from datascience) (1.26.4)\n",
      "Requirement already satisfied: ipython in /opt/anaconda3/lib/python3.12/site-packages (from datascience) (8.25.0)\n",
      "Requirement already satisfied: plotly in /opt/anaconda3/lib/python3.12/site-packages (from datascience) (5.22.0)\n",
      "Requirement already satisfied: branca in /opt/anaconda3/lib/python3.12/site-packages (from datascience) (0.8.0)\n",
      "Requirement already satisfied: jinja2>=2.9 in /opt/anaconda3/lib/python3.12/site-packages (from folium>=0.9.1->datascience) (3.1.4)\n",
      "Requirement already satisfied: requests in /opt/anaconda3/lib/python3.12/site-packages (from folium>=0.9.1->datascience) (2.32.2)\n",
      "Requirement already satisfied: xyzservices in /opt/anaconda3/lib/python3.12/site-packages (from folium>=0.9.1->datascience) (2022.9.0)\n",
      "Requirement already satisfied: contourpy>=1.0.1 in /opt/anaconda3/lib/python3.12/site-packages (from matplotlib>=3.0.0->datascience) (1.2.0)\n",
      "Requirement already satisfied: cycler>=0.10 in /opt/anaconda3/lib/python3.12/site-packages (from matplotlib>=3.0.0->datascience) (0.11.0)\n",
      "Requirement already satisfied: fonttools>=4.22.0 in /opt/anaconda3/lib/python3.12/site-packages (from matplotlib>=3.0.0->datascience) (4.51.0)\n",
      "Requirement already satisfied: kiwisolver>=1.3.1 in /opt/anaconda3/lib/python3.12/site-packages (from matplotlib>=3.0.0->datascience) (1.4.4)\n",
      "Requirement already satisfied: packaging>=20.0 in /opt/anaconda3/lib/python3.12/site-packages (from matplotlib>=3.0.0->datascience) (23.2)\n",
      "Requirement already satisfied: pillow>=8 in /opt/anaconda3/lib/python3.12/site-packages (from matplotlib>=3.0.0->datascience) (10.3.0)\n",
      "Requirement already satisfied: pyparsing>=2.3.1 in /opt/anaconda3/lib/python3.12/site-packages (from matplotlib>=3.0.0->datascience) (3.0.9)\n",
      "Requirement already satisfied: python-dateutil>=2.7 in /opt/anaconda3/lib/python3.12/site-packages (from matplotlib>=3.0.0->datascience) (2.9.0.post0)\n",
      "Requirement already satisfied: decorator in /opt/anaconda3/lib/python3.12/site-packages (from ipython->datascience) (5.1.1)\n",
      "Requirement already satisfied: jedi>=0.16 in /opt/anaconda3/lib/python3.12/site-packages (from ipython->datascience) (0.18.1)\n",
      "Requirement already satisfied: matplotlib-inline in /opt/anaconda3/lib/python3.12/site-packages (from ipython->datascience) (0.1.6)\n",
      "Requirement already satisfied: prompt-toolkit<3.1.0,>=3.0.41 in /opt/anaconda3/lib/python3.12/site-packages (from ipython->datascience) (3.0.43)\n",
      "Requirement already satisfied: pygments>=2.4.0 in /opt/anaconda3/lib/python3.12/site-packages (from ipython->datascience) (2.15.1)\n",
      "Requirement already satisfied: stack-data in /opt/anaconda3/lib/python3.12/site-packages (from ipython->datascience) (0.2.0)\n",
      "Requirement already satisfied: traitlets>=5.13.0 in /opt/anaconda3/lib/python3.12/site-packages (from ipython->datascience) (5.14.3)\n",
      "Requirement already satisfied: pexpect>4.3 in /opt/anaconda3/lib/python3.12/site-packages (from ipython->datascience) (4.8.0)\n",
      "Requirement already satisfied: pytz>=2020.1 in /opt/anaconda3/lib/python3.12/site-packages (from pandas->datascience) (2024.1)\n",
      "Requirement already satisfied: tzdata>=2022.7 in /opt/anaconda3/lib/python3.12/site-packages (from pandas->datascience) (2023.3)\n",
      "Requirement already satisfied: tenacity>=6.2.0 in /opt/anaconda3/lib/python3.12/site-packages (from plotly->datascience) (8.2.2)\n",
      "Requirement already satisfied: parso<0.9.0,>=0.8.0 in /opt/anaconda3/lib/python3.12/site-packages (from jedi>=0.16->ipython->datascience) (0.8.3)\n",
      "Requirement already satisfied: MarkupSafe>=2.0 in /opt/anaconda3/lib/python3.12/site-packages (from jinja2>=2.9->folium>=0.9.1->datascience) (2.1.3)\n",
      "Requirement already satisfied: ptyprocess>=0.5 in /opt/anaconda3/lib/python3.12/site-packages (from pexpect>4.3->ipython->datascience) (0.7.0)\n",
      "Requirement already satisfied: wcwidth in /opt/anaconda3/lib/python3.12/site-packages (from prompt-toolkit<3.1.0,>=3.0.41->ipython->datascience) (0.2.5)\n",
      "Requirement already satisfied: six>=1.5 in /opt/anaconda3/lib/python3.12/site-packages (from python-dateutil>=2.7->matplotlib>=3.0.0->datascience) (1.16.0)\n",
      "Requirement already satisfied: charset-normalizer<4,>=2 in /opt/anaconda3/lib/python3.12/site-packages (from requests->folium>=0.9.1->datascience) (2.0.4)\n",
      "Requirement already satisfied: idna<4,>=2.5 in /opt/anaconda3/lib/python3.12/site-packages (from requests->folium>=0.9.1->datascience) (3.7)\n",
      "Requirement already satisfied: urllib3<3,>=1.21.1 in /opt/anaconda3/lib/python3.12/site-packages (from requests->folium>=0.9.1->datascience) (2.2.2)\n",
      "Requirement already satisfied: certifi>=2017.4.17 in /opt/anaconda3/lib/python3.12/site-packages (from requests->folium>=0.9.1->datascience) (2024.8.30)\n",
      "Requirement already satisfied: executing in /opt/anaconda3/lib/python3.12/site-packages (from stack-data->ipython->datascience) (0.8.3)\n",
      "Requirement already satisfied: asttokens in /opt/anaconda3/lib/python3.12/site-packages (from stack-data->ipython->datascience) (2.0.5)\n",
      "Requirement already satisfied: pure-eval in /opt/anaconda3/lib/python3.12/site-packages (from stack-data->ipython->datascience) (0.2.2)\n",
      "Requirement already satisfied: pandas in /opt/anaconda3/lib/python3.12/site-packages (2.2.3)\n",
      "Requirement already satisfied: numpy>=1.26.0 in /opt/anaconda3/lib/python3.12/site-packages (from pandas) (1.26.4)\n",
      "Requirement already satisfied: python-dateutil>=2.8.2 in /opt/anaconda3/lib/python3.12/site-packages (from pandas) (2.9.0.post0)\n",
      "Requirement already satisfied: pytz>=2020.1 in /opt/anaconda3/lib/python3.12/site-packages (from pandas) (2024.1)\n",
      "Requirement already satisfied: tzdata>=2022.7 in /opt/anaconda3/lib/python3.12/site-packages (from pandas) (2023.3)\n",
      "Requirement already satisfied: six>=1.5 in /opt/anaconda3/lib/python3.12/site-packages (from python-dateutil>=2.8.2->pandas) (1.16.0)\n",
      "Requirement already satisfied: numpy in /opt/anaconda3/lib/python3.12/site-packages (1.26.4)\n",
      "Requirement already satisfied: webcolors in /opt/anaconda3/lib/python3.12/site-packages (24.8.0)\n",
      "Requirement already satisfied: matplotlib in /opt/anaconda3/lib/python3.12/site-packages (3.8.4)\n",
      "Requirement already satisfied: inline in /opt/anaconda3/lib/python3.12/site-packages (0.0.1)\n",
      "Requirement already satisfied: contourpy>=1.0.1 in /opt/anaconda3/lib/python3.12/site-packages (from matplotlib) (1.2.0)\n",
      "Requirement already satisfied: cycler>=0.10 in /opt/anaconda3/lib/python3.12/site-packages (from matplotlib) (0.11.0)\n",
      "Requirement already satisfied: fonttools>=4.22.0 in /opt/anaconda3/lib/python3.12/site-packages (from matplotlib) (4.51.0)\n",
      "Requirement already satisfied: kiwisolver>=1.3.1 in /opt/anaconda3/lib/python3.12/site-packages (from matplotlib) (1.4.4)\n",
      "Requirement already satisfied: numpy>=1.21 in /opt/anaconda3/lib/python3.12/site-packages (from matplotlib) (1.26.4)\n",
      "Requirement already satisfied: packaging>=20.0 in /opt/anaconda3/lib/python3.12/site-packages (from matplotlib) (23.2)\n",
      "Requirement already satisfied: pillow>=8 in /opt/anaconda3/lib/python3.12/site-packages (from matplotlib) (10.3.0)\n",
      "Requirement already satisfied: pyparsing>=2.3.1 in /opt/anaconda3/lib/python3.12/site-packages (from matplotlib) (3.0.9)\n",
      "Requirement already satisfied: python-dateutil>=2.7 in /opt/anaconda3/lib/python3.12/site-packages (from matplotlib) (2.9.0.post0)\n",
      "Requirement already satisfied: six>=1.5 in /opt/anaconda3/lib/python3.12/site-packages (from python-dateutil>=2.7->matplotlib) (1.16.0)\n",
      "Requirement already satisfied: matplotlib in /opt/anaconda3/lib/python3.12/site-packages (3.8.4)\n",
      "Requirement already satisfied: contourpy>=1.0.1 in /opt/anaconda3/lib/python3.12/site-packages (from matplotlib) (1.2.0)\n",
      "Requirement already satisfied: cycler>=0.10 in /opt/anaconda3/lib/python3.12/site-packages (from matplotlib) (0.11.0)\n",
      "Requirement already satisfied: fonttools>=4.22.0 in /opt/anaconda3/lib/python3.12/site-packages (from matplotlib) (4.51.0)\n",
      "Requirement already satisfied: kiwisolver>=1.3.1 in /opt/anaconda3/lib/python3.12/site-packages (from matplotlib) (1.4.4)\n",
      "Requirement already satisfied: numpy>=1.21 in /opt/anaconda3/lib/python3.12/site-packages (from matplotlib) (1.26.4)\n",
      "Requirement already satisfied: packaging>=20.0 in /opt/anaconda3/lib/python3.12/site-packages (from matplotlib) (23.2)\n",
      "Requirement already satisfied: pillow>=8 in /opt/anaconda3/lib/python3.12/site-packages (from matplotlib) (10.3.0)\n",
      "Requirement already satisfied: pyparsing>=2.3.1 in /opt/anaconda3/lib/python3.12/site-packages (from matplotlib) (3.0.9)\n",
      "Requirement already satisfied: python-dateutil>=2.7 in /opt/anaconda3/lib/python3.12/site-packages (from matplotlib) (2.9.0.post0)\n",
      "Requirement already satisfied: six>=1.5 in /opt/anaconda3/lib/python3.12/site-packages (from python-dateutil>=2.7->matplotlib) (1.16.0)\n",
      "Requirement already satisfied: dash_html_components in /opt/anaconda3/lib/python3.12/site-packages (2.0.0)\n"
     ]
    }
   ],
   "source": [
    "import requests as req\n",
    "!pip install plotly\n",
    "!pip install datascience\n",
    "!pip install pandas\n",
    "!pip install numpy\n",
    "!pip install webcolors\n",
    "!pip install matplotlib inline\n",
    "!pip install matplotlib\n",
    "!pip install dash_html_components\n",
    "#https://reeddesign.co.uk/test/namedcolors.html "
   ]
  },
  {
   "cell_type": "code",
   "execution_count": 2,
   "id": "b00f4ea4-9150-4ace-9532-c283015a20cd",
   "metadata": {},
   "outputs": [],
   "source": [
    "from datascience import *\n",
    "from math import *\n",
    "import pandas as pd\n",
    "import numpy as np\n",
    "from webcolors import hex_to_rgb\n",
    "%matplotlib inline\n",
    "\n",
    "from plotly.offline import download_plotlyjs, init_notebook_mode, plot, iplot\n",
    "from plotly.validators.scatter.marker import SymbolValidator\n",
    "import plotly.graph_objects as go"
   ]
  },
  {
   "cell_type": "code",
   "execution_count": 3,
   "id": "124755de-d88c-403e-bbdd-9f6deda16bc8",
   "metadata": {},
   "outputs": [
    {
     "data": {
      "text/html": [
       "        <script type=\"text/javascript\">\n",
       "        window.PlotlyConfig = {MathJaxConfig: 'local'};\n",
       "        if (window.MathJax && window.MathJax.Hub && window.MathJax.Hub.Config) {window.MathJax.Hub.Config({SVG: {font: \"STIX-Web\"}});}\n",
       "        if (typeof require !== 'undefined') {\n",
       "        require.undef(\"plotly\");\n",
       "        requirejs.config({\n",
       "            paths: {\n",
       "                'plotly': ['https://cdn.plot.ly/plotly-2.32.0.min']\n",
       "            }\n",
       "        });\n",
       "        require(['plotly'], function(Plotly) {\n",
       "            window._Plotly = Plotly;\n",
       "        });\n",
       "        }\n",
       "        </script>\n",
       "        "
      ]
     },
     "metadata": {},
     "output_type": "display_data"
    }
   ],
   "source": [
    "init_notebook_mode(connected=True) "
   ]
  },
  {
   "cell_type": "markdown",
   "id": "9df2657e-1d07-422d-9979-2484175e2ef7",
   "metadata": {},
   "source": [
    "<span style=\"color:red;font-weight:10;font-size:30px\">\n",
    "<u><b>1️⃣💉🐭💬 READ THESE INSTRUCTIONS:</b></u> <br>\n",
    "<span style=\"color:red;font-weight:10;font-size:20px\">  \n",
    "If your csv file is not called \"antibody_flow_chart\", replace the info below where it says <mark>\"antibody_flow_chart.csv\"</mark> with <mark>\"your_file_name.csv\"</mark>. If it is, then proceed to next step. <br> <br> It is important that \".csv\" is there."
   ]
  },
  {
   "cell_type": "code",
   "execution_count": 27,
   "id": "7bd0a615-e4c9-46f2-a6ab-393ec69a07f8",
   "metadata": {},
   "outputs": [
    {
     "data": {
      "text/html": [
       "<table border=\"1\" class=\"dataframe\">\n",
       "    <thead>\n",
       "        <tr>\n",
       "            <th>Info for plot</th> <th>Unnamed: 1</th> <th>Unnamed: 2</th> <th>Unnamed: 3</th> <th>CHANGE YELLOW HIGHLIGHT</th> <th>Unnamed: 5</th> <th>Unnamed: 6</th> <th>Unnamed: 7</th> <th>Unnamed: 8</th> <th>Unnamed: 9</th> <th>Unnamed: 10</th> <th>Unnamed: 11</th> <th>Unnamed: 12</th> <th>SankeyTitle</th> <th>node_label</th> <th>x_posi</th> <th>y_posi</th> <th>node_color</th> <th>node_color_rgba</th> <th>node_hover</th> <th>source</th> <th>target</th> <th>value</th> <th>link_hover</th> <th>link_colorrr</th> <th>Unnamed: 25</th> <th>index</th> <th>Unnamed: 27</th> <th>Hybridoma ID</th> <th>Clone A or B or Poly?</th> <th>Unnamed: 30</th> <th>Unnamed: 31</th> <th>Unnamed: 32</th> <th>Unnamed: 33</th> <th>Notes</th>\n",
       "        </tr>\n",
       "    </thead>\n",
       "    <tbody>\n",
       "        <tr>\n",
       "            <td>SR#                                                      </td> <td>#####                                                       </td> <td>nan                  </td> <td>nan                                </td> <td>nan                    </td> <td>nan                 </td> <td>nan                  </td> <td>nan                            </td> <td>nan                                                         </td> <td>nan         </td> <td>nan        </td> <td>nan        </td> <td>nan        </td> <td><b>SR##### Client [Target]<br>Hybridoma antibody discove ...</td> <td>Fusion 1 <br># hybridomas =  2304<br>Fusion efficiency = ...</td> <td>-0.01 </td> <td>0.25  </td> <td>#ffd700   </td> <td>rgba(255,215,0, 0.4)</td> <td>Fusion efficiency =  1.2<br>Fused b-cells:  Lymphocytes< ...</td> <td>Fusion 1 <br># hybridomas =  2304<br>Fusion efficiency = ...</td> <td><b>Primary<br>screen<br><span style='color:red'>384 hits    </td> <td>2304 </td> <td>Fusion efficiency =1.2<br>Pool 1 Lymphocytes<br>Mse 9, 1 ...</td> <td>rgba(255,215,0, 0.4) </td> <td>nan        </td> <td>0    </td> <td>nan        </td> <td>nan         </td> <td>nan                  </td> <td>nan        </td> <td>nan        </td> <td>nan        </td> <td>nan        </td> <td>*Helpful link to color codes:                               </td>\n",
       "        </tr>\n",
       "        <tr>\n",
       "            <td>Client                                                   </td> <td>Client                                                      </td> <td>nan                  </td> <td>nan                                </td> <td>nan                    </td> <td>nan                 </td> <td>nan                  </td> <td>nan                            </td> <td>nan                                                         </td> <td>nan         </td> <td>nan        </td> <td>nan        </td> <td>nan        </td> <td>nan                                                         </td> <td>Fusion 2 <br># hybridomas =  2496<br>Fusion efficiency = ...</td> <td>-0.01 </td> <td>0.75  </td> <td>#800080   </td> <td>rgba(128,0,128, 0.4)</td> <td>Fusion efficiency = 1.3<br>Pool 2 Lymphocytes<br>Mse 9,  ...</td> <td>Fusion 2 <br># hybridomas =  2496<br>Fusion efficiency = ...</td> <td><b>Primary<br>screen<br><span style='color:red'>384 hits    </td> <td>2496 </td> <td>Fusion efficiency =1.3<br>Pool 1 Lymphocytes<br>Mse 1, 2 ...</td> <td>rgba(128,0,128, 0.4) </td> <td>nan        </td> <td>1    </td> <td>nan        </td> <td>nan         </td> <td>nan                  </td> <td>nan        </td> <td>nan        </td> <td>nan        </td> <td>nan        </td> <td>https://reeddesign.co.uk/test/namedcolors.html              </td>\n",
       "        </tr>\n",
       "        <tr>\n",
       "            <td>Target                                                   </td> <td>[Target]                                                    </td> <td>nan                  </td> <td>nan                                </td> <td>nan                    </td> <td>nan                 </td> <td>nan                  </td> <td>nan                            </td> <td>nan                                                         </td> <td>nan         </td> <td>nan        </td> <td>nan        </td> <td>nan        </td> <td>nan                                                         </td> <td><b>Primary<br>screen<br><span style='color:red'>384 hits    </td> <td>0.2   </td> <td>0.5   </td> <td>#000000   </td> <td>rgba(0,0,0)         </td> <td>4800 Screened against 1ug/mL Target-His by ELISA<br><br> ...</td> <td>Fusion 1 <br># hybridomas =  2304<br>Fusion efficiency = ...</td> <td><b>Confirmation<br>screen<br><span style='color:red'>355 ...</td> <td>192  </td> <td>                                                            </td> <td>rgba(255,215,0, 0.4) </td> <td>nan        </td> <td>2    </td> <td>nan        </td> <td>nan         </td> <td>nan                  </td> <td>nan        </td> <td>nan        </td> <td>nan        </td> <td>nan        </td> <td>https://www.rapidtables.com/convert/color/hex-to-rgb.html   </td>\n",
       "        </tr>\n",
       "        <tr>\n",
       "            <td>nan                                                      </td> <td>nan                                                         </td> <td>nan                  </td> <td>nan                                </td> <td>nan                    </td> <td>nan                 </td> <td>nan                  </td> <td>nan                            </td> <td>nan                                                         </td> <td>nan         </td> <td>nan        </td> <td>nan        </td> <td>nan        </td> <td>nan                                                         </td> <td><b>Confirmation<br>screen<br><span style='color:red'>355 ...</td> <td>0.3   </td> <td>0.25  </td> <td>#000000   </td> <td>rgba(0,0,0)         </td> <td>384 Screened against 1ug/mL Target-His by ELISA<br><br>3 ...</td> <td>Fusion 2 <br># hybridomas =  2496<br>Fusion efficiency = ...</td> <td><b>Confirmation<br>screen<br><span style='color:red'>355 ...</td> <td>192  </td> <td>                                                            </td> <td>rgba(128,0,128, 0.4) </td> <td>nan        </td> <td>3    </td> <td>nan        </td> <td>nan         </td> <td>nan                  </td> <td>nan        </td> <td>nan        </td> <td>nan        </td> <td>nan        </td> <td>*It's important that all names under source and target e ...</td>\n",
       "        </tr>\n",
       "        <tr>\n",
       "            <td>Fusion 1                                                 </td> <td>nan                                                         </td> <td>nan                  </td> <td>nan                                </td> <td>nan                    </td> <td>nan                 </td> <td>nan                  </td> <td>nan                            </td> <td>nan                                                         </td> <td>nan         </td> <td>nan        </td> <td>nan        </td> <td>nan        </td> <td>nan                                                         </td> <td><b>Tertiary screen<br><span style='color:red'>337/355 hi ...</td> <td>0.4   </td> <td>0.35  </td> <td>#000000   </td> <td>rgba(0,0,0)         </td> <td>355 screened against 1ug/mL Target-His by ELISA <br><br> ...</td> <td><b>Confirmation<br>screen<br><span style='color:red'>355 ...</td> <td><b>Tertiary screen<br><span style='color:red'>337/355 hi ...</td> <td>187  </td> <td>                                                            </td> <td>rgba(255,215,0, 0.4) </td> <td>nan        </td> <td>4    </td> <td>nan        </td> <td>nan         </td> <td>nan                  </td> <td>nan        </td> <td>nan        </td> <td>nan        </td> <td>nan        </td> <td>nan                                                         </td>\n",
       "        </tr>\n",
       "        <tr>\n",
       "            <td># hybridomas =                                           </td> <td>2304                                                        </td> <td>nan                  </td> <td>nan                                </td> <td>nan                    </td> <td>nan                 </td> <td>nan                  </td> <td>nan                            </td> <td>nan                                                         </td> <td>nan         </td> <td>nan        </td> <td>nan        </td> <td>nan        </td> <td>nan                                                         </td> <td>Clone A<br>(24/24)                                          </td> <td>0.65  </td> <td>0.1   </td> <td>#00008b   </td> <td>rgba(0, 0, 139)     </td> <td>24 Clone A's obtained out of 24<br>Clone screen RLU:  <b ...</td> <td><b>Confirmation<br>screen<br><span style='color:red'>355 ...</td> <td><b>Tertiary screen<br><span style='color:red'>337/355 hi ...</td> <td>187  </td> <td>                                                            </td> <td>rgba(128,0,128, 0.4) </td> <td>nan        </td> <td>5    </td> <td>nan        </td> <td>nan         </td> <td>nan                  </td> <td>nan        </td> <td>nan        </td> <td>nan        </td> <td>nan        </td> <td>nan                                                         </td>\n",
       "        </tr>\n",
       "        <tr>\n",
       "            <td>Fusion efficiency =                                      </td> <td>1.2                                                         </td> <td>nan                  </td> <td>nan                                </td> <td>nan                    </td> <td>nan                 </td> <td>nan                  </td> <td>nan                            </td> <td>nan                                                         </td> <td>nan         </td> <td>nan        </td> <td>nan        </td> <td>nan        </td> <td>nan                                                         </td> <td>Clone B (21/24)                                             </td> <td>0.65  </td> <td>0.3   </td> <td>#00008b   </td> <td>rgba(0, 0, 139)     </td> <td>21 Clone B's obtained out of 24<br>Clone screen RLU:  <b ...</td> <td>Clone A<br>(24/24)                                          </td> <td>BVP<br>(21/24 clean)                                        </td> <td>20   </td> <td>testA                                                       </td> <td>rgba(30,144,255, 0.4)</td> <td>nan        </td> <td>6    </td> <td>nan        </td> <td>nan         </td> <td>nan                  </td> <td>nan        </td> <td>nan        </td> <td>nan        </td> <td>nan        </td> <td>nan                                                         </td>\n",
       "        </tr>\n",
       "        <tr>\n",
       "            <td># of wells screened:                                     </td> <td>1920                                                        </td> <td>nan                  </td> <td>nan                                </td> <td>nan                    </td> <td>nan                 </td> <td>nan                  </td> <td>nan                            </td> <td>nan                                                         </td> <td>nan         </td> <td>nan        </td> <td>nan        </td> <td>nan        </td> <td>nan                                                         </td> <td>BVP<br>(21/24 clean)                                        </td> <td>0.95  </td> <td>0.35  </td> <td>#1e90ff   </td> <td>rgba(30, 144, 255)  </td> <td>21 Clones clean against BVP<br>BVP RLU:  <br>2-O1 (RLU:# ...</td> <td>Clone B (21/24)                                             </td> <td>BVP<br>(21/24 clean)                                        </td> <td>3    </td> <td>testB                                                       </td> <td>rgba(30,144,255, 0.4)</td> <td>nan        </td> <td>7    </td> <td>nan        </td> <td>nan         </td> <td>nan                  </td> <td>nan        </td> <td>nan        </td> <td>nan        </td> <td>nan        </td> <td>nan                                                         </td>\n",
       "        </tr>\n",
       "        <tr>\n",
       "            <td>Mse ID#                                                  </td> <td>9, 10                                                       </td> <td>nan                  </td> <td>nan                                </td> <td>nan                    </td> <td>nan                 </td> <td>nan                  </td> <td>nan                            </td> <td>nan                                                         </td> <td>nan         </td> <td>nan        </td> <td>nan        </td> <td>nan        </td> <td>nan                                                         </td> <td><b>Sequencing</b> <br>( Single heavy & light<br> chain o ...</td> <td>0.9   </td> <td>0.5   </td> <td>#ff0000   </td> <td>rgba(255,0,0, 0.4)  </td> <td>19 Unique: <br>3-O21<br>4-A16<br>4-N1<br>5-I19<br>5-L22< ...</td> <td>Clone A<br>(24/24)                                          </td> <td><b>Sequencing</b> <br>( Single heavy & light<br> chain o ...</td> <td>20   </td> <td>testA                                                       </td> <td>rgba(255,0,0, 0.4)   </td> <td>nan        </td> <td>8    </td> <td>nan        </td> <td>nan         </td> <td>nan                  </td> <td>nan        </td> <td>nan        </td> <td>nan        </td> <td>nan        </td> <td>nan                                                         </td>\n",
       "        </tr>\n",
       "        <tr>\n",
       "            <td>Mse strain(s):                                           </td> <td>qxv                                                         </td> <td>nan                  </td> <td>nan                                </td> <td>nan                    </td> <td>nan                 </td> <td>nan                  </td> <td>nan                            </td> <td>nan                                                         </td> <td>nan         </td> <td>nan        </td> <td>nan        </td> <td>nan        </td> <td>nan                                                         </td> <td>2-O1                                                        </td> <td>0.45  </td> <td>0.6   </td> <td>#ffd700   </td> <td>rgba(255,215,0,0.4) </td> <td>1*Screen RLU:  905599<br>2*Screen RLU:  392623<br>3*Scre ...</td> <td>Clone B (21/24)                                             </td> <td><b>Sequencing</b> <br>( Single heavy & light<br> chain o ...</td> <td>3    </td> <td>testB                                                       </td> <td>rgba(255,0,0, 0.4)   </td> <td>nan        </td> <td>9    </td> <td>nan        </td> <td>2-O1        </td> <td>A                    </td> <td>nan        </td> <td>nan        </td> <td>nan        </td> <td>nan        </td> <td>nan                                                         </td>\n",
       "        </tr>\n",
       "        <tr>\n",
       "            <td>Fused b-cells:                                           </td> <td>Lymphocytes                                                 </td> <td>nan                  </td> <td>nan                                </td> <td>nan                    </td> <td>nan                 </td> <td>nan                  </td> <td>nan                            </td> <td>nan                                                         </td> <td>nan         </td> <td>nan        </td> <td>nan        </td> <td>nan        </td> <td>nan                                                         </td> <td>3-D11                                                       </td> <td>0.45  </td> <td>0.625 </td> <td>#ffd700   </td> <td>rgba(255,215,0,0.4) </td> <td>1*Screen RLU:  717841<br>2*Screen RLU:  260434<br>3*Scre ...</td> <td><b>Tertiary screen<br><span style='color:red'>337/355 hi ...</td> <td>2-O1                                                        </td> <td>1    </td> <td>RLU: 527914                                                 </td> <td>rgba(255,215,0,0.4)  </td> <td>nan        </td> <td>10   </td> <td>nan        </td> <td>3-D11       </td> <td>A                    </td> <td>nan        </td> <td>nan        </td> <td>nan        </td> <td>nan        </td> <td>nan                                                         </td>\n",
       "        </tr>\n",
       "        <tr>\n",
       "            <td>Immunization method:                                     </td> <td>HT-Hock                                                     </td> <td>nan                  </td> <td>nan                                </td> <td>nan                    </td> <td>nan                 </td> <td>nan                  </td> <td>nan                            </td> <td>nan                                                         </td> <td>nan         </td> <td>nan        </td> <td>nan        </td> <td>nan        </td> <td>nan                                                         </td> <td>3-O21                                                       </td> <td>0.45  </td> <td>0.65  </td> <td>#ffd700   </td> <td>rgba(255,215,0,0.4) </td> <td>1*Screen RLU:  715840<br>2*Screen RLU:  517541<br>3*Scre ...</td> <td><b>Tertiary screen<br><span style='color:red'>337/355 hi ...</td> <td>3-D11                                                       </td> <td>1    </td> <td>RLU: 223561                                                 </td> <td>rgba(255,215,0,0.4)  </td> <td>nan        </td> <td>11   </td> <td>nan        </td> <td>3-O21       </td> <td>A                    </td> <td>nan        </td> <td>nan        </td> <td>nan        </td> <td>nan        </td> <td>nan                                                         </td>\n",
       "        </tr>\n",
       "        <tr>\n",
       "            <td>Immunogen:                                               </td> <td>aaa                                                         </td> <td>nan                  </td> <td>nan                                </td> <td>nan                    </td> <td>nan                 </td> <td>nan                  </td> <td>nan                            </td> <td>nan                                                         </td> <td>nan         </td> <td>nan        </td> <td>nan        </td> <td>nan        </td> <td>nan                                                         </td> <td>4-A16                                                       </td> <td>0.45  </td> <td>0.675 </td> <td>#ffd700   </td> <td>rgba(255,215,0,0.4) </td> <td>1*Screen RLU:  776156<br>2*Screen RLU:  329872<br>3*Scre ...</td> <td><b>Tertiary screen<br><span style='color:red'>337/355 hi ...</td> <td>3-O21                                                       </td> <td>1    </td> <td>RLU: 549197                                                 </td> <td>rgba(255,215,0,0.4)  </td> <td>nan        </td> <td>12   </td> <td>nan        </td> <td>4-A16       </td> <td>A                    </td> <td>nan        </td> <td>nan        </td> <td>nan        </td> <td>nan        </td> <td>nan                                                         </td>\n",
       "        </tr>\n",
       "        <tr>\n",
       "            <td>Final boost:                                             </td> <td>aaa                                                         </td> <td>nan                  </td> <td>nan                                </td> <td>nan                    </td> <td>nan                 </td> <td>nan                  </td> <td>nan                            </td> <td>nan                                                         </td> <td>nan         </td> <td>nan        </td> <td>nan        </td> <td>nan        </td> <td>nan                                                         </td> <td>4-N1                                                        </td> <td>0.45  </td> <td>0.7   </td> <td>#ffd700   </td> <td>rgba(255,215,0,0.4) </td> <td>1*Screen RLU:  770354<br>2*Screen RLU:  177531<br>3*Scre ...</td> <td><b>Tertiary screen<br><span style='color:red'>337/355 hi ...</td> <td>4-A16                                                       </td> <td>1    </td> <td>RLU: 259956                                                 </td> <td>rgba(255,215,0,0.4)  </td> <td>nan        </td> <td>13   </td> <td>nan        </td> <td>4-N1        </td> <td>A                    </td> <td>nan        </td> <td>nan        </td> <td>nan        </td> <td>nan        </td> <td>nan                                                         </td>\n",
       "        </tr>\n",
       "        <tr>\n",
       "            <td>nan                                                      </td> <td>nan                                                         </td> <td>nan                  </td> <td>nan                                </td> <td>nan                    </td> <td>nan                 </td> <td>nan                  </td> <td>nan                            </td> <td>nan                                                         </td> <td>nan         </td> <td>nan        </td> <td>nan        </td> <td>nan        </td> <td>nan                                                         </td> <td>5-I19                                                       </td> <td>0.45  </td> <td>0.725 </td> <td>#ffd700   </td> <td>rgba(255,215,0,0.4) </td> <td>1*Screen RLU:  841335<br>2*Screen RLU:  388916<br>3*Scre ...</td> <td><b>Tertiary screen<br><span style='color:red'>337/355 hi ...</td> <td>4-N1                                                        </td> <td>1    </td> <td>RLU: 193156                                                 </td> <td>rgba(255,215,0,0.4)  </td> <td>nan        </td> <td>14   </td> <td>nan        </td> <td>5-I19       </td> <td>A                    </td> <td>nan        </td> <td>nan        </td> <td>nan        </td> <td>nan        </td> <td>nan                                                         </td>\n",
       "        </tr>\n",
       "        <tr>\n",
       "            <td>Fusion 2                                                 </td> <td>nan                                                         </td> <td>nan                  </td> <td>nan                                </td> <td>nan                    </td> <td>nan                 </td> <td>nan                  </td> <td>nan                            </td> <td>nan                                                         </td> <td>nan         </td> <td>nan        </td> <td>nan        </td> <td>nan        </td> <td>nan                                                         </td> <td>5-L22                                                       </td> <td>0.45  </td> <td>0.75  </td> <td>#ffd700   </td> <td>rgba(255,215,0,0.4) </td> <td>1*Screen RLU:  741884<br>2*Screen RLU:  479432<br>3*Scre ...</td> <td><b>Tertiary screen<br><span style='color:red'>337/355 hi ...</td> <td>5-I19                                                       </td> <td>1    </td> <td>RLU: 381599                                                 </td> <td>rgba(255,215,0,0.4)  </td> <td>nan        </td> <td>15   </td> <td>nan        </td> <td>5-L22       </td> <td>A                    </td> <td>nan        </td> <td>nan        </td> <td>nan        </td> <td>nan        </td> <td>nan                                                         </td>\n",
       "        </tr>\n",
       "        <tr>\n",
       "            <td># hybridomas =                                           </td> <td>2496                                                        </td> <td>nan                  </td> <td>nan                                </td> <td>nan                    </td> <td>nan                 </td> <td>nan                  </td> <td>nan                            </td> <td>nan                                                         </td> <td>nan         </td> <td>nan        </td> <td>nan        </td> <td>nan        </td> <td>nan                                                         </td> <td>5-L6                                                        </td> <td>0.45  </td> <td>0.775 </td> <td>#ffd700   </td> <td>rgba(255,215,0,0.4) </td> <td>1*Screen RLU:  847900<br>2*Screen RLU:  480873<br>3*Scre ...</td> <td><b>Tertiary screen<br><span style='color:red'>337/355 hi ...</td> <td>5-L22                                                       </td> <td>1    </td> <td>RLU: 498733                                                 </td> <td>rgba(255,215,0,0.4)  </td> <td>nan        </td> <td>16   </td> <td>nan        </td> <td>5-L6        </td> <td>A                    </td> <td>nan        </td> <td>nan        </td> <td>nan        </td> <td>nan        </td> <td>nan                                                         </td>\n",
       "        </tr>\n",
       "        <tr>\n",
       "            <td>Fusion efficiency =                                      </td> <td>1.3                                                         </td> <td>nan                  </td> <td>nan                                </td> <td>nan                    </td> <td>nan                 </td> <td>nan                  </td> <td>nan                            </td> <td>nan                                                         </td> <td>nan         </td> <td>nan        </td> <td>nan        </td> <td>nan        </td> <td>nan                                                         </td> <td>7-E1                                                        </td> <td>0.45  </td> <td>0.8   </td> <td>#ffd700   </td> <td>rgba(255,215,0,0.4) </td> <td>1*Screen RLU:  707369<br>2*Screen RLU:  364123<br>3*Scre ...</td> <td><b>Tertiary screen<br><span style='color:red'>337/355 hi ...</td> <td>5-L6                                                        </td> <td>1    </td> <td>RLU: 447667                                                 </td> <td>rgba(255,215,0,0.4)  </td> <td>nan        </td> <td>17   </td> <td>nan        </td> <td>7-E1        </td> <td>A                    </td> <td>nan        </td> <td>nan        </td> <td>nan        </td> <td>nan        </td> <td>nan                                                         </td>\n",
       "        </tr>\n",
       "        <tr>\n",
       "            <td># of wells screened:                                     </td> <td>1920                                                        </td> <td>nan                  </td> <td>nan                                </td> <td>nan                    </td> <td>nan                 </td> <td>nan                  </td> <td>nan                            </td> <td>nan                                                         </td> <td>nan         </td> <td>nan        </td> <td>nan        </td> <td>nan        </td> <td>nan                                                         </td> <td>7-P21                                                       </td> <td>0.45  </td> <td>0.825 </td> <td>#ffd700   </td> <td>rgba(255,215,0,0.4) </td> <td>1*Screen RLU:  806803<br>2*Screen RLU:  585692<br>3*Scre ...</td> <td><b>Tertiary screen<br><span style='color:red'>337/355 hi ...</td> <td>7-E1                                                        </td> <td>1    </td> <td>RLU: 378186                                                 </td> <td>rgba(255,215,0,0.4)  </td> <td>nan        </td> <td>18   </td> <td>nan        </td> <td>7-P21       </td> <td>A                    </td> <td>nan        </td> <td>nan        </td> <td>nan        </td> <td>nan        </td> <td>nan                                                         </td>\n",
       "        </tr>\n",
       "        <tr>\n",
       "            <td>Mse ID#                                                  </td> <td>1, 2, 4, 8                                                  </td> <td>nan                  </td> <td>nan                                </td> <td>nan                    </td> <td>nan                 </td> <td>nan                  </td> <td>nan                            </td> <td>nan                                                         </td> <td>nan         </td> <td>nan        </td> <td>nan        </td> <td>nan        </td> <td>nan                                                         </td> <td>8-E6                                                        </td> <td>0.45  </td> <td>0.85  </td> <td>#ffd700   </td> <td>rgba(255,215,0,0.4) </td> <td>1*Screen RLU:  784380<br>2*Screen RLU:  343425<br>3*Scre ...</td> <td><b>Tertiary screen<br><span style='color:red'>337/355 hi ...</td> <td>7-P21                                                       </td> <td>1    </td> <td>RLU: 610984                                                 </td> <td>rgba(255,215,0,0.4)  </td> <td>nan        </td> <td>19   </td> <td>nan        </td> <td>8-E6        </td> <td>A                    </td> <td>nan        </td> <td>nan        </td> <td>nan        </td> <td>nan        </td> <td>nan                                                         </td>\n",
       "        </tr>\n",
       "        <tr>\n",
       "            <td>Mse strain(s):                                           </td> <td>Mixed, bxs, kxg7                                            </td> <td>nan                  </td> <td>nan                                </td> <td>nan                    </td> <td>nan                 </td> <td>nan                  </td> <td>nan                            </td> <td>nan                                                         </td> <td>nan         </td> <td>nan        </td> <td>nan        </td> <td>nan        </td> <td>nan                                                         </td> <td>9-B7                                                        </td> <td>0.45  </td> <td>0.875 </td> <td>#ffd700   </td> <td>rgba(255,215,0,0.4) </td> <td>1*Screen RLU:  728793<br>2*Screen RLU:  330972<br>3*Scre ...</td> <td><b>Tertiary screen<br><span style='color:red'>337/355 hi ...</td> <td>8-E6                                                        </td> <td>1    </td> <td>RLU: 342921                                                 </td> <td>rgba(255,215,0,0.4)  </td> <td>nan        </td> <td>20   </td> <td>nan        </td> <td>9-B7        </td> <td>A                    </td> <td>nan        </td> <td>nan        </td> <td>nan        </td> <td>nan        </td> <td>nan                                                         </td>\n",
       "        </tr>\n",
       "        <tr>\n",
       "            <td>Fused b-cells:                                           </td> <td>Lymphocytes                                                 </td> <td>nan                  </td> <td>nan                                </td> <td>nan                    </td> <td>nan                 </td> <td>nan                  </td> <td>nan                            </td> <td>nan                                                         </td> <td>nan         </td> <td>nan        </td> <td>nan        </td> <td>nan        </td> <td>nan                                                         </td> <td>Top hit #13                                                 </td> <td>0.55  </td> <td>0.6   </td> <td>#800080   </td> <td>rgba(128,0,128,0.4) </td> <td>1*Screen RLU:  728793<br>2*Screen RLU:  330972<br>3*Scre ...</td> <td><b>Tertiary screen<br><span style='color:red'>337/355 hi ...</td> <td>9-B7                                                        </td> <td>1    </td> <td>RLU: 292333                                                 </td> <td>rgba(255,215,0,0.4)  </td> <td>nan        </td> <td>21   </td> <td>nan        </td> <td>Top hit #13 </td> <td>A                    </td> <td>nan        </td> <td>nan        </td> <td>nan        </td> <td>nan        </td> <td>nan                                                         </td>\n",
       "        </tr>\n",
       "        <tr>\n",
       "            <td>Immunization method:                                     </td> <td>HT-Hock                                                     </td> <td>nan                  </td> <td>nan                                </td> <td>nan                    </td> <td>nan                 </td> <td>nan                  </td> <td>nan                            </td> <td>nan                                                         </td> <td>nan         </td> <td>nan        </td> <td>nan        </td> <td>nan        </td> <td>nan                                                         </td> <td>Top hit #14                                                 </td> <td>0.55  </td> <td>0.625 </td> <td>#800080   </td> <td>rgba(128,0,128,0.4) </td> <td>1*Screen RLU:  728793<br>2*Screen RLU:  330972<br>3*Scre ...</td> <td><b>Tertiary screen<br><span style='color:red'>337/355 hi ...</td> <td>Top hit #13                                                 </td> <td>1    </td> <td>RLU: 292333                                                 </td> <td>rgba(128,0,128,0.4)  </td> <td>nan        </td> <td>22   </td> <td>nan        </td> <td>Top hit #14 </td> <td>A                    </td> <td>nan        </td> <td>nan        </td> <td>nan        </td> <td>nan        </td> <td>nan                                                         </td>\n",
       "        </tr>\n",
       "        <tr>\n",
       "            <td>Immunogen:                                               </td> <td>aaa                                                         </td> <td>nan                  </td> <td>nan                                </td> <td>nan                    </td> <td>nan                 </td> <td>nan                  </td> <td>nan                            </td> <td>nan                                                         </td> <td>nan         </td> <td>nan        </td> <td>nan        </td> <td>nan        </td> <td>nan                                                         </td> <td>Top hit #15                                                 </td> <td>0.55  </td> <td>0.65  </td> <td>#800080   </td> <td>rgba(128,0,128,0.4) </td> <td>1*Screen RLU:  728793<br>2*Screen RLU:  330972<br>3*Scre ...</td> <td><b>Tertiary screen<br><span style='color:red'>337/355 hi ...</td> <td>Top hit #14                                                 </td> <td>1    </td> <td>RLU: 292333                                                 </td> <td>rgba(128,0,128,0.4)  </td> <td>nan        </td> <td>23   </td> <td>nan        </td> <td>Top hit #15 </td> <td>A                    </td> <td>nan        </td> <td>nan        </td> <td>nan        </td> <td>nan        </td> <td>nan                                                         </td>\n",
       "        </tr>\n",
       "        <tr>\n",
       "            <td>Final boost:                                             </td> <td>aaa                                                         </td> <td>nan                  </td> <td>nan                                </td> <td>nan                    </td> <td>nan                 </td> <td>nan                  </td> <td>nan                            </td> <td>nan                                                         </td> <td>nan         </td> <td>nan        </td> <td>nan        </td> <td>nan        </td> <td>nan                                                         </td> <td>Top hit #16                                                 </td> <td>0.55  </td> <td>0.675 </td> <td>#800080   </td> <td>rgba(128,0,128,0.4) </td> <td>1*Screen RLU:  728793<br>2*Screen RLU:  330972<br>3*Scre ...</td> <td><b>Tertiary screen<br><span style='color:red'>337/355 hi ...</td> <td>Top hit #15                                                 </td> <td>1    </td> <td>RLU: 292333                                                 </td> <td>rgba(128,0,128,0.4)  </td> <td>nan        </td> <td>24   </td> <td>nan        </td> <td>Top hit #16 </td> <td>A                    </td> <td>nan        </td> <td>nan        </td> <td>nan        </td> <td>nan        </td> <td>nan                                                         </td>\n",
       "        </tr>\n",
       "        <tr>\n",
       "            <td>nan                                                      </td> <td>nan                                                         </td> <td>nan                  </td> <td>nan                                </td> <td>nan                    </td> <td>nan                 </td> <td>nan                  </td> <td>nan                            </td> <td>nan                                                         </td> <td>nan         </td> <td>nan        </td> <td>nan        </td> <td>nan        </td> <td>nan                                                         </td> <td>Top hit #17                                                 </td> <td>0.55  </td> <td>0.7   </td> <td>#800080   </td> <td>rgba(128,0,128,0.4) </td> <td>1*Screen RLU:  728793<br>2*Screen RLU:  330972<br>3*Scre ...</td> <td><b>Tertiary screen<br><span style='color:red'>337/355 hi ...</td> <td>Top hit #16                                                 </td> <td>1    </td> <td>RLU: 292333                                                 </td> <td>rgba(128,0,128,0.4)  </td> <td>nan        </td> <td>25   </td> <td>nan        </td> <td>Top hit #17 </td> <td>A                    </td> <td>nan        </td> <td>nan        </td> <td>nan        </td> <td>nan        </td> <td>nan                                                         </td>\n",
       "        </tr>\n",
       "        <tr>\n",
       "            <td>Screening information                                    </td> <td>nan                                                         </td> <td>nan                  </td> <td>nan                                </td> <td>nan                    </td> <td>nan                 </td> <td>nan                  </td> <td>nan                            </td> <td>nan                                                         </td> <td>nan         </td> <td>nan        </td> <td>nan        </td> <td>nan        </td> <td>nan                                                         </td> <td>Top hit #18                                                 </td> <td>0.55  </td> <td>0.725 </td> <td>#800080   </td> <td>rgba(128,0,128,0.4) </td> <td>1*Screen RLU:  728793<br>2*Screen RLU:  330972<br>3*Scre ...</td> <td><b>Tertiary screen<br><span style='color:red'>337/355 hi ...</td> <td>Top hit #17                                                 </td> <td>1    </td> <td>RLU: 292333                                                 </td> <td>rgba(128,0,128,0.4)  </td> <td>nan        </td> <td>26   </td> <td>nan        </td> <td>Top hit #18 </td> <td>A                    </td> <td>nan        </td> <td>nan        </td> <td>nan        </td> <td>nan        </td> <td>nan                                                         </td>\n",
       "        </tr>\n",
       "        <tr>\n",
       "            <td>Screening reagent                                        </td> <td>Target-His                                                  </td> <td>nan                  </td> <td>nan                                </td> <td>nan                    </td> <td>nan                 </td> <td>nan                  </td> <td>nan                            </td> <td>nan                                                         </td> <td>nan         </td> <td>nan        </td> <td>nan        </td> <td>nan        </td> <td>nan                                                         </td> <td>Top hit #19                                                 </td> <td>0.55  </td> <td>0.75  </td> <td>#800080   </td> <td>rgba(128,0,128,0.4) </td> <td>1*Screen RLU:  728793<br>2*Screen RLU:  330972<br>3*Scre ...</td> <td><b>Tertiary screen<br><span style='color:red'>337/355 hi ...</td> <td>Top hit #18                                                 </td> <td>1    </td> <td>RLU: 292333                                                 </td> <td>rgba(128,0,128,0.4)  </td> <td>nan        </td> <td>27   </td> <td>nan        </td> <td>Top hit #19 </td> <td>Poly                 </td> <td>nan        </td> <td>nan        </td> <td>nan        </td> <td>nan        </td> <td>nan                                                         </td>\n",
       "        </tr>\n",
       "        <tr>\n",
       "            <td>Concentration of screening reagent                       </td> <td>1                                                           </td> <td>nan                  </td> <td>nan                                </td> <td>nan                    </td> <td>nan                 </td> <td>nan                  </td> <td>nan                            </td> <td>nan                                                         </td> <td>nan         </td> <td>nan        </td> <td>nan        </td> <td>nan        </td> <td>nan                                                         </td> <td>Top hit #20                                                 </td> <td>0.55  </td> <td>0.775 </td> <td>#800080   </td> <td>rgba(128,0,128,0.4) </td> <td>1*Screen RLU:  728793<br>2*Screen RLU:  330972<br>3*Scre ...</td> <td><b>Tertiary screen<br><span style='color:red'>337/355 hi ...</td> <td>Top hit #19                                                 </td> <td>1    </td> <td>RLU: 292333                                                 </td> <td>rgba(128,0,128,0.4)  </td> <td>nan        </td> <td>28   </td> <td>nan        </td> <td>Top hit #20 </td> <td>Poly                 </td> <td>nan        </td> <td>nan        </td> <td>nan        </td> <td>nan        </td> <td>nan                                                         </td>\n",
       "        </tr>\n",
       "        <tr>\n",
       "            <td>FACS or ELISA ?                                          </td> <td>ELISA                                                       </td> <td>nan                  </td> <td>nan                                </td> <td>nan                    </td> <td>nan                 </td> <td>nan                  </td> <td>nan                            </td> <td>nan                                                         </td> <td>nan         </td> <td>nan        </td> <td>nan        </td> <td>nan        </td> <td>nan                                                         </td> <td>Top hit #21                                                 </td> <td>0.55  </td> <td>0.8   </td> <td>#800080   </td> <td>rgba(128,0,128,0.4) </td> <td>1*Screen RLU:  728793<br>2*Screen RLU:  330972<br>3*Scre ...</td> <td><b>Tertiary screen<br><span style='color:red'>337/355 hi ...</td> <td>Top hit #20                                                 </td> <td>1    </td> <td>RLU: 292333                                                 </td> <td>rgba(128,0,128,0.4)  </td> <td>nan        </td> <td>29   </td> <td>nan        </td> <td>Top hit #21 </td> <td>Poly                 </td> <td>nan        </td> <td>nan        </td> <td>nan        </td> <td>nan        </td> <td>nan                                                         </td>\n",
       "        </tr>\n",
       "        <tr>\n",
       "            <td>Total hits from 1* screen                                </td> <td>384                                                         </td> <td>nan                  </td> <td>nan                                </td> <td>nan                    </td> <td>nan                 </td> <td>nan                  </td> <td>nan                            </td> <td>nan                                                         </td> <td>nan         </td> <td>nan        </td> <td>nan        </td> <td>nan        </td> <td>nan                                                         </td> <td>Top hit #22                                                 </td> <td>0.55  </td> <td>0.825 </td> <td>#800080   </td> <td>rgba(128,0,128,0.4) </td> <td>1*Screen RLU:  728793<br>2*Screen RLU:  330972<br>3*Scre ...</td> <td><b>Tertiary screen<br><span style='color:red'>337/355 hi ...</td> <td>Top hit #21                                                 </td> <td>1    </td> <td>RLU: 292333                                                 </td> <td>rgba(128,0,128,0.4)  </td> <td>nan        </td> <td>30   </td> <td>nan        </td> <td>Top hit #22 </td> <td>B                    </td> <td>nan        </td> <td>nan        </td> <td>nan        </td> <td>nan        </td> <td>nan                                                         </td>\n",
       "        </tr>\n",
       "        <tr>\n",
       "            <td>Total hits from 2* screen                                </td> <td>355                                                         </td> <td>nan                  </td> <td>nan                                </td> <td>nan                    </td> <td>nan                 </td> <td>nan                  </td> <td>nan                            </td> <td>nan                                                         </td> <td>nan         </td> <td>nan        </td> <td>nan        </td> <td>nan        </td> <td>nan                                                         </td> <td>Top hit #23                                                 </td> <td>0.55  </td> <td>0.85  </td> <td>#800080   </td> <td>rgba(128,0,128,0.4) </td> <td>1*Screen RLU:  728793<br>2*Screen RLU:  330972<br>3*Scre ...</td> <td><b>Tertiary screen<br><span style='color:red'>337/355 hi ...</td> <td>Top hit #22                                                 </td> <td>1    </td> <td>RLU: 292333                                                 </td> <td>rgba(128,0,128,0.4)  </td> <td>nan        </td> <td>31   </td> <td>nan        </td> <td>Top hit #23 </td> <td>B                    </td> <td>nan        </td> <td>nan        </td> <td>nan        </td> <td>nan        </td> <td>nan                                                         </td>\n",
       "        </tr>\n",
       "        <tr>\n",
       "            <td>Total hits from 3* screen                                </td> <td>337                                                         </td> <td>nan                  </td> <td>nan                                </td> <td>nan                    </td> <td>nan                 </td> <td>nan                  </td> <td>nan                            </td> <td>nan                                                         </td> <td>nan         </td> <td>nan        </td> <td>nan        </td> <td>nan        </td> <td>nan                                                         </td> <td>Top hit #24                                                 </td> <td>0.55  </td> <td>0.875 </td> <td>#800080   </td> <td>rgba(128,0,128,0.4) </td> <td>1*Screen RLU:  728793<br>2*Screen RLU:  330972<br>3*Scre ...</td> <td><b>Tertiary screen<br><span style='color:red'>337/355 hi ...</td> <td>Top hit #23                                                 </td> <td>1    </td> <td>RLU: 292333                                                 </td> <td>rgba(128,0,128,0.4)  </td> <td>nan        </td> <td>32   </td> <td>nan        </td> <td>Top hit #24 </td> <td>B                    </td> <td>nan        </td> <td>nan        </td> <td>nan        </td> <td>nan        </td> <td>nan                                                         </td>\n",
       "        </tr>\n",
       "        <tr>\n",
       "            <td>2* screen hits from Fom Fusion 1                         </td> <td>192                                                         </td> <td>nan                  </td> <td>nan                                </td> <td>nan                    </td> <td>nan                 </td> <td>nan                  </td> <td>nan                            </td> <td>nan                                                         </td> <td>nan         </td> <td>nan        </td> <td>nan        </td> <td>nan        </td> <td>nan                                                         </td> <td>Parental/Poly<br>(3/12)                                     </td> <td>0.65  </td> <td>0.4   </td> <td>#00008b   </td> <td>rgba(0, 0, 139)     </td> <td>3 Polyclones/Parentals obtained out of 24 <br>Post-thaw  ...</td> <td><b>Tertiary screen<br><span style='color:red'>337/355 hi ...</td> <td>Top hit #24                                                 </td> <td>1    </td> <td>RLU: 292333                                                 </td> <td>rgba(128,0,128,0.4)  </td> <td>nan        </td> <td>33   </td> <td>nan        </td> <td>nan         </td> <td>nan                  </td> <td>nan        </td> <td>nan        </td> <td>nan        </td> <td>nan        </td> <td>nan                                                         </td>\n",
       "        </tr>\n",
       "        <tr>\n",
       "            <td>2* screen hits from Fom Fusion 2                         </td> <td>192                                                         </td> <td>nan                  </td> <td>nan                                </td> <td>nan                    </td> <td>nan                 </td> <td>nan                  </td> <td>nan                            </td> <td>nan                                                         </td> <td>nan         </td> <td>nan        </td> <td>nan        </td> <td>nan        </td> <td>nan                                                         </td> <td>nan                                                         </td> <td>nan   </td> <td>nan   </td> <td>nan       </td> <td>nan                 </td> <td>nan                                                         </td> <td>2-O1                                                        </td> <td>Clone A<br>(24/24)                                          </td> <td>1    </td> <td>Clone screen RLU: 278295                                    </td> <td>rgba(255,215,0,0.4)  </td> <td>nan        </td> <td>34   </td> <td>nan        </td> <td>nan         </td> <td>nan                  </td> <td>nan        </td> <td>nan        </td> <td>nan        </td> <td>nan        </td> <td>nan                                                         </td>\n",
       "        </tr>\n",
       "        <tr>\n",
       "            <td>3* screen hits from Fom Fusion 1                         </td> <td>187                                                         </td> <td>nan                  </td> <td>nan                                </td> <td>nan                    </td> <td>nan                 </td> <td>nan                  </td> <td>nan                            </td> <td>nan                                                         </td> <td>nan         </td> <td>nan        </td> <td>nan        </td> <td>nan        </td> <td>nan                                                         </td> <td>nan                                                         </td> <td>nan   </td> <td>nan   </td> <td>nan       </td> <td>nan                 </td> <td>nan                                                         </td> <td>3-D11                                                       </td> <td>Clone A<br>(24/24)                                          </td> <td>1    </td> <td>Clone screen RLU: 596386                                    </td> <td>rgba(255,215,0,0.4)  </td> <td>nan        </td> <td>35   </td> <td>nan        </td> <td>nan         </td> <td>nan                  </td> <td>nan        </td> <td>nan        </td> <td>nan        </td> <td>nan        </td> <td>nan                                                         </td>\n",
       "        </tr>\n",
       "        <tr>\n",
       "            <td>3* screen hits from Fom Fusion 2                         </td> <td>187                                                         </td> <td>nan                  </td> <td>nan                                </td> <td>nan                    </td> <td>nan                 </td> <td>nan                  </td> <td>nan                            </td> <td>nan                                                         </td> <td>nan         </td> <td>nan        </td> <td>nan        </td> <td>nan        </td> <td>nan                                                         </td> <td>nan                                                         </td> <td>nan   </td> <td>nan   </td> <td>nan       </td> <td>nan                 </td> <td>nan                                                         </td> <td>3-O21                                                       </td> <td>Clone A<br>(24/24)                                          </td> <td>1    </td> <td>Clone screen RLU: 250907                                    </td> <td>rgba(255,215,0,0.4)  </td> <td>nan        </td> <td>36   </td> <td>nan        </td> <td>nan         </td> <td>nan                  </td> <td>nan        </td> <td>nan        </td> <td>nan        </td> <td>nan        </td> <td>nan                                                         </td>\n",
       "        </tr>\n",
       "        <tr>\n",
       "            <td>Clone A's obtained out of 24                             </td> <td>24                                                          </td> <td>nan                  </td> <td>nan                                </td> <td>nan                    </td> <td>nan                 </td> <td>nan                  </td> <td>nan                            </td> <td>nan                                                         </td> <td>nan         </td> <td>nan        </td> <td>nan        </td> <td>nan        </td> <td>nan                                                         </td> <td>nan                                                         </td> <td>nan   </td> <td>nan   </td> <td>nan       </td> <td>nan                 </td> <td>nan                                                         </td> <td>4-A16                                                       </td> <td>Clone A<br>(24/24)                                          </td> <td>1    </td> <td>Clone screen RLU: 550873                                    </td> <td>rgba(255,215,0,0.4)  </td> <td>nan        </td> <td>37   </td> <td>nan        </td> <td>nan         </td> <td>nan                  </td> <td>nan        </td> <td>nan        </td> <td>nan        </td> <td>nan        </td> <td>nan                                                         </td>\n",
       "        </tr>\n",
       "        <tr>\n",
       "            <td>Clone B's obtained out of 24                             </td> <td>21                                                          </td> <td>nan                  </td> <td>nan                                </td> <td>nan                    </td> <td>nan                 </td> <td>nan                  </td> <td>nan                            </td> <td>nan                                                         </td> <td>nan         </td> <td>nan        </td> <td>nan        </td> <td>nan        </td> <td>nan                                                         </td> <td>nan                                                         </td> <td>nan   </td> <td>nan   </td> <td>nan       </td> <td>nan                 </td> <td>nan                                                         </td> <td>4-N1                                                        </td> <td>Clone A<br>(24/24)                                          </td> <td>1    </td> <td>Clone screen RLU: 118945                                    </td> <td>rgba(255,215,0,0.4)  </td> <td>nan        </td> <td>38   </td> <td>nan        </td> <td>nan         </td> <td>nan                  </td> <td>nan        </td> <td>nan        </td> <td>nan        </td> <td>nan        </td> <td>nan                                                         </td>\n",
       "        </tr>\n",
       "        <tr>\n",
       "            <td>Polyclones/Parentals obtained out of 24                  </td> <td>3                                                           </td> <td>nan                  </td> <td>nan                                </td> <td>nan                    </td> <td>nan                 </td> <td>nan                  </td> <td>nan                            </td> <td>nan                                                         </td> <td>nan         </td> <td>nan        </td> <td>nan        </td> <td>nan        </td> <td>nan                                                         </td> <td>nan                                                         </td> <td>nan   </td> <td>nan   </td> <td>nan       </td> <td>nan                 </td> <td>nan                                                         </td> <td>5-I19                                                       </td> <td>Clone A<br>(24/24)                                          </td> <td>0    </td> <td>Clone screen RLU: 235897                                    </td> <td>rgba(255,215,0,0.4)  </td> <td>nan        </td> <td>39   </td> <td>nan        </td> <td>nan         </td> <td>nan                  </td> <td>nan        </td> <td>nan        </td> <td>nan        </td> <td>nan        </td> <td>nan                                                         </td>\n",
       "        </tr>\n",
       "        <tr>\n",
       "            <td># clone A sequenced/scaled-up                            </td> <td>20                                                          </td> <td>nan                  </td> <td>nan                                </td> <td>nan                    </td> <td>nan                 </td> <td>nan                  </td> <td>nan                            </td> <td>nan                                                         </td> <td>nan         </td> <td>nan        </td> <td>nan        </td> <td>nan        </td> <td>nan                                                         </td> <td>nan                                                         </td> <td>nan   </td> <td>nan   </td> <td>nan       </td> <td>nan                 </td> <td>nan                                                         </td> <td>5-L22                                                       </td> <td>Clone A<br>(24/24)                                          </td> <td>1    </td> <td>Clone screen RLU:                                           </td> <td>rgba(255,215,0,0.4)  </td> <td>nan        </td> <td>40   </td> <td>nan        </td> <td>nan         </td> <td>nan                  </td> <td>nan        </td> <td>nan        </td> <td>nan        </td> <td>nan        </td> <td>nan                                                         </td>\n",
       "        </tr>\n",
       "        <tr>\n",
       "            <td># clone B sequenced/scaled-up                            </td> <td>3                                                           </td> <td>nan                  </td> <td>nan                                </td> <td>nan                    </td> <td>nan                 </td> <td>nan                  </td> <td>nan                            </td> <td>nan                                                         </td> <td>nan         </td> <td>nan        </td> <td>nan        </td> <td>nan        </td> <td>nan                                                         </td> <td>nan                                                         </td> <td>nan   </td> <td>nan   </td> <td>nan       </td> <td>nan                 </td> <td>nan                                                         </td> <td>5-L6                                                        </td> <td>Clone A<br>(24/24)                                          </td> <td>1    </td> <td>Clone screen RLU: 706130                                    </td> <td>rgba(255,215,0,0.4)  </td> <td>nan        </td> <td>41   </td> <td>nan        </td> <td>nan         </td> <td>nan                  </td> <td>nan        </td> <td>nan        </td> <td>nan        </td> <td>nan        </td> <td>nan                                                         </td>\n",
       "        </tr>\n",
       "        <tr>\n",
       "            <td># Parental/Poly sequenced                                </td> <td>3                                                           </td> <td>nan                  </td> <td>nan                                </td> <td>nan                    </td> <td>nan                 </td> <td>nan                  </td> <td>nan                            </td> <td>nan                                                         </td> <td>nan         </td> <td>nan        </td> <td>nan        </td> <td>nan        </td> <td>nan                                                         </td> <td>nan                                                         </td> <td>nan   </td> <td>nan   </td> <td>nan       </td> <td>nan                 </td> <td>nan                                                         </td> <td>7-E1                                                        </td> <td>Clone A<br>(24/24)                                          </td> <td>1    </td> <td>Clone screen RLU: 313927                                    </td> <td>rgba(255,215,0,0.4)  </td> <td>nan        </td> <td>42   </td> <td>nan        </td> <td>nan         </td> <td>nan                  </td> <td>nan        </td> <td>nan        </td> <td>nan        </td> <td>nan        </td> <td>nan                                                         </td>\n",
       "        </tr>\n",
       "        <tr>\n",
       "            <td>Clones clean against BVP                                 </td> <td>21                                                          </td> <td>nan                  </td> <td>nan                                </td> <td>nan                    </td> <td>nan                 </td> <td>nan                  </td> <td>nan                            </td> <td>nan                                                         </td> <td>nan         </td> <td>nan        </td> <td>nan        </td> <td>nan        </td> <td>nan                                                         </td> <td>nan                                                         </td> <td>nan   </td> <td>nan   </td> <td>nan       </td> <td>nan                 </td> <td>nan                                                         </td> <td>7-P21                                                       </td> <td>Clone A<br>(24/24)                                          </td> <td>1    </td> <td>Clone screen RLU:                                           </td> <td>rgba(255,215,0,0.4)  </td> <td>nan        </td> <td>43   </td> <td>nan        </td> <td>nan         </td> <td>nan                  </td> <td>nan        </td> <td>nan        </td> <td>nan        </td> <td>nan        </td> <td>nan                                                         </td>\n",
       "        </tr>\n",
       "        <tr>\n",
       "            <td># single Hc/Lc obtained                                  </td> <td>21                                                          </td> <td>nan                  </td> <td>nan                                </td> <td>nan                    </td> <td>nan                 </td> <td>nan                  </td> <td>nan                            </td> <td>nan                                                         </td> <td>nan         </td> <td>nan        </td> <td>nan        </td> <td>nan        </td> <td>nan                                                         </td> <td>nan                                                         </td> <td>nan   </td> <td>nan   </td> <td>nan       </td> <td>nan                 </td> <td>nan                                                         </td> <td>8-E6                                                        </td> <td>Clone A<br>(24/24)                                          </td> <td>1    </td> <td>Clone screen RLU: 368460                                    </td> <td>rgba(255,215,0,0.4)  </td> <td>nan        </td> <td>44   </td> <td>nan        </td> <td>nan         </td> <td>nan                  </td> <td>nan        </td> <td>nan        </td> <td>nan        </td> <td>nan        </td> <td>nan                                                         </td>\n",
       "        </tr>\n",
       "        <tr>\n",
       "            <td>nan                                                      </td> <td>nan                                                         </td> <td>nan                  </td> <td>nan                                </td> <td>nan                    </td> <td>nan                 </td> <td>nan                  </td> <td>nan                            </td> <td>nan                                                         </td> <td>nan         </td> <td>nan        </td> <td>nan        </td> <td>nan        </td> <td>nan                                                         </td> <td>nan                                                         </td> <td>nan   </td> <td>nan   </td> <td>nan       </td> <td>nan                 </td> <td>nan                                                         </td> <td>9-B7                                                        </td> <td>Clone A<br>(24/24)                                          </td> <td>0    </td> <td>Clone screen RLU: 280969                                    </td> <td>rgba(255,215,0,0.4)  </td> <td>nan        </td> <td>45   </td> <td>nan        </td> <td>nan         </td> <td>nan                  </td> <td>nan        </td> <td>nan        </td> <td>nan        </td> <td>nan        </td> <td>nan                                                         </td>\n",
       "        </tr>\n",
       "        <tr>\n",
       "            <td>Screening information (RLU)                              </td> <td>nan                                                         </td> <td>nan                  </td> <td>nan                                </td> <td>nan                    </td> <td>nan                 </td> <td>nan                  </td> <td>nan                            </td> <td>nan                                                         </td> <td>nan         </td> <td>nan        </td> <td>nan        </td> <td>nan        </td> <td>nan                                                         </td> <td>nan                                                         </td> <td>nan   </td> <td>nan   </td> <td>nan       </td> <td>nan                 </td> <td>nan                                                         </td> <td>Top hit #13                                                 </td> <td>Clone A<br>(24/24)                                          </td> <td>1    </td> <td>Clone screen RLU:                                           </td> <td>rgba(128,0,128,0.4)  </td> <td>nan        </td> <td>46   </td> <td>nan        </td> <td>nan         </td> <td>nan                  </td> <td>nan        </td> <td>nan        </td> <td>nan        </td> <td>nan        </td> <td>nan                                                         </td>\n",
       "        </tr>\n",
       "        <tr>\n",
       "            <td>nan                                                      </td> <td>nan                                                         </td> <td>nan                  </td> <td>Antibody Recovery RLU:             </td> <td>nan                    </td> <td>nan                 </td> <td>Clone screen RLU:    </td> <td>nan                            </td> <td>nan                                                         </td> <td>nan         </td> <td>nan        </td> <td>nan        </td> <td>nan        </td> <td>nan                                                         </td> <td>nan                                                         </td> <td>nan   </td> <td>nan   </td> <td>nan       </td> <td>nan                 </td> <td>nan                                                         </td> <td>Top hit #14                                                 </td> <td>Clone A<br>(24/24)                                          </td> <td>1    </td> <td>Clone screen RLU: 280969                                    </td> <td>rgba(128,0,128,0.4)  </td> <td>nan        </td> <td>47   </td> <td>nan        </td> <td>nan         </td> <td>nan                  </td> <td>nan        </td> <td>nan        </td> <td>nan        </td> <td>nan        </td> <td>nan                                                         </td>\n",
       "        </tr>\n",
       "        <tr>\n",
       "            <td>Top 12 hits to subclone:                                 </td> <td>Hybridoma ID                                                </td> <td>Fusion 1 or 2?       </td> <td>1*Screen RLU:                      </td> <td>2*Screen RLU:          </td> <td>3*Screen RLU:       </td> <td>Post-thaw RLU:       </td> <td>Clone-A                        </td> <td>Clone B                                                     </td> <td>nan         </td> <td>nan        </td> <td>nan        </td> <td>nan        </td> <td>nan                                                         </td> <td>nan                                                         </td> <td>nan   </td> <td>nan   </td> <td>nan       </td> <td>nan                 </td> <td>nan                                                         </td> <td>Top hit #15                                                 </td> <td>Clone A<br>(24/24)                                          </td> <td>1    </td> <td>Clone screen RLU: 280969                                    </td> <td>rgba(128,0,128,0.4)  </td> <td>nan        </td> <td>48   </td> <td>nan        </td> <td>nan         </td> <td>nan                  </td> <td>nan        </td> <td>nan        </td> <td>nan        </td> <td>nan        </td> <td>nan                                                         </td>\n",
       "        </tr>\n",
       "        <tr>\n",
       "            <td>Top hit #1                                               </td> <td>2-O1                                                        </td> <td>1                    </td> <td>905599                             </td> <td>392623                 </td> <td>527914              </td> <td>619596               </td> <td>278295                         </td> <td>268914                                                      </td> <td>nan         </td> <td>nan        </td> <td>nan        </td> <td>nan        </td> <td>nan                                                         </td> <td>nan                                                         </td> <td>nan   </td> <td>nan   </td> <td>nan       </td> <td>nan                 </td> <td>nan                                                         </td> <td>Top hit #16                                                 </td> <td>Clone A<br>(24/24)                                          </td> <td>1    </td> <td>Clone screen RLU: 280969                                    </td> <td>rgba(128,0,128,0.4)  </td> <td>nan        </td> <td>49   </td> <td>nan        </td> <td>nan         </td> <td>nan                  </td> <td>nan        </td> <td>nan        </td> <td>nan        </td> <td>nan        </td> <td>nan                                                         </td>\n",
       "        </tr>\n",
       "        <tr>\n",
       "            <td>Top hit #2                                               </td> <td>3-D11                                                       </td> <td>1                    </td> <td>717841                             </td> <td>260434                 </td> <td>223561              </td> <td>376422               </td> <td>596386                         </td> <td>548279                                                      </td> <td>nan         </td> <td>nan        </td> <td>nan        </td> <td>nan        </td> <td>nan                                                         </td> <td>nan                                                         </td> <td>nan   </td> <td>nan   </td> <td>nan       </td> <td>nan                 </td> <td>nan                                                         </td> <td>Top hit #17                                                 </td> <td>Clone A<br>(24/24)                                          </td> <td>1    </td> <td>Clone screen RLU: 280969                                    </td> <td>rgba(128,0,128,0.4)  </td> <td>nan        </td> <td>50   </td> <td>nan        </td> <td>nan         </td> <td>nan                  </td> <td>nan        </td> <td>nan        </td> <td>nan        </td> <td>nan        </td> <td>nan                                                         </td>\n",
       "        </tr>\n",
       "        <tr>\n",
       "            <td>Top hit #3                                               </td> <td>3-O21                                                       </td> <td>1                    </td> <td>715840                             </td> <td>517541                 </td> <td>549197              </td> <td>695831               </td> <td>250907                         </td> <td>245640                                                      </td> <td>nan         </td> <td>nan        </td> <td>nan        </td> <td>nan        </td> <td>nan                                                         </td> <td>nan                                                         </td> <td>nan   </td> <td>nan   </td> <td>nan       </td> <td>nan                 </td> <td>nan                                                         </td> <td>Top hit #18                                                 </td> <td>Clone A<br>(24/24)                                          </td> <td>0    </td> <td>Clone screen RLU: 280969                                    </td> <td>rgba(128,0,128,0.4)  </td> <td>nan        </td> <td>51   </td> <td>nan        </td> <td>nan         </td> <td>nan                  </td> <td>nan        </td> <td>nan        </td> <td>nan        </td> <td>nan        </td> <td>nan                                                         </td>\n",
       "        </tr>\n",
       "        <tr>\n",
       "            <td>Top hit #4                                               </td> <td>4-A16                                                       </td> <td>1                    </td> <td>776156                             </td> <td>329872                 </td> <td>259956              </td> <td>526526               </td> <td>550873                         </td> <td>542545                                                      </td> <td>nan         </td> <td>nan        </td> <td>nan        </td> <td>nan        </td> <td>nan                                                         </td> <td>nan                                                         </td> <td>nan   </td> <td>nan   </td> <td>nan       </td> <td>nan                 </td> <td>nan                                                         </td> <td>Top hit #19                                                 </td> <td>Clone A<br>(24/24)                                          </td> <td>1    </td> <td>Clone screen RLU: 280969                                    </td> <td>rgba(128,0,128,0.4)  </td> <td>nan        </td> <td>52   </td> <td>nan        </td> <td>nan         </td> <td>nan                  </td> <td>nan        </td> <td>nan        </td> <td>nan        </td> <td>nan        </td> <td>nan                                                         </td>\n",
       "        </tr>\n",
       "        <tr>\n",
       "            <td>Top hit #5                                               </td> <td>4-N1                                                        </td> <td>1                    </td> <td>770354                             </td> <td>177531                 </td> <td>193156              </td> <td>527473               </td> <td>118945                         </td> <td>115117                                                      </td> <td>nan         </td> <td>nan        </td> <td>nan        </td> <td>nan        </td> <td>nan                                                         </td> <td>nan                                                         </td> <td>nan   </td> <td>nan   </td> <td>nan       </td> <td>nan                 </td> <td>nan                                                         </td> <td>Top hit #20                                                 </td> <td>Clone A<br>(24/24)                                          </td> <td>1    </td> <td>Clone screen RLU: 280969                                    </td> <td>rgba(128,0,128,0.4)  </td> <td>nan        </td> <td>53   </td> <td>nan        </td> <td>nan         </td> <td>nan                  </td> <td>nan        </td> <td>nan        </td> <td>nan        </td> <td>nan        </td> <td>nan                                                         </td>\n",
       "        </tr>\n",
       "        <tr>\n",
       "            <td>Top hit #6                                               </td> <td>5-I19                                                       </td> <td>1                    </td> <td>841335                             </td> <td>388916                 </td> <td>381599              </td> <td>549522               </td> <td>235897                         </td> <td>137351                                                      </td> <td>nan         </td> <td>nan        </td> <td>nan        </td> <td>nan        </td> <td>nan                                                         </td> <td>nan                                                         </td> <td>nan   </td> <td>nan   </td> <td>nan       </td> <td>nan                 </td> <td>nan                                                         </td> <td>Top hit #21                                                 </td> <td>Clone A<br>(24/24)                                          </td> <td>1    </td> <td>Clone screen RLU: 280969                                    </td> <td>rgba(128,0,128,0.4)  </td> <td>nan        </td> <td>54   </td> <td>nan        </td> <td>nan         </td> <td>nan                  </td> <td>nan        </td> <td>nan        </td> <td>nan        </td> <td>nan        </td> <td>nan                                                         </td>\n",
       "        </tr>\n",
       "        <tr>\n",
       "            <td>Top hit #7                                               </td> <td>5-L22                                                       </td> <td>1                    </td> <td>741884                             </td> <td>479432                 </td> <td>498733              </td> <td>871014               </td> <td>nan                            </td> <td>nan                                                         </td> <td>nan         </td> <td>nan        </td> <td>nan        </td> <td>nan        </td> <td>nan                                                         </td> <td>nan                                                         </td> <td>nan   </td> <td>nan   </td> <td>nan       </td> <td>nan                 </td> <td>nan                                                         </td> <td>Top hit #22                                                 </td> <td>Clone A<br>(24/24)                                          </td> <td>1    </td> <td>Clone screen RLU: 280969                                    </td> <td>rgba(128,0,128,0.4)  </td> <td>nan        </td> <td>55   </td> <td>nan        </td> <td>nan         </td> <td>nan                  </td> <td>nan        </td> <td>nan        </td> <td>nan        </td> <td>nan        </td> <td>nan                                                         </td>\n",
       "        </tr>\n",
       "        <tr>\n",
       "            <td>Top hit #8                                               </td> <td>5-L6                                                        </td> <td>1                    </td> <td>847900                             </td> <td>480873                 </td> <td>447667              </td> <td>740833               </td> <td>706130                         </td> <td>388528                                                      </td> <td>nan         </td> <td>nan        </td> <td>nan        </td> <td>nan        </td> <td>nan                                                         </td> <td>nan                                                         </td> <td>nan   </td> <td>nan   </td> <td>nan       </td> <td>nan                 </td> <td>nan                                                         </td> <td>Top hit #23                                                 </td> <td>Clone A<br>(24/24)                                          </td> <td>0    </td> <td>Clone screen RLU: 280969                                    </td> <td>rgba(128,0,128,0.4)  </td> <td>nan        </td> <td>56   </td> <td>nan        </td> <td>nan         </td> <td>nan                  </td> <td>nan        </td> <td>nan        </td> <td>nan        </td> <td>nan        </td> <td>nan                                                         </td>\n",
       "        </tr>\n",
       "        <tr>\n",
       "            <td>Top hit #9                                               </td> <td>7-E1                                                        </td> <td>1                    </td> <td>707369                             </td> <td>364123                 </td> <td>378186              </td> <td>429562               </td> <td>313927                         </td> <td>256232                                                      </td> <td>nan         </td> <td>nan        </td> <td>nan        </td> <td>nan        </td> <td>nan                                                         </td> <td>nan                                                         </td> <td>nan   </td> <td>nan   </td> <td>nan       </td> <td>nan                 </td> <td>nan                                                         </td> <td>Top hit #24                                                 </td> <td>Clone A<br>(24/24)                                          </td> <td>0    </td> <td>Clone screen RLU: 280969                                    </td> <td>rgba(128,0,128,0.4)  </td> <td>nan        </td> <td>57   </td> <td>nan        </td> <td>nan         </td> <td>nan                  </td> <td>nan        </td> <td>nan        </td> <td>nan        </td> <td>nan        </td> <td>nan                                                         </td>\n",
       "        </tr>\n",
       "        <tr>\n",
       "            <td>Top hit #10                                              </td> <td>7-P21                                                       </td> <td>1                    </td> <td>806803                             </td> <td>585692                 </td> <td>610984              </td> <td>639790               </td> <td>nan                            </td> <td>nan                                                         </td> <td>nan         </td> <td>nan        </td> <td>nan        </td> <td>nan        </td> <td>nan                                                         </td> <td>nan                                                         </td> <td>nan   </td> <td>nan   </td> <td>nan       </td> <td>nan                 </td> <td>nan                                                         </td> <td>2-O1                                                        </td> <td>Clone B (21/24)                                             </td> <td>1    </td> <td>Clone screen RLU: 268914                                    </td> <td>rgba(255,215,0,0.4)  </td> <td>nan        </td> <td>58   </td> <td>nan        </td> <td>nan         </td> <td>nan                  </td> <td>nan        </td> <td>nan        </td> <td>nan        </td> <td>nan        </td> <td>nan                                                         </td>\n",
       "        </tr>\n",
       "        <tr>\n",
       "            <td>Top hit #11                                              </td> <td>8-E6                                                        </td> <td>1                    </td> <td>784380                             </td> <td>343425                 </td> <td>342921              </td> <td>540905               </td> <td>368460                         </td> <td>327766                                                      </td> <td>nan         </td> <td>nan        </td> <td>nan        </td> <td>nan        </td> <td>nan                                                         </td> <td>nan                                                         </td> <td>nan   </td> <td>nan   </td> <td>nan       </td> <td>nan                 </td> <td>nan                                                         </td> <td>3-D11                                                       </td> <td>Clone B (21/24)                                             </td> <td>1    </td> <td>Clone screen RLU: 548279                                    </td> <td>rgba(255,215,0,0.4)  </td> <td>nan        </td> <td>59   </td> <td>nan        </td> <td>nan         </td> <td>nan                  </td> <td>nan        </td> <td>nan        </td> <td>nan        </td> <td>nan        </td> <td>nan                                                         </td>\n",
       "        </tr>\n",
       "        <tr>\n",
       "            <td>Top hit #12                                              </td> <td>9-B7                                                        </td> <td>1                    </td> <td>728793                             </td> <td>330972                 </td> <td>292333              </td> <td>402076               </td> <td>280969                         </td> <td>282555                                                      </td> <td>nan         </td> <td>nan        </td> <td>nan        </td> <td>nan        </td> <td>nan                                                         </td> <td>nan                                                         </td> <td>nan   </td> <td>nan   </td> <td>nan       </td> <td>nan                 </td> <td>nan                                                         </td> <td>3-O21                                                       </td> <td>Clone B (21/24)                                             </td> <td>1    </td> <td>Clone screen RLU: 245640                                    </td> <td>rgba(255,215,0,0.4)  </td> <td>nan        </td> <td>60   </td> <td>nan        </td> <td>nan         </td> <td>nan                  </td> <td>nan        </td> <td>nan        </td> <td>nan        </td> <td>nan        </td> <td>nan                                                         </td>\n",
       "        </tr>\n",
       "        <tr>\n",
       "            <td>Top hit #13                                              </td> <td>Top hit #13                                                 </td> <td>2                    </td> <td>728793                             </td> <td>330972                 </td> <td>292333              </td> <td>402076               </td> <td>nan                            </td> <td>nan                                                         </td> <td>nan         </td> <td>nan        </td> <td>nan        </td> <td>nan        </td> <td>nan                                                         </td> <td>nan                                                         </td> <td>nan   </td> <td>nan   </td> <td>nan       </td> <td>nan                 </td> <td>nan                                                         </td> <td>4-A16                                                       </td> <td>Clone B (21/24)                                             </td> <td>1    </td> <td>Clone screen RLU: 542545                                    </td> <td>rgba(255,215,0,0.4)  </td> <td>nan        </td> <td>61   </td> <td>nan        </td> <td>nan         </td> <td>nan                  </td> <td>nan        </td> <td>nan        </td> <td>nan        </td> <td>nan        </td> <td>nan                                                         </td>\n",
       "        </tr>\n",
       "        <tr>\n",
       "            <td>Top hit #14                                              </td> <td>Top hit #14                                                 </td> <td>2                    </td> <td>728793                             </td> <td>330972                 </td> <td>292333              </td> <td>402076               </td> <td>280969                         </td> <td>282555                                                      </td> <td>nan         </td> <td>nan        </td> <td>nan        </td> <td>nan        </td> <td>nan                                                         </td> <td>nan                                                         </td> <td>nan   </td> <td>nan   </td> <td>nan       </td> <td>nan                 </td> <td>nan                                                         </td> <td>4-N1                                                        </td> <td>Clone B (21/24)                                             </td> <td>1    </td> <td>Clone screen RLU: 115117                                    </td> <td>rgba(255,215,0,0.4)  </td> <td>nan        </td> <td>62   </td> <td>nan        </td> <td>nan         </td> <td>nan                  </td> <td>nan        </td> <td>nan        </td> <td>nan        </td> <td>nan        </td> <td>nan                                                         </td>\n",
       "        </tr>\n",
       "        <tr>\n",
       "            <td>Top hit #15                                              </td> <td>Top hit #15                                                 </td> <td>2                    </td> <td>728793                             </td> <td>330972                 </td> <td>292333              </td> <td>402076               </td> <td>280969                         </td> <td>282555                                                      </td> <td>nan         </td> <td>nan        </td> <td>nan        </td> <td>nan        </td> <td>nan                                                         </td> <td>nan                                                         </td> <td>nan   </td> <td>nan   </td> <td>nan       </td> <td>nan                 </td> <td>nan                                                         </td> <td>5-I19                                                       </td> <td>Clone B (21/24)                                             </td> <td>0    </td> <td>Clone screen RLU: 137351                                    </td> <td>rgba(255,215,0,0.4)  </td> <td>nan        </td> <td>63   </td> <td>nan        </td> <td>nan         </td> <td>nan                  </td> <td>nan        </td> <td>nan        </td> <td>nan        </td> <td>nan        </td> <td>nan                                                         </td>\n",
       "        </tr>\n",
       "        <tr>\n",
       "            <td>Top hit #16                                              </td> <td>Top hit #16                                                 </td> <td>2                    </td> <td>728793                             </td> <td>330972                 </td> <td>292333              </td> <td>402076               </td> <td>280969                         </td> <td>282555                                                      </td> <td>nan         </td> <td>nan        </td> <td>nan        </td> <td>nan        </td> <td>nan                                                         </td> <td>nan                                                         </td> <td>nan   </td> <td>nan   </td> <td>nan       </td> <td>nan                 </td> <td>nan                                                         </td> <td>5-L22                                                       </td> <td>Clone B (21/24)                                             </td> <td>0    </td> <td>Clone screen RLU:                                           </td> <td>rgba(255,215,0,0.4)  </td> <td>nan        </td> <td>64   </td> <td>nan        </td> <td>nan         </td> <td>nan                  </td> <td>nan        </td> <td>nan        </td> <td>nan        </td> <td>nan        </td> <td>nan                                                         </td>\n",
       "        </tr>\n",
       "        <tr>\n",
       "            <td>Top hit #17                                              </td> <td>Top hit #17                                                 </td> <td>2                    </td> <td>728793                             </td> <td>330972                 </td> <td>292333              </td> <td>402076               </td> <td>280969                         </td> <td>282555                                                      </td> <td>nan         </td> <td>nan        </td> <td>nan        </td> <td>nan        </td> <td>nan                                                         </td> <td>nan                                                         </td> <td>nan   </td> <td>nan   </td> <td>nan       </td> <td>nan                 </td> <td>nan                                                         </td> <td>5-L6                                                        </td> <td>Clone B (21/24)                                             </td> <td>1    </td> <td>Clone screen RLU: 388528                                    </td> <td>rgba(255,215,0,0.4)  </td> <td>nan        </td> <td>65   </td> <td>nan        </td> <td>nan         </td> <td>nan                  </td> <td>nan        </td> <td>nan        </td> <td>nan        </td> <td>nan        </td> <td>nan                                                         </td>\n",
       "        </tr>\n",
       "        <tr>\n",
       "            <td>Top hit #18                                              </td> <td>Top hit #18                                                 </td> <td>2                    </td> <td>728793                             </td> <td>330972                 </td> <td>292333              </td> <td>402076               </td> <td>280969                         </td> <td>282555                                                      </td> <td>nan         </td> <td>nan        </td> <td>nan        </td> <td>nan        </td> <td>nan                                                         </td> <td>nan                                                         </td> <td>nan   </td> <td>nan   </td> <td>nan       </td> <td>nan                 </td> <td>nan                                                         </td> <td>7-E1                                                        </td> <td>Clone B (21/24)                                             </td> <td>1    </td> <td>Clone screen RLU: 256232                                    </td> <td>rgba(255,215,0,0.4)  </td> <td>nan        </td> <td>66   </td> <td>nan        </td> <td>nan         </td> <td>nan                  </td> <td>nan        </td> <td>nan        </td> <td>nan        </td> <td>nan        </td> <td>nan                                                         </td>\n",
       "        </tr>\n",
       "        <tr>\n",
       "            <td>Top hit #19                                              </td> <td>Top hit #19                                                 </td> <td>2                    </td> <td>728793                             </td> <td>330972                 </td> <td>292333              </td> <td>402076               </td> <td>280969                         </td> <td>282555                                                      </td> <td>nan         </td> <td>nan        </td> <td>nan        </td> <td>nan        </td> <td>nan                                                         </td> <td>nan                                                         </td> <td>nan   </td> <td>nan   </td> <td>nan       </td> <td>nan                 </td> <td>nan                                                         </td> <td>7-P21                                                       </td> <td>Clone B (21/24)                                             </td> <td>1    </td> <td>Clone screen RLU:                                           </td> <td>rgba(255,215,0,0.4)  </td> <td>nan        </td> <td>67   </td> <td>nan        </td> <td>nan         </td> <td>nan                  </td> <td>nan        </td> <td>nan        </td> <td>nan        </td> <td>nan        </td> <td>nan                                                         </td>\n",
       "        </tr>\n",
       "        <tr>\n",
       "            <td>Top hit #20                                              </td> <td>Top hit #20                                                 </td> <td>2                    </td> <td>728793                             </td> <td>330972                 </td> <td>292333              </td> <td>402076               </td> <td>280969                         </td> <td>282555                                                      </td> <td>nan         </td> <td>nan        </td> <td>nan        </td> <td>nan        </td> <td>nan                                                         </td> <td>nan                                                         </td> <td>nan   </td> <td>nan   </td> <td>nan       </td> <td>nan                 </td> <td>nan                                                         </td> <td>8-E6                                                        </td> <td>Clone B (21/24)                                             </td> <td>1    </td> <td>Clone screen RLU: 327766                                    </td> <td>rgba(255,215,0,0.4)  </td> <td>nan        </td> <td>68   </td> <td>nan        </td> <td>nan         </td> <td>nan                  </td> <td>nan        </td> <td>nan        </td> <td>nan        </td> <td>nan        </td> <td>nan                                                         </td>\n",
       "        </tr>\n",
       "        <tr>\n",
       "            <td>Top hit #21                                              </td> <td>Top hit #21                                                 </td> <td>2                    </td> <td>728793                             </td> <td>330972                 </td> <td>292333              </td> <td>402076               </td> <td>280969                         </td> <td>282555                                                      </td> <td>nan         </td> <td>nan        </td> <td>nan        </td> <td>nan        </td> <td>nan                                                         </td> <td>nan                                                         </td> <td>nan   </td> <td>nan   </td> <td>nan       </td> <td>nan                 </td> <td>nan                                                         </td> <td>9-B7                                                        </td> <td>Clone B (21/24)                                             </td> <td>0    </td> <td>Clone screen RLU: 282555                                    </td> <td>rgba(255,215,0,0.4)  </td> <td>nan        </td> <td>69   </td> <td>nan        </td> <td>nan         </td> <td>nan                  </td> <td>nan        </td> <td>nan        </td> <td>nan        </td> <td>nan        </td> <td>nan                                                         </td>\n",
       "        </tr>\n",
       "        <tr>\n",
       "            <td>Top hit #22                                              </td> <td>Top hit #22                                                 </td> <td>2                    </td> <td>728793                             </td> <td>330972                 </td> <td>292333              </td> <td>402076               </td> <td>280969                         </td> <td>282555                                                      </td> <td>nan         </td> <td>nan        </td> <td>nan        </td> <td>nan        </td> <td>nan                                                         </td> <td>nan                                                         </td> <td>nan   </td> <td>nan   </td> <td>nan       </td> <td>nan                 </td> <td>nan                                                         </td> <td>Top hit #13                                                 </td> <td>Clone B (21/24)                                             </td> <td>1    </td> <td>Clone screen RLU:                                           </td> <td>rgba(128,0,128,0.4)  </td> <td>nan        </td> <td>70   </td> <td>nan        </td> <td>nan         </td> <td>nan                  </td> <td>nan        </td> <td>nan        </td> <td>nan        </td> <td>nan        </td> <td>nan                                                         </td>\n",
       "        </tr>\n",
       "        <tr>\n",
       "            <td>Top hit #23                                              </td> <td>Top hit #23                                                 </td> <td>2                    </td> <td>728793                             </td> <td>330972                 </td> <td>292333              </td> <td>402076               </td> <td>280969                         </td> <td>282555                                                      </td> <td>nan         </td> <td>nan        </td> <td>nan        </td> <td>nan        </td> <td>nan                                                         </td> <td>nan                                                         </td> <td>nan   </td> <td>nan   </td> <td>nan       </td> <td>nan                 </td> <td>nan                                                         </td> <td>Top hit #14                                                 </td> <td>Clone B (21/24)                                             </td> <td>1    </td> <td>Clone screen RLU: 282555                                    </td> <td>rgba(128,0,128,0.4)  </td> <td>nan        </td> <td>71   </td> <td>nan        </td> <td>nan         </td> <td>nan                  </td> <td>nan        </td> <td>nan        </td> <td>nan        </td> <td>nan        </td> <td>nan                                                         </td>\n",
       "        </tr>\n",
       "        <tr>\n",
       "            <td>Top hit #24                                              </td> <td>Top hit #24                                                 </td> <td>2                    </td> <td>728793                             </td> <td>330972                 </td> <td>292333              </td> <td>402076               </td> <td>280969                         </td> <td>282555                                                      </td> <td>nan         </td> <td>nan        </td> <td>nan        </td> <td>nan        </td> <td>nan                                                         </td> <td>nan                                                         </td> <td>nan   </td> <td>nan   </td> <td>nan       </td> <td>nan                 </td> <td>nan                                                         </td> <td>Top hit #15                                                 </td> <td>Clone B (21/24)                                             </td> <td>1    </td> <td>Clone screen RLU: 282555                                    </td> <td>rgba(128,0,128,0.4)  </td> <td>nan        </td> <td>72   </td> <td>nan        </td> <td>nan         </td> <td>nan                  </td> <td>nan        </td> <td>nan        </td> <td>nan        </td> <td>nan        </td> <td>nan                                                         </td>\n",
       "        </tr>\n",
       "        <tr>\n",
       "            <td>nan                                                      </td> <td>nan                                                         </td> <td>nan                  </td> <td>nan                                </td> <td>nan                    </td> <td>nan                 </td> <td>nan                  </td> <td>nan                            </td> <td>nan                                                         </td> <td>nan         </td> <td>nan        </td> <td>nan        </td> <td>nan        </td> <td>nan                                                         </td> <td>nan                                                         </td> <td>nan   </td> <td>nan   </td> <td>nan       </td> <td>nan                 </td> <td>nan                                                         </td> <td>Top hit #16                                                 </td> <td>Clone B (21/24)                                             </td> <td>1    </td> <td>Clone screen RLU: 282555                                    </td> <td>rgba(128,0,128,0.4)  </td> <td>nan        </td> <td>73   </td> <td>nan        </td> <td>nan         </td> <td>nan                  </td> <td>nan        </td> <td>nan        </td> <td>nan        </td> <td>nan        </td> <td>nan                                                         </td>\n",
       "        </tr>\n",
       "        <tr>\n",
       "            <td>nan                                                      </td> <td>nan                                                         </td> <td>nan                  </td> <td>nan                                </td> <td>nan                    </td> <td>nan                 </td> <td>nan                  </td> <td>nan                            </td> <td>nan                                                         </td> <td>nan         </td> <td>nan        </td> <td>nan        </td> <td>nan        </td> <td>nan                                                         </td> <td>nan                                                         </td> <td>nan   </td> <td>nan   </td> <td>nan       </td> <td>nan                 </td> <td>nan                                                         </td> <td>Top hit #17                                                 </td> <td>Clone B (21/24)                                             </td> <td>1    </td> <td>Clone screen RLU: 282555                                    </td> <td>rgba(128,0,128,0.4)  </td> <td>nan        </td> <td>74   </td> <td>nan        </td> <td>nan         </td> <td>nan                  </td> <td>nan        </td> <td>nan        </td> <td>nan        </td> <td>nan        </td> <td>nan                                                         </td>\n",
       "        </tr>\n",
       "        <tr>\n",
       "            <td>nan                                                      </td> <td>nan                                                         </td> <td>nan                  </td> <td>nan                                </td> <td>nan                    </td> <td>nan                 </td> <td>nan                  </td> <td>nan                            </td> <td>nan                                                         </td> <td>nan         </td> <td>nan        </td> <td>nan        </td> <td>nan        </td> <td>nan                                                         </td> <td>nan                                                         </td> <td>nan   </td> <td>nan   </td> <td>nan       </td> <td>nan                 </td> <td>nan                                                         </td> <td>Top hit #18                                                 </td> <td>Clone B (21/24)                                             </td> <td>0    </td> <td>Clone screen RLU: 282555                                    </td> <td>rgba(128,0,128,0.4)  </td> <td>nan        </td> <td>75   </td> <td>nan        </td> <td>nan         </td> <td>nan                  </td> <td>nan        </td> <td>nan        </td> <td>nan        </td> <td>nan        </td> <td>nan                                                         </td>\n",
       "        </tr>\n",
       "        <tr>\n",
       "            <td>nan                                                      </td> <td>nan                                                         </td> <td>nan                  </td> <td>nan                                </td> <td>nan                    </td> <td>nan                 </td> <td>nan                  </td> <td>nan                            </td> <td>nan                                                         </td> <td>nan         </td> <td>nan        </td> <td>nan        </td> <td>nan        </td> <td>nan                                                         </td> <td>nan                                                         </td> <td>nan   </td> <td>nan   </td> <td>nan       </td> <td>nan                 </td> <td>nan                                                         </td> <td>Top hit #19                                                 </td> <td>Clone B (21/24)                                             </td> <td>1    </td> <td>Clone screen RLU: 282555                                    </td> <td>rgba(128,0,128,0.4)  </td> <td>nan        </td> <td>76   </td> <td>nan        </td> <td>nan         </td> <td>nan                  </td> <td>nan        </td> <td>nan        </td> <td>nan        </td> <td>nan        </td> <td>nan                                                         </td>\n",
       "        </tr>\n",
       "        <tr>\n",
       "            <td>nan                                                      </td> <td>nan                                                         </td> <td>nan                  </td> <td>nan                                </td> <td>nan                    </td> <td>nan                 </td> <td>nan                  </td> <td>nan                            </td> <td>nan                                                         </td> <td>nan         </td> <td>nan        </td> <td>nan        </td> <td>nan        </td> <td>nan                                                         </td> <td>nan                                                         </td> <td>nan   </td> <td>nan   </td> <td>nan       </td> <td>nan                 </td> <td>nan                                                         </td> <td>Top hit #20                                                 </td> <td>Clone B (21/24)                                             </td> <td>1    </td> <td>Clone screen RLU: 282555                                    </td> <td>rgba(128,0,128,0.4)  </td> <td>nan        </td> <td>77   </td> <td>nan        </td> <td>nan         </td> <td>nan                  </td> <td>nan        </td> <td>nan        </td> <td>nan        </td> <td>nan        </td> <td>nan                                                         </td>\n",
       "        </tr>\n",
       "        <tr>\n",
       "            <td>nan                                                      </td> <td>nan                                                         </td> <td>nan                  </td> <td>nan                                </td> <td>nan                    </td> <td>nan                 </td> <td>nan                  </td> <td>nan                            </td> <td>nan                                                         </td> <td>nan         </td> <td>nan        </td> <td>nan        </td> <td>nan        </td> <td>nan                                                         </td> <td>nan                                                         </td> <td>nan   </td> <td>nan   </td> <td>nan       </td> <td>nan                 </td> <td>nan                                                         </td> <td>Top hit #21                                                 </td> <td>Clone B (21/24)                                             </td> <td>1    </td> <td>Clone screen RLU: 282555                                    </td> <td>rgba(128,0,128,0.4)  </td> <td>nan        </td> <td>78   </td> <td>nan        </td> <td>nan         </td> <td>nan                  </td> <td>nan        </td> <td>nan        </td> <td>nan        </td> <td>nan        </td> <td>nan                                                         </td>\n",
       "        </tr>\n",
       "        <tr>\n",
       "            <td>Clone screen (Obtained = 1, did not obtain = 0)          </td> <td>nan                                                         </td> <td>nan                  </td> <td>nan                                </td> <td>nan                    </td> <td>nan                 </td> <td>nan                  </td> <td>nan                            </td> <td>nan                                                         </td> <td>nan         </td> <td>nan        </td> <td>nan        </td> <td>nan        </td> <td>nan                                                         </td> <td>nan                                                         </td> <td>nan   </td> <td>nan   </td> <td>nan       </td> <td>nan                 </td> <td>nan                                                         </td> <td>Top hit #22                                                 </td> <td>Clone B (21/24)                                             </td> <td>1    </td> <td>Clone screen RLU: 282555                                    </td> <td>rgba(128,0,128,0.4)  </td> <td>nan        </td> <td>79   </td> <td>nan        </td> <td>nan         </td> <td>nan                  </td> <td>nan        </td> <td>nan        </td> <td>nan        </td> <td>nan        </td> <td>nan                                                         </td>\n",
       "        </tr>\n",
       "        <tr>\n",
       "            <td>Top 12 hits to subclone                                  </td> <td>Hybridoma ID                                                </td> <td>From 3*screen        </td> <td>A clone                            </td> <td>B clone                </td> <td>Poly/parental to seq</td> <td>ID of poly/parental  </td> <td>Post-thaw RLU from clone screen</td> <td>nan                                                         </td> <td>nan         </td> <td>nan        </td> <td>nan        </td> <td>nan        </td> <td>nan                                                         </td> <td>nan                                                         </td> <td>nan   </td> <td>nan   </td> <td>nan       </td> <td>nan                 </td> <td>nan                                                         </td> <td>Top hit #23                                                 </td> <td>Clone B (21/24)                                             </td> <td>1    </td> <td>Clone screen RLU: 282555                                    </td> <td>rgba(128,0,128,0.4)  </td> <td>nan        </td> <td>80   </td> <td>nan        </td> <td>nan         </td> <td>nan                  </td> <td>nan        </td> <td>nan        </td> <td>nan        </td> <td>nan        </td> <td>nan                                                         </td>\n",
       "        </tr>\n",
       "        <tr>\n",
       "            <td>Top hit #1                                               </td> <td>2-O1                                                        </td> <td>1                    </td> <td>1                                  </td> <td>1                      </td> <td>0                   </td> <td>nan                  </td> <td>nan                            </td> <td>nan                                                         </td> <td>nan         </td> <td>nan        </td> <td>nan        </td> <td>nan        </td> <td>nan                                                         </td> <td>nan                                                         </td> <td>nan   </td> <td>nan   </td> <td>nan       </td> <td>nan                 </td> <td>nan                                                         </td> <td>Top hit #24                                                 </td> <td>Clone B (21/24)                                             </td> <td>1    </td> <td>Clone screen RLU: 282555                                    </td> <td>rgba(128,0,128,0.4)  </td> <td>nan        </td> <td>81   </td> <td>nan        </td> <td>nan         </td> <td>nan                  </td> <td>nan        </td> <td>nan        </td> <td>nan        </td> <td>nan        </td> <td>nan                                                         </td>\n",
       "        </tr>\n",
       "        <tr>\n",
       "            <td>Top hit #2                                               </td> <td>3-D11                                                       </td> <td>1                    </td> <td>1                                  </td> <td>1                      </td> <td>0                   </td> <td>nan                  </td> <td>nan                            </td> <td>nan                                                         </td> <td>nan         </td> <td>nan        </td> <td>nan        </td> <td>nan        </td> <td>nan                                                         </td> <td>nan                                                         </td> <td>nan   </td> <td>nan   </td> <td>nan       </td> <td>nan                 </td> <td>nan                                                         </td> <td>Parental/Poly<br>(3/12)                                     </td> <td>BVP<br>(21/24 clean)                                        </td> <td>3    </td> <td>-                                                           </td> <td>rgba(30,144,255, 0.4)</td> <td>nan        </td> <td>82   </td> <td>nan        </td> <td>nan         </td> <td>nan                  </td> <td>nan        </td> <td>nan        </td> <td>nan        </td> <td>nan        </td> <td>nan                                                         </td>\n",
       "        </tr>\n",
       "        <tr>\n",
       "            <td>Top hit #3                                               </td> <td>3-O21                                                       </td> <td>1                    </td> <td>1                                  </td> <td>1                      </td> <td>0                   </td> <td>nan                  </td> <td>nan                            </td> <td>nan                                                         </td> <td>nan         </td> <td>nan        </td> <td>nan        </td> <td>nan        </td> <td>nan                                                         </td> <td>nan                                                         </td> <td>nan   </td> <td>nan   </td> <td>nan       </td> <td>nan                 </td> <td>nan                                                         </td> <td>Parental/Poly<br>(3/12)                                     </td> <td><b>Sequencing</b> <br>( Single heavy & light<br> chain o ...</td> <td>3    </td> <td>-                                                           </td> <td>rgba(255,0,0, 0.4)   </td> <td>nan        </td> <td>83   </td> <td>nan        </td> <td>nan         </td> <td>nan                  </td> <td>nan        </td> <td>nan        </td> <td>nan        </td> <td>nan        </td> <td>nan                                                         </td>\n",
       "        </tr>\n",
       "        <tr>\n",
       "            <td>Top hit #4                                               </td> <td>4-A16                                                       </td> <td>1                    </td> <td>1                                  </td> <td>1                      </td> <td>0                   </td> <td>nan                  </td> <td>nan                            </td> <td>nan                                                         </td> <td>nan         </td> <td>nan        </td> <td>nan        </td> <td>nan        </td> <td>nan                                                         </td> <td>nan                                                         </td> <td>nan   </td> <td>nan   </td> <td>nan       </td> <td>nan                 </td> <td>nan                                                         </td> <td>2-O1                                                        </td> <td>Parental/Poly<br>(3/12)                                     </td> <td>0    </td> <td>Clone screen RLU: 619596                                    </td> <td>rgba(255,215,0,0.4)  </td> <td>nan        </td> <td>84   </td> <td>nan        </td> <td>nan         </td> <td>nan                  </td> <td>nan        </td> <td>nan        </td> <td>nan        </td> <td>nan        </td> <td>nan                                                         </td>\n",
       "        </tr>\n",
       "        <tr>\n",
       "            <td>Top hit #5                                               </td> <td>4-N1                                                        </td> <td>1                    </td> <td>1                                  </td> <td>1                      </td> <td>0                   </td> <td>nan                  </td> <td>nan                            </td> <td>nan                                                         </td> <td>nan         </td> <td>nan        </td> <td>nan        </td> <td>nan        </td> <td>nan                                                         </td> <td>nan                                                         </td> <td>nan   </td> <td>nan   </td> <td>nan       </td> <td>nan                 </td> <td>nan                                                         </td> <td>3-D11                                                       </td> <td>Parental/Poly<br>(3/12)                                     </td> <td>0    </td> <td>Clone screen RLU: 376422                                    </td> <td>rgba(255,215,0,0.4)  </td> <td>nan        </td> <td>85   </td> <td>nan        </td> <td>nan         </td> <td>nan                  </td> <td>nan        </td> <td>nan        </td> <td>nan        </td> <td>nan        </td> <td>nan                                                         </td>\n",
       "        </tr>\n",
       "        <tr>\n",
       "            <td>Top hit #6                                               </td> <td>5-I19                                                       </td> <td>1                    </td> <td>0                                  </td> <td>0                      </td> <td>1                   </td> <td>5-I19                </td> <td>549521.5                       </td> <td>nan                                                         </td> <td>nan         </td> <td>nan        </td> <td>nan        </td> <td>nan        </td> <td>nan                                                         </td> <td>nan                                                         </td> <td>nan   </td> <td>nan   </td> <td>nan       </td> <td>nan                 </td> <td>nan                                                         </td> <td>3-O21                                                       </td> <td>Parental/Poly<br>(3/12)                                     </td> <td>0    </td> <td>Clone screen RLU: 695831                                    </td> <td>rgba(255,215,0,0.4)  </td> <td>nan        </td> <td>86   </td> <td>nan        </td> <td>nan         </td> <td>nan                  </td> <td>nan        </td> <td>nan        </td> <td>nan        </td> <td>nan        </td> <td>nan                                                         </td>\n",
       "        </tr>\n",
       "        <tr>\n",
       "            <td>Top hit #7                                               </td> <td>5-L22                                                       </td> <td>1                    </td> <td>1                                  </td> <td>0                      </td> <td>0                   </td> <td>nan                  </td> <td>nan                            </td> <td>nan                                                         </td> <td>nan         </td> <td>nan        </td> <td>nan        </td> <td>nan        </td> <td>nan                                                         </td> <td>nan                                                         </td> <td>nan   </td> <td>nan   </td> <td>nan       </td> <td>nan                 </td> <td>nan                                                         </td> <td>4-A16                                                       </td> <td>Parental/Poly<br>(3/12)                                     </td> <td>0    </td> <td>Clone screen RLU: 526526                                    </td> <td>rgba(255,215,0,0.4)  </td> <td>nan        </td> <td>87   </td> <td>nan        </td> <td>nan         </td> <td>nan                  </td> <td>nan        </td> <td>nan        </td> <td>nan        </td> <td>nan        </td> <td>nan                                                         </td>\n",
       "        </tr>\n",
       "        <tr>\n",
       "            <td>Top hit #8                                               </td> <td>5-L6                                                        </td> <td>1                    </td> <td>1                                  </td> <td>1                      </td> <td>0                   </td> <td>nan                  </td> <td>nan                            </td> <td>nan                                                         </td> <td>nan         </td> <td>nan        </td> <td>nan        </td> <td>nan        </td> <td>nan                                                         </td> <td>nan                                                         </td> <td>nan   </td> <td>nan   </td> <td>nan       </td> <td>nan                 </td> <td>nan                                                         </td> <td>4-N1                                                        </td> <td>Parental/Poly<br>(3/12)                                     </td> <td>0    </td> <td>Clone screen RLU: 527472.5                                  </td> <td>rgba(255,215,0,0.4)  </td> <td>nan        </td> <td>88   </td> <td>nan        </td> <td>nan         </td> <td>nan                  </td> <td>nan        </td> <td>nan        </td> <td>nan        </td> <td>nan        </td> <td>nan                                                         </td>\n",
       "        </tr>\n",
       "        <tr>\n",
       "            <td>Top hit #9                                               </td> <td>7-E1                                                        </td> <td>1                    </td> <td>1                                  </td> <td>1                      </td> <td>0                   </td> <td>nan                  </td> <td>nan                            </td> <td>nan                                                         </td> <td>nan         </td> <td>nan        </td> <td>nan        </td> <td>nan        </td> <td>nan                                                         </td> <td>nan                                                         </td> <td>nan   </td> <td>nan   </td> <td>nan       </td> <td>nan                 </td> <td>nan                                                         </td> <td>5-I19                                                       </td> <td>Parental/Poly<br>(3/12)                                     </td> <td>1    </td> <td>Clone screen RLU: 549521.5                                  </td> <td>rgba(255,215,0,0.4)  </td> <td>nan        </td> <td>89   </td> <td>nan        </td> <td>nan         </td> <td>nan                  </td> <td>nan        </td> <td>nan        </td> <td>nan        </td> <td>nan        </td> <td>nan                                                         </td>\n",
       "        </tr>\n",
       "        <tr>\n",
       "            <td>Top hit #10                                              </td> <td>7-P21                                                       </td> <td>1                    </td> <td>1                                  </td> <td>1                      </td> <td>0                   </td> <td>nan                  </td> <td>nan                            </td> <td>nan                                                         </td> <td>nan         </td> <td>nan        </td> <td>nan        </td> <td>nan        </td> <td>nan                                                         </td> <td>nan                                                         </td> <td>nan   </td> <td>nan   </td> <td>nan       </td> <td>nan                 </td> <td>nan                                                         </td> <td>5-L22                                                       </td> <td>Parental/Poly<br>(3/12)                                     </td> <td>0    </td> <td>Clone screen RLU: 871013.5                                  </td> <td>rgba(255,215,0,0.4)  </td> <td>nan        </td> <td>90   </td> <td>nan        </td> <td>nan         </td> <td>nan                  </td> <td>nan        </td> <td>nan        </td> <td>nan        </td> <td>nan        </td> <td>nan                                                         </td>\n",
       "        </tr>\n",
       "        <tr>\n",
       "            <td>Top hit #11                                              </td> <td>8-E6                                                        </td> <td>1                    </td> <td>1                                  </td> <td>1                      </td> <td>0                   </td> <td>nan                  </td> <td>nan                            </td> <td>nan                                                         </td> <td>nan         </td> <td>nan        </td> <td>nan        </td> <td>nan        </td> <td>nan                                                         </td> <td>nan                                                         </td> <td>nan   </td> <td>nan   </td> <td>nan       </td> <td>nan                 </td> <td>nan                                                         </td> <td>5-L6                                                        </td> <td>Parental/Poly<br>(3/12)                                     </td> <td>0    </td> <td>Clone screen RLU: 740833                                    </td> <td>rgba(255,215,0,0.4)  </td> <td>nan        </td> <td>91   </td> <td>nan        </td> <td>nan         </td> <td>nan                  </td> <td>nan        </td> <td>nan        </td> <td>nan        </td> <td>nan        </td> <td>nan                                                         </td>\n",
       "        </tr>\n",
       "        <tr>\n",
       "            <td>Top hit #12                                              </td> <td>9-B7                                                        </td> <td>1                    </td> <td>0                                  </td> <td>0                      </td> <td>1                   </td> <td>9-B7                 </td> <td>402076                         </td> <td>nan                                                         </td> <td>nan         </td> <td>nan        </td> <td>nan        </td> <td>nan        </td> <td>nan                                                         </td> <td>nan                                                         </td> <td>nan   </td> <td>nan   </td> <td>nan       </td> <td>nan                 </td> <td>nan                                                         </td> <td>7-E1                                                        </td> <td>Parental/Poly<br>(3/12)                                     </td> <td>0    </td> <td>Clone screen RLU: 429561.5                                  </td> <td>rgba(255,215,0,0.4)  </td> <td>nan        </td> <td>92   </td> <td>nan        </td> <td>nan         </td> <td>nan                  </td> <td>nan        </td> <td>nan        </td> <td>nan        </td> <td>nan        </td> <td>nan                                                         </td>\n",
       "        </tr>\n",
       "        <tr>\n",
       "            <td>Top hit #13                                              </td> <td>Top hit #13                                                 </td> <td>1                    </td> <td>1                                  </td> <td>1                      </td> <td>0                   </td> <td>nan                  </td> <td>nan                            </td> <td>nan                                                         </td> <td>nan         </td> <td>nan        </td> <td>nan        </td> <td>nan        </td> <td>nan                                                         </td> <td>nan                                                         </td> <td>nan   </td> <td>nan   </td> <td>nan       </td> <td>nan                 </td> <td>nan                                                         </td> <td>7-P21                                                       </td> <td>Parental/Poly<br>(3/12)                                     </td> <td>0    </td> <td>Clone screen RLU: 639789.5                                  </td> <td>rgba(255,215,0,0.4)  </td> <td>nan        </td> <td>93   </td> <td>nan        </td> <td>nan         </td> <td>nan                  </td> <td>nan        </td> <td>nan        </td> <td>nan        </td> <td>nan        </td> <td>nan                                                         </td>\n",
       "        </tr>\n",
       "        <tr>\n",
       "            <td>Top hit #14                                              </td> <td>Top hit #14                                                 </td> <td>1                    </td> <td>1                                  </td> <td>1                      </td> <td>0                   </td> <td>nan                  </td> <td>nan                            </td> <td>nan                                                         </td> <td>nan         </td> <td>nan        </td> <td>nan        </td> <td>nan        </td> <td>nan                                                         </td> <td>nan                                                         </td> <td>nan   </td> <td>nan   </td> <td>nan       </td> <td>nan                 </td> <td>nan                                                         </td> <td>8-E6                                                        </td> <td>Parental/Poly<br>(3/12)                                     </td> <td>0    </td> <td>Clone screen RLU: 540905                                    </td> <td>rgba(255,215,0,0.4)  </td> <td>nan        </td> <td>94   </td> <td>nan        </td> <td>nan         </td> <td>nan                  </td> <td>nan        </td> <td>nan        </td> <td>nan        </td> <td>nan        </td> <td>nan                                                         </td>\n",
       "        </tr>\n",
       "        <tr>\n",
       "            <td>Top hit #15                                              </td> <td>Top hit #15                                                 </td> <td>1                    </td> <td>1                                  </td> <td>1                      </td> <td>0                   </td> <td>nan                  </td> <td>nan                            </td> <td>nan                                                         </td> <td>nan         </td> <td>nan        </td> <td>nan        </td> <td>nan        </td> <td>nan                                                         </td> <td>nan                                                         </td> <td>nan   </td> <td>nan   </td> <td>nan       </td> <td>nan                 </td> <td>nan                                                         </td> <td>9-B7                                                        </td> <td>Parental/Poly<br>(3/12)                                     </td> <td>1    </td> <td>Clone screen RLU: 402076                                    </td> <td>rgba(255,215,0,0.4)  </td> <td>nan        </td> <td>95   </td> <td>nan        </td> <td>nan         </td> <td>nan                  </td> <td>nan        </td> <td>nan        </td> <td>nan        </td> <td>nan        </td> <td>nan                                                         </td>\n",
       "        </tr>\n",
       "        <tr>\n",
       "            <td>Top hit #16                                              </td> <td>Top hit #16                                                 </td> <td>1                    </td> <td>1                                  </td> <td>1                      </td> <td>0                   </td> <td>nan                  </td> <td>nan                            </td> <td>nan                                                         </td> <td>nan         </td> <td>nan        </td> <td>nan        </td> <td>nan        </td> <td>nan                                                         </td> <td>nan                                                         </td> <td>nan   </td> <td>nan   </td> <td>nan       </td> <td>nan                 </td> <td>nan                                                         </td> <td>Top hit #13                                                 </td> <td>Parental/Poly<br>(3/12)                                     </td> <td>0    </td> <td>Clone screen RLU: 402076                                    </td> <td>rgba(128,0,128,0.4)  </td> <td>nan        </td> <td>96   </td> <td>nan        </td> <td>nan         </td> <td>nan                  </td> <td>nan        </td> <td>nan        </td> <td>nan        </td> <td>nan        </td> <td>nan                                                         </td>\n",
       "        </tr>\n",
       "        <tr>\n",
       "            <td>Top hit #17                                              </td> <td>Top hit #17                                                 </td> <td>1                    </td> <td>1                                  </td> <td>1                      </td> <td>0                   </td> <td>nan                  </td> <td>nan                            </td> <td>nan                                                         </td> <td>nan         </td> <td>nan        </td> <td>nan        </td> <td>nan        </td> <td>nan                                                         </td> <td>nan                                                         </td> <td>nan   </td> <td>nan   </td> <td>nan       </td> <td>nan                 </td> <td>nan                                                         </td> <td>Top hit #14                                                 </td> <td>Parental/Poly<br>(3/12)                                     </td> <td>0    </td> <td>Clone screen RLU: 402076                                    </td> <td>rgba(128,0,128,0.4)  </td> <td>nan        </td> <td>97   </td> <td>nan        </td> <td>nan         </td> <td>nan                  </td> <td>nan        </td> <td>nan        </td> <td>nan        </td> <td>nan        </td> <td>nan                                                         </td>\n",
       "        </tr>\n",
       "        <tr>\n",
       "            <td>Top hit #18                                              </td> <td>Top hit #18                                                 </td> <td>1                    </td> <td>0                                  </td> <td>0                      </td> <td>1                   </td> <td>Top hit #18          </td> <td>402076                         </td> <td>nan                                                         </td> <td>nan         </td> <td>nan        </td> <td>nan        </td> <td>nan        </td> <td>nan                                                         </td> <td>nan                                                         </td> <td>nan   </td> <td>nan   </td> <td>nan       </td> <td>nan                 </td> <td>nan                                                         </td> <td>Top hit #15                                                 </td> <td>Parental/Poly<br>(3/12)                                     </td> <td>0    </td> <td>Clone screen RLU: 402076                                    </td> <td>rgba(128,0,128,0.4)  </td> <td>nan        </td> <td>98   </td> <td>nan        </td> <td>nan         </td> <td>nan                  </td> <td>nan        </td> <td>nan        </td> <td>nan        </td> <td>nan        </td> <td>nan                                                         </td>\n",
       "        </tr>\n",
       "        <tr>\n",
       "            <td>Top hit #19                                              </td> <td>Top hit #19                                                 </td> <td>1                    </td> <td>1                                  </td> <td>1                      </td> <td>0                   </td> <td>nan                  </td> <td>nan                            </td> <td>nan                                                         </td> <td>nan         </td> <td>nan        </td> <td>nan        </td> <td>nan        </td> <td>nan                                                         </td> <td>nan                                                         </td> <td>nan   </td> <td>nan   </td> <td>nan       </td> <td>nan                 </td> <td>nan                                                         </td> <td>Top hit #16                                                 </td> <td>Parental/Poly<br>(3/12)                                     </td> <td>0    </td> <td>Clone screen RLU: 402076                                    </td> <td>rgba(128,0,128,0.4)  </td> <td>nan        </td> <td>99   </td> <td>nan        </td> <td>nan         </td> <td>nan                  </td> <td>nan        </td> <td>nan        </td> <td>nan        </td> <td>nan        </td> <td>nan                                                         </td>\n",
       "        </tr>\n",
       "        <tr>\n",
       "            <td>Top hit #20                                              </td> <td>Top hit #20                                                 </td> <td>1                    </td> <td>1                                  </td> <td>1                      </td> <td>0                   </td> <td>nan                  </td> <td>nan                            </td> <td>nan                                                         </td> <td>nan         </td> <td>nan        </td> <td>nan        </td> <td>nan        </td> <td>nan                                                         </td> <td>nan                                                         </td> <td>nan   </td> <td>nan   </td> <td>nan       </td> <td>nan                 </td> <td>nan                                                         </td> <td>Top hit #17                                                 </td> <td>Parental/Poly<br>(3/12)                                     </td> <td>0    </td> <td>Clone screen RLU: 402076                                    </td> <td>rgba(128,0,128,0.4)  </td> <td>nan        </td> <td>100  </td> <td>nan        </td> <td>nan         </td> <td>nan                  </td> <td>nan        </td> <td>nan        </td> <td>nan        </td> <td>nan        </td> <td>nan                                                         </td>\n",
       "        </tr>\n",
       "        <tr>\n",
       "            <td>Top hit #21                                              </td> <td>Top hit #21                                                 </td> <td>1                    </td> <td>1                                  </td> <td>1                      </td> <td>0                   </td> <td>nan                  </td> <td>nan                            </td> <td>nan                                                         </td> <td>nan         </td> <td>nan        </td> <td>nan        </td> <td>nan        </td> <td>nan                                                         </td> <td>nan                                                         </td> <td>nan   </td> <td>nan   </td> <td>nan       </td> <td>nan                 </td> <td>nan                                                         </td> <td>Top hit #18                                                 </td> <td>Parental/Poly<br>(3/12)                                     </td> <td>1    </td> <td>Clone screen RLU: 402076                                    </td> <td>rgba(128,0,128,0.4)  </td> <td>nan        </td> <td>101  </td> <td>nan        </td> <td>nan         </td> <td>nan                  </td> <td>nan        </td> <td>nan        </td> <td>nan        </td> <td>nan        </td> <td>nan                                                         </td>\n",
       "        </tr>\n",
       "        <tr>\n",
       "            <td>Top hit #22                                              </td> <td>Top hit #22                                                 </td> <td>1                    </td> <td>1                                  </td> <td>1                      </td> <td>0                   </td> <td>nan                  </td> <td>nan                            </td> <td>nan                                                         </td> <td>nan         </td> <td>nan        </td> <td>nan        </td> <td>nan        </td> <td>nan                                                         </td> <td>nan                                                         </td> <td>nan   </td> <td>nan   </td> <td>nan       </td> <td>nan                 </td> <td>nan                                                         </td> <td>Top hit #19                                                 </td> <td>Parental/Poly<br>(3/12)                                     </td> <td>0    </td> <td>Clone screen RLU: 402076                                    </td> <td>rgba(128,0,128,0.4)  </td> <td>nan        </td> <td>102  </td> <td>nan        </td> <td>nan         </td> <td>nan                  </td> <td>nan        </td> <td>nan        </td> <td>nan        </td> <td>nan        </td> <td>nan                                                         </td>\n",
       "        </tr>\n",
       "        <tr>\n",
       "            <td>Top hit #23                                              </td> <td>Top hit #23                                                 </td> <td>1                    </td> <td>0                                  </td> <td>1                      </td> <td>0                   </td> <td>nan                  </td> <td>nan                            </td> <td>nan                                                         </td> <td>nan         </td> <td>nan        </td> <td>nan        </td> <td>nan        </td> <td>nan                                                         </td> <td>nan                                                         </td> <td>nan   </td> <td>nan   </td> <td>nan       </td> <td>nan                 </td> <td>nan                                                         </td> <td>Top hit #20                                                 </td> <td>Parental/Poly<br>(3/12)                                     </td> <td>0    </td> <td>Clone screen RLU: 402076                                    </td> <td>rgba(128,0,128,0.4)  </td> <td>nan        </td> <td>103  </td> <td>nan        </td> <td>nan         </td> <td>nan                  </td> <td>nan        </td> <td>nan        </td> <td>nan        </td> <td>nan        </td> <td>nan                                                         </td>\n",
       "        </tr>\n",
       "        <tr>\n",
       "            <td>Top hit #24                                              </td> <td>Top hit #24                                                 </td> <td>1                    </td> <td>0                                  </td> <td>1                      </td> <td>0                   </td> <td>nan                  </td> <td>nan                            </td> <td>nan                                                         </td> <td>nan         </td> <td>nan        </td> <td>nan        </td> <td>nan        </td> <td>nan                                                         </td> <td>nan                                                         </td> <td>nan   </td> <td>nan   </td> <td>nan       </td> <td>nan                 </td> <td>nan                                                         </td> <td>Top hit #21                                                 </td> <td>Parental/Poly<br>(3/12)                                     </td> <td>0    </td> <td>Clone screen RLU: 402076                                    </td> <td>rgba(128,0,128,0.4)  </td> <td>nan        </td> <td>104  </td> <td>nan        </td> <td>nan         </td> <td>nan                  </td> <td>nan        </td> <td>nan        </td> <td>nan        </td> <td>nan        </td> <td>nan                                                         </td>\n",
       "        </tr>\n",
       "        <tr>\n",
       "            <td>nan                                                      </td> <td>nan                                                         </td> <td>nan                  </td> <td>nan                                </td> <td>nan                    </td> <td>nan                 </td> <td>nan                  </td> <td>nan                            </td> <td>nan                                                         </td> <td>nan         </td> <td>nan        </td> <td>nan        </td> <td>nan        </td> <td>nan                                                         </td> <td>nan                                                         </td> <td>nan   </td> <td>nan   </td> <td>nan       </td> <td>nan                 </td> <td>nan                                                         </td> <td>Top hit #22                                                 </td> <td>Parental/Poly<br>(3/12)                                     </td> <td>0    </td> <td>Clone screen RLU: 402076                                    </td> <td>rgba(128,0,128,0.4)  </td> <td>nan        </td> <td>105  </td> <td>nan        </td> <td>nan         </td> <td>nan                  </td> <td>nan        </td> <td>nan        </td> <td>nan        </td> <td>nan        </td> <td>nan                                                         </td>\n",
       "        </tr>\n",
       "        <tr>\n",
       "            <td>nan                                                      </td> <td>nan                                                         </td> <td>nan                  </td> <td>nan                                </td> <td>nan                    </td> <td>nan                 </td> <td>nan                  </td> <td>nan                            </td> <td>nan                                                         </td> <td>nan         </td> <td>nan        </td> <td>nan        </td> <td>nan        </td> <td>nan                                                         </td> <td>nan                                                         </td> <td>nan   </td> <td>nan   </td> <td>nan       </td> <td>nan                 </td> <td>nan                                                         </td> <td>Top hit #23                                                 </td> <td>Parental/Poly<br>(3/12)                                     </td> <td>0    </td> <td>Clone screen RLU: 402076                                    </td> <td>rgba(128,0,128,0.4)  </td> <td>nan        </td> <td>106  </td> <td>nan        </td> <td>nan         </td> <td>nan                  </td> <td>nan        </td> <td>nan        </td> <td>nan        </td> <td>nan        </td> <td>nan                                                         </td>\n",
       "        </tr>\n",
       "        <tr>\n",
       "            <td>nan                                                      </td> <td>nan                                                         </td> <td>nan                  </td> <td>nan                                </td> <td>nan                    </td> <td>nan                 </td> <td>nan                  </td> <td>nan                            </td> <td>nan                                                         </td> <td>nan         </td> <td>nan        </td> <td>nan        </td> <td>nan        </td> <td>nan                                                         </td> <td>nan                                                         </td> <td>nan   </td> <td>nan   </td> <td>nan       </td> <td>nan                 </td> <td>nan                                                         </td> <td>Top hit #24                                                 </td> <td>Parental/Poly<br>(3/12)                                     </td> <td>0    </td> <td>Clone screen RLU: 402076                                    </td> <td>rgba(128,0,128,0.4)  </td> <td>nan        </td> <td>107  </td> <td>nan        </td> <td>nan         </td> <td>nan                  </td> <td>nan        </td> <td>nan        </td> <td>nan        </td> <td>nan        </td> <td>nan                                                         </td>\n",
       "        </tr>\n",
       "        <tr>\n",
       "            <td>nan                                                      </td> <td>nan                                                         </td> <td>nan                  </td> <td>nan                                </td> <td>nan                    </td> <td>nan                 </td> <td>nan                  </td> <td>nan                            </td> <td>nan                                                         </td> <td>nan         </td> <td>nan        </td> <td>nan        </td> <td>nan        </td> <td>nan                                                         </td> <td>nan                                                         </td> <td>nan   </td> <td>nan   </td> <td>nan       </td> <td>nan                 </td> <td>nan                                                         </td> <td>nan                                                         </td> <td>nan                                                         </td> <td>nan  </td> <td>nan                                                         </td> <td>nan                  </td> <td>nan        </td> <td>nan  </td> <td>nan        </td> <td>nan         </td> <td>nan                  </td> <td>nan        </td> <td>nan        </td> <td>nan        </td> <td>nan        </td> <td>nan                                                         </td>\n",
       "        </tr>\n",
       "        <tr>\n",
       "            <td>nan                                                      </td> <td>nan                                                         </td> <td>nan                  </td> <td>nan                                </td> <td>nan                    </td> <td>nan                 </td> <td>nan                  </td> <td>nan                            </td> <td>nan                                                         </td> <td>nan         </td> <td>nan        </td> <td>nan        </td> <td>nan        </td> <td>nan                                                         </td> <td>nan                                                         </td> <td>nan   </td> <td>nan   </td> <td>nan       </td> <td>nan                 </td> <td>nan                                                         </td> <td>nan                                                         </td> <td>nan                                                         </td> <td>nan  </td> <td>nan                                                         </td> <td>nan                  </td> <td>nan        </td> <td>nan  </td> <td>nan        </td> <td>nan         </td> <td>nan                  </td> <td>nan        </td> <td>nan        </td> <td>nan        </td> <td>nan        </td> <td>nan                                                         </td>\n",
       "        </tr>\n",
       "        <tr>\n",
       "            <td>nan                                                      </td> <td>nan                                                         </td> <td>nan                  </td> <td>nan                                </td> <td>nan                    </td> <td>nan                 </td> <td>nan                  </td> <td>nan                            </td> <td>nan                                                         </td> <td>nan         </td> <td>nan        </td> <td>nan        </td> <td>nan        </td> <td>nan                                                         </td> <td>nan                                                         </td> <td>nan   </td> <td>nan   </td> <td>nan       </td> <td>nan                 </td> <td>nan                                                         </td> <td>nan                                                         </td> <td>nan                                                         </td> <td>nan  </td> <td>nan                                                         </td> <td>nan                  </td> <td>nan        </td> <td>nan  </td> <td>nan        </td> <td>nan         </td> <td>nan                  </td> <td>nan        </td> <td>nan        </td> <td>nan        </td> <td>nan        </td> <td>nan                                                         </td>\n",
       "        </tr>\n",
       "        <tr>\n",
       "            <td>nan                                                      </td> <td>nan                                                         </td> <td>nan                  </td> <td>nan                                </td> <td>nan                    </td> <td>nan                 </td> <td>nan                  </td> <td>nan                            </td> <td>nan                                                         </td> <td>nan         </td> <td>nan        </td> <td>nan        </td> <td>nan        </td> <td>nan                                                         </td> <td>nan                                                         </td> <td>nan   </td> <td>nan   </td> <td>nan       </td> <td>nan                 </td> <td>nan                                                         </td> <td>nan                                                         </td> <td>nan                                                         </td> <td>nan  </td> <td>nan                                                         </td> <td>nan                  </td> <td>nan        </td> <td>nan  </td> <td>nan        </td> <td>nan         </td> <td>nan                  </td> <td>nan        </td> <td>nan        </td> <td>nan        </td> <td>nan        </td> <td>nan                                                         </td>\n",
       "        </tr>\n",
       "        <tr>\n",
       "            <td>nan                                                      </td> <td>nan                                                         </td> <td>nan                  </td> <td>nan                                </td> <td>nan                    </td> <td>nan                 </td> <td>nan                  </td> <td>nan                            </td> <td>nan                                                         </td> <td>nan         </td> <td>nan        </td> <td>nan        </td> <td>nan        </td> <td>nan                                                         </td> <td>nan                                                         </td> <td>nan   </td> <td>nan   </td> <td>nan       </td> <td>nan                 </td> <td>nan                                                         </td> <td>nan                                                         </td> <td>nan                                                         </td> <td>nan  </td> <td>nan                                                         </td> <td>nan                  </td> <td>nan        </td> <td>nan  </td> <td>nan        </td> <td>nan         </td> <td>nan                  </td> <td>nan        </td> <td>nan        </td> <td>nan        </td> <td>nan        </td> <td>nan                                                         </td>\n",
       "        </tr>\n",
       "        <tr>\n",
       "            <td>nan                                                      </td> <td>nan                                                         </td> <td>nan                  </td> <td>nan                                </td> <td>nan                    </td> <td>nan                 </td> <td>nan                  </td> <td>nan                            </td> <td>nan                                                         </td> <td>nan         </td> <td>nan        </td> <td>nan        </td> <td>nan        </td> <td>nan                                                         </td> <td>nan                                                         </td> <td>nan   </td> <td>nan   </td> <td>nan       </td> <td>nan                 </td> <td>nan                                                         </td> <td>nan                                                         </td> <td>nan                                                         </td> <td>nan  </td> <td>nan                                                         </td> <td>nan                  </td> <td>nan        </td> <td>nan  </td> <td>nan        </td> <td>nan         </td> <td>nan                  </td> <td>nan        </td> <td>nan        </td> <td>nan        </td> <td>nan        </td> <td>nan                                                         </td>\n",
       "        </tr>\n",
       "        <tr>\n",
       "            <td>nan                                                      </td> <td>nan                                                         </td> <td>nan                  </td> <td>nan                                </td> <td>nan                    </td> <td>nan                 </td> <td>nan                  </td> <td>nan                            </td> <td>nan                                                         </td> <td>nan         </td> <td>nan        </td> <td>nan        </td> <td>nan        </td> <td>nan                                                         </td> <td>nan                                                         </td> <td>nan   </td> <td>nan   </td> <td>nan       </td> <td>nan                 </td> <td>nan                                                         </td> <td>nan                                                         </td> <td>nan                                                         </td> <td>nan  </td> <td>nan                                                         </td> <td>nan                  </td> <td>nan        </td> <td>nan  </td> <td>nan        </td> <td>nan         </td> <td>nan                  </td> <td>nan        </td> <td>nan        </td> <td>nan        </td> <td>nan        </td> <td>nan                                                         </td>\n",
       "        </tr>\n",
       "        <tr>\n",
       "            <td>nan                                                      </td> <td>nan                                                         </td> <td>nan                  </td> <td>nan                                </td> <td>nan                    </td> <td>nan                 </td> <td>nan                  </td> <td>nan                            </td> <td>nan                                                         </td> <td>nan         </td> <td>nan        </td> <td>nan        </td> <td>nan        </td> <td>nan                                                         </td> <td>nan                                                         </td> <td>nan   </td> <td>nan   </td> <td>nan       </td> <td>nan                 </td> <td>nan                                                         </td> <td>nan                                                         </td> <td>nan                                                         </td> <td>nan  </td> <td>nan                                                         </td> <td>nan                  </td> <td>nan        </td> <td>nan  </td> <td>nan        </td> <td>nan         </td> <td>nan                  </td> <td>nan        </td> <td>nan        </td> <td>nan        </td> <td>nan        </td> <td>nan                                                         </td>\n",
       "        </tr>\n",
       "        <tr>\n",
       "            <td>List of hybridomas scaled-up, purified, and characterized</td> <td>nan                                                         </td> <td>nan                  </td> <td>nan                                </td> <td>nan                    </td> <td>nan                 </td> <td>nan                  </td> <td>nan                            </td> <td>nan                                                         </td> <td>nan         </td> <td>nan        </td> <td>nan        </td> <td>nan        </td> <td>nan                                                         </td> <td>nan                                                         </td> <td>nan   </td> <td>nan   </td> <td>nan       </td> <td>nan                 </td> <td>nan                                                         </td> <td>nan                                                         </td> <td>nan                                                         </td> <td>nan  </td> <td>nan                                                         </td> <td>nan                  </td> <td>nan        </td> <td>nan  </td> <td>nan        </td> <td>nan         </td> <td>nan                  </td> <td>nan        </td> <td>nan        </td> <td>nan        </td> <td>nan        </td> <td>nan                                                         </td>\n",
       "        </tr>\n",
       "        <tr>\n",
       "            <td>Top 12 hits to subclone                                  </td> <td>Hybridoma ID                                                </td> <td>Scaleup RLU:         </td> <td>Poly/Nonspecific binding to BVP?   </td> <td>CDR3_HC sequence:      </td> <td>CDR3_LC sequence:   </td> <td>Z^2 Liability score: </td> <td>Isotype:                       </td> <td>EC50 (nM):                                                  </td> <td>IC50 (nM):  </td> <td>nan        </td> <td>nan        </td> <td>nan        </td> <td>nan                                                         </td> <td>nan                                                         </td> <td>nan   </td> <td>nan   </td> <td>nan       </td> <td>nan                 </td> <td>nan                                                         </td> <td>nan                                                         </td> <td>nan                                                         </td> <td>nan  </td> <td>nan                                                         </td> <td>nan                  </td> <td>nan        </td> <td>nan  </td> <td>nan        </td> <td>nan         </td> <td>nan                  </td> <td>nan        </td> <td>nan        </td> <td>nan        </td> <td>nan        </td> <td>nan                                                         </td>\n",
       "        </tr>\n",
       "        <tr>\n",
       "            <td>Top hit #1                                               </td> <td>2-O1                                                        </td> <td>260162               </td> <td>Yes                                </td> <td>aaaa                   </td> <td>aaaa                </td> <td>3                    </td> <td>mIGG2B mKAPPA                  </td> <td>3.3                                                         </td> <td>## / ## / ##</td> <td>nan        </td> <td>nan        </td> <td>nan        </td> <td>nan                                                         </td> <td>nan                                                         </td> <td>nan   </td> <td>nan   </td> <td>nan       </td> <td>nan                 </td> <td>nan                                                         </td> <td>nan                                                         </td> <td>nan                                                         </td> <td>nan  </td> <td>nan                                                         </td> <td>nan                  </td> <td>nan        </td> <td>nan  </td> <td>nan        </td> <td>nan         </td> <td>nan                  </td> <td>nan        </td> <td>nan        </td> <td>nan        </td> <td>nan        </td> <td>nan                                                         </td>\n",
       "        </tr>\n",
       "        <tr>\n",
       "            <td>Top hit #2                                               </td> <td>3-D11                                                       </td> <td>437036               </td> <td>No                                 </td> <td>aaaa                   </td> <td>aaaa                </td> <td>3                    </td> <td>mIGG2B mKAPPA                  </td> <td>2.7                                                         </td> <td>## / ## / ##</td> <td>nan        </td> <td>nan        </td> <td>nan        </td> <td>nan                                                         </td> <td>nan                                                         </td> <td>nan   </td> <td>nan   </td> <td>nan       </td> <td>nan                 </td> <td>nan                                                         </td> <td>nan                                                         </td> <td>nan                                                         </td> <td>nan  </td> <td>nan                                                         </td> <td>nan                  </td> <td>nan        </td> <td>nan  </td> <td>nan        </td> <td>nan         </td> <td>nan                  </td> <td>nan        </td> <td>nan        </td> <td>nan        </td> <td>nan        </td> <td>nan                                                         </td>\n",
       "        </tr>\n",
       "        <tr>\n",
       "            <td>Top hit #3                                               </td> <td>3-O21                                                       </td> <td>374001               </td> <td>No                                 </td> <td>aaaa                   </td> <td>aaaa                </td> <td>1                    </td> <td>mIGG2B mKAPPA                  </td> <td>2.4                                                         </td> <td>## / ## / ##</td> <td>nan        </td> <td>nan        </td> <td>nan        </td> <td>nan                                                         </td> <td>nan                                                         </td> <td>nan   </td> <td>nan   </td> <td>nan       </td> <td>nan                 </td> <td>nan                                                         </td> <td>nan                                                         </td> <td>nan                                                         </td> <td>nan  </td> <td>nan                                                         </td> <td>nan                  </td> <td>nan        </td> <td>nan  </td> <td>nan        </td> <td>nan         </td> <td>nan                  </td> <td>nan        </td> <td>nan        </td> <td>nan        </td> <td>nan        </td> <td>nan                                                         </td>\n",
       "        </tr>\n",
       "        <tr>\n",
       "            <td>Top hit #4                                               </td> <td>4-A16                                                       </td> <td>796688               </td> <td>No                                 </td> <td>aaaa                   </td> <td>aaaa                </td> <td>1                    </td> <td>mIGG2B mKAPPA                  </td> <td>1.3                                                         </td> <td>## / ## / ##</td> <td>nan        </td> <td>nan        </td> <td>nan        </td> <td>nan                                                         </td> <td>nan                                                         </td> <td>nan   </td> <td>nan   </td> <td>nan       </td> <td>nan                 </td> <td>nan                                                         </td> <td>nan                                                         </td> <td>nan                                                         </td> <td>nan  </td> <td>nan                                                         </td> <td>nan                  </td> <td>nan        </td> <td>nan  </td> <td>nan        </td> <td>nan         </td> <td>nan                  </td> <td>nan        </td> <td>nan        </td> <td>nan        </td> <td>nan        </td> <td>nan                                                         </td>\n",
       "        </tr>\n",
       "        <tr>\n",
       "            <td>Top hit #5                                               </td> <td>4-N1                                                        </td> <td>136818               </td> <td>No                                 </td> <td>aaaa                   </td> <td>aaaa                </td> <td>3                    </td> <td>mIGG1 mKAPPA                   </td> <td>1.5                                                         </td> <td>## / ## / ##</td> <td>nan        </td> <td>nan        </td> <td>nan        </td> <td>nan                                                         </td> <td>nan                                                         </td> <td>nan   </td> <td>nan   </td> <td>nan       </td> <td>nan                 </td> <td>nan                                                         </td> <td>nan                                                         </td> <td>nan                                                         </td> <td>nan  </td> <td>nan                                                         </td> <td>nan                  </td> <td>nan        </td> <td>nan  </td> <td>nan        </td> <td>nan         </td> <td>nan                  </td> <td>nan        </td> <td>nan        </td> <td>nan        </td> <td>nan        </td> <td>nan                                                         </td>\n",
       "        </tr>\n",
       "        <tr>\n",
       "            <td>Top hit #6                                               </td> <td>5-I19                                                       </td> <td>518083               </td> <td>No                                 </td> <td>aaaa                   </td> <td>aaaa                </td> <td>4                    </td> <td>mIGG2B mKAPPA                  </td> <td>2.4                                                         </td> <td>## / ## / ##</td> <td>nan        </td> <td>nan        </td> <td>nan        </td> <td>nan                                                         </td> <td>nan                                                         </td> <td>nan   </td> <td>nan   </td> <td>nan       </td> <td>nan                 </td> <td>nan                                                         </td> <td>nan                                                         </td> <td>nan                                                         </td> <td>nan  </td> <td>nan                                                         </td> <td>nan                  </td> <td>nan        </td> <td>nan  </td> <td>nan        </td> <td>nan         </td> <td>nan                  </td> <td>nan        </td> <td>nan        </td> <td>nan        </td> <td>nan        </td> <td>nan                                                         </td>\n",
       "        </tr>\n",
       "        <tr>\n",
       "            <td>Top hit #7                                               </td> <td>5-L22                                                       </td> <td>131954               </td> <td>No                                 </td> <td>aaaa                   </td> <td>aaaa                </td> <td>4                    </td> <td>mIGM mKAPPA                    </td> <td>49.8                                                        </td> <td>## / ## / ##</td> <td>nan        </td> <td>nan        </td> <td>nan        </td> <td>nan                                                         </td> <td>nan                                                         </td> <td>nan   </td> <td>nan   </td> <td>nan       </td> <td>nan                 </td> <td>nan                                                         </td> <td>nan                                                         </td> <td>nan                                                         </td> <td>nan  </td> <td>nan                                                         </td> <td>nan                  </td> <td>nan        </td> <td>nan  </td> <td>nan        </td> <td>nan         </td> <td>nan                  </td> <td>nan        </td> <td>nan        </td> <td>nan        </td> <td>nan        </td> <td>nan                                                         </td>\n",
       "        </tr>\n",
       "        <tr>\n",
       "            <td>Top hit #8                                               </td> <td>5-L6                                                        </td> <td>968153               </td> <td>No                                 </td> <td>aaaa                   </td> <td>aaaa                </td> <td>3                    </td> <td>mIgG2b mKAPPA                  </td> <td>1.2                                                         </td> <td>## / ## / ##</td> <td>nan        </td> <td>nan        </td> <td>nan        </td> <td>nan                                                         </td> <td>nan                                                         </td> <td>nan   </td> <td>nan   </td> <td>nan       </td> <td>nan                 </td> <td>nan                                                         </td> <td>nan                                                         </td> <td>nan                                                         </td> <td>nan  </td> <td>nan                                                         </td> <td>nan                  </td> <td>nan        </td> <td>nan  </td> <td>nan        </td> <td>nan         </td> <td>nan                  </td> <td>nan        </td> <td>nan        </td> <td>nan        </td> <td>nan        </td> <td>nan                                                         </td>\n",
       "        </tr>\n",
       "        <tr>\n",
       "            <td>Top hit #9                                               </td> <td>7-E1                                                        </td> <td>551060               </td> <td>No                                 </td> <td>aaaa                   </td> <td>aaaa                </td> <td>5                    </td> <td>mIGG2B mLAMBDA                 </td> <td>2.2                                                         </td> <td>## / ## / ##</td> <td>nan        </td> <td>nan        </td> <td>nan        </td> <td>nan                                                         </td> <td>nan                                                         </td> <td>nan   </td> <td>nan   </td> <td>nan       </td> <td>nan                 </td> <td>nan                                                         </td> <td>nan                                                         </td> <td>nan                                                         </td> <td>nan  </td> <td>nan                                                         </td> <td>nan                  </td> <td>nan        </td> <td>nan  </td> <td>nan        </td> <td>nan         </td> <td>nan                  </td> <td>nan        </td> <td>nan        </td> <td>nan        </td> <td>nan        </td> <td>nan                                                         </td>\n",
       "        </tr>\n",
       "        <tr>\n",
       "            <td>Top hit #10                                              </td> <td>7-P21                                                       </td> <td>242905               </td> <td>No                                 </td> <td>aaaa                   </td> <td>aaaa                </td> <td>4                    </td> <td>mIGG1 mKAPPA                   </td> <td>0.9                                                         </td> <td>## / ## / ##</td> <td>nan        </td> <td>nan        </td> <td>nan        </td> <td>nan                                                         </td> <td>nan                                                         </td> <td>nan   </td> <td>nan   </td> <td>nan       </td> <td>nan                 </td> <td>nan                                                         </td> <td>nan                                                         </td> <td>nan                                                         </td> <td>nan  </td> <td>nan                                                         </td> <td>nan                  </td> <td>nan        </td> <td>nan  </td> <td>nan        </td> <td>nan         </td> <td>nan                  </td> <td>nan        </td> <td>nan        </td> <td>nan        </td> <td>nan        </td> <td>nan                                                         </td>\n",
       "        </tr>\n",
       "        <tr>\n",
       "            <td>Top hit #11                                              </td> <td>8-E6                                                        </td> <td>417700               </td> <td>No                                 </td> <td>aaaa                   </td> <td>aaaa                </td> <td>2                    </td> <td>mIGG1 mKAPPA                   </td> <td>0.6                                                         </td> <td>## / ## / ##</td> <td>nan        </td> <td>nan        </td> <td>nan        </td> <td>nan                                                         </td> <td>nan                                                         </td> <td>nan   </td> <td>nan   </td> <td>nan       </td> <td>nan                 </td> <td>nan                                                         </td> <td>nan                                                         </td> <td>nan                                                         </td> <td>nan  </td> <td>nan                                                         </td> <td>nan                  </td> <td>nan        </td> <td>nan  </td> <td>nan        </td> <td>nan         </td> <td>nan                  </td> <td>nan        </td> <td>nan        </td> <td>nan        </td> <td>nan        </td> <td>nan                                                         </td>\n",
       "        </tr>\n",
       "        <tr>\n",
       "            <td>Top hit #12                                              </td> <td>9-B7                                                        </td> <td>260473               </td> <td>No                                 </td> <td>aaaa                   </td> <td>aaaa                </td> <td>2                    </td> <td>mIGG2C mKAPPA                  </td> <td>1.1                                                         </td> <td>## / ## / ##</td> <td>nan        </td> <td>nan        </td> <td>nan        </td> <td>nan                                                         </td> <td>nan                                                         </td> <td>nan   </td> <td>nan   </td> <td>nan       </td> <td>nan                 </td> <td>nan                                                         </td> <td>nan                                                         </td> <td>nan                                                         </td> <td>nan  </td> <td>nan                                                         </td> <td>nan                  </td> <td>nan        </td> <td>nan  </td> <td>nan        </td> <td>nan         </td> <td>nan                  </td> <td>nan        </td> <td>nan        </td> <td>nan        </td> <td>nan        </td> <td>nan                                                         </td>\n",
       "        </tr>\n",
       "        <tr>\n",
       "            <td>Top hit #13                                              </td> <td>Top hit #13                                                 </td> <td>260474               </td> <td>No                                 </td> <td>aaaa                   </td> <td>aaaa                </td> <td>3                    </td> <td>mIGG2C mKAPPA                  </td> <td>2.1                                                         </td> <td>## / ## / ##</td> <td>nan        </td> <td>nan        </td> <td>nan        </td> <td>nan                                                         </td> <td>nan                                                         </td> <td>nan   </td> <td>nan   </td> <td>nan       </td> <td>nan                 </td> <td>nan                                                         </td> <td>nan                                                         </td> <td>nan                                                         </td> <td>nan  </td> <td>nan                                                         </td> <td>nan                  </td> <td>nan        </td> <td>nan  </td> <td>nan        </td> <td>nan         </td> <td>nan                  </td> <td>nan        </td> <td>nan        </td> <td>nan        </td> <td>nan        </td> <td>nan                                                         </td>\n",
       "        </tr>\n",
       "        <tr>\n",
       "            <td>Top hit #14                                              </td> <td>Top hit #14                                                 </td> <td>260475               </td> <td>No                                 </td> <td>aaaa                   </td> <td>aaaa                </td> <td>4                    </td> <td>mIGG2C mKAPPA                  </td> <td>3.1                                                         </td> <td>## / ## / ##</td> <td>nan        </td> <td>nan        </td> <td>nan        </td> <td>nan                                                         </td> <td>nan                                                         </td> <td>nan   </td> <td>nan   </td> <td>nan       </td> <td>nan                 </td> <td>nan                                                         </td> <td>nan                                                         </td> <td>nan                                                         </td> <td>nan  </td> <td>nan                                                         </td> <td>nan                  </td> <td>nan        </td> <td>nan  </td> <td>nan        </td> <td>nan         </td> <td>nan                  </td> <td>nan        </td> <td>nan        </td> <td>nan        </td> <td>nan        </td> <td>nan                                                         </td>\n",
       "        </tr>\n",
       "        <tr>\n",
       "            <td>Top hit #15                                              </td> <td>Top hit #15                                                 </td> <td>260476               </td> <td>No                                 </td> <td>aaaa                   </td> <td>aaaa                </td> <td>5                    </td> <td>mIGG2C mKAPPA                  </td> <td>4.1                                                         </td> <td>## / ## / ##</td> <td>nan        </td> <td>nan        </td> <td>nan        </td> <td>nan                                                         </td> <td>nan                                                         </td> <td>nan   </td> <td>nan   </td> <td>nan       </td> <td>nan                 </td> <td>nan                                                         </td> <td>nan                                                         </td> <td>nan                                                         </td> <td>nan  </td> <td>nan                                                         </td> <td>nan                  </td> <td>nan        </td> <td>nan  </td> <td>nan        </td> <td>nan         </td> <td>nan                  </td> <td>nan        </td> <td>nan        </td> <td>nan        </td> <td>nan        </td> <td>nan                                                         </td>\n",
       "        </tr>\n",
       "        <tr>\n",
       "            <td>Top hit #16                                              </td> <td>Top hit #16                                                 </td> <td>260477               </td> <td>No                                 </td> <td>aaaa                   </td> <td>aaaa                </td> <td>6                    </td> <td>mIGG2C mKAPPA                  </td> <td>5.1                                                         </td> <td>## / ## / ##</td> <td>nan        </td> <td>nan        </td> <td>nan        </td> <td>nan                                                         </td> <td>nan                                                         </td> <td>nan   </td> <td>nan   </td> <td>nan       </td> <td>nan                 </td> <td>nan                                                         </td> <td>nan                                                         </td> <td>nan                                                         </td> <td>nan  </td> <td>nan                                                         </td> <td>nan                  </td> <td>nan        </td> <td>nan  </td> <td>nan        </td> <td>nan         </td> <td>nan                  </td> <td>nan        </td> <td>nan        </td> <td>nan        </td> <td>nan        </td> <td>nan                                                         </td>\n",
       "        </tr>\n",
       "        <tr>\n",
       "            <td>Top hit #17                                              </td> <td>Top hit #17                                                 </td> <td>260478               </td> <td>No                                 </td> <td>aaaa                   </td> <td>aaaa                </td> <td>7                    </td> <td>mIGG2C mKAPPA                  </td> <td>6.1                                                         </td> <td>## / ## / ##</td> <td>nan        </td> <td>nan        </td> <td>nan        </td> <td>nan                                                         </td> <td>nan                                                         </td> <td>nan   </td> <td>nan   </td> <td>nan       </td> <td>nan                 </td> <td>nan                                                         </td> <td>nan                                                         </td> <td>nan                                                         </td> <td>nan  </td> <td>nan                                                         </td> <td>nan                  </td> <td>nan        </td> <td>nan  </td> <td>nan        </td> <td>nan         </td> <td>nan                  </td> <td>nan        </td> <td>nan        </td> <td>nan        </td> <td>nan        </td> <td>nan                                                         </td>\n",
       "        </tr>\n",
       "        <tr>\n",
       "            <td>Top hit #18                                              </td> <td>Top hit #18                                                 </td> <td>260479               </td> <td>No                                 </td> <td>aaaa                   </td> <td>aaaa                </td> <td>8                    </td> <td>mIGG2C mKAPPA                  </td> <td>7.1                                                         </td> <td>## / ## / ##</td> <td>nan        </td> <td>nan        </td> <td>nan        </td> <td>nan                                                         </td> <td>nan                                                         </td> <td>nan   </td> <td>nan   </td> <td>nan       </td> <td>nan                 </td> <td>nan                                                         </td> <td>nan                                                         </td> <td>nan                                                         </td> <td>nan  </td> <td>nan                                                         </td> <td>nan                  </td> <td>nan        </td> <td>nan  </td> <td>nan        </td> <td>nan         </td> <td>nan                  </td> <td>nan        </td> <td>nan        </td> <td>nan        </td> <td>nan        </td> <td>nan                                                         </td>\n",
       "        </tr>\n",
       "        <tr>\n",
       "            <td>Top hit #19                                              </td> <td>Top hit #19                                                 </td> <td>260480               </td> <td>No                                 </td> <td>aaaa                   </td> <td>aaaa                </td> <td>9                    </td> <td>mIGG2C mKAPPA                  </td> <td>8.1                                                         </td> <td>## / ## / ##</td> <td>nan        </td> <td>nan        </td> <td>nan        </td> <td>nan                                                         </td> <td>nan                                                         </td> <td>nan   </td> <td>nan   </td> <td>nan       </td> <td>nan                 </td> <td>nan                                                         </td> <td>nan                                                         </td> <td>nan                                                         </td> <td>nan  </td> <td>nan                                                         </td> <td>nan                  </td> <td>nan        </td> <td>nan  </td> <td>nan        </td> <td>nan         </td> <td>nan                  </td> <td>nan        </td> <td>nan        </td> <td>nan        </td> <td>nan        </td> <td>nan                                                         </td>\n",
       "        </tr>\n",
       "        <tr>\n",
       "            <td>Top hit #20                                              </td> <td>Top hit #20                                                 </td> <td>260481               </td> <td>No                                 </td> <td>aaaa                   </td> <td>aaaa                </td> <td>10                   </td> <td>mIGG2C mKAPPA                  </td> <td>9.1                                                         </td> <td>## / ## / ##</td> <td>nan        </td> <td>nan        </td> <td>nan        </td> <td>nan                                                         </td> <td>nan                                                         </td> <td>nan   </td> <td>nan   </td> <td>nan       </td> <td>nan                 </td> <td>nan                                                         </td> <td>nan                                                         </td> <td>nan                                                         </td> <td>nan  </td> <td>nan                                                         </td> <td>nan                  </td> <td>nan        </td> <td>nan  </td> <td>nan        </td> <td>nan         </td> <td>nan                  </td> <td>nan        </td> <td>nan        </td> <td>nan        </td> <td>nan        </td> <td>nan                                                         </td>\n",
       "        </tr>\n",
       "        <tr>\n",
       "            <td>Top hit #21                                              </td> <td>Top hit #21                                                 </td> <td>260482               </td> <td>No                                 </td> <td>aaaa                   </td> <td>aaaa                </td> <td>11                   </td> <td>mIGG2C mKAPPA                  </td> <td>10.1                                                        </td> <td>## / ## / ##</td> <td>nan        </td> <td>nan        </td> <td>nan        </td> <td>nan                                                         </td> <td>nan                                                         </td> <td>nan   </td> <td>nan   </td> <td>nan       </td> <td>nan                 </td> <td>nan                                                         </td> <td>nan                                                         </td> <td>nan                                                         </td> <td>nan  </td> <td>nan                                                         </td> <td>nan                  </td> <td>nan        </td> <td>nan  </td> <td>nan        </td> <td>nan         </td> <td>nan                  </td> <td>nan        </td> <td>nan        </td> <td>nan        </td> <td>nan        </td> <td>nan                                                         </td>\n",
       "        </tr>\n",
       "        <tr>\n",
       "            <td>Top hit #22                                              </td> <td>Top hit #22                                                 </td> <td>260483               </td> <td>No                                 </td> <td>aaaa                   </td> <td>aaaa                </td> <td>12                   </td> <td>mIGG2C mKAPPA                  </td> <td>11.1                                                        </td> <td>## / ## / ##</td> <td>nan        </td> <td>nan        </td> <td>nan        </td> <td>nan                                                         </td> <td>nan                                                         </td> <td>nan   </td> <td>nan   </td> <td>nan       </td> <td>nan                 </td> <td>nan                                                         </td> <td>nan                                                         </td> <td>nan                                                         </td> <td>nan  </td> <td>nan                                                         </td> <td>nan                  </td> <td>nan        </td> <td>nan  </td> <td>nan        </td> <td>nan         </td> <td>nan                  </td> <td>nan        </td> <td>nan        </td> <td>nan        </td> <td>nan        </td> <td>nan                                                         </td>\n",
       "        </tr>\n",
       "        <tr>\n",
       "            <td>Top hit #23                                              </td> <td>Top hit #23                                                 </td> <td>260484               </td> <td>No                                 </td> <td>aaaa                   </td> <td>aaaa                </td> <td>13                   </td> <td>mIGG2C mKAPPA                  </td> <td>12.1                                                        </td> <td>## / ## / ##</td> <td>nan        </td> <td>nan        </td> <td>nan        </td> <td>nan                                                         </td> <td>nan                                                         </td> <td>nan   </td> <td>nan   </td> <td>nan       </td> <td>nan                 </td> <td>nan                                                         </td> <td>nan                                                         </td> <td>nan                                                         </td> <td>nan  </td> <td>nan                                                         </td> <td>nan                  </td> <td>nan        </td> <td>nan  </td> <td>nan        </td> <td>nan         </td> <td>nan                  </td> <td>nan        </td> <td>nan        </td> <td>nan        </td> <td>nan        </td> <td>nan                                                         </td>\n",
       "        </tr>\n",
       "        <tr>\n",
       "            <td>Top hit #24                                              </td> <td>Top hit #24                                                 </td> <td>260485               </td> <td>No                                 </td> <td>aaaa                   </td> <td>aaaa                </td> <td>14                   </td> <td>mIGG2C mKAPPA                  </td> <td>13.1                                                        </td> <td>## / ## / ##</td> <td>nan        </td> <td>nan        </td> <td>nan        </td> <td>nan                                                         </td> <td>nan                                                         </td> <td>nan   </td> <td>nan   </td> <td>nan       </td> <td>nan                 </td> <td>nan                                                         </td> <td>nan                                                         </td> <td>nan                                                         </td> <td>nan  </td> <td>nan                                                         </td> <td>nan                  </td> <td>nan        </td> <td>nan  </td> <td>nan        </td> <td>nan         </td> <td>nan                  </td> <td>nan        </td> <td>nan        </td> <td>nan        </td> <td>nan        </td> <td>nan                                                         </td>\n",
       "        </tr>\n",
       "        <tr>\n",
       "            <td>nan                                                      </td> <td>nan                                                         </td> <td>nan                  </td> <td>nan                                </td> <td>nan                    </td> <td>nan                 </td> <td>nan                  </td> <td>nan                            </td> <td>nan                                                         </td> <td>nan         </td> <td>nan        </td> <td>nan        </td> <td>nan        </td> <td>nan                                                         </td> <td>nan                                                         </td> <td>nan   </td> <td>nan   </td> <td>nan       </td> <td>nan                 </td> <td>nan                                                         </td> <td>nan                                                         </td> <td>nan                                                         </td> <td>nan  </td> <td>nan                                                         </td> <td>nan                  </td> <td>nan        </td> <td>nan  </td> <td>nan        </td> <td>nan         </td> <td>nan                  </td> <td>nan        </td> <td>nan        </td> <td>nan        </td> <td>nan        </td> <td>nan                                                         </td>\n",
       "        </tr>\n",
       "        <tr>\n",
       "            <td>nan                                                      </td> <td>nan                                                         </td> <td>nan                  </td> <td>nan                                </td> <td>nan                    </td> <td>nan                 </td> <td>nan                  </td> <td>nan                            </td> <td>nan                                                         </td> <td>nan         </td> <td>nan        </td> <td>nan        </td> <td>nan        </td> <td>nan                                                         </td> <td>nan                                                         </td> <td>nan   </td> <td>nan   </td> <td>nan       </td> <td>nan                 </td> <td>nan                                                         </td> <td>nan                                                         </td> <td>nan                                                         </td> <td>nan  </td> <td>nan                                                         </td> <td>nan                  </td> <td>nan        </td> <td>nan  </td> <td>nan        </td> <td>nan         </td> <td>nan                  </td> <td>nan        </td> <td>nan        </td> <td>nan        </td> <td>nan        </td> <td>nan                                                         </td>\n",
       "        </tr>\n",
       "        <tr>\n",
       "            <td>nan                                                      </td> <td>nan                                                         </td> <td>nan                  </td> <td>nan                                </td> <td>nan                    </td> <td>nan                 </td> <td>nan                  </td> <td>nan                            </td> <td>nan                                                         </td> <td>nan         </td> <td>nan        </td> <td>nan        </td> <td>nan        </td> <td>nan                                                         </td> <td>nan                                                         </td> <td>nan   </td> <td>nan   </td> <td>nan       </td> <td>nan                 </td> <td>nan                                                         </td> <td>nan                                                         </td> <td>nan                                                         </td> <td>nan  </td> <td>nan                                                         </td> <td>nan                  </td> <td>nan        </td> <td>nan  </td> <td>nan        </td> <td>nan         </td> <td>nan                  </td> <td>nan        </td> <td>nan        </td> <td>nan        </td> <td>nan        </td> <td>nan                                                         </td>\n",
       "        </tr>\n",
       "        <tr>\n",
       "            <td>BVP RLU                                                  </td> <td>nan                                                         </td> <td>nan                  </td> <td>nan                                </td> <td>nan                    </td> <td>nan                 </td> <td>nan                  </td> <td>nan                            </td> <td>nan                                                         </td> <td>nan         </td> <td>nan        </td> <td>nan        </td> <td>nan        </td> <td>nan                                                         </td> <td>nan                                                         </td> <td>nan   </td> <td>nan   </td> <td>nan       </td> <td>nan                 </td> <td>nan                                                         </td> <td>nan                                                         </td> <td>nan                                                         </td> <td>nan  </td> <td>nan                                                         </td> <td>nan                  </td> <td>nan        </td> <td>nan  </td> <td>nan        </td> <td>nan         </td> <td>nan                  </td> <td>nan        </td> <td>nan        </td> <td>nan        </td> <td>nan        </td> <td>nan                                                         </td>\n",
       "        </tr>\n",
       "        <tr>\n",
       "            <td>Top 12 hits to subclone                                  </td> <td>Hybridoma ID                                                </td> <td>Clone A or B or Poly?</td> <td>BVP RLU:                           </td> <td>nan                    </td> <td>nan                 </td> <td>nan                  </td> <td>nan                            </td> <td>nan                                                         </td> <td>nan         </td> <td>nan        </td> <td>nan        </td> <td>nan        </td> <td>nan                                                         </td> <td>nan                                                         </td> <td>nan   </td> <td>nan   </td> <td>nan       </td> <td>nan                 </td> <td>nan                                                         </td> <td>nan                                                         </td> <td>nan                                                         </td> <td>nan  </td> <td>nan                                                         </td> <td>nan                  </td> <td>nan        </td> <td>nan  </td> <td>nan        </td> <td>nan         </td> <td>nan                  </td> <td>nan        </td> <td>nan        </td> <td>nan        </td> <td>nan        </td> <td>nan                                                         </td>\n",
       "        </tr>\n",
       "        <tr>\n",
       "            <td>Top hit #1                                               </td> <td>2-O1                                                        </td> <td>A                    </td> <td>######                             </td> <td>nan                    </td> <td>nan                 </td> <td>nan                  </td> <td>nan                            </td> <td>nan                                                         </td> <td>nan         </td> <td>nan        </td> <td>nan        </td> <td>nan        </td> <td>nan                                                         </td> <td>nan                                                         </td> <td>nan   </td> <td>nan   </td> <td>nan       </td> <td>nan                 </td> <td>nan                                                         </td> <td>nan                                                         </td> <td>nan                                                         </td> <td>nan  </td> <td>nan                                                         </td> <td>nan                  </td> <td>nan        </td> <td>nan  </td> <td>nan        </td> <td>nan         </td> <td>nan                  </td> <td>nan        </td> <td>nan        </td> <td>nan        </td> <td>nan        </td> <td>nan                                                         </td>\n",
       "        </tr>\n",
       "        <tr>\n",
       "            <td>Top hit #2                                               </td> <td>3-D11                                                       </td> <td>A                    </td> <td>###                                </td> <td>nan                    </td> <td>nan                 </td> <td>nan                  </td> <td>nan                            </td> <td>nan                                                         </td> <td>nan         </td> <td>nan        </td> <td>nan        </td> <td>nan        </td> <td>nan                                                         </td> <td>nan                                                         </td> <td>nan   </td> <td>nan   </td> <td>nan       </td> <td>nan                 </td> <td>nan                                                         </td> <td>nan                                                         </td> <td>nan                                                         </td> <td>nan  </td> <td>nan                                                         </td> <td>nan                  </td> <td>nan        </td> <td>nan  </td> <td>nan        </td> <td>nan         </td> <td>nan                  </td> <td>nan        </td> <td>nan        </td> <td>nan        </td> <td>nan        </td> <td>nan                                                         </td>\n",
       "        </tr>\n",
       "        <tr>\n",
       "            <td>Top hit #3                                               </td> <td>3-O21                                                       </td> <td>A                    </td> <td>###                                </td> <td>nan                    </td> <td>nan                 </td> <td>nan                  </td> <td>nan                            </td> <td>nan                                                         </td> <td>nan         </td> <td>nan        </td> <td>nan        </td> <td>nan        </td> <td>nan                                                         </td> <td>nan                                                         </td> <td>nan   </td> <td>nan   </td> <td>nan       </td> <td>nan                 </td> <td>nan                                                         </td> <td>nan                                                         </td> <td>nan                                                         </td> <td>nan  </td> <td>nan                                                         </td> <td>nan                  </td> <td>nan        </td> <td>nan  </td> <td>nan        </td> <td>nan         </td> <td>nan                  </td> <td>nan        </td> <td>nan        </td> <td>nan        </td> <td>nan        </td> <td>nan                                                         </td>\n",
       "        </tr>\n",
       "        <tr>\n",
       "            <td>Top hit #4                                               </td> <td>4-A16                                                       </td> <td>A                    </td> <td>###                                </td> <td>nan                    </td> <td>nan                 </td> <td>nan                  </td> <td>nan                            </td> <td>nan                                                         </td> <td>nan         </td> <td>nan        </td> <td>nan        </td> <td>nan        </td> <td>nan                                                         </td> <td>nan                                                         </td> <td>nan   </td> <td>nan   </td> <td>nan       </td> <td>nan                 </td> <td>nan                                                         </td> <td>nan                                                         </td> <td>nan                                                         </td> <td>nan  </td> <td>nan                                                         </td> <td>nan                  </td> <td>nan        </td> <td>nan  </td> <td>nan        </td> <td>nan         </td> <td>nan                  </td> <td>nan        </td> <td>nan        </td> <td>nan        </td> <td>nan        </td> <td>nan                                                         </td>\n",
       "        </tr>\n",
       "        <tr>\n",
       "            <td>Top hit #5                                               </td> <td>4-N1                                                        </td> <td>A                    </td> <td>###                                </td> <td>nan                    </td> <td>nan                 </td> <td>nan                  </td> <td>nan                            </td> <td>nan                                                         </td> <td>nan         </td> <td>nan        </td> <td>nan        </td> <td>nan        </td> <td>nan                                                         </td> <td>nan                                                         </td> <td>nan   </td> <td>nan   </td> <td>nan       </td> <td>nan                 </td> <td>nan                                                         </td> <td>nan                                                         </td> <td>nan                                                         </td> <td>nan  </td> <td>nan                                                         </td> <td>nan                  </td> <td>nan        </td> <td>nan  </td> <td>nan        </td> <td>nan         </td> <td>nan                  </td> <td>nan        </td> <td>nan        </td> <td>nan        </td> <td>nan        </td> <td>nan                                                         </td>\n",
       "        </tr>\n",
       "        <tr>\n",
       "            <td>Top hit #6                                               </td> <td>5-I19                                                       </td> <td>A                    </td> <td>###                                </td> <td>nan                    </td> <td>nan                 </td> <td>nan                  </td> <td>nan                            </td> <td>nan                                                         </td> <td>nan         </td> <td>nan        </td> <td>nan        </td> <td>nan        </td> <td>nan                                                         </td> <td>nan                                                         </td> <td>nan   </td> <td>nan   </td> <td>nan       </td> <td>nan                 </td> <td>nan                                                         </td> <td>nan                                                         </td> <td>nan                                                         </td> <td>nan  </td> <td>nan                                                         </td> <td>nan                  </td> <td>nan        </td> <td>nan  </td> <td>nan        </td> <td>nan         </td> <td>nan                  </td> <td>nan        </td> <td>nan        </td> <td>nan        </td> <td>nan        </td> <td>nan                                                         </td>\n",
       "        </tr>\n",
       "        <tr>\n",
       "            <td>Top hit #7                                               </td> <td>5-L22                                                       </td> <td>A                    </td> <td>###                                </td> <td>nan                    </td> <td>nan                 </td> <td>nan                  </td> <td>nan                            </td> <td>nan                                                         </td> <td>nan         </td> <td>nan        </td> <td>nan        </td> <td>nan        </td> <td>nan                                                         </td> <td>nan                                                         </td> <td>nan   </td> <td>nan   </td> <td>nan       </td> <td>nan                 </td> <td>nan                                                         </td> <td>nan                                                         </td> <td>nan                                                         </td> <td>nan  </td> <td>nan                                                         </td> <td>nan                  </td> <td>nan        </td> <td>nan  </td> <td>nan        </td> <td>nan         </td> <td>nan                  </td> <td>nan        </td> <td>nan        </td> <td>nan        </td> <td>nan        </td> <td>nan                                                         </td>\n",
       "        </tr>\n",
       "        <tr>\n",
       "            <td>Top hit #8                                               </td> <td>5-L6                                                        </td> <td>A                    </td> <td>###                                </td> <td>nan                    </td> <td>nan                 </td> <td>nan                  </td> <td>nan                            </td> <td>nan                                                         </td> <td>nan         </td> <td>nan        </td> <td>nan        </td> <td>nan        </td> <td>nan                                                         </td> <td>nan                                                         </td> <td>nan   </td> <td>nan   </td> <td>nan       </td> <td>nan                 </td> <td>nan                                                         </td> <td>nan                                                         </td> <td>nan                                                         </td> <td>nan  </td> <td>nan                                                         </td> <td>nan                  </td> <td>nan        </td> <td>nan  </td> <td>nan        </td> <td>nan         </td> <td>nan                  </td> <td>nan        </td> <td>nan        </td> <td>nan        </td> <td>nan        </td> <td>nan                                                         </td>\n",
       "        </tr>\n",
       "        <tr>\n",
       "            <td>Top hit #9                                               </td> <td>7-E1                                                        </td> <td>A                    </td> <td>###                                </td> <td>nan                    </td> <td>nan                 </td> <td>nan                  </td> <td>nan                            </td> <td>nan                                                         </td> <td>nan         </td> <td>nan        </td> <td>nan        </td> <td>nan        </td> <td>nan                                                         </td> <td>nan                                                         </td> <td>nan   </td> <td>nan   </td> <td>nan       </td> <td>nan                 </td> <td>nan                                                         </td> <td>nan                                                         </td> <td>nan                                                         </td> <td>nan  </td> <td>nan                                                         </td> <td>nan                  </td> <td>nan        </td> <td>nan  </td> <td>nan        </td> <td>nan         </td> <td>nan                  </td> <td>nan        </td> <td>nan        </td> <td>nan        </td> <td>nan        </td> <td>nan                                                         </td>\n",
       "        </tr>\n",
       "        <tr>\n",
       "            <td>Top hit #10                                              </td> <td>7-P21                                                       </td> <td>A                    </td> <td>###                                </td> <td>nan                    </td> <td>nan                 </td> <td>nan                  </td> <td>nan                            </td> <td>nan                                                         </td> <td>nan         </td> <td>nan        </td> <td>nan        </td> <td>nan        </td> <td>nan                                                         </td> <td>nan                                                         </td> <td>nan   </td> <td>nan   </td> <td>nan       </td> <td>nan                 </td> <td>nan                                                         </td> <td>nan                                                         </td> <td>nan                                                         </td> <td>nan  </td> <td>nan                                                         </td> <td>nan                  </td> <td>nan        </td> <td>nan  </td> <td>nan        </td> <td>nan         </td> <td>nan                  </td> <td>nan        </td> <td>nan        </td> <td>nan        </td> <td>nan        </td> <td>nan                                                         </td>\n",
       "        </tr>\n",
       "        <tr>\n",
       "            <td>Top hit #11                                              </td> <td>8-E6                                                        </td> <td>A                    </td> <td>###                                </td> <td>nan                    </td> <td>nan                 </td> <td>nan                  </td> <td>nan                            </td> <td>nan                                                         </td> <td>nan         </td> <td>nan        </td> <td>nan        </td> <td>nan        </td> <td>nan                                                         </td> <td>nan                                                         </td> <td>nan   </td> <td>nan   </td> <td>nan       </td> <td>nan                 </td> <td>nan                                                         </td> <td>nan                                                         </td> <td>nan                                                         </td> <td>nan  </td> <td>nan                                                         </td> <td>nan                  </td> <td>nan        </td> <td>nan  </td> <td>nan        </td> <td>nan         </td> <td>nan                  </td> <td>nan        </td> <td>nan        </td> <td>nan        </td> <td>nan        </td> <td>nan                                                         </td>\n",
       "        </tr>\n",
       "        <tr>\n",
       "            <td>Top hit #12                                              </td> <td>9-B7                                                        </td> <td>A                    </td> <td>###                                </td> <td>nan                    </td> <td>nan                 </td> <td>nan                  </td> <td>nan                            </td> <td>nan                                                         </td> <td>nan         </td> <td>nan        </td> <td>nan        </td> <td>nan        </td> <td>nan                                                         </td> <td>nan                                                         </td> <td>nan   </td> <td>nan   </td> <td>nan       </td> <td>nan                 </td> <td>nan                                                         </td> <td>nan                                                         </td> <td>nan                                                         </td> <td>nan  </td> <td>nan                                                         </td> <td>nan                  </td> <td>nan        </td> <td>nan  </td> <td>nan        </td> <td>nan         </td> <td>nan                  </td> <td>nan        </td> <td>nan        </td> <td>nan        </td> <td>nan        </td> <td>nan                                                         </td>\n",
       "        </tr>\n",
       "        <tr>\n",
       "            <td>Top hit #13                                              </td> <td>Top hit #13                                                 </td> <td>A                    </td> <td>###                                </td> <td>nan                    </td> <td>nan                 </td> <td>nan                  </td> <td>nan                            </td> <td>nan                                                         </td> <td>nan         </td> <td>nan        </td> <td>nan        </td> <td>nan        </td> <td>nan                                                         </td> <td>nan                                                         </td> <td>nan   </td> <td>nan   </td> <td>nan       </td> <td>nan                 </td> <td>nan                                                         </td> <td>nan                                                         </td> <td>nan                                                         </td> <td>nan  </td> <td>nan                                                         </td> <td>nan                  </td> <td>nan        </td> <td>nan  </td> <td>nan        </td> <td>nan         </td> <td>nan                  </td> <td>nan        </td> <td>nan        </td> <td>nan        </td> <td>nan        </td> <td>nan                                                         </td>\n",
       "        </tr>\n",
       "        <tr>\n",
       "            <td>Top hit #14                                              </td> <td>Top hit #14                                                 </td> <td>A                    </td> <td>###                                </td> <td>nan                    </td> <td>nan                 </td> <td>nan                  </td> <td>nan                            </td> <td>nan                                                         </td> <td>nan         </td> <td>nan        </td> <td>nan        </td> <td>nan        </td> <td>nan                                                         </td> <td>nan                                                         </td> <td>nan   </td> <td>nan   </td> <td>nan       </td> <td>nan                 </td> <td>nan                                                         </td> <td>nan                                                         </td> <td>nan                                                         </td> <td>nan  </td> <td>nan                                                         </td> <td>nan                  </td> <td>nan        </td> <td>nan  </td> <td>nan        </td> <td>nan         </td> <td>nan                  </td> <td>nan        </td> <td>nan        </td> <td>nan        </td> <td>nan        </td> <td>nan                                                         </td>\n",
       "        </tr>\n",
       "        <tr>\n",
       "            <td>Top hit #15                                              </td> <td>Top hit #15                                                 </td> <td>A                    </td> <td>###                                </td> <td>nan                    </td> <td>nan                 </td> <td>nan                  </td> <td>nan                            </td> <td>nan                                                         </td> <td>nan         </td> <td>nan        </td> <td>nan        </td> <td>nan        </td> <td>nan                                                         </td> <td>nan                                                         </td> <td>nan   </td> <td>nan   </td> <td>nan       </td> <td>nan                 </td> <td>nan                                                         </td> <td>nan                                                         </td> <td>nan                                                         </td> <td>nan  </td> <td>nan                                                         </td> <td>nan                  </td> <td>nan        </td> <td>nan  </td> <td>nan        </td> <td>nan         </td> <td>nan                  </td> <td>nan        </td> <td>nan        </td> <td>nan        </td> <td>nan        </td> <td>nan                                                         </td>\n",
       "        </tr>\n",
       "        <tr>\n",
       "            <td>Top hit #16                                              </td> <td>Top hit #16                                                 </td> <td>A                    </td> <td>###                                </td> <td>nan                    </td> <td>nan                 </td> <td>nan                  </td> <td>nan                            </td> <td>nan                                                         </td> <td>nan         </td> <td>nan        </td> <td>nan        </td> <td>nan        </td> <td>nan                                                         </td> <td>nan                                                         </td> <td>nan   </td> <td>nan   </td> <td>nan       </td> <td>nan                 </td> <td>nan                                                         </td> <td>nan                                                         </td> <td>nan                                                         </td> <td>nan  </td> <td>nan                                                         </td> <td>nan                  </td> <td>nan        </td> <td>nan  </td> <td>nan        </td> <td>nan         </td> <td>nan                  </td> <td>nan        </td> <td>nan        </td> <td>nan        </td> <td>nan        </td> <td>nan                                                         </td>\n",
       "        </tr>\n",
       "        <tr>\n",
       "            <td>Top hit #17                                              </td> <td>Top hit #17                                                 </td> <td>A                    </td> <td>###                                </td> <td>nan                    </td> <td>nan                 </td> <td>nan                  </td> <td>nan                            </td> <td>nan                                                         </td> <td>nan         </td> <td>nan        </td> <td>nan        </td> <td>nan        </td> <td>nan                                                         </td> <td>nan                                                         </td> <td>nan   </td> <td>nan   </td> <td>nan       </td> <td>nan                 </td> <td>nan                                                         </td> <td>nan                                                         </td> <td>nan                                                         </td> <td>nan  </td> <td>nan                                                         </td> <td>nan                  </td> <td>nan        </td> <td>nan  </td> <td>nan        </td> <td>nan         </td> <td>nan                  </td> <td>nan        </td> <td>nan        </td> <td>nan        </td> <td>nan        </td> <td>nan                                                         </td>\n",
       "        </tr>\n",
       "        <tr>\n",
       "            <td>Top hit #18                                              </td> <td>Top hit #18                                                 </td> <td>A                    </td> <td>###                                </td> <td>nan                    </td> <td>nan                 </td> <td>nan                  </td> <td>nan                            </td> <td>nan                                                         </td> <td>nan         </td> <td>nan        </td> <td>nan        </td> <td>nan        </td> <td>nan                                                         </td> <td>nan                                                         </td> <td>nan   </td> <td>nan   </td> <td>nan       </td> <td>nan                 </td> <td>nan                                                         </td> <td>nan                                                         </td> <td>nan                                                         </td> <td>nan  </td> <td>nan                                                         </td> <td>nan                  </td> <td>nan        </td> <td>nan  </td> <td>nan        </td> <td>nan         </td> <td>nan                  </td> <td>nan        </td> <td>nan        </td> <td>nan        </td> <td>nan        </td> <td>nan                                                         </td>\n",
       "        </tr>\n",
       "        <tr>\n",
       "            <td>Top hit #19                                              </td> <td>Top hit #19                                                 </td> <td>Poly                 </td> <td>###                                </td> <td>nan                    </td> <td>nan                 </td> <td>nan                  </td> <td>nan                            </td> <td>nan                                                         </td> <td>nan         </td> <td>nan        </td> <td>nan        </td> <td>nan        </td> <td>nan                                                         </td> <td>nan                                                         </td> <td>nan   </td> <td>nan   </td> <td>nan       </td> <td>nan                 </td> <td>nan                                                         </td> <td>nan                                                         </td> <td>nan                                                         </td> <td>nan  </td> <td>nan                                                         </td> <td>nan                  </td> <td>nan        </td> <td>nan  </td> <td>nan        </td> <td>nan         </td> <td>nan                  </td> <td>nan        </td> <td>nan        </td> <td>nan        </td> <td>nan        </td> <td>nan                                                         </td>\n",
       "        </tr>\n",
       "        <tr>\n",
       "            <td>Top hit #20                                              </td> <td>Top hit #20                                                 </td> <td>Poly                 </td> <td>###                                </td> <td>nan                    </td> <td>nan                 </td> <td>nan                  </td> <td>nan                            </td> <td>nan                                                         </td> <td>nan         </td> <td>nan        </td> <td>nan        </td> <td>nan        </td> <td>nan                                                         </td> <td>nan                                                         </td> <td>nan   </td> <td>nan   </td> <td>nan       </td> <td>nan                 </td> <td>nan                                                         </td> <td>nan                                                         </td> <td>nan                                                         </td> <td>nan  </td> <td>nan                                                         </td> <td>nan                  </td> <td>nan        </td> <td>nan  </td> <td>nan        </td> <td>nan         </td> <td>nan                  </td> <td>nan        </td> <td>nan        </td> <td>nan        </td> <td>nan        </td> <td>nan                                                         </td>\n",
       "        </tr>\n",
       "        <tr>\n",
       "            <td>Top hit #21                                              </td> <td>Top hit #21                                                 </td> <td>Poly                 </td> <td>###                                </td> <td>nan                    </td> <td>nan                 </td> <td>nan                  </td> <td>nan                            </td> <td>nan                                                         </td> <td>nan         </td> <td>nan        </td> <td>nan        </td> <td>nan        </td> <td>nan                                                         </td> <td>nan                                                         </td> <td>nan   </td> <td>nan   </td> <td>nan       </td> <td>nan                 </td> <td>nan                                                         </td> <td>nan                                                         </td> <td>nan                                                         </td> <td>nan  </td> <td>nan                                                         </td> <td>nan                  </td> <td>nan        </td> <td>nan  </td> <td>nan        </td> <td>nan         </td> <td>nan                  </td> <td>nan        </td> <td>nan        </td> <td>nan        </td> <td>nan        </td> <td>nan                                                         </td>\n",
       "        </tr>\n",
       "        <tr>\n",
       "            <td>Top hit #22                                              </td> <td>Top hit #22                                                 </td> <td>B                    </td> <td>###                                </td> <td>nan                    </td> <td>nan                 </td> <td>nan                  </td> <td>nan                            </td> <td>nan                                                         </td> <td>nan         </td> <td>nan        </td> <td>nan        </td> <td>nan        </td> <td>nan                                                         </td> <td>nan                                                         </td> <td>nan   </td> <td>nan   </td> <td>nan       </td> <td>nan                 </td> <td>nan                                                         </td> <td>nan                                                         </td> <td>nan                                                         </td> <td>nan  </td> <td>nan                                                         </td> <td>nan                  </td> <td>nan        </td> <td>nan  </td> <td>nan        </td> <td>nan         </td> <td>nan                  </td> <td>nan        </td> <td>nan        </td> <td>nan        </td> <td>nan        </td> <td>nan                                                         </td>\n",
       "        </tr>\n",
       "        <tr>\n",
       "            <td>Top hit #23                                              </td> <td>Top hit #23                                                 </td> <td>B                    </td> <td>###                                </td> <td>nan                    </td> <td>nan                 </td> <td>nan                  </td> <td>nan                            </td> <td>nan                                                         </td> <td>nan         </td> <td>nan        </td> <td>nan        </td> <td>nan        </td> <td>nan                                                         </td> <td>nan                                                         </td> <td>nan   </td> <td>nan   </td> <td>nan       </td> <td>nan                 </td> <td>nan                                                         </td> <td>nan                                                         </td> <td>nan                                                         </td> <td>nan  </td> <td>nan                                                         </td> <td>nan                  </td> <td>nan        </td> <td>nan  </td> <td>nan        </td> <td>nan         </td> <td>nan                  </td> <td>nan        </td> <td>nan        </td> <td>nan        </td> <td>nan        </td> <td>nan                                                         </td>\n",
       "        </tr>\n",
       "        <tr>\n",
       "            <td>Top hit #24                                              </td> <td>Top hit #24                                                 </td> <td>B                    </td> <td>###                                </td> <td>nan                    </td> <td>nan                 </td> <td>nan                  </td> <td>nan                            </td> <td>nan                                                         </td> <td>nan         </td> <td>nan        </td> <td>nan        </td> <td>nan        </td> <td>nan                                                         </td> <td>nan                                                         </td> <td>nan   </td> <td>nan   </td> <td>nan       </td> <td>nan                 </td> <td>nan                                                         </td> <td>nan                                                         </td> <td>nan                                                         </td> <td>nan  </td> <td>nan                                                         </td> <td>nan                  </td> <td>nan        </td> <td>nan  </td> <td>nan        </td> <td>nan         </td> <td>nan                  </td> <td>nan        </td> <td>nan        </td> <td>nan        </td> <td>nan        </td> <td>nan                                                         </td>\n",
       "        </tr>\n",
       "        <tr>\n",
       "            <td>nan                                                      </td> <td>nan                                                         </td> <td>nan                  </td> <td>nan                                </td> <td>nan                    </td> <td>nan                 </td> <td>nan                  </td> <td>nan                            </td> <td>nan                                                         </td> <td>nan         </td> <td>nan        </td> <td>nan        </td> <td>nan        </td> <td>nan                                                         </td> <td>nan                                                         </td> <td>nan   </td> <td>nan   </td> <td>nan       </td> <td>nan                 </td> <td>nan                                                         </td> <td>nan                                                         </td> <td>nan                                                         </td> <td>nan  </td> <td>nan                                                         </td> <td>nan                  </td> <td>nan        </td> <td>nan  </td> <td>nan        </td> <td>nan         </td> <td>nan                  </td> <td>nan        </td> <td>nan        </td> <td>nan        </td> <td>nan        </td> <td>nan                                                         </td>\n",
       "        </tr>\n",
       "        <tr>\n",
       "            <td>nan                                                      </td> <td>nan                                                         </td> <td>nan                  </td> <td>nan                                </td> <td>nan                    </td> <td>nan                 </td> <td>nan                  </td> <td>nan                            </td> <td>nan                                                         </td> <td>nan         </td> <td>nan        </td> <td>nan        </td> <td>nan        </td> <td>nan                                                         </td> <td>nan                                                         </td> <td>nan   </td> <td>nan   </td> <td>nan       </td> <td>nan                 </td> <td>nan                                                         </td> <td>nan                                                         </td> <td>nan                                                         </td> <td>nan  </td> <td>nan                                                         </td> <td>nan                  </td> <td>nan        </td> <td>nan  </td> <td>nan        </td> <td>nan         </td> <td>nan                  </td> <td>nan        </td> <td>nan        </td> <td>nan        </td> <td>nan        </td> <td>nan                                                         </td>\n",
       "        </tr>\n",
       "        <tr>\n",
       "            <td>nan                                                      </td> <td>nan                                                         </td> <td>nan                  </td> <td>nan                                </td> <td>nan                    </td> <td>nan                 </td> <td>nan                  </td> <td>nan                            </td> <td>nan                                                         </td> <td>nan         </td> <td>nan        </td> <td>nan        </td> <td>nan        </td> <td>nan                                                         </td> <td>nan                                                         </td> <td>nan   </td> <td>nan   </td> <td>nan       </td> <td>nan                 </td> <td>nan                                                         </td> <td>nan                                                         </td> <td>nan                                                         </td> <td>nan  </td> <td>nan                                                         </td> <td>nan                  </td> <td>nan        </td> <td>nan  </td> <td>nan        </td> <td>nan         </td> <td>nan                  </td> <td>nan        </td> <td>nan        </td> <td>nan        </td> <td>nan        </td> <td>nan                                                         </td>\n",
       "        </tr>\n",
       "        <tr>\n",
       "            <td>nan                                                      </td> <td>Hybridoma ID's grouped by unique, sibling, or identical  ...</td> <td>nan                  </td> <td>nan                                </td> <td>nan                    </td> <td>nan                 </td> <td>nan                  </td> <td>nan                            </td> <td>nan                                                         </td> <td>nan         </td> <td>nan        </td> <td>nan        </td> <td>nan        </td> <td>nan                                                         </td> <td>nan                                                         </td> <td>nan   </td> <td>nan   </td> <td>nan       </td> <td>nan                 </td> <td>nan                                                         </td> <td>nan                                                         </td> <td>nan                                                         </td> <td>nan  </td> <td>nan                                                         </td> <td>nan                  </td> <td>nan        </td> <td>nan  </td> <td>nan        </td> <td>nan         </td> <td>nan                  </td> <td>nan        </td> <td>nan        </td> <td>nan        </td> <td>nan        </td> <td>nan                                                         </td>\n",
       "        </tr>\n",
       "        <tr>\n",
       "            <td>Top 12 hits to subclone                                  </td> <td>Unique                                                      </td> <td>Siblings             </td> <td>Identical                          </td> <td>Polyclone              </td> <td>nan                 </td> <td>Counts               </td> <td>nan                            </td> <td>nan                                                         </td> <td>nan         </td> <td>nan        </td> <td>nan        </td> <td>nan        </td> <td>nan                                                         </td> <td>nan                                                         </td> <td>nan   </td> <td>nan   </td> <td>nan       </td> <td>nan                 </td> <td>nan                                                         </td> <td>nan                                                         </td> <td>nan                                                         </td> <td>nan  </td> <td>nan                                                         </td> <td>nan                  </td> <td>nan        </td> <td>nan  </td> <td>nan        </td> <td>nan         </td> <td>nan                  </td> <td>nan        </td> <td>nan        </td> <td>nan        </td> <td>nan        </td> <td>nan                                                         </td>\n",
       "        </tr>\n",
       "        <tr>\n",
       "            <td>Top hit #1                                               </td> <td>3-O21                                                       </td> <td>2-O1 and 3-D11       </td> <td>nan                                </td> <td>7-P21                  </td> <td>nan                 </td> <td>19                   </td> <td>Unique:                        </td> <td>3-O21<br>4-A16<br>4-N1<br>5-I19<br>5-L22<br>5-L6<br>7-E1 ...</td> <td>nan         </td> <td>nan        </td> <td>nan        </td> <td>nan        </td> <td>nan                                                         </td> <td>nan                                                         </td> <td>nan   </td> <td>nan   </td> <td>nan       </td> <td>nan                 </td> <td>nan                                                         </td> <td>nan                                                         </td> <td>nan                                                         </td> <td>nan  </td> <td>nan                                                         </td> <td>nan                  </td> <td>nan        </td> <td>nan  </td> <td>nan        </td> <td>nan         </td> <td>nan                  </td> <td>nan        </td> <td>nan        </td> <td>nan        </td> <td>nan        </td> <td>nan                                                         </td>\n",
       "        </tr>\n",
       "        <tr>\n",
       "            <td>Top hit #2                                               </td> <td>4-A16                                                       </td> <td>8-E6 and 9-B7        </td> <td>nan                                </td> <td>Top hit #24            </td> <td>nan                 </td> <td>2                    </td> <td>Sibling:                       </td> <td>2-O1 and 3-D11<br>8-E6 and 9-B7<br>                         </td> <td>nan         </td> <td>nan        </td> <td>nan        </td> <td>nan        </td> <td>nan                                                         </td> <td>nan                                                         </td> <td>nan   </td> <td>nan   </td> <td>nan       </td> <td>nan                 </td> <td>nan                                                         </td> <td>nan                                                         </td> <td>nan                                                         </td> <td>nan  </td> <td>nan                                                         </td> <td>nan                  </td> <td>nan        </td> <td>nan  </td> <td>nan        </td> <td>nan         </td> <td>nan                  </td> <td>nan        </td> <td>nan        </td> <td>nan        </td> <td>nan        </td> <td>nan                                                         </td>\n",
       "        </tr>\n",
       "        <tr>\n",
       "            <td>Top hit #3                                               </td> <td>4-N1                                                        </td> <td>nan                  </td> <td>nan                                </td> <td>Top hit #23            </td> <td>nan                 </td> <td>0                    </td> <td>Identical:                     </td> <td><br>                                                        </td> <td>nan         </td> <td>nan        </td> <td>nan        </td> <td>nan        </td> <td>nan                                                         </td> <td>nan                                                         </td> <td>nan   </td> <td>nan   </td> <td>nan       </td> <td>nan                 </td> <td>nan                                                         </td> <td>nan                                                         </td> <td>nan                                                         </td> <td>nan  </td> <td>nan                                                         </td> <td>nan                  </td> <td>nan        </td> <td>nan  </td> <td>nan        </td> <td>nan         </td> <td>nan                  </td> <td>nan        </td> <td>nan        </td> <td>nan        </td> <td>nan        </td> <td>nan                                                         </td>\n",
       "        </tr>\n",
       "        <tr>\n",
       "            <td>Top hit #4                                               </td> <td>5-I19                                                       </td> <td>nan                  </td> <td>nan                                </td> <td>nan                    </td> <td>nan                 </td> <td>3                    </td> <td>Multiple HC/LC:                </td> <td>7-P21<br>Top hit #24<br>Top hit #23                         </td> <td>nan         </td> <td>nan        </td> <td>nan        </td> <td>nan        </td> <td>nan                                                         </td> <td>nan                                                         </td> <td>nan   </td> <td>nan   </td> <td>nan       </td> <td>nan                 </td> <td>nan                                                         </td> <td>nan                                                         </td> <td>nan                                                         </td> <td>nan  </td> <td>nan                                                         </td> <td>nan                  </td> <td>nan        </td> <td>nan  </td> <td>nan        </td> <td>nan         </td> <td>nan                  </td> <td>nan        </td> <td>nan        </td> <td>nan        </td> <td>nan        </td> <td>nan                                                         </td>\n",
       "        </tr>\n",
       "        <tr>\n",
       "            <td>Top hit #5                                               </td> <td>5-L22                                                       </td> <td>nan                  </td> <td>nan                                </td> <td>nan                    </td> <td>nan                 </td> <td>nan                  </td> <td>nan                            </td> <td>nan                                                         </td> <td>nan         </td> <td>nan        </td> <td>nan        </td> <td>nan        </td> <td>nan                                                         </td> <td>nan                                                         </td> <td>nan   </td> <td>nan   </td> <td>nan       </td> <td>nan                 </td> <td>nan                                                         </td> <td>nan                                                         </td> <td>nan                                                         </td> <td>nan  </td> <td>nan                                                         </td> <td>nan                  </td> <td>nan        </td> <td>nan  </td> <td>nan        </td> <td>nan         </td> <td>nan                  </td> <td>nan        </td> <td>nan        </td> <td>nan        </td> <td>nan        </td> <td>nan                                                         </td>\n",
       "        </tr>\n",
       "        <tr>\n",
       "            <td>Top hit #6                                               </td> <td>5-L6                                                        </td> <td>nan                  </td> <td>nan                                </td> <td>nan                    </td> <td>nan                 </td> <td>nan                  </td> <td>nan                            </td> <td>nan                                                         </td> <td>nan         </td> <td>nan        </td> <td>nan        </td> <td>nan        </td> <td>nan                                                         </td> <td>nan                                                         </td> <td>nan   </td> <td>nan   </td> <td>nan       </td> <td>nan                 </td> <td>nan                                                         </td> <td>nan                                                         </td> <td>nan                                                         </td> <td>nan  </td> <td>nan                                                         </td> <td>nan                  </td> <td>nan        </td> <td>nan  </td> <td>nan        </td> <td>nan         </td> <td>nan                  </td> <td>nan        </td> <td>nan        </td> <td>nan        </td> <td>nan        </td> <td>nan                                                         </td>\n",
       "        </tr>\n",
       "        <tr>\n",
       "            <td>Top hit #7                                               </td> <td>7-E1                                                        </td> <td>nan                  </td> <td>nan                                </td> <td>nan                    </td> <td>nan                 </td> <td>nan                  </td> <td>nan                            </td> <td>nan                                                         </td> <td>nan         </td> <td>nan        </td> <td>nan        </td> <td>nan        </td> <td>nan                                                         </td> <td>nan                                                         </td> <td>nan   </td> <td>nan   </td> <td>nan       </td> <td>nan                 </td> <td>nan                                                         </td> <td>nan                                                         </td> <td>nan                                                         </td> <td>nan  </td> <td>nan                                                         </td> <td>nan                  </td> <td>nan        </td> <td>nan  </td> <td>nan        </td> <td>nan         </td> <td>nan                  </td> <td>nan        </td> <td>nan        </td> <td>nan        </td> <td>nan        </td> <td>nan                                                         </td>\n",
       "        </tr>\n",
       "        <tr>\n",
       "            <td>Top hit #8                                               </td> <td>7-P21                                                       </td> <td>nan                  </td> <td>nan                                </td> <td>nan                    </td> <td>nan                 </td> <td>nan                  </td> <td>nan                            </td> <td>nan                                                         </td> <td>nan         </td> <td>nan        </td> <td>nan        </td> <td>nan        </td> <td>nan                                                         </td> <td>nan                                                         </td> <td>nan   </td> <td>nan   </td> <td>nan       </td> <td>nan                 </td> <td>nan                                                         </td> <td>nan                                                         </td> <td>nan                                                         </td> <td>nan  </td> <td>nan                                                         </td> <td>nan                  </td> <td>nan        </td> <td>nan  </td> <td>nan        </td> <td>nan         </td> <td>nan                  </td> <td>nan        </td> <td>nan        </td> <td>nan        </td> <td>nan        </td> <td>nan                                                         </td>\n",
       "        </tr>\n",
       "        <tr>\n",
       "            <td>Top hit #9                                               </td> <td>Top hit #12                                                 </td> <td>nan                  </td> <td>nan                                </td> <td>nan                    </td> <td>nan                 </td> <td>nan                  </td> <td>nan                            </td> <td>nan                                                         </td> <td>nan         </td> <td>nan        </td> <td>nan        </td> <td>nan        </td> <td>nan                                                         </td> <td>nan                                                         </td> <td>nan   </td> <td>nan   </td> <td>nan       </td> <td>nan                 </td> <td>nan                                                         </td> <td>nan                                                         </td> <td>nan                                                         </td> <td>nan  </td> <td>nan                                                         </td> <td>nan                  </td> <td>nan        </td> <td>nan  </td> <td>nan        </td> <td>nan         </td> <td>nan                  </td> <td>nan        </td> <td>nan        </td> <td>nan        </td> <td>nan        </td> <td>nan                                                         </td>\n",
       "        </tr>\n",
       "        <tr>\n",
       "            <td>Top hit #10                                              </td> <td>Top hit #13                                                 </td> <td>nan                  </td> <td>nan                                </td> <td>nan                    </td> <td>nan                 </td> <td>nan                  </td> <td>nan                            </td> <td>nan                                                         </td> <td>nan         </td> <td>nan        </td> <td>nan        </td> <td>nan        </td> <td>nan                                                         </td> <td>nan                                                         </td> <td>nan   </td> <td>nan   </td> <td>nan       </td> <td>nan                 </td> <td>nan                                                         </td> <td>nan                                                         </td> <td>nan                                                         </td> <td>nan  </td> <td>nan                                                         </td> <td>nan                  </td> <td>nan        </td> <td>nan  </td> <td>nan        </td> <td>nan         </td> <td>nan                  </td> <td>nan        </td> <td>nan        </td> <td>nan        </td> <td>nan        </td> <td>nan                                                         </td>\n",
       "        </tr>\n",
       "        <tr>\n",
       "            <td>Top hit #11                                              </td> <td>Top hit #14                                                 </td> <td>nan                  </td> <td>nan                                </td> <td>nan                    </td> <td>nan                 </td> <td>nan                  </td> <td>nan                            </td> <td>nan                                                         </td> <td>nan         </td> <td>nan        </td> <td>nan        </td> <td>nan        </td> <td>nan                                                         </td> <td>nan                                                         </td> <td>nan   </td> <td>nan   </td> <td>nan       </td> <td>nan                 </td> <td>nan                                                         </td> <td>nan                                                         </td> <td>nan                                                         </td> <td>nan  </td> <td>nan                                                         </td> <td>nan                  </td> <td>nan        </td> <td>nan  </td> <td>nan        </td> <td>nan         </td> <td>nan                  </td> <td>nan        </td> <td>nan        </td> <td>nan        </td> <td>nan        </td> <td>nan                                                         </td>\n",
       "        </tr>\n",
       "        <tr>\n",
       "            <td>Top hit #12                                              </td> <td>Top hit #15                                                 </td> <td>nan                  </td> <td>nan                                </td> <td>nan                    </td> <td>nan                 </td> <td>nan                  </td> <td>nan                            </td> <td>nan                                                         </td> <td>nan         </td> <td>nan        </td> <td>nan        </td> <td>nan        </td> <td>nan                                                         </td> <td>nan                                                         </td> <td>nan   </td> <td>nan   </td> <td>nan       </td> <td>nan                 </td> <td>nan                                                         </td> <td>nan                                                         </td> <td>nan                                                         </td> <td>nan  </td> <td>nan                                                         </td> <td>nan                  </td> <td>nan        </td> <td>nan  </td> <td>nan        </td> <td>nan         </td> <td>nan                  </td> <td>nan        </td> <td>nan        </td> <td>nan        </td> <td>nan        </td> <td>nan                                                         </td>\n",
       "        </tr>\n",
       "        <tr>\n",
       "            <td>Top hit #13                                              </td> <td>Top hit #16                                                 </td> <td>nan                  </td> <td>nan                                </td> <td>nan                    </td> <td>nan                 </td> <td>nan                  </td> <td>nan                            </td> <td>nan                                                         </td> <td>nan         </td> <td>nan        </td> <td>nan        </td> <td>nan        </td> <td>nan                                                         </td> <td>nan                                                         </td> <td>nan   </td> <td>nan   </td> <td>nan       </td> <td>nan                 </td> <td>nan                                                         </td> <td>nan                                                         </td> <td>nan                                                         </td> <td>nan  </td> <td>nan                                                         </td> <td>nan                  </td> <td>nan        </td> <td>nan  </td> <td>nan        </td> <td>nan         </td> <td>nan                  </td> <td>nan        </td> <td>nan        </td> <td>nan        </td> <td>nan        </td> <td>nan                                                         </td>\n",
       "        </tr>\n",
       "        <tr>\n",
       "            <td>Top hit #14                                              </td> <td>Top hit #17                                                 </td> <td>nan                  </td> <td>nan                                </td> <td>nan                    </td> <td>nan                 </td> <td>nan                  </td> <td>nan                            </td> <td>nan                                                         </td> <td>nan         </td> <td>nan        </td> <td>nan        </td> <td>nan        </td> <td>nan                                                         </td> <td>nan                                                         </td> <td>nan   </td> <td>nan   </td> <td>nan       </td> <td>nan                 </td> <td>nan                                                         </td> <td>nan                                                         </td> <td>nan                                                         </td> <td>nan  </td> <td>nan                                                         </td> <td>nan                  </td> <td>nan        </td> <td>nan  </td> <td>nan        </td> <td>nan         </td> <td>nan                  </td> <td>nan        </td> <td>nan        </td> <td>nan        </td> <td>nan        </td> <td>nan                                                         </td>\n",
       "        </tr>\n",
       "        <tr>\n",
       "            <td>Top hit #15                                              </td> <td>Top hit #18                                                 </td> <td>nan                  </td> <td>nan                                </td> <td>nan                    </td> <td>nan                 </td> <td>nan                  </td> <td>nan                            </td> <td>nan                                                         </td> <td>nan         </td> <td>nan        </td> <td>nan        </td> <td>nan        </td> <td>nan                                                         </td> <td>nan                                                         </td> <td>nan   </td> <td>nan   </td> <td>nan       </td> <td>nan                 </td> <td>nan                                                         </td> <td>nan                                                         </td> <td>nan                                                         </td> <td>nan  </td> <td>nan                                                         </td> <td>nan                  </td> <td>nan        </td> <td>nan  </td> <td>nan        </td> <td>nan         </td> <td>nan                  </td> <td>nan        </td> <td>nan        </td> <td>nan        </td> <td>nan        </td> <td>nan                                                         </td>\n",
       "        </tr>\n",
       "        <tr>\n",
       "            <td>Top hit #16                                              </td> <td>Top hit #19                                                 </td> <td>nan                  </td> <td>nan                                </td> <td>nan                    </td> <td>nan                 </td> <td>nan                  </td> <td>nan                            </td> <td>nan                                                         </td> <td>nan         </td> <td>nan        </td> <td>nan        </td> <td>nan        </td> <td>nan                                                         </td> <td>nan                                                         </td> <td>nan   </td> <td>nan   </td> <td>nan       </td> <td>nan                 </td> <td>nan                                                         </td> <td>nan                                                         </td> <td>nan                                                         </td> <td>nan  </td> <td>nan                                                         </td> <td>nan                  </td> <td>nan        </td> <td>nan  </td> <td>nan        </td> <td>nan         </td> <td>nan                  </td> <td>nan        </td> <td>nan        </td> <td>nan        </td> <td>nan        </td> <td>nan                                                         </td>\n",
       "        </tr>\n",
       "        <tr>\n",
       "            <td>Top hit #17                                              </td> <td>Top hit #20                                                 </td> <td>nan                  </td> <td>nan                                </td> <td>nan                    </td> <td>nan                 </td> <td>nan                  </td> <td>nan                            </td> <td>nan                                                         </td> <td>nan         </td> <td>nan        </td> <td>nan        </td> <td>nan        </td> <td>nan                                                         </td> <td>nan                                                         </td> <td>nan   </td> <td>nan   </td> <td>nan       </td> <td>nan                 </td> <td>nan                                                         </td> <td>nan                                                         </td> <td>nan                                                         </td> <td>nan  </td> <td>nan                                                         </td> <td>nan                  </td> <td>nan        </td> <td>nan  </td> <td>nan        </td> <td>nan         </td> <td>nan                  </td> <td>nan        </td> <td>nan        </td> <td>nan        </td> <td>nan        </td> <td>nan                                                         </td>\n",
       "        </tr>\n",
       "        <tr>\n",
       "            <td>Top hit #18                                              </td> <td>Top hit #21                                                 </td> <td>nan                  </td> <td>nan                                </td> <td>nan                    </td> <td>nan                 </td> <td>nan                  </td> <td>nan                            </td> <td>nan                                                         </td> <td>nan         </td> <td>nan        </td> <td>nan        </td> <td>nan        </td> <td>nan                                                         </td> <td>nan                                                         </td> <td>nan   </td> <td>nan   </td> <td>nan       </td> <td>nan                 </td> <td>nan                                                         </td> <td>nan                                                         </td> <td>nan                                                         </td> <td>nan  </td> <td>nan                                                         </td> <td>nan                  </td> <td>nan        </td> <td>nan  </td> <td>nan        </td> <td>nan         </td> <td>nan                  </td> <td>nan        </td> <td>nan        </td> <td>nan        </td> <td>nan        </td> <td>nan                                                         </td>\n",
       "        </tr>\n",
       "        <tr>\n",
       "            <td>Top hit #19                                              </td> <td>Top hit #22                                                 </td> <td>nan                  </td> <td>nan                                </td> <td>nan                    </td> <td>nan                 </td> <td>nan                  </td> <td>nan                            </td> <td>nan                                                         </td> <td>nan         </td> <td>nan        </td> <td>nan        </td> <td>nan        </td> <td>nan                                                         </td> <td>nan                                                         </td> <td>nan   </td> <td>nan   </td> <td>nan       </td> <td>nan                 </td> <td>nan                                                         </td> <td>nan                                                         </td> <td>nan                                                         </td> <td>nan  </td> <td>nan                                                         </td> <td>nan                  </td> <td>nan        </td> <td>nan  </td> <td>nan        </td> <td>nan         </td> <td>nan                  </td> <td>nan        </td> <td>nan        </td> <td>nan        </td> <td>nan        </td> <td>nan                                                         </td>\n",
       "        </tr>\n",
       "        <tr>\n",
       "            <td>Top hit #20                                              </td> <td>nan                                                         </td> <td>nan                  </td> <td>nan                                </td> <td>nan                    </td> <td>nan                 </td> <td>nan                  </td> <td>nan                            </td> <td>nan                                                         </td> <td>nan         </td> <td>nan        </td> <td>nan        </td> <td>nan        </td> <td>nan                                                         </td> <td>nan                                                         </td> <td>nan   </td> <td>nan   </td> <td>nan       </td> <td>nan                 </td> <td>nan                                                         </td> <td>nan                                                         </td> <td>nan                                                         </td> <td>nan  </td> <td>nan                                                         </td> <td>nan                  </td> <td>nan        </td> <td>nan  </td> <td>nan        </td> <td>nan         </td> <td>nan                  </td> <td>nan        </td> <td>nan        </td> <td>nan        </td> <td>nan        </td> <td>nan                                                         </td>\n",
       "        </tr>\n",
       "        <tr>\n",
       "            <td>Top hit #21                                              </td> <td>nan                                                         </td> <td>nan                  </td> <td>nan                                </td> <td>nan                    </td> <td>nan                 </td> <td>nan                  </td> <td>nan                            </td> <td>nan                                                         </td> <td>nan         </td> <td>nan        </td> <td>nan        </td> <td>nan        </td> <td>nan                                                         </td> <td>nan                                                         </td> <td>nan   </td> <td>nan   </td> <td>nan       </td> <td>nan                 </td> <td>nan                                                         </td> <td>nan                                                         </td> <td>nan                                                         </td> <td>nan  </td> <td>nan                                                         </td> <td>nan                  </td> <td>nan        </td> <td>nan  </td> <td>nan        </td> <td>nan         </td> <td>nan                  </td> <td>nan        </td> <td>nan        </td> <td>nan        </td> <td>nan        </td> <td>nan                                                         </td>\n",
       "        </tr>\n",
       "        <tr>\n",
       "            <td>Top hit #22                                              </td> <td>nan                                                         </td> <td>nan                  </td> <td>nan                                </td> <td>nan                    </td> <td>nan                 </td> <td>nan                  </td> <td>nan                            </td> <td>nan                                                         </td> <td>nan         </td> <td>nan        </td> <td>nan        </td> <td>nan        </td> <td>nan                                                         </td> <td>nan                                                         </td> <td>nan   </td> <td>nan   </td> <td>nan       </td> <td>nan                 </td> <td>nan                                                         </td> <td>nan                                                         </td> <td>nan                                                         </td> <td>nan  </td> <td>nan                                                         </td> <td>nan                  </td> <td>nan        </td> <td>nan  </td> <td>nan        </td> <td>nan         </td> <td>nan                  </td> <td>nan        </td> <td>nan        </td> <td>nan        </td> <td>nan        </td> <td>nan                                                         </td>\n",
       "        </tr>\n",
       "        <tr>\n",
       "            <td>Top hit #23                                              </td> <td>nan                                                         </td> <td>nan                  </td> <td>nan                                </td> <td>nan                    </td> <td>nan                 </td> <td>nan                  </td> <td>nan                            </td> <td>nan                                                         </td> <td>nan         </td> <td>nan        </td> <td>nan        </td> <td>nan        </td> <td>nan                                                         </td> <td>nan                                                         </td> <td>nan   </td> <td>nan   </td> <td>nan       </td> <td>nan                 </td> <td>nan                                                         </td> <td>nan                                                         </td> <td>nan                                                         </td> <td>nan  </td> <td>nan                                                         </td> <td>nan                  </td> <td>nan        </td> <td>nan  </td> <td>nan        </td> <td>nan         </td> <td>nan                  </td> <td>nan        </td> <td>nan        </td> <td>nan        </td> <td>nan        </td> <td>nan                                                         </td>\n",
       "        </tr>\n",
       "        <tr>\n",
       "            <td>Top hit #24                                              </td> <td>nan                                                         </td> <td>nan                  </td> <td>nan                                </td> <td>nan                    </td> <td>nan                 </td> <td>nan                  </td> <td>nan                            </td> <td>nan                                                         </td> <td>nan         </td> <td>nan        </td> <td>nan        </td> <td>nan        </td> <td>nan                                                         </td> <td>nan                                                         </td> <td>nan   </td> <td>nan   </td> <td>nan       </td> <td>nan                 </td> <td>nan                                                         </td> <td>nan                                                         </td> <td>nan                                                         </td> <td>nan  </td> <td>nan                                                         </td> <td>nan                  </td> <td>nan        </td> <td>nan  </td> <td>nan        </td> <td>nan         </td> <td>nan                  </td> <td>nan        </td> <td>nan        </td> <td>nan        </td> <td>nan        </td> <td>nan                                                         </td>\n",
       "        </tr>\n",
       "        <tr>\n",
       "            <td>nan                                                      </td> <td>nan                                                         </td> <td>nan                  </td> <td>nan                                </td> <td>nan                    </td> <td>nan                 </td> <td>nan                  </td> <td>nan                            </td> <td>nan                                                         </td> <td>nan         </td> <td>nan        </td> <td>nan        </td> <td>nan        </td> <td>nan                                                         </td> <td>nan                                                         </td> <td>nan   </td> <td>nan   </td> <td>nan       </td> <td>nan                 </td> <td>nan                                                         </td> <td>nan                                                         </td> <td>nan                                                         </td> <td>nan  </td> <td>nan                                                         </td> <td>nan                  </td> <td>nan        </td> <td>nan  </td> <td>nan        </td> <td>nan         </td> <td>nan                  </td> <td>nan        </td> <td>nan        </td> <td>nan        </td> <td>nan        </td> <td>nan                                                         </td>\n",
       "        </tr>\n",
       "        <tr>\n",
       "            <td>nan                                                      </td> <td>nan                                                         </td> <td>nan                  </td> <td>nan                                </td> <td>nan                    </td> <td>nan                 </td> <td>nan                  </td> <td>nan                            </td> <td>nan                                                         </td> <td>nan         </td> <td>nan        </td> <td>nan        </td> <td>nan        </td> <td>nan                                                         </td> <td>nan                                                         </td> <td>nan   </td> <td>nan   </td> <td>nan       </td> <td>nan                 </td> <td>nan                                                         </td> <td>nan                                                         </td> <td>nan                                                         </td> <td>nan  </td> <td>nan                                                         </td> <td>nan                  </td> <td>nan        </td> <td>nan  </td> <td>nan        </td> <td>nan         </td> <td>nan                  </td> <td>nan        </td> <td>nan        </td> <td>nan        </td> <td>nan        </td> <td>nan                                                         </td>\n",
       "        </tr>\n",
       "        <tr>\n",
       "            <td>nan                                                      </td> <td>nan                                                         </td> <td>nan                  </td> <td>nan                                </td> <td>nan                    </td> <td>nan                 </td> <td>nan                  </td> <td>nan                            </td> <td>nan                                                         </td> <td>nan         </td> <td>nan        </td> <td>nan        </td> <td>nan        </td> <td>nan                                                         </td> <td>nan                                                         </td> <td>nan   </td> <td>nan   </td> <td>nan       </td> <td>nan                 </td> <td>nan                                                         </td> <td>nan                                                         </td> <td>nan                                                         </td> <td>nan  </td> <td>nan                                                         </td> <td>nan                  </td> <td>nan        </td> <td>nan  </td> <td>nan        </td> <td>nan         </td> <td>nan                  </td> <td>nan        </td> <td>nan        </td> <td>nan        </td> <td>nan        </td> <td>nan                                                         </td>\n",
       "        </tr>\n",
       "        <tr>\n",
       "            <td>nan                                                      </td> <td>nan                                                         </td> <td>nan                  </td> <td>nan                                </td> <td>nan                    </td> <td>nan                 </td> <td>nan                  </td> <td>nan                            </td> <td>nan                                                         </td> <td>nan         </td> <td>nan        </td> <td>nan        </td> <td>nan        </td> <td>nan                                                         </td> <td>nan                                                         </td> <td>nan   </td> <td>nan   </td> <td>nan       </td> <td>nan                 </td> <td>nan                                                         </td> <td>nan                                                         </td> <td>nan                                                         </td> <td>nan  </td> <td>nan                                                         </td> <td>nan                  </td> <td>nan        </td> <td>nan  </td> <td>nan        </td> <td>nan         </td> <td>nan                  </td> <td>nan        </td> <td>nan        </td> <td>nan        </td> <td>nan        </td> <td>nan                                                         </td>\n",
       "        </tr>\n",
       "        <tr>\n",
       "            <td>nan                                                      </td> <td>nan                                                         </td> <td>nan                  </td> <td>nan                                </td> <td>nan                    </td> <td>nan                 </td> <td>nan                  </td> <td>nan                            </td> <td>nan                                                         </td> <td>nan         </td> <td>nan        </td> <td>nan        </td> <td>nan        </td> <td>nan                                                         </td> <td>nan                                                         </td> <td>nan   </td> <td>nan   </td> <td>nan       </td> <td>nan                 </td> <td>nan                                                         </td> <td>nan                                                         </td> <td>nan                                                         </td> <td>nan  </td> <td>nan                                                         </td> <td>nan                  </td> <td>nan        </td> <td>nan  </td> <td>nan        </td> <td>nan         </td> <td>nan                  </td> <td>nan        </td> <td>nan        </td> <td>nan        </td> <td>nan        </td> <td>nan                                                         </td>\n",
       "        </tr>\n",
       "        <tr>\n",
       "            <td>nan                                                      </td> <td>nan                                                         </td> <td>nan                  </td> <td>nan                                </td> <td>nan                    </td> <td>nan                 </td> <td>nan                  </td> <td>nan                            </td> <td>nan                                                         </td> <td>nan         </td> <td>nan        </td> <td>nan        </td> <td>nan        </td> <td>nan                                                         </td> <td>nan                                                         </td> <td>nan   </td> <td>nan   </td> <td>nan       </td> <td>nan                 </td> <td>nan                                                         </td> <td>nan                                                         </td> <td>nan                                                         </td> <td>nan  </td> <td>nan                                                         </td> <td>nan                  </td> <td>nan        </td> <td>nan  </td> <td>nan        </td> <td>nan         </td> <td>nan                  </td> <td>nan        </td> <td>nan        </td> <td>nan        </td> <td>nan        </td> <td>nan                                                         </td>\n",
       "        </tr>\n",
       "        <tr>\n",
       "            <td>nan                                                      </td> <td>nan                                                         </td> <td>nan                  </td> <td>nan                                </td> <td>nan                    </td> <td>nan                 </td> <td>nan                  </td> <td>nan                            </td> <td>nan                                                         </td> <td>nan         </td> <td>nan        </td> <td>nan        </td> <td>nan        </td> <td>nan                                                         </td> <td>nan                                                         </td> <td>nan   </td> <td>nan   </td> <td>nan       </td> <td>nan                 </td> <td>nan                                                         </td> <td>nan                                                         </td> <td>nan                                                         </td> <td>nan  </td> <td>nan                                                         </td> <td>nan                  </td> <td>nan        </td> <td>nan  </td> <td>nan        </td> <td>nan         </td> <td>nan                  </td> <td>nan        </td> <td>nan        </td> <td>nan        </td> <td>nan        </td> <td>nan                                                         </td>\n",
       "        </tr>\n",
       "        <tr>\n",
       "            <td>nan                                                      </td> <td>nan                                                         </td> <td>nan                  </td> <td>nan                                </td> <td>nan                    </td> <td>nan                 </td> <td>nan                  </td> <td>nan                            </td> <td>nan                                                         </td> <td>nan         </td> <td>nan        </td> <td>nan        </td> <td>nan        </td> <td>nan                                                         </td> <td>nan                                                         </td> <td>nan   </td> <td>nan   </td> <td>nan       </td> <td>nan                 </td> <td>nan                                                         </td> <td>nan                                                         </td> <td>nan                                                         </td> <td>nan  </td> <td>nan                                                         </td> <td>nan                  </td> <td>nan        </td> <td>nan  </td> <td>nan        </td> <td>nan         </td> <td>nan                  </td> <td>nan        </td> <td>nan        </td> <td>nan        </td> <td>nan        </td> <td>nan                                                         </td>\n",
       "        </tr>\n",
       "        <tr>\n",
       "            <td>nan                                                      </td> <td>nan                                                         </td> <td>nan                  </td> <td>nan                                </td> <td>nan                    </td> <td>nan                 </td> <td>nan                  </td> <td>nan                            </td> <td>nan                                                         </td> <td>nan         </td> <td>nan        </td> <td>nan        </td> <td>nan        </td> <td>nan                                                         </td> <td>nan                                                         </td> <td>nan   </td> <td>nan   </td> <td>nan       </td> <td>nan                 </td> <td>nan                                                         </td> <td>nan                                                         </td> <td>nan                                                         </td> <td>nan  </td> <td>nan                                                         </td> <td>nan                  </td> <td>nan        </td> <td>nan  </td> <td>nan        </td> <td>nan         </td> <td>nan                  </td> <td>nan        </td> <td>nan        </td> <td>nan        </td> <td>nan        </td> <td>nan                                                         </td>\n",
       "        </tr>\n",
       "        <tr>\n",
       "            <td>The end :)                                               </td> <td>nan                                                         </td> <td>nan                  </td> <td>nan                                </td> <td>nan                    </td> <td>nan                 </td> <td>nan                  </td> <td>nan                            </td> <td>nan                                                         </td> <td>nan         </td> <td>nan        </td> <td>nan        </td> <td>nan        </td> <td>nan                                                         </td> <td>nan                                                         </td> <td>nan   </td> <td>nan   </td> <td>nan       </td> <td>nan                 </td> <td>nan                                                         </td> <td>nan                                                         </td> <td>nan                                                         </td> <td>nan  </td> <td>nan                                                         </td> <td>nan                  </td> <td>nan        </td> <td>nan  </td> <td>nan        </td> <td>nan         </td> <td>nan                  </td> <td>nan        </td> <td>nan        </td> <td>nan        </td> <td>nan        </td> <td>nan                                                         </td>\n",
       "        </tr>\n",
       "    </tbody>\n",
       "</table>"
      ],
      "text/plain": [
       "<IPython.core.display.HTML object>"
      ]
     },
     "metadata": {},
     "output_type": "display_data"
    }
   ],
   "source": [
    "Project = Table.read_table(\"05082024_ExampleDataSet.csv\")\n",
    "Project.show()"
   ]
  },
  {
   "cell_type": "code",
   "execution_count": 28,
   "id": "80f0c03b-7c28-452e-8344-99998ecdb3b1",
   "metadata": {},
   "outputs": [
    {
     "data": {
      "text/html": [
       "<table border=\"1\" class=\"dataframe\">\n",
       "    <thead>\n",
       "        <tr>\n",
       "            <th>Primary1</th> <th>Confirmation1</th> <th>Tertiary1</th> <th>Primary2</th> <th>Confirmation2</th> <th>Tertiary2</th>\n",
       "        </tr>\n",
       "    </thead>\n",
       "    <tbody>\n",
       "        <tr>\n",
       "            <td>[192 HITS]<br></td> <td>[187 HITS]<br></td> <td>nan      </td> <td>[192 HITS]<br></td> <td>[187 HITS]<br></td> <td>nan      </td>\n",
       "        </tr>\n",
       "        <tr>\n",
       "            <td>1-A2          </td> <td>1-B21         </td> <td>1-B7     </td> <td>4-K20         </td> <td>4-K7          </td> <td>4-M3     </td>\n",
       "        </tr>\n",
       "        <tr>\n",
       "            <td>1-B21         </td> <td>1-B7          </td> <td>1-C17    </td> <td>4-K7          </td> <td>4-M3          </td> <td>4-O11    </td>\n",
       "        </tr>\n",
       "        <tr>\n",
       "            <td>1-B3          </td> <td>1-C13         </td> <td>1-C6     </td> <td>4-M24         </td> <td>4-N1          </td> <td>4-O23    </td>\n",
       "        </tr>\n",
       "        <tr>\n",
       "            <td>1-B7          </td> <td>1-C17         </td> <td>1-D11    </td> <td>4-M3          </td> <td>4-O11         </td> <td>4-P3     </td>\n",
       "        </tr>\n",
       "    </tbody>\n",
       "</table>\n",
       "<p>... (188 rows omitted)</p>"
      ],
      "text/plain": [
       "<IPython.core.display.HTML object>"
      ]
     },
     "metadata": {},
     "output_type": "display_data"
    }
   ],
   "source": [
    "AntibodyRecoveryHits = Table.read_table(\"AntibodyRecoveryHits.csv\")\n",
    "AntibodyRecoveryHits.show(5)"
   ]
  },
  {
   "cell_type": "code",
   "execution_count": 29,
   "id": "4f402c66-5791-48aa-b7a5-ba5d6f70aa8e",
   "metadata": {},
   "outputs": [],
   "source": [
    "#Turn all arrays into usable lists\n",
    "node_label = Project.column(\"node_label\")\n",
    "node_label = node_label.tolist()\n",
    "\n",
    "source = Project.column(\"source\")\n",
    "source = source.tolist()\n",
    "\n",
    "target = Project.column(\"target\")\n",
    "target = target.tolist()\n",
    "\n",
    "value = Project.column(\"value\")\n",
    "value = value.tolist()\n",
    "\n",
    "node_color = Project.column(\"node_color\")\n",
    "node_color = node_color.tolist()\n",
    "\n",
    "project_title = Project.column(\"SankeyTitle\")\n",
    "project_title = project_title.tolist()\n",
    "project_title = project_title[0]\n",
    "\n",
    "node_hover = Project.column(\"node_hover\")\n",
    "node_hover = node_hover.tolist()\n",
    "\n",
    "link_hover = Project.column(\"link_hover\")\n",
    "link_hover = link_hover.tolist()\n",
    "\n",
    "link_colorrr = Project.column(\"link_colorrr\")\n",
    "link_colorrr = link_colorrr.tolist()\n",
    "\n",
    "AR1F1screen_array = AntibodyRecoveryHits.column(\"Primary1\")\n",
    "AR1F1screen_list = AR1F1screen_array.tolist()\n",
    "AR1F2screen_array = AntibodyRecoveryHits.column(\"Primary2\")\n",
    "AR1F2screen_list = AR1F2screen_array.tolist()\n",
    "\n",
    "AR2F1screen_array = AntibodyRecoveryHits.column(\"Confirmation1\")\n",
    "AR2F1screen_list = AR2F1screen_array.tolist()\n",
    "AR2F2screen_array = AntibodyRecoveryHits.column(\"Confirmation2\")\n",
    "AR2F2screen_list = AR2F2screen_array.tolist()\n",
    "\n",
    "AR3F1screen_array = AntibodyRecoveryHits.column(\"Tertiary1\")\n",
    "AR3F1screen_list = AR3F1screen_array.tolist()\n",
    "AR3F2screen_array = AntibodyRecoveryHits.column(\"Tertiary2\")\n",
    "AR3F2screen_list = AR3F2screen_array.tolist()"
   ]
  },
  {
   "cell_type": "code",
   "execution_count": 30,
   "id": "767b5e0e-11e7-40f5-b188-c20e7c327953",
   "metadata": {},
   "outputs": [],
   "source": [
    "#Python read empty excel cells as \"nan\". Remove the \"nan\" from the lists. \n",
    "nan = \"nan\"\n",
    "def remove_nan (list, nan):\n",
    "    while nan in list:\n",
    "        list.remove(nan)\n",
    "    return list"
   ]
  },
  {
   "cell_type": "code",
   "execution_count": 31,
   "id": "1cd7c55e-9cef-49e3-9108-82926b60d43c",
   "metadata": {},
   "outputs": [],
   "source": [
    "node_label = remove_nan(node_label, nan)\n",
    "source = remove_nan(source, nan)\n",
    "target = remove_nan(target, nan)\n",
    "value = remove_nan(value, nan)\n",
    "node_color = remove_nan(node_color, nan)\n",
    "node_hover = remove_nan(node_hover, nan)\n",
    "link_hover = remove_nan(link_hover, nan)\n",
    "link_colorrr = remove_nan(link_colorrr, nan)\n",
    "AR1F1screen = remove_nan(AR1F1screen_list, nan)\n",
    "AR2F1screen = remove_nan(AR2F1screen_list, nan)\n",
    "AR3F1screen = remove_nan(AR3F1screen_list, nan)\n",
    "AR1F2screen = remove_nan(AR1F2screen_list, nan)\n",
    "AR2F2screen = remove_nan(AR2F2screen_list, nan)\n",
    "AR3F2screen = remove_nan(AR3F2screen_list, nan)"
   ]
  },
  {
   "cell_type": "code",
   "execution_count": 32,
   "id": "c91c709b-bee3-4af1-a5a5-2084f2d621b7",
   "metadata": {},
   "outputs": [],
   "source": [
    "def ExtraSpace(list):\n",
    "    '''add 1 or 2 spaces depending on lenght of item'''\n",
    "    for i in range(len(list)):\n",
    "        if len(list[i]) == 5:\n",
    "            list[i] += \"  \" #1 space\n",
    "        if len(list[i]) == 4:\n",
    "            list[i] += \"   \" #2 spaces\n",
    "        else:\n",
    "            continue\n",
    "    return list \n",
    "\n",
    "def sublist(list, size):\n",
    "    '''Create sublists of size# elements from a bigger list'''\n",
    "    sublists = []\n",
    "    for i in range(0, len(list), size): \n",
    "        sublist = list[i:i + size]\n",
    "        sublists.append(sublist)\n",
    "    return sublists\n",
    "\n",
    "def AntibodyRecoveryBr(list):\n",
    "    '''Add <br> between each item in a list before subcloning'''\n",
    "    for i in range(1, len(list) * 2, 2):\n",
    "        list.insert(i, [\"<br>\"])\n",
    "    return list\n",
    "\n",
    "def br(list):\n",
    "    '''Add <br> between each item in a list after subcloning'''\n",
    "    for i in range(1, len(list) * 2, 2):\n",
    "        list.insert(i, \"<br>\")\n",
    "    return list\n",
    "\n",
    "def TextTable(list):\n",
    "    '''Turn list into string types'''\n",
    "    a = \"\"\n",
    "    for i in list:\n",
    "        for ii in i:\n",
    "            a += (f\"{' '}{ii},\")\n",
    "    return a"
   ]
  },
  {
   "cell_type": "code",
   "execution_count": 33,
   "id": "c4f64b99-56e3-4fc1-9ded-58adb235bccb",
   "metadata": {},
   "outputs": [],
   "source": [
    "HybridomaID = Project.column(\"Hybridoma ID\")\n",
    "HybridomaID = HybridomaID.tolist()\n",
    "HybridomaID = remove_nan(HybridomaID, nan)\n",
    "CloneABPoly = Project.column(\"Clone A or B or Poly?\")\n",
    "CloneABPoly = CloneABPoly.tolist()\n",
    "CloneABPoly = remove_nan(CloneABPoly, nan)\n",
    "\n",
    "Dict_CloneABPoly = zip(HybridomaID,CloneABPoly)\n",
    "Dict_CloneABPoly = dict(Dict_CloneABPoly)\n",
    "Dict_CloneABPoly\n",
    "\n",
    "A_clones = []\n",
    "B_clones = []\n",
    "Poly_clones = []\n",
    "\n",
    "for k , v in Dict_CloneABPoly.items():\n",
    "    if  v == \"A\":\n",
    "        A_clones.append(k)\n",
    "    elif v == \"B\":\n",
    "        B_clones.append(k)\n",
    "    else:\n",
    "        Poly_clones.append(k)\n",
    "\n",
    "A_clones = br(A_clones)\n",
    "B_clones = br(B_clones)\n",
    "Poly_clones = br(Poly_clones)"
   ]
  },
  {
   "cell_type": "code",
   "execution_count": 34,
   "id": "75024ecb-ce61-47e5-81e0-b23014cafa08",
   "metadata": {
    "scrolled": true
   },
   "outputs": [
    {
     "data": {
      "text/plain": [
       "[['4-M3   ',\n",
       "  '4-O11  ',\n",
       "  '4-O23  ',\n",
       "  '4-P3   ',\n",
       "  '5-A17  ',\n",
       "  '5-A5   ',\n",
       "  '5-A8   ',\n",
       "  '5-B13  ',\n",
       "  '5-B20  ',\n",
       "  '5-B7   ',\n",
       "  '5-C10  ',\n",
       "  '5-C14  ',\n",
       "  '5-C4   ',\n",
       "  '5-D15  ',\n",
       "  '5-D24  ',\n",
       "  '5-E12  ',\n",
       "  '5-E18  ',\n",
       "  '5-E7   ',\n",
       "  '5-F4   ',\n",
       "  '5-G19  '],\n",
       " ['<br>'],\n",
       " ['5-G5   ',\n",
       "  '5-H14  ',\n",
       "  '5-H21  ',\n",
       "  '5-H3   ',\n",
       "  '5-H4   ',\n",
       "  '5-I5   ',\n",
       "  '5-I9   ',\n",
       "  '5-J14  ',\n",
       "  '5-J21  ',\n",
       "  '5-J23  ',\n",
       "  '5-J3   ',\n",
       "  '5-J6   ',\n",
       "  '5-K22  ',\n",
       "  '5-K8   ',\n",
       "  '5-L20  ',\n",
       "  '5-L21  ',\n",
       "  '5-L22  ',\n",
       "  '5-L4   ',\n",
       "  '5-L8   ',\n",
       "  '5-M11  '],\n",
       " ['<br>'],\n",
       " ['5-M17  ',\n",
       "  '5-N10  ',\n",
       "  '5-N14  ',\n",
       "  '5-N20  ',\n",
       "  '5-N24  ',\n",
       "  '5-N5   ',\n",
       "  '5-N9   ',\n",
       "  '5-O9   ',\n",
       "  '5-P10  ',\n",
       "  '5-P23  ',\n",
       "  '5-P5   ',\n",
       "  '6-A16  ',\n",
       "  '6-A2   ',\n",
       "  '6-A3   ',\n",
       "  '6-D4   ',\n",
       "  '6-E22  ',\n",
       "  '6-F23  ',\n",
       "  '6-F24  ',\n",
       "  '6-G3   ',\n",
       "  '6-G9   '],\n",
       " ['<br>'],\n",
       " ['6-H13  ',\n",
       "  '6-I12  ',\n",
       "  '6-I7   ',\n",
       "  '6-J17  ',\n",
       "  '6-J21  ',\n",
       "  '6-J9   ',\n",
       "  '6-M10  ',\n",
       "  '6-M14  ',\n",
       "  '6-P11  ',\n",
       "  '6-P14  ',\n",
       "  '6-P2   ',\n",
       "  '7-A1   ',\n",
       "  '7-A13  ',\n",
       "  '7-A14  ',\n",
       "  '7-A18  ',\n",
       "  '7-A9   ',\n",
       "  '7-B16  ',\n",
       "  '7-B6   ',\n",
       "  '7-C13  ',\n",
       "  '7-C2   '],\n",
       " ['<br>'],\n",
       " ['7-C6   ',\n",
       "  '7-D15  ',\n",
       "  '7-D23  ',\n",
       "  '7-E14  ',\n",
       "  '7-E2   ',\n",
       "  '7-F1   ',\n",
       "  '7-F19  ',\n",
       "  '7-G10  ',\n",
       "  '7-G12  ',\n",
       "  '7-G13  ',\n",
       "  '7-G18  ',\n",
       "  '7-G22  ',\n",
       "  '7-H3   ',\n",
       "  '7-I20  ',\n",
       "  '7-I8   ',\n",
       "  '7-K13  ',\n",
       "  '7-K14  ',\n",
       "  '7-L18  ',\n",
       "  '7-L6   ',\n",
       "  '7-M10  '],\n",
       " ['<br>'],\n",
       " ['7-M18  ',\n",
       "  '7-M3   ',\n",
       "  '7-N10  ',\n",
       "  '7-N13  ',\n",
       "  '7-N5   ',\n",
       "  '7-O15  ',\n",
       "  '7-O6   ',\n",
       "  '8-A14  ',\n",
       "  '8-A16  ',\n",
       "  '8-A22  ',\n",
       "  '8-B5   ',\n",
       "  '8-C11  ',\n",
       "  '8-C12  ',\n",
       "  '8-C15  ',\n",
       "  '8-C16  ',\n",
       "  '8-D1   ',\n",
       "  '8-D22  ',\n",
       "  '8-D8   ',\n",
       "  '8-E13  ',\n",
       "  '8-H24  '],\n",
       " ['<br>'],\n",
       " ['8-H4   ',\n",
       "  '8-H9   ',\n",
       "  '8-I6   ',\n",
       "  '8-J15  ',\n",
       "  '8-J19  ',\n",
       "  '8-K15  ',\n",
       "  '8-K19  ',\n",
       "  '8-K22  ',\n",
       "  '8-L18  ',\n",
       "  '8-O12  ',\n",
       "  '8-O17  ',\n",
       "  '8-P24  ',\n",
       "  '8-P7   ',\n",
       "  '9-B12  ',\n",
       "  '9-B24  ',\n",
       "  '9-C13  ',\n",
       "  '9-C18  ',\n",
       "  '9-C19  ',\n",
       "  '9-C5   ',\n",
       "  '9-D13  '],\n",
       " ['<br>'],\n",
       " ['9-D19  ',\n",
       "  '9-E19  ',\n",
       "  '9-F14  ',\n",
       "  '9-F19  ',\n",
       "  '9-G11  ',\n",
       "  '9-G21  ',\n",
       "  '9-H1   ',\n",
       "  '9-H22  ',\n",
       "  '9-H8   ',\n",
       "  '9-I10  ',\n",
       "  '9-J18  ',\n",
       "  '9-K11  ',\n",
       "  '9-K14  ',\n",
       "  '9-L1   ',\n",
       "  '9-L10  ',\n",
       "  '9-M13  ',\n",
       "  '9-M2   ',\n",
       "  '9-M6   ',\n",
       "  '9-N19  ',\n",
       "  '9-N21  '],\n",
       " ['<br>'],\n",
       " ['9-N3   ',\n",
       "  '9-O12  ',\n",
       "  '9-O22  ',\n",
       "  '10-A15',\n",
       "  '10-B24',\n",
       "  '10-C7  ',\n",
       "  '10-D10',\n",
       "  '10-D18',\n",
       "  '10-D3  ',\n",
       "  '10-F21',\n",
       "  '10-G20',\n",
       "  '10-H8  ',\n",
       "  '10-J18',\n",
       "  '10-J21',\n",
       "  '10-K3  ',\n",
       "  '10-K8  ',\n",
       "  '10-L12',\n",
       "  '10-M11',\n",
       "  '10-N18',\n",
       "  '10-N6  '],\n",
       " ['<br>'],\n",
       " ['10-O22', '10-O4  '],\n",
       " ['<br>']]"
      ]
     },
     "execution_count": 34,
     "metadata": {},
     "output_type": "execute_result"
    }
   ],
   "source": [
    "AR1F1Screen = ExtraSpace(AR1F1screen) \n",
    "sublist_AR1F1Screen = sublist(AR1F1Screen, 20)\n",
    "sublist_AR1F1Screen = AntibodyRecoveryBr(sublist_AR1F1Screen)\n",
    "\n",
    "AR1F2Screen = ExtraSpace(AR1F2screen) \n",
    "sublist_AR1F2Screen = sublist(AR1F2Screen, 20)\n",
    "sublist_AR1F2Screen = AntibodyRecoveryBr(sublist_AR1F2Screen)\n",
    "\n",
    "AR2F1Screen = ExtraSpace(AR2F1screen) \n",
    "sublist_AR2F1Screen = sublist(AR2F1Screen, 20)\n",
    "sublist_AR2F1Screen = AntibodyRecoveryBr(sublist_AR2F1Screen)\n",
    "\n",
    "AR2F2Screen = ExtraSpace(AR2F2screen) \n",
    "sublist_AR2F2Screen = sublist(AR2F2Screen, 20)\n",
    "sublist_AR2F2Screen = AntibodyRecoveryBr(sublist_AR2F2Screen)\n",
    "\n",
    "AR3F1Screen = ExtraSpace(AR3F1screen) \n",
    "sublist_AR3F1Screen = sublist(AR3F1Screen, 20)\n",
    "sublist_AR3F1Screen = AntibodyRecoveryBr(sublist_AR3F1Screen)\n",
    "\n",
    "AR3F2Screen = ExtraSpace(AR3F2screen) \n",
    "sublist_AR3F2Screen = sublist(AR3F2Screen, 20)\n",
    "sublist_AR3F2Screen = AntibodyRecoveryBr(sublist_AR3F2Screen)\n",
    "sublist_AR3F2Screen"
   ]
  },
  {
   "cell_type": "code",
   "execution_count": 35,
   "id": "3839e5bc-b103-4b11-9415-073bc1be329c",
   "metadata": {},
   "outputs": [],
   "source": [
    "TextTable_AR1F1Screen = TextTable(sublist_AR1F1Screen)\n",
    "TextTable_AR2F1Screen = TextTable(sublist_AR2F1Screen)\n",
    "TextTable_AR3F1Screen = TextTable(sublist_AR3F1Screen)\n",
    "TextTable_AR1F2Screen = TextTable(sublist_AR1F2Screen)\n",
    "TextTable_AR2F2Screen = TextTable(sublist_AR2F2Screen)\n",
    "TextTable_AR3F2Screen = TextTable(sublist_AR3F2Screen)\n",
    "TextTable_A_clones = ''.join(A_clones)\n",
    "TextTable_B_clones = ''.join(B_clones)\n",
    "TextTable_Poly_clones = ''.join(Poly_clones)\n",
    "\n",
    "link_hover[2] = TextTable_AR1F1Screen\n",
    "link_hover[3] = TextTable_AR1F2Screen\n",
    "link_hover[4] = TextTable_AR2F1Screen\n",
    "link_hover[5] = TextTable_AR2F2Screen\n",
    "#link_hover[6] = TextTable_AR3F1Screen #Include if profile nodes exist between tertiary screen and subcloning. \n",
    "#link_hover[7] = TextTable_AR3F2Screen #Include if profile nodes exist between tertiary screen and subcloning. \n",
    "link_hover[6] = TextTable_A_clones\n",
    "link_hover[8] = TextTable_A_clones\n",
    "link_hover[7] = TextTable_B_clones\n",
    "link_hover[9] = TextTable_B_clones\n",
    "link_hover[82] = TextTable_Poly_clones\n",
    "link_hover[83] = TextTable_Poly_clones"
   ]
  },
  {
   "cell_type": "code",
   "execution_count": 36,
   "id": "b5a2e246-9dee-493d-940b-5f534cc6e64e",
   "metadata": {
    "scrolled": true
   },
   "outputs": [
    {
     "data": {
      "text/plain": [
       "['rgba(0,0,0, 0.4)',\n",
       " 'rgba(0,0,0, 0.4)',\n",
       " 'rgba(0,0,0, 0.4)',\n",
       " 'rgba(0,0,0, 0.4)',\n",
       " 'rgba(0,0,0, 0.4)',\n",
       " 'rgba(0,0,0, 0.4)',\n",
       " 'rgba(30,144,255, 0.4)',\n",
       " 'rgba(30,144,255, 0.4)',\n",
       " 'rgba(255,0,0, 0.4)',\n",
       " 'rgba(255,0,0, 0.4)',\n",
       " 'rgba(255,215,0, 0.4)',\n",
       " 'rgba(255,215,0, 0.4)',\n",
       " 'rgba(255,215,0, 0.4)',\n",
       " 'rgba(255,215,0, 0.4)',\n",
       " 'rgba(255,215,0, 0.4)',\n",
       " 'rgba(255,215,0, 0.4)',\n",
       " 'rgba(255,215,0, 0.4)',\n",
       " 'rgba(255,215,0, 0.4)',\n",
       " 'rgba(255,215,0, 0.4)',\n",
       " 'rgba(255,215,0, 0.4)',\n",
       " 'rgba(255,215,0, 0.4)',\n",
       " 'rgba(255,215,0, 0.4)',\n",
       " 'rgba(128,0,128, 0.4)',\n",
       " 'rgba(128,0,128, 0.4)',\n",
       " 'rgba(128,0,128, 0.4)',\n",
       " 'rgba(128,0,128, 0.4)',\n",
       " 'rgba(128,0,128, 0.4)',\n",
       " 'rgba(128,0,128, 0.4)',\n",
       " 'rgba(128,0,128, 0.4)',\n",
       " 'rgba(128,0,128, 0.4)',\n",
       " 'rgba(128,0,128, 0.4)',\n",
       " 'rgba(128,0,128, 0.4)',\n",
       " 'rgba(128,0,128, 0.4)',\n",
       " 'rgba(128,0,128, 0.4)',\n",
       " 'rgba(0,0,139, 0.4)',\n",
       " 'rgba(0,0,139, 0.4)',\n",
       " 'rgba(0,0,139, 0.4)',\n",
       " 'rgba(0,0,139, 0.4)',\n",
       " 'rgba(0,0,139, 0.4)',\n",
       " 'rgba(0,0,139, 0.4)',\n",
       " 'rgba(0,0,139, 0.4)',\n",
       " 'rgba(0,0,139, 0.4)',\n",
       " 'rgba(0,0,139, 0.4)',\n",
       " 'rgba(0,0,139, 0.4)',\n",
       " 'rgba(0,0,139, 0.4)',\n",
       " 'rgba(0,0,139, 0.4)',\n",
       " 'rgba(0,0,139, 0.4)',\n",
       " 'rgba(0,0,139, 0.4)',\n",
       " 'rgba(0,0,139, 0.4)',\n",
       " 'rgba(0,0,139, 0.4)',\n",
       " 'rgba(0,0,139, 0.4)',\n",
       " 'rgba(0,0,139, 0.4)',\n",
       " 'rgba(0,0,139, 0.4)',\n",
       " 'rgba(0,0,139, 0.4)',\n",
       " 'rgba(0,0,139, 0.4)',\n",
       " 'rgba(0,0,139, 0.4)',\n",
       " 'rgba(0,0,139, 0.4)',\n",
       " 'rgba(0,0,139, 0.4)',\n",
       " 'rgba(0,0,139, 0.4)',\n",
       " 'rgba(0,0,139, 0.4)',\n",
       " 'rgba(0,0,139, 0.4)',\n",
       " 'rgba(0,0,139, 0.4)',\n",
       " 'rgba(0,0,139, 0.4)',\n",
       " 'rgba(0,0,139, 0.4)',\n",
       " 'rgba(0,0,139, 0.4)',\n",
       " 'rgba(0,0,139, 0.4)',\n",
       " 'rgba(0,0,139, 0.4)',\n",
       " 'rgba(0,0,139, 0.4)',\n",
       " 'rgba(0,0,139, 0.4)',\n",
       " 'rgba(0,0,139, 0.4)',\n",
       " 'rgba(0,0,139, 0.4)',\n",
       " 'rgba(0,0,139, 0.4)',\n",
       " 'rgba(0,0,139, 0.4)',\n",
       " 'rgba(0,0,139, 0.4)',\n",
       " 'rgba(0,0,139, 0.4)',\n",
       " 'rgba(0,0,139, 0.4)',\n",
       " 'rgba(0,0,139, 0.4)',\n",
       " 'rgba(0,0,139, 0.4)',\n",
       " 'rgba(0,0,139, 0.4)',\n",
       " 'rgba(0,0,139, 0.4)',\n",
       " 'rgba(0,0,139, 0.4)',\n",
       " 'rgba(0,0,139, 0.4)',\n",
       " 'rgba(30,144,255, 0.4)',\n",
       " 'rgba(255,0,0, 0.4)',\n",
       " 'rgba(0,0,139, 0.4)',\n",
       " 'rgba(0,0,139, 0.4)',\n",
       " 'rgba(0,0,139, 0.4)',\n",
       " 'rgba(0,0,139, 0.4)',\n",
       " 'rgba(0,0,139, 0.4)',\n",
       " 'rgba(0,0,139, 0.4)',\n",
       " 'rgba(0,0,139, 0.4)',\n",
       " 'rgba(0,0,139, 0.4)',\n",
       " 'rgba(0,0,139, 0.4)',\n",
       " 'rgba(0,0,139, 0.4)',\n",
       " 'rgba(0,0,139, 0.4)',\n",
       " 'rgba(0,0,139, 0.4)',\n",
       " 'rgba(0,0,139, 0.4)',\n",
       " 'rgba(0,0,139, 0.4)',\n",
       " 'rgba(0,0,139, 0.4)',\n",
       " 'rgba(0,0,139, 0.4)',\n",
       " 'rgba(0,0,139, 0.4)',\n",
       " 'rgba(0,0,139, 0.4)',\n",
       " 'rgba(0,0,139, 0.4)',\n",
       " 'rgba(0,0,139, 0.4)',\n",
       " 'rgba(0,0,139, 0.4)',\n",
       " 'rgba(0,0,139, 0.4)',\n",
       " 'rgba(0,0,139, 0.4)',\n",
       " 'rgba(0,0,139, 0.4)']"
      ]
     },
     "execution_count": 36,
     "metadata": {},
     "output_type": "execute_result"
    }
   ],
   "source": [
    "#List comprehension to create node color to match link color.\n",
    "node_label_color = {x:y for x, y in zip(node_label, node_color)}\n",
    "link_color = [node_label_color[x] for x in target]\n",
    "link_color = [\"rgba({},{},{}, 0.4)\".format(hex_to_rgb(x)[0], hex_to_rgb(x)[1], hex_to_rgb(x)[2]) for x in link_color] \n",
    "link_color"
   ]
  },
  {
   "cell_type": "code",
   "execution_count": 37,
   "id": "5f582690-762a-43b1-8442-5821c1ba5bc6",
   "metadata": {},
   "outputs": [
    {
     "data": {
      "text/plain": [
       "{'Fusion 1 <br># hybridomas =  2304<br>Fusion efficiency =  1.2<br># of wells screened:  1920<br>Mse ID#  9, 10<br>Mse strain(s):  qxv<br>Fused b-cells:  Lymphocytes<br>Immunization method:  HT-Hock<br>Immunogen:  aaa<br>Final boost:  aaa': 0,\n",
       " 'Fusion 2 <br># hybridomas =  2496<br>Fusion efficiency =  1.3<br># of wells screened:  1920<br>Mse ID#  1, 2, 4, 8<br>Mse strain(s):  Mixed, bxs, kxg7<br>Fused b-cells:  Lymphocytes<br>Immunization method:  HT-Hock<br>Immunogen:  aaa<br>Final boost:  aaa': 1,\n",
       " \"<b>Primary<br>screen<br><span style='color:red'>384 hits\": 2,\n",
       " \"<b>Confirmation<br>screen<br><span style='color:red'>355/384hits\": 3,\n",
       " \"<b>Tertiary screen<br><span style='color:red'>337/355 hits<br><span style='color:black'><b>expanded & cryopreserved\": 4,\n",
       " 'Clone A<br>(24/24)': 5,\n",
       " 'Clone B (21/24)': 6,\n",
       " 'BVP<br>(21/24 clean)': 7,\n",
       " '<b>Sequencing</b> <br>( Single heavy & light<br> chain obtained<br> for 21/24)': 8,\n",
       " '2-O1': 9,\n",
       " '3-D11': 10,\n",
       " '3-O21': 11,\n",
       " '4-A16': 12,\n",
       " '4-N1': 13,\n",
       " '5-I19': 14,\n",
       " '5-L22': 15,\n",
       " '5-L6': 16,\n",
       " '7-E1': 17,\n",
       " '7-P21': 18,\n",
       " '8-E6': 19,\n",
       " '9-B7': 20,\n",
       " 'Top hit #13': 21,\n",
       " 'Top hit #14': 22,\n",
       " 'Top hit #15': 23,\n",
       " 'Top hit #16': 24,\n",
       " 'Top hit #17': 25,\n",
       " 'Top hit #18': 26,\n",
       " 'Top hit #19': 27,\n",
       " 'Top hit #20': 28,\n",
       " 'Top hit #21': 29,\n",
       " 'Top hit #22': 30,\n",
       " 'Top hit #23': 31,\n",
       " 'Top hit #24': 32,\n",
       " 'Parental/Poly<br>(3/12)': 33}"
      ]
     },
     "execution_count": 37,
     "metadata": {},
     "output_type": "execute_result"
    }
   ],
   "source": [
    "#Create a dictionary for the node labels as keys assigned to a value\n",
    "node_dict = {y:x for x, y in enumerate(node_label)}\n",
    "node_dict"
   ]
  },
  {
   "cell_type": "code",
   "execution_count": 38,
   "id": "9b414fc5-7338-4cf7-8167-e062fd5f1a3d",
   "metadata": {},
   "outputs": [],
   "source": [
    "#MODIFY \n",
    "#Enter \"experiment name\" between [] for node_label.   \n",
    "node_dict = {y:x for x, y in enumerate(node_label)}\n",
    "node_dict\n",
    "#Trying to get text to align right on node\n",
    "node_alignment_dict = {}\n",
    "for i in node_label:\n",
    "    node_alignment_dict[i] = \"right\""
   ]
  },
  {
   "cell_type": "code",
   "execution_count": 39,
   "id": "0a176cc2-2519-4306-8627-65aba9942bdf",
   "metadata": {},
   "outputs": [],
   "source": [
    "#More list comprehensions\n",
    "source_node = [node_dict[x] for x in source]\n",
    "target_node = [node_dict[x] for x in target]"
   ]
  },
  {
   "cell_type": "code",
   "execution_count": 41,
   "id": "9aa6fa6b-695f-47bd-8cb5-ff0faf185615",
   "metadata": {},
   "outputs": [],
   "source": [
    "Layout = go.Layout(font_size = 12)\n",
    "#Sankey parameters\n",
    "fig = go.Figure(\n",
    "    layout = Layout,\n",
    "    data=[go.Sankey(\n",
    "        node = dict(\n",
    "            label = node_label,\n",
    "            color = node_color,\n",
    "            x = x_posi,\n",
    "            y = y_posi,\n",
    "            customdata = node_hover,\n",
    "            hovertemplate= '%{customdata}'\n",
    "        ),\n",
    "        link = dict(\n",
    "            source = source_node,\n",
    "            target = target_node,\n",
    "            value = value, \n",
    "            color = link_colorrr,\n",
    "            customdata = link_hover,\n",
    "            hovertemplate= '%{customdata}'\n",
    "        ))])"
   ]
  },
  {
   "cell_type": "code",
   "execution_count": 42,
   "id": "d5f3c86b-45a9-4519-83c5-945e87a0b41f",
   "metadata": {},
   "outputs": [],
   "source": [
    "#Making imaginary grid to guide me on node placement and static annotation placement\n",
    "fig_annotate = fig.add_trace(go.Scatter(\n",
    "    x=[1],\n",
    "    y=[1],\n",
    "    mode = \"none\"))"
   ]
  },
  {
   "cell_type": "code",
   "execution_count": 43,
   "id": "6d2bdb4f-eae7-4146-970d-55731cc259e5",
   "metadata": {},
   "outputs": [
    {
     "data": {
      "application/vnd.plotly.v1+json": {
       "config": {
        "plotlyServerURL": "https://plot.ly"
       },
       "data": [
        {
         "link": {
          "color": [
           "rgba(255,215,0, 0.4)",
           "rgba(128,0,128, 0.4)",
           "rgba(255,215,0, 0.4)",
           "rgba(128,0,128, 0.4)",
           "rgba(255,215,0, 0.4)",
           "rgba(128,0,128, 0.4)",
           "rgba(30,144,255, 0.4)",
           "rgba(30,144,255, 0.4)",
           "rgba(255,0,0, 0.4)",
           "rgba(255,0,0, 0.4)",
           "rgba(255,215,0,0.4)",
           "rgba(255,215,0,0.4)",
           "rgba(255,215,0,0.4)",
           "rgba(255,215,0,0.4)",
           "rgba(255,215,0,0.4)",
           "rgba(255,215,0,0.4)",
           "rgba(255,215,0,0.4)",
           "rgba(255,215,0,0.4)",
           "rgba(255,215,0,0.4)",
           "rgba(255,215,0,0.4)",
           "rgba(255,215,0,0.4)",
           "rgba(255,215,0,0.4)",
           "rgba(128,0,128,0.4)",
           "rgba(128,0,128,0.4)",
           "rgba(128,0,128,0.4)",
           "rgba(128,0,128,0.4)",
           "rgba(128,0,128,0.4)",
           "rgba(128,0,128,0.4)",
           "rgba(128,0,128,0.4)",
           "rgba(128,0,128,0.4)",
           "rgba(128,0,128,0.4)",
           "rgba(128,0,128,0.4)",
           "rgba(128,0,128,0.4)",
           "rgba(128,0,128,0.4)",
           "rgba(255,215,0,0.4)",
           "rgba(255,215,0,0.4)",
           "rgba(255,215,0,0.4)",
           "rgba(255,215,0,0.4)",
           "rgba(255,215,0,0.4)",
           "rgba(255,215,0,0.4)",
           "rgba(255,215,0,0.4)",
           "rgba(255,215,0,0.4)",
           "rgba(255,215,0,0.4)",
           "rgba(255,215,0,0.4)",
           "rgba(255,215,0,0.4)",
           "rgba(255,215,0,0.4)",
           "rgba(128,0,128,0.4)",
           "rgba(128,0,128,0.4)",
           "rgba(128,0,128,0.4)",
           "rgba(128,0,128,0.4)",
           "rgba(128,0,128,0.4)",
           "rgba(128,0,128,0.4)",
           "rgba(128,0,128,0.4)",
           "rgba(128,0,128,0.4)",
           "rgba(128,0,128,0.4)",
           "rgba(128,0,128,0.4)",
           "rgba(128,0,128,0.4)",
           "rgba(128,0,128,0.4)",
           "rgba(255,215,0,0.4)",
           "rgba(255,215,0,0.4)",
           "rgba(255,215,0,0.4)",
           "rgba(255,215,0,0.4)",
           "rgba(255,215,0,0.4)",
           "rgba(255,215,0,0.4)",
           "rgba(255,215,0,0.4)",
           "rgba(255,215,0,0.4)",
           "rgba(255,215,0,0.4)",
           "rgba(255,215,0,0.4)",
           "rgba(255,215,0,0.4)",
           "rgba(255,215,0,0.4)",
           "rgba(128,0,128,0.4)",
           "rgba(128,0,128,0.4)",
           "rgba(128,0,128,0.4)",
           "rgba(128,0,128,0.4)",
           "rgba(128,0,128,0.4)",
           "rgba(128,0,128,0.4)",
           "rgba(128,0,128,0.4)",
           "rgba(128,0,128,0.4)",
           "rgba(128,0,128,0.4)",
           "rgba(128,0,128,0.4)",
           "rgba(128,0,128,0.4)",
           "rgba(128,0,128,0.4)",
           "rgba(30,144,255, 0.4)",
           "rgba(255,0,0, 0.4)",
           "rgba(255,215,0,0.4)",
           "rgba(255,215,0,0.4)",
           "rgba(255,215,0,0.4)",
           "rgba(255,215,0,0.4)",
           "rgba(255,215,0,0.4)",
           "rgba(255,215,0,0.4)",
           "rgba(255,215,0,0.4)",
           "rgba(255,215,0,0.4)",
           "rgba(255,215,0,0.4)",
           "rgba(255,215,0,0.4)",
           "rgba(255,215,0,0.4)",
           "rgba(255,215,0,0.4)",
           "rgba(128,0,128,0.4)",
           "rgba(128,0,128,0.4)",
           "rgba(128,0,128,0.4)",
           "rgba(128,0,128,0.4)",
           "rgba(128,0,128,0.4)",
           "rgba(128,0,128,0.4)",
           "rgba(128,0,128,0.4)",
           "rgba(128,0,128,0.4)",
           "rgba(128,0,128,0.4)",
           "rgba(128,0,128,0.4)",
           "rgba(128,0,128,0.4)",
           "rgba(128,0,128,0.4)"
          ],
          "customdata": [
           "Fusion efficiency =1.2<br>Pool 1 Lymphocytes<br>Mse 9, 10<br>Strains: qxv",
           "Fusion efficiency =1.3<br>Pool 1 Lymphocytes<br>Mse 1, 2, 4, 8<br>Strains: Mixed, bxs, kxg7",
           " [192 HITS]<br>, 1-A2   , 1-B21  , 1-B3   , 1-B7   , 1-C1   , 1-C13  , 1-C16  , 1-C17  , 1-C20  , 1-C23  , 1-C6   , 1-C8   , 1-D11  , 1-D24  , 1-D5   , 1-E10  , 1-E15  , 1-E16  , 1-E2   , <br>, 1-E24  , 1-F17  , 1-F19  , 1-F2   , 1-G1   , 1-G10  , 1-G4   , 1-H10  , 1-H15  , 1-H18  , 1-H24  , 1-H5   , 1-H6   , 1-H9   , 1-I11  , 1-I16  , 1-I21  , 1-I5   , 1-I9   , 1-J10  , <br>, 1-J13  , 1-J22  , 1-J24  , 1-J9   , 1-K16  , 1-K22  , 1-K23  , 1-K24  , 1-K9   , 1-L20  , 1-L5   , 1-M21  , 1-M24  , 1-M4   , 1-N19  , 1-N20  , 1-N3   , 1-O23  , 1-O9   , 1-P13  , <br>, 1-P18  , 1-P19  , 1-P7   , 1-P8   , 2-A13  , 2-A20  , 2-A23  , 2-A8   , 2-B1   , 2-B12  , 2-B3   , 2-B4   , 2-C13  , 2-C20  , 2-D13  , 2-D16  , 2-E12  , 2-E13  , 2-E2   , 2-E21  , <br>, 2-E5   , 2-E6   , 2-E9   , 2-F10  , 2-F11  , 2-F2   , 2-F24  , 2-G11  , 2-G16  , 2-G3   , 2-H12  , 2-H14  , 2-H15  , 2-H5   , 2-I16  , 2-I22  , 2-I6   , 2-J17  , 2-J23  , 2-K10  , <br>, 2-K3   , 2-L1   , 2-L11  , 2-L23  , 2-L3   , 2-M10  , 2-M18  , 2-M24  , 2-M3   , 2-M4   , 2-M5   , 2-M7   , 2-N6   , 2-N7   , 2-O14  , 2-O2   , 2-O21  , 2-P12  , 3-A6   , 3-B16  , <br>, 3-B23  , 3-B8   , 3-C13  , 3-C17  , 3-C18  , 3-C20  , 3-C5   , 3-D10  , 3-D12  , 3-D19  , 3-D23  , 3-D8   , 3-E11  , 3-E16  , 3-E8   , 3-F15  , 3-F20  , 3-F9   , 3-G13  , 3-G15  , <br>, 3-G24  , 3-H13  , 3-H16  , 3-H21  , 3-I20  , 3-I3   , 3-I5   , 3-I9   , 3-J15  , 3-J19  , 3-J6   , 3-K14  , 3-K16  , 3-K18  , 3-K20  , 3-K21  , 3-K3   , 3-K8   , 3-L1   , 3-L12  , <br>, 3-L19  , 3-L3   , 3-M16  , 3-M2   , 3-M23  , 3-M7   , 3-M8   , 3-N4   , 3-N8   , 3-O12  , 3-O14  , 3-O20  , 3-P11  , 3-P9   , 4-A12  , 4-A2   , 4-A23  , 4-B1   , 4-B15  , 4-C16  , <br>, 4-C21  , 4-D21  , 4-D7   , 4-E10  , 4-E18  , 4-E3   , 4-F13  , 4-G24  , 4-G7   , 4-H3   , 4-H7   , 4-I13  , 4-K14  , <br>,",
           " [192 HITS]<br>, 4-K20  , 4-K7   , 4-M24  , 4-M3   , 4-M6   , 4-N1   , 4-N4   , 4-O11  , 4-O20  , 4-O21  , 4-O23  , 4-P12  , 4-P3   , 4-P9   , 5-A17  , 5-A5   , 5-A8   , 5-B13  , 5-B20  , <br>, 5-B7   , 5-C10  , 5-C14  , 5-C4   , 5-D15  , 5-D24  , 5-E12  , 5-E18  , 5-E7   , 5-F4   , 5-G19  , 5-G5   , 5-H14  , 5-H21  , 5-H3   , 5-H4   , 5-I5   , 5-I9   , 5-J14  , 5-J21  , <br>, 5-J23  , 5-J3   , 5-J6   , 5-K22  , 5-K8   , 5-L20  , 5-L21  , 5-L22  , 5-L4   , 5-L8   , 5-M11  , 5-M17  , 5-N10  , 5-N14  , 5-N20  , 5-N24  , 5-N5   , 5-N9   , 5-O9   , 5-P10  , <br>, 5-P23  , 5-P5   , 6-A16  , 6-A2   , 6-A3   , 6-D4   , 6-E22  , 6-F23  , 6-F24  , 6-G3   , 6-G9   , 6-H13  , 6-I12  , 6-I7   , 6-J17  , 6-J21  , 6-J9   , 6-M10  , 6-M14  , 6-P11  , <br>, 6-P14  , 6-P2   , 7-A1   , 7-A13  , 7-A14  , 7-A18  , 7-A9   , 7-B16  , 7-B6   , 7-C13  , 7-C2   , 7-C6   , 7-D15  , 7-D23  , 7-E14  , 7-E2   , 7-F1   , 7-F19  , 7-G10  , 7-G12  , <br>, 7-G13  , 7-G18  , 7-G22  , 7-H3   , 7-I20  , 7-I8   , 7-K13  , 7-K14  , 7-L18  , 7-L6   , 7-M10  , 7-M18  , 7-M3   , 7-N10  , 7-N13  , 7-N5   , 7-O15  , 7-O6   , 8-A14  , 8-A16  , <br>, 8-A22  , 8-B5   , 8-C11  , 8-C12  , 8-C15  , 8-C16  , 8-D1   , 8-D22  , 8-D8   , 8-E13  , 8-H24  , 8-H4   , 8-H9   , 8-I6   , 8-J15  , 8-J19  , 8-K15  , 8-K19  , 8-K22  , 8-L18  , <br>, 8-O12  , 8-O17  , 8-P24  , 8-P7   , 9-B12  , 9-B24  , 9-C13  , 9-C18  , 9-C19  , 9-C5   , 9-D13  , 9-D19  , 9-E19  , 9-F14  , 9-F19  , 9-G11  , 9-G21  , 9-H1   , 9-H22  , 9-H8   , <br>, 9-I10  , 9-J18  , 9-K11  , 9-K14  , 9-L1   , 9-L10  , 9-M13  , 9-M2   , 9-M6   , 9-N19  , 9-N21  , 9-N3   , 9-O12  , 9-O22  , 10-A15, 10-B24, 10-C7  , 10-D10, 10-D18, 10-D3  , <br>, 10-F21, 10-G20, 10-H8  , 10-J18, 10-J21, 10-K3  , 10-K8  , 10-L12, 10-M11, 10-N18, 10-N6  , 10-O22, 10-O4  , <br>,",
           " [187 HITS]<br>, 1-B21  , 1-B7   , 1-C13  , 1-C17  , 1-C23  , 1-C6   , 1-C8   , 1-D11  , 1-D24  , 1-D5   , 1-E10  , 1-E15  , 1-E16  , 1-E2   , 1-E24  , 1-F17  , 1-F19  , 1-F2   , 1-G1   , <br>, 1-G10  , 1-G4   , 1-H10  , 1-H15  , 1-H18  , 1-H24  , 1-H5   , 1-H6   , 1-H9   , 1-I11  , 1-I16  , 1-I21  , 1-I5   , 1-I9   , 1-J10  , 1-J13  , 1-J22  , 1-J24  , 1-J9   , 1-K16  , <br>, 1-K22  , 1-K23  , 1-K24  , 1-K9   , 1-L20  , 1-L5   , 1-M21  , 1-M24  , 1-M4   , 1-N19  , 1-N20  , 1-N3   , 1-O23  , 1-O9   , 1-P13  , 1-P18  , 1-P19  , 1-P7   , 1-P8   , 2-A13  , <br>, 2-A20  , 2-A23  , 2-A8   , 2-B1   , 2-B12  , 2-B3   , 2-B4   , 2-C13  , 2-C20  , 2-D13  , 2-D16  , 2-E12  , 2-E13  , 2-E2   , 2-E21  , 2-E5   , 2-E6   , 2-E9   , 2-F10  , 2-F11  , <br>, 2-F2   , 2-F24  , 2-G11  , 2-G16  , 2-G3   , 2-H12  , 2-H14  , 2-H15  , 2-H5   , 2-I16  , 2-I22  , 2-I6   , 2-J17  , 2-J23  , 2-K10  , 2-K3   , 2-L1   , 2-L11  , 2-L23  , 2-L3   , <br>, 2-M10  , 2-M18  , 2-M24  , 2-M3   , 2-M4   , 2-M5   , 2-M7   , 2-N6   , 2-N7   , 2-O14  , 2-O2   , 2-O21  , 2-P12  , 3-A6   , 3-B16  , 3-B23  , 3-B8   , 3-C13  , 3-C17  , 3-C18  , <br>, 3-C20  , 3-C5   , 3-D10  , 3-D12  , 3-D19  , 3-D23  , 3-D8   , 3-E11  , 3-E16  , 3-E8   , 3-F15  , 3-F20  , 3-F9   , 3-G13  , 3-G15  , 3-G24  , 3-H13  , 3-H16  , 3-H21  , 3-I20  , <br>, 3-I3   , 3-I5   , 3-I9   , 3-J15  , 3-J19  , 3-J6   , 3-K14  , 3-K16  , 3-K18  , 3-K20  , 3-K21  , 3-K3   , 3-K8   , 3-L1   , 3-L12  , 3-L19  , 3-L3   , 3-M16  , 3-M2   , 3-M23  , <br>, 3-M7   , 3-M8   , 3-N4   , 3-N8   , 3-O12  , 3-O14  , 3-O20  , 3-P11  , 3-P9   , 4-A12  , 4-A2   , 4-A23  , 4-B1   , 4-B15  , 4-C16  , 4-C21  , 4-D21  , 4-D7   , 4-E10  , 4-E18  , <br>, 4-E3   , 4-F13  , 4-G24  , 4-G7   , 4-H3   , 4-H7   , 4-I13  , 4-K14  , <br>,",
           " [187 HITS]<br>, 4-K7   , 4-M3   , 4-N1   , 4-O11  , 4-O21  , 4-O23  , 4-P12  , 4-P3   , 4-P9   , 5-A17  , 5-A5   , 5-A8   , 5-B13  , 5-B20  , 5-B7   , 5-C10  , 5-C14  , 5-C4   , 5-D15  , <br>, 5-D24  , 5-E12  , 5-E18  , 5-E7   , 5-F4   , 5-G19  , 5-G5   , 5-H14  , 5-H21  , 5-H3   , 5-H4   , 5-I5   , 5-I9   , 5-J14  , 5-J21  , 5-J23  , 5-J3   , 5-J6   , 5-K22  , 5-K8   , <br>, 5-L20  , 5-L21  , 5-L22  , 5-L4   , 5-L8   , 5-M11  , 5-M17  , 5-N10  , 5-N14  , 5-N20  , 5-N24  , 5-N5   , 5-N9   , 5-O9   , 5-P10  , 5-P23  , 5-P5   , 6-A16  , 6-A2   , 6-A3   , <br>, 6-D4   , 6-E22  , 6-F23  , 6-F24  , 6-G3   , 6-G9   , 6-H13  , 6-I12  , 6-I7   , 6-J17  , 6-J21  , 6-J9   , 6-M10  , 6-M14  , 6-P11  , 6-P14  , 6-P2   , 7-A1   , 7-A13  , 7-A14  , <br>, 7-A18  , 7-A9   , 7-B16  , 7-B6   , 7-C13  , 7-C2   , 7-C6   , 7-D15  , 7-D23  , 7-E14  , 7-E2   , 7-F1   , 7-F19  , 7-G10  , 7-G12  , 7-G13  , 7-G18  , 7-G22  , 7-H3   , 7-I20  , <br>, 7-I8   , 7-K13  , 7-K14  , 7-L18  , 7-L6   , 7-M10  , 7-M18  , 7-M3   , 7-N10  , 7-N13  , 7-N5   , 7-O15  , 7-O6   , 8-A14  , 8-A16  , 8-A22  , 8-B5   , 8-C11  , 8-C12  , 8-C15  , <br>, 8-C16  , 8-D1   , 8-D22  , 8-D8   , 8-E13  , 8-H24  , 8-H4   , 8-H9   , 8-I6   , 8-J15  , 8-J19  , 8-K15  , 8-K19  , 8-K22  , 8-L18  , 8-O12  , 8-O17  , 8-P24  , 8-P7   , 9-B12  , <br>, 9-B24  , 9-C13  , 9-C18  , 9-C19  , 9-C5   , 9-D13  , 9-D19  , 9-E19  , 9-F14  , 9-F19  , 9-G11  , 9-G21  , 9-H1   , 9-H22  , 9-H8   , 9-I10  , 9-J18  , 9-K11  , 9-K14  , 9-L1   , <br>, 9-L10  , 9-M13  , 9-M2   , 9-M6   , 9-N19  , 9-N21  , 9-N3   , 9-O12  , 9-O22  , 10-A15, 10-B24, 10-C7  , 10-D10, 10-D18, 10-D3  , 10-F21, 10-G20, 10-H8  , 10-J18, 10-J21, <br>, 10-K3  , 10-K8  , 10-L12, 10-M11, 10-N18, 10-N6  , 10-O22, 10-O4  , <br>,",
           "2-O1<br>3-D11<br>3-O21<br>4-A16<br>4-N1<br>5-I19<br>5-L22<br>5-L6<br>7-E1<br>7-P21<br>8-E6<br>9-B7<br>Top hit #13<br>Top hit #14<br>Top hit #15<br>Top hit #16<br>Top hit #17<br>Top hit #18<br>",
           "Top hit #22<br>Top hit #23<br>Top hit #24<br>",
           "2-O1<br>3-D11<br>3-O21<br>4-A16<br>4-N1<br>5-I19<br>5-L22<br>5-L6<br>7-E1<br>7-P21<br>8-E6<br>9-B7<br>Top hit #13<br>Top hit #14<br>Top hit #15<br>Top hit #16<br>Top hit #17<br>Top hit #18<br>",
           "Top hit #22<br>Top hit #23<br>Top hit #24<br>",
           "RLU: 527914",
           "RLU: 223561",
           "RLU: 549197",
           "RLU: 259956",
           "RLU: 193156",
           "RLU: 381599",
           "RLU: 498733",
           "RLU: 447667",
           "RLU: 378186",
           "RLU: 610984",
           "RLU: 342921",
           "RLU: 292333",
           "RLU: 292333",
           "RLU: 292333",
           "RLU: 292333",
           "RLU: 292333",
           "RLU: 292333",
           "RLU: 292333",
           "RLU: 292333",
           "RLU: 292333",
           "RLU: 292333",
           "RLU: 292333",
           "RLU: 292333",
           "RLU: 292333",
           "Clone screen RLU: 278295",
           "Clone screen RLU: 596386",
           "Clone screen RLU: 250907",
           "Clone screen RLU: 550873",
           "Clone screen RLU: 118945",
           "Clone screen RLU: 235897",
           "Clone screen RLU: ",
           "Clone screen RLU: 706130",
           "Clone screen RLU: 313927",
           "Clone screen RLU: ",
           "Clone screen RLU: 368460",
           "Clone screen RLU: 280969",
           "Clone screen RLU: ",
           "Clone screen RLU: 280969",
           "Clone screen RLU: 280969",
           "Clone screen RLU: 280969",
           "Clone screen RLU: 280969",
           "Clone screen RLU: 280969",
           "Clone screen RLU: 280969",
           "Clone screen RLU: 280969",
           "Clone screen RLU: 280969",
           "Clone screen RLU: 280969",
           "Clone screen RLU: 280969",
           "Clone screen RLU: 280969",
           "Clone screen RLU: 268914",
           "Clone screen RLU: 548279",
           "Clone screen RLU: 245640",
           "Clone screen RLU: 542545",
           "Clone screen RLU: 115117",
           "Clone screen RLU: 137351",
           "Clone screen RLU: ",
           "Clone screen RLU: 388528",
           "Clone screen RLU: 256232",
           "Clone screen RLU: ",
           "Clone screen RLU: 327766",
           "Clone screen RLU: 282555",
           "Clone screen RLU: ",
           "Clone screen RLU: 282555",
           "Clone screen RLU: 282555",
           "Clone screen RLU: 282555",
           "Clone screen RLU: 282555",
           "Clone screen RLU: 282555",
           "Clone screen RLU: 282555",
           "Clone screen RLU: 282555",
           "Clone screen RLU: 282555",
           "Clone screen RLU: 282555",
           "Clone screen RLU: 282555",
           "Clone screen RLU: 282555",
           "Top hit #19<br>Top hit #20<br>Top hit #21<br>",
           "Top hit #19<br>Top hit #20<br>Top hit #21<br>",
           "Clone screen RLU: 619596",
           "Clone screen RLU: 376422",
           "Clone screen RLU: 695831",
           "Clone screen RLU: 526526",
           "Clone screen RLU: 527472.5",
           "Clone screen RLU: 549521.5",
           "Clone screen RLU: 871013.5",
           "Clone screen RLU: 740833",
           "Clone screen RLU: 429561.5",
           "Clone screen RLU: 639789.5",
           "Clone screen RLU: 540905",
           "Clone screen RLU: 402076",
           "Clone screen RLU: 402076",
           "Clone screen RLU: 402076",
           "Clone screen RLU: 402076",
           "Clone screen RLU: 402076",
           "Clone screen RLU: 402076",
           "Clone screen RLU: 402076",
           "Clone screen RLU: 402076",
           "Clone screen RLU: 402076",
           "Clone screen RLU: 402076",
           "Clone screen RLU: 402076",
           "Clone screen RLU: 402076",
           "Clone screen RLU: 402076"
          ],
          "hovertemplate": "%{customdata}",
          "source": [
           0,
           1,
           0,
           1,
           3,
           3,
           5,
           6,
           5,
           6,
           4,
           4,
           4,
           4,
           4,
           4,
           4,
           4,
           4,
           4,
           4,
           4,
           4,
           4,
           4,
           4,
           4,
           4,
           4,
           4,
           4,
           4,
           4,
           4,
           9,
           10,
           11,
           12,
           13,
           14,
           15,
           16,
           17,
           18,
           19,
           20,
           21,
           22,
           23,
           24,
           25,
           26,
           27,
           28,
           29,
           30,
           31,
           32,
           9,
           10,
           11,
           12,
           13,
           14,
           15,
           16,
           17,
           18,
           19,
           20,
           21,
           22,
           23,
           24,
           25,
           26,
           27,
           28,
           29,
           30,
           31,
           32,
           33,
           33,
           9,
           10,
           11,
           12,
           13,
           14,
           15,
           16,
           17,
           18,
           19,
           20,
           21,
           22,
           23,
           24,
           25,
           26,
           27,
           28,
           29,
           30,
           31,
           32
          ],
          "target": [
           2,
           2,
           3,
           3,
           4,
           4,
           7,
           7,
           8,
           8,
           9,
           10,
           11,
           12,
           13,
           14,
           15,
           16,
           17,
           18,
           19,
           20,
           21,
           22,
           23,
           24,
           25,
           26,
           27,
           28,
           29,
           30,
           31,
           32,
           5,
           5,
           5,
           5,
           5,
           5,
           5,
           5,
           5,
           5,
           5,
           5,
           5,
           5,
           5,
           5,
           5,
           5,
           5,
           5,
           5,
           5,
           5,
           5,
           6,
           6,
           6,
           6,
           6,
           6,
           6,
           6,
           6,
           6,
           6,
           6,
           6,
           6,
           6,
           6,
           6,
           6,
           6,
           6,
           6,
           6,
           6,
           6,
           7,
           8,
           33,
           33,
           33,
           33,
           33,
           33,
           33,
           33,
           33,
           33,
           33,
           33,
           33,
           33,
           33,
           33,
           33,
           33,
           33,
           33,
           33,
           33,
           33,
           33
          ],
          "value": [
           2304,
           2496,
           192,
           192,
           187,
           187,
           20,
           3,
           20,
           3,
           1,
           1,
           1,
           1,
           1,
           1,
           1,
           1,
           1,
           1,
           1,
           1,
           1,
           1,
           1,
           1,
           1,
           1,
           1,
           1,
           1,
           1,
           1,
           1,
           1,
           1,
           1,
           1,
           1,
           0,
           1,
           1,
           1,
           1,
           1,
           0,
           1,
           1,
           1,
           1,
           1,
           0,
           1,
           1,
           1,
           1,
           0,
           0,
           1,
           1,
           1,
           1,
           1,
           0,
           0,
           1,
           1,
           1,
           1,
           0,
           1,
           1,
           1,
           1,
           1,
           0,
           1,
           1,
           1,
           1,
           1,
           1,
           3,
           3,
           0,
           0,
           0,
           0,
           0,
           1,
           0,
           0,
           0,
           0,
           0,
           1,
           0,
           0,
           0,
           0,
           0,
           1,
           0,
           0,
           0,
           0,
           0,
           0,
           null,
           null,
           null,
           null,
           null,
           null,
           null,
           null,
           null,
           null,
           null,
           null,
           null,
           null,
           null,
           null,
           null,
           null,
           null,
           null,
           null,
           null,
           null,
           null,
           null,
           null,
           null,
           null,
           null,
           null,
           null,
           null,
           null,
           null,
           null,
           null,
           null,
           null,
           null,
           null,
           null,
           null,
           null,
           null,
           null,
           null,
           null,
           null,
           null,
           null,
           null,
           null,
           null,
           null,
           null,
           null,
           null,
           null,
           null,
           null,
           null,
           null,
           null,
           null,
           null,
           null,
           null,
           null,
           null,
           null,
           null,
           null,
           null,
           null,
           null,
           null,
           null,
           null,
           null,
           null,
           null,
           null,
           null,
           null,
           null,
           null,
           null,
           null,
           null,
           null,
           null,
           null,
           null,
           null,
           null,
           null,
           null,
           null,
           null,
           null,
           null,
           null
          ]
         },
         "node": {
          "color": [
           "#ffd700",
           "#800080",
           "#000000",
           "#000000",
           "#000000",
           "#00008b",
           "#00008b",
           "#1e90ff",
           "#ff0000",
           "#ffd700",
           "#ffd700",
           "#ffd700",
           "#ffd700",
           "#ffd700",
           "#ffd700",
           "#ffd700",
           "#ffd700",
           "#ffd700",
           "#ffd700",
           "#ffd700",
           "#ffd700",
           "#800080",
           "#800080",
           "#800080",
           "#800080",
           "#800080",
           "#800080",
           "#800080",
           "#800080",
           "#800080",
           "#800080",
           "#800080",
           "#800080",
           "#00008b"
          ],
          "customdata": [
           "Fusion efficiency =  1.2<br>Fused b-cells:  Lymphocytes<br>Mse ID#  9, 10<br>Mse strain(s):  qxv",
           "Fusion efficiency = 1.3<br>Pool 2 Lymphocytes<br>Mse 9, 10 <br>Strains: Mixed, bxs, kxg7",
           "4800 Screened against 1ug/mL Target-His by ELISA<br><br>384 hits moved forward to Confirmation<br>screen",
           "384 Screened against 1ug/mL Target-His by ELISA<br><br>355 confirmed",
           "355 screened against 1ug/mL Target-His by ELISA <br><br>337 expanded and cryopreserved",
           "24 Clone A's obtained out of 24<br>Clone screen RLU:  <br>2-O1 (RLU:278295)<br>3-D11 (RLU:596386)<br>3-O21 (RLU:250907)<br>4-A16 (RLU:550873)<br>4-N1 (RLU:118945)<br>5-I19 (RLU:235897)<br>5-L22 (RLU:)<br>5-L6 (RLU:706130)<br>7-E1 (RLU:313927)<br>7-P21 (RLU:)<br>8-E6 (RLU:368460)<br>9-B7 (RLU:280969)<br>Top hit #13 (RLU:)<br>Top hit #14 (RLU:280969)<br>Top hit #15 (RLU:280969)<br>Top hit #16 (RLU:280969)<br>Top hit #17 (RLU:280969)<br>Top hit #18 (RLU:280969)<br>Top hit #19 (RLU:280969)<br>Top hit #20 (RLU:280969)<br>Top hit #21 (RLU:280969)<br>Top hit #22 (RLU:280969)<br>Top hit #23 (RLU:280969)<br>Top hit #24 (RLU:280969",
           "21 Clone B's obtained out of 24<br>Clone screen RLU:  <br>2-O1 (RLU:268914)<br>3-D11 (RLU:548279)<br>3-O21 (RLU:245640)<br>4-A16 (RLU:542545)<br>4-N1 (RLU:115117)<br>5-I19 (RLU:137351)<br>5-L22 (RLU:)<br>5-L6 (RLU:388528)<br>7-E1 (RLU:256232)<br>7-P21 (RLU:)<br>8-E6 (RLU:327766)<br>9-B7 (RLU:282555)<br>Top hit #13 (RLU:)<br>Top hit #14 (RLU:282555)<br>Top hit #15 (RLU:282555)<br>Top hit #16 (RLU:282555)<br>Top hit #17 (RLU:282555)<br>Top hit #18 (RLU:282555)<br>Top hit #19 (RLU:282555)<br>Top hit #20 (RLU:282555)<br>Top hit #21 (RLU:282555)<br>Top hit #22 (RLU:282555)<br>Top hit #23 (RLU:282555)<br>Top hit #24 (RLU:282555",
           "21 Clones clean against BVP<br>BVP RLU:  <br>2-O1 (RLU:######)<br>3-D11 (RLU:###)<br>3-O21 (RLU:###)<br>4-A16 (RLU:###)<br>4-N1 (RLU:###)<br>5-I19 (RLU:###)<br>5-L22 (RLU:###)<br>5-L6 (RLU:###)<br>7-E1 (RLU:###)<br>7-P21 (RLU:###)<br>8-E6 (RLU:###)<br>9-B7 (RLU:###)<br>Top hit #13 (RLU:###)<br>Top hit #14 (RLU:###)<br>Top hit #15 (RLU:###)<br>Top hit #16 (RLU:###)<br>Top hit #17 (RLU:###)<br>Top hit #18 (RLU:###)<br>Top hit #19 (RLU:###)<br>Top hit #20 (RLU:###)<br>Top hit #21 (RLU:###)<br>Top hit #22 (RLU:###)<br>Top hit #23 (RLU:###)<br>Top hit #24 (RLU:###",
           "19 Unique: <br>3-O21<br>4-A16<br>4-N1<br>5-I19<br>5-L22<br>5-L6<br>7-E1<br>7-P21<br>Top hit #12<br>Top hit #13<br>Top hit #14<br>Top hit #15<br>Top hit #16<br>Top hit #17<br>Top hit #18<br>Top hit #19<br>Top hit #20<br>Top hit #21<br>Top hit #22<br><br>2 Sibling: <br>2-O1 and 3-D11<br>8-E6 and 9-B7<br><br>0 Identical: <br><br><br>3 Multiple HC/LC: <br>7-P21<br>Top hit #24<br>Top hit #23",
           "1*Screen RLU:  905599<br>2*Screen RLU:  392623<br>3*Screen RLU:  527914<br>Scaleup RLU:  260161.5<br>Poly/Nonspecific binding to BVP?    Yes<br>CDR3_HC sequence:  aaaa<br>CDR3_LC sequence:  aaaa<br>Z^2 Liability score:  3<br>Isotype: mIGG2B mKAPPA<br>EC50 (nM):  3.3<br>IC50 (nM):  ## / ## / ##",
           "1*Screen RLU:  717841<br>2*Screen RLU:  260434<br>3*Screen RLU:  223561<br>Scaleup RLU:  437035.5<br>Poly/Nonspecific binding to BVP?    No<br>CDR3_HC sequence:  aaaa<br>CDR3_LC sequence:  aaaa<br>Z^2 Liability score:  3<br>Isotype: mIGG2B mKAPPA<br>EC50 (nM):  2.7<br>IC50 (nM):  ## / ## / ##",
           "1*Screen RLU:  715840<br>2*Screen RLU:  517541<br>3*Screen RLU:  549197<br>Scaleup RLU:  374000.5<br>Poly/Nonspecific binding to BVP?    No<br>CDR3_HC sequence:  aaaa<br>CDR3_LC sequence:  aaaa<br>Z^2 Liability score:  1<br>Isotype: mIGG2B mKAPPA<br>EC50 (nM):  2.4<br>IC50 (nM):  ## / ## / ##",
           "1*Screen RLU:  776156<br>2*Screen RLU:  329872<br>3*Screen RLU:  259956<br>Scaleup RLU:  796688<br>Poly/Nonspecific binding to BVP?    No<br>CDR3_HC sequence:  aaaa<br>CDR3_LC sequence:  aaaa<br>Z^2 Liability score:  1<br>Isotype: mIGG2B mKAPPA<br>EC50 (nM):  1.3<br>IC50 (nM):  ## / ## / ##",
           "1*Screen RLU:  770354<br>2*Screen RLU:  177531<br>3*Screen RLU:  193156<br>Scaleup RLU:  136818<br>Poly/Nonspecific binding to BVP?    No<br>CDR3_HC sequence:  aaaa<br>CDR3_LC sequence:  aaaa<br>Z^2 Liability score:  3<br>Isotype: mIGG1 mKAPPA<br>EC50 (nM):  1.5<br>IC50 (nM):  ## / ## / ##",
           "1*Screen RLU:  841335<br>2*Screen RLU:  388916<br>3*Screen RLU:  381599<br>Scaleup RLU:  518082.5<br>Poly/Nonspecific binding to BVP?    No<br>CDR3_HC sequence:  aaaa<br>CDR3_LC sequence:  aaaa<br>Z^2 Liability score:  4<br>Isotype: mIGG2B mKAPPA<br>EC50 (nM):  2.4<br>IC50 (nM):  ## / ## / ##",
           "1*Screen RLU:  741884<br>2*Screen RLU:  479432<br>3*Screen RLU:  498733<br>Scaleup RLU:  131953.5<br>Poly/Nonspecific binding to BVP?    No<br>CDR3_HC sequence:  aaaa<br>CDR3_LC sequence:  aaaa<br>Z^2 Liability score:  4<br>Isotype: mIGM mKAPPA<br>EC50 (nM):  49.8<br>IC50 (nM):  ## / ## / ##",
           "1*Screen RLU:  847900<br>2*Screen RLU:  480873<br>3*Screen RLU:  447667<br>Scaleup RLU:  968153<br>Poly/Nonspecific binding to BVP?    No<br>CDR3_HC sequence:  aaaa<br>CDR3_LC sequence:  aaaa<br>Z^2 Liability score:  3<br>Isotype: mIgG2b mKAPPA<br>EC50 (nM):  1.2<br>IC50 (nM):  ## / ## / ##",
           "1*Screen RLU:  707369<br>2*Screen RLU:  364123<br>3*Screen RLU:  378186<br>Scaleup RLU:  551059.5<br>Poly/Nonspecific binding to BVP?    No<br>CDR3_HC sequence:  aaaa<br>CDR3_LC sequence:  aaaa<br>Z^2 Liability score:  5<br>Isotype: mIGG2B mLAMBDA<br>EC50 (nM):  2.2<br>IC50 (nM):  ## / ## / ##",
           "1*Screen RLU:  806803<br>2*Screen RLU:  585692<br>3*Screen RLU:  610984<br>Scaleup RLU:  242905<br>Poly/Nonspecific binding to BVP?    No<br>CDR3_HC sequence:  aaaa<br>CDR3_LC sequence:  aaaa<br>Z^2 Liability score:  4<br>Isotype: mIGG1 mKAPPA<br>EC50 (nM):  0.9<br>IC50 (nM):  ## / ## / ##",
           "1*Screen RLU:  784380<br>2*Screen RLU:  343425<br>3*Screen RLU:  342921<br>Scaleup RLU:  417699.5<br>Poly/Nonspecific binding to BVP?    No<br>CDR3_HC sequence:  aaaa<br>CDR3_LC sequence:  aaaa<br>Z^2 Liability score:  2<br>Isotype: mIGG1 mKAPPA<br>EC50 (nM):  0.6<br>IC50 (nM):  ## / ## / ##",
           "1*Screen RLU:  728793<br>2*Screen RLU:  330972<br>3*Screen RLU:  292333<br>Scaleup RLU:  260472.5<br>Poly/Nonspecific binding to BVP?    No<br>CDR3_HC sequence:  aaaa<br>CDR3_LC sequence:  aaaa<br>Z^2 Liability score:  2<br>Isotype: mIGG2C mKAPPA<br>EC50 (nM):  1.1<br>IC50 (nM):  ## / ## / ##",
           "1*Screen RLU:  728793<br>2*Screen RLU:  330972<br>3*Screen RLU:  292333<br>Scaleup RLU:  260473.5<br>Poly/Nonspecific binding to BVP?    No<br>CDR3_HC sequence:  aaaa<br>CDR3_LC sequence:  aaaa<br>Z^2 Liability score:  3<br>Isotype: mIGG2C mKAPPA<br>EC50 (nM):  2.1<br>IC50 (nM):  ## / ## / ##",
           "1*Screen RLU:  728793<br>2*Screen RLU:  330972<br>3*Screen RLU:  292333<br>Scaleup RLU:  260474.5<br>Poly/Nonspecific binding to BVP?    No<br>CDR3_HC sequence:  aaaa<br>CDR3_LC sequence:  aaaa<br>Z^2 Liability score:  4<br>Isotype: mIGG2C mKAPPA<br>EC50 (nM):  3.1<br>IC50 (nM):  ## / ## / ##",
           "1*Screen RLU:  728793<br>2*Screen RLU:  330972<br>3*Screen RLU:  292333<br>Scaleup RLU:  260475.5<br>Poly/Nonspecific binding to BVP?    No<br>CDR3_HC sequence:  aaaa<br>CDR3_LC sequence:  aaaa<br>Z^2 Liability score:  5<br>Isotype: mIGG2C mKAPPA<br>EC50 (nM):  4.1<br>IC50 (nM):  ## / ## / ##",
           "1*Screen RLU:  728793<br>2*Screen RLU:  330972<br>3*Screen RLU:  292333<br>Scaleup RLU:  260476.5<br>Poly/Nonspecific binding to BVP?    No<br>CDR3_HC sequence:  aaaa<br>CDR3_LC sequence:  aaaa<br>Z^2 Liability score:  6<br>Isotype: mIGG2C mKAPPA<br>EC50 (nM):  5.1<br>IC50 (nM):  ## / ## / ##",
           "1*Screen RLU:  728793<br>2*Screen RLU:  330972<br>3*Screen RLU:  292333<br>Scaleup RLU:  260477.5<br>Poly/Nonspecific binding to BVP?    No<br>CDR3_HC sequence:  aaaa<br>CDR3_LC sequence:  aaaa<br>Z^2 Liability score:  7<br>Isotype: mIGG2C mKAPPA<br>EC50 (nM):  6.1<br>IC50 (nM):  ## / ## / ##",
           "1*Screen RLU:  728793<br>2*Screen RLU:  330972<br>3*Screen RLU:  292333<br>Scaleup RLU:  260478.5<br>Poly/Nonspecific binding to BVP?    No<br>CDR3_HC sequence:  aaaa<br>CDR3_LC sequence:  aaaa<br>Z^2 Liability score:  8<br>Isotype: mIGG2C mKAPPA<br>EC50 (nM):  7.1<br>IC50 (nM):  ## / ## / ##",
           "1*Screen RLU:  728793<br>2*Screen RLU:  330972<br>3*Screen RLU:  292333<br>Scaleup RLU:  260479.5<br>Poly/Nonspecific binding to BVP?    No<br>CDR3_HC sequence:  aaaa<br>CDR3_LC sequence:  aaaa<br>Z^2 Liability score:  9<br>Isotype: mIGG2C mKAPPA<br>EC50 (nM):  8.1<br>IC50 (nM):  ## / ## / ##",
           "1*Screen RLU:  728793<br>2*Screen RLU:  330972<br>3*Screen RLU:  292333<br>Scaleup RLU:  260480.5<br>Poly/Nonspecific binding to BVP?    No<br>CDR3_HC sequence:  aaaa<br>CDR3_LC sequence:  aaaa<br>Z^2 Liability score:  10<br>Isotype: mIGG2C mKAPPA<br>EC50 (nM):  9.1<br>IC50 (nM):  ## / ## / ##",
           "1*Screen RLU:  728793<br>2*Screen RLU:  330972<br>3*Screen RLU:  292333<br>Scaleup RLU:  260481.5<br>Poly/Nonspecific binding to BVP?    No<br>CDR3_HC sequence:  aaaa<br>CDR3_LC sequence:  aaaa<br>Z^2 Liability score:  11<br>Isotype: mIGG2C mKAPPA<br>EC50 (nM):  10.1<br>IC50 (nM):  ## / ## / ##",
           "1*Screen RLU:  728793<br>2*Screen RLU:  330972<br>3*Screen RLU:  292333<br>Scaleup RLU:  260482.5<br>Poly/Nonspecific binding to BVP?    No<br>CDR3_HC sequence:  aaaa<br>CDR3_LC sequence:  aaaa<br>Z^2 Liability score:  12<br>Isotype: mIGG2C mKAPPA<br>EC50 (nM):  11.1<br>IC50 (nM):  ## / ## / ##",
           "1*Screen RLU:  728793<br>2*Screen RLU:  330972<br>3*Screen RLU:  292333<br>Scaleup RLU:  260483.5<br>Poly/Nonspecific binding to BVP?    No<br>CDR3_HC sequence:  aaaa<br>CDR3_LC sequence:  aaaa<br>Z^2 Liability score:  13<br>Isotype: mIGG2C mKAPPA<br>EC50 (nM):  12.1<br>IC50 (nM):  ## / ## / ##",
           "1*Screen RLU:  728793<br>2*Screen RLU:  330972<br>3*Screen RLU:  292333<br>Scaleup RLU:  260484.5<br>Poly/Nonspecific binding to BVP?    No<br>CDR3_HC sequence:  aaaa<br>CDR3_LC sequence:  aaaa<br>Z^2 Liability score:  14<br>Isotype: mIGG2C mKAPPA<br>EC50 (nM):  13.1<br>IC50 (nM):  ## / ## / ##",
           "3 Polyclones/Parentals obtained out of 24 <br>Post-thaw RLU:  <br>5-I19 (RLU:549521.5)<br>9-B7 (RLU:402076"
          ],
          "hovertemplate": "%{customdata}",
          "label": [
           "Fusion 1 <br># hybridomas =  2304<br>Fusion efficiency =  1.2<br># of wells screened:  1920<br>Mse ID#  9, 10<br>Mse strain(s):  qxv<br>Fused b-cells:  Lymphocytes<br>Immunization method:  HT-Hock<br>Immunogen:  aaa<br>Final boost:  aaa",
           "Fusion 2 <br># hybridomas =  2496<br>Fusion efficiency =  1.3<br># of wells screened:  1920<br>Mse ID#  1, 2, 4, 8<br>Mse strain(s):  Mixed, bxs, kxg7<br>Fused b-cells:  Lymphocytes<br>Immunization method:  HT-Hock<br>Immunogen:  aaa<br>Final boost:  aaa",
           "<b>Primary<br>screen<br><span style='color:red'>384 hits",
           "<b>Confirmation<br>screen<br><span style='color:red'>355/384hits",
           "<b>Tertiary screen<br><span style='color:red'>337/355 hits<br><span style='color:black'><b>expanded & cryopreserved",
           "Clone A<br>(24/24)",
           "Clone B (21/24)",
           "BVP<br>(21/24 clean)",
           "<b>Sequencing</b> <br>( Single heavy & light<br> chain obtained<br> for 21/24)",
           "2-O1",
           "3-D11",
           "3-O21",
           "4-A16",
           "4-N1",
           "5-I19",
           "5-L22",
           "5-L6",
           "7-E1",
           "7-P21",
           "8-E6",
           "9-B7",
           "Top hit #13",
           "Top hit #14",
           "Top hit #15",
           "Top hit #16",
           "Top hit #17",
           "Top hit #18",
           "Top hit #19",
           "Top hit #20",
           "Top hit #21",
           "Top hit #22",
           "Top hit #23",
           "Top hit #24",
           "Parental/Poly<br>(3/12)"
          ],
          "x": [
           -0.01,
           -0.01,
           0.2,
           0.3,
           0.4,
           0.65,
           0.65,
           0.95,
           0.9,
           0.45,
           0.45,
           0.45,
           0.45,
           0.45,
           0.45,
           0.45,
           0.45,
           0.45,
           0.45,
           0.45,
           0.45,
           0.55,
           0.55,
           0.55,
           0.55,
           0.55,
           0.55,
           0.55,
           0.55,
           0.55,
           0.55,
           0.55,
           0.55,
           0.65,
           null,
           null,
           null,
           null,
           null,
           null,
           null,
           null,
           null,
           null,
           null,
           null,
           null,
           null,
           null,
           null,
           null,
           null,
           null,
           null,
           null,
           null,
           null,
           null,
           null,
           null,
           null,
           null,
           null,
           null,
           null,
           null,
           null,
           null,
           null,
           null,
           null,
           null,
           null,
           null,
           null,
           null,
           null,
           null,
           null,
           null,
           null,
           null,
           null,
           null,
           null,
           null,
           null,
           null,
           null,
           null,
           null,
           null,
           null,
           null,
           null,
           null,
           null,
           null,
           null,
           null,
           null,
           null,
           null,
           null,
           null,
           null,
           null,
           null,
           null,
           null,
           null,
           null,
           null,
           null,
           null,
           null,
           null,
           null,
           null,
           null,
           null,
           null,
           null,
           null,
           null,
           null,
           null,
           null,
           null,
           null,
           null,
           null,
           null,
           null,
           null,
           null,
           null,
           null,
           null,
           null,
           null,
           null,
           null,
           null,
           null,
           null,
           null,
           null,
           null,
           null,
           null,
           null,
           null,
           null,
           null,
           null,
           null,
           null,
           null,
           null,
           null,
           null,
           null,
           null,
           null,
           null,
           null,
           null,
           null,
           null,
           null,
           null,
           null,
           null,
           null,
           null,
           null,
           null,
           null,
           null,
           null,
           null,
           null,
           null,
           null,
           null,
           null,
           null,
           null,
           null,
           null,
           null,
           null,
           null,
           null,
           null,
           null,
           null,
           null,
           null,
           null,
           null,
           null,
           null,
           null,
           null,
           null,
           null,
           null,
           null
          ],
          "y": [
           0.25,
           0.75,
           0.5,
           0.25,
           0.35,
           0.1,
           0.3,
           0.35,
           0.5,
           0.6,
           0.625,
           0.65,
           0.675,
           0.7,
           0.725,
           0.75,
           0.775,
           0.8,
           0.825,
           0.85,
           0.875,
           0.6,
           0.625,
           0.65,
           0.675,
           0.7,
           0.725,
           0.75,
           0.775,
           0.8,
           0.825,
           0.85,
           0.875,
           0.4,
           null,
           null,
           null,
           null,
           null,
           null,
           null,
           null,
           null,
           null,
           null,
           null,
           null,
           null,
           null,
           null,
           null,
           null,
           null,
           null,
           null,
           null,
           null,
           null,
           null,
           null,
           null,
           null,
           null,
           null,
           null,
           null,
           null,
           null,
           null,
           null,
           null,
           null,
           null,
           null,
           null,
           null,
           null,
           null,
           null,
           null,
           null,
           null,
           null,
           null,
           null,
           null,
           null,
           null,
           null,
           null,
           null,
           null,
           null,
           null,
           null,
           null,
           null,
           null,
           null,
           null,
           null,
           null,
           null,
           null,
           null,
           null,
           null,
           null,
           null,
           null,
           null,
           null,
           null,
           null,
           null,
           null,
           null,
           null,
           null,
           null,
           null,
           null,
           null,
           null,
           null,
           null,
           null,
           null,
           null,
           null,
           null,
           null,
           null,
           null,
           null,
           null,
           null,
           null,
           null,
           null,
           null,
           null,
           null,
           null,
           null,
           null,
           null,
           null,
           null,
           null,
           null,
           null,
           null,
           null,
           null,
           null,
           null,
           null,
           null,
           null,
           null,
           null,
           null,
           null,
           null,
           null,
           null,
           null,
           null,
           null,
           null,
           null,
           null,
           null,
           null,
           null,
           null,
           null,
           null,
           null,
           null,
           null,
           null,
           null,
           null,
           null,
           null,
           null,
           null,
           null,
           null,
           null,
           null,
           null,
           null,
           null,
           null,
           null,
           null,
           null,
           null,
           null,
           null,
           null,
           null,
           null,
           null,
           null,
           null,
           null
          ]
         },
         "type": "sankey"
        },
        {
         "mode": "none",
         "type": "scatter",
         "x": [
          1
         ],
         "y": [
          1
         ]
        }
       ],
       "layout": {
        "autosize": true,
        "font": {
         "size": 12
        },
        "paper_bgcolor": "#e6e6fa",
        "plot_bgcolor": "#e6e6fa",
        "template": {
         "data": {
          "bar": [
           {
            "error_x": {
             "color": "#2a3f5f"
            },
            "error_y": {
             "color": "#2a3f5f"
            },
            "marker": {
             "line": {
              "color": "#E5ECF6",
              "width": 0.5
             },
             "pattern": {
              "fillmode": "overlay",
              "size": 10,
              "solidity": 0.2
             }
            },
            "type": "bar"
           }
          ],
          "barpolar": [
           {
            "marker": {
             "line": {
              "color": "#E5ECF6",
              "width": 0.5
             },
             "pattern": {
              "fillmode": "overlay",
              "size": 10,
              "solidity": 0.2
             }
            },
            "type": "barpolar"
           }
          ],
          "carpet": [
           {
            "aaxis": {
             "endlinecolor": "#2a3f5f",
             "gridcolor": "white",
             "linecolor": "white",
             "minorgridcolor": "white",
             "startlinecolor": "#2a3f5f"
            },
            "baxis": {
             "endlinecolor": "#2a3f5f",
             "gridcolor": "white",
             "linecolor": "white",
             "minorgridcolor": "white",
             "startlinecolor": "#2a3f5f"
            },
            "type": "carpet"
           }
          ],
          "choropleth": [
           {
            "colorbar": {
             "outlinewidth": 0,
             "ticks": ""
            },
            "type": "choropleth"
           }
          ],
          "contour": [
           {
            "colorbar": {
             "outlinewidth": 0,
             "ticks": ""
            },
            "colorscale": [
             [
              0,
              "#0d0887"
             ],
             [
              0.1111111111111111,
              "#46039f"
             ],
             [
              0.2222222222222222,
              "#7201a8"
             ],
             [
              0.3333333333333333,
              "#9c179e"
             ],
             [
              0.4444444444444444,
              "#bd3786"
             ],
             [
              0.5555555555555556,
              "#d8576b"
             ],
             [
              0.6666666666666666,
              "#ed7953"
             ],
             [
              0.7777777777777778,
              "#fb9f3a"
             ],
             [
              0.8888888888888888,
              "#fdca26"
             ],
             [
              1,
              "#f0f921"
             ]
            ],
            "type": "contour"
           }
          ],
          "contourcarpet": [
           {
            "colorbar": {
             "outlinewidth": 0,
             "ticks": ""
            },
            "type": "contourcarpet"
           }
          ],
          "heatmap": [
           {
            "colorbar": {
             "outlinewidth": 0,
             "ticks": ""
            },
            "colorscale": [
             [
              0,
              "#0d0887"
             ],
             [
              0.1111111111111111,
              "#46039f"
             ],
             [
              0.2222222222222222,
              "#7201a8"
             ],
             [
              0.3333333333333333,
              "#9c179e"
             ],
             [
              0.4444444444444444,
              "#bd3786"
             ],
             [
              0.5555555555555556,
              "#d8576b"
             ],
             [
              0.6666666666666666,
              "#ed7953"
             ],
             [
              0.7777777777777778,
              "#fb9f3a"
             ],
             [
              0.8888888888888888,
              "#fdca26"
             ],
             [
              1,
              "#f0f921"
             ]
            ],
            "type": "heatmap"
           }
          ],
          "heatmapgl": [
           {
            "colorbar": {
             "outlinewidth": 0,
             "ticks": ""
            },
            "colorscale": [
             [
              0,
              "#0d0887"
             ],
             [
              0.1111111111111111,
              "#46039f"
             ],
             [
              0.2222222222222222,
              "#7201a8"
             ],
             [
              0.3333333333333333,
              "#9c179e"
             ],
             [
              0.4444444444444444,
              "#bd3786"
             ],
             [
              0.5555555555555556,
              "#d8576b"
             ],
             [
              0.6666666666666666,
              "#ed7953"
             ],
             [
              0.7777777777777778,
              "#fb9f3a"
             ],
             [
              0.8888888888888888,
              "#fdca26"
             ],
             [
              1,
              "#f0f921"
             ]
            ],
            "type": "heatmapgl"
           }
          ],
          "histogram": [
           {
            "marker": {
             "pattern": {
              "fillmode": "overlay",
              "size": 10,
              "solidity": 0.2
             }
            },
            "type": "histogram"
           }
          ],
          "histogram2d": [
           {
            "colorbar": {
             "outlinewidth": 0,
             "ticks": ""
            },
            "colorscale": [
             [
              0,
              "#0d0887"
             ],
             [
              0.1111111111111111,
              "#46039f"
             ],
             [
              0.2222222222222222,
              "#7201a8"
             ],
             [
              0.3333333333333333,
              "#9c179e"
             ],
             [
              0.4444444444444444,
              "#bd3786"
             ],
             [
              0.5555555555555556,
              "#d8576b"
             ],
             [
              0.6666666666666666,
              "#ed7953"
             ],
             [
              0.7777777777777778,
              "#fb9f3a"
             ],
             [
              0.8888888888888888,
              "#fdca26"
             ],
             [
              1,
              "#f0f921"
             ]
            ],
            "type": "histogram2d"
           }
          ],
          "histogram2dcontour": [
           {
            "colorbar": {
             "outlinewidth": 0,
             "ticks": ""
            },
            "colorscale": [
             [
              0,
              "#0d0887"
             ],
             [
              0.1111111111111111,
              "#46039f"
             ],
             [
              0.2222222222222222,
              "#7201a8"
             ],
             [
              0.3333333333333333,
              "#9c179e"
             ],
             [
              0.4444444444444444,
              "#bd3786"
             ],
             [
              0.5555555555555556,
              "#d8576b"
             ],
             [
              0.6666666666666666,
              "#ed7953"
             ],
             [
              0.7777777777777778,
              "#fb9f3a"
             ],
             [
              0.8888888888888888,
              "#fdca26"
             ],
             [
              1,
              "#f0f921"
             ]
            ],
            "type": "histogram2dcontour"
           }
          ],
          "mesh3d": [
           {
            "colorbar": {
             "outlinewidth": 0,
             "ticks": ""
            },
            "type": "mesh3d"
           }
          ],
          "parcoords": [
           {
            "line": {
             "colorbar": {
              "outlinewidth": 0,
              "ticks": ""
             }
            },
            "type": "parcoords"
           }
          ],
          "pie": [
           {
            "automargin": true,
            "type": "pie"
           }
          ],
          "scatter": [
           {
            "fillpattern": {
             "fillmode": "overlay",
             "size": 10,
             "solidity": 0.2
            },
            "type": "scatter"
           }
          ],
          "scatter3d": [
           {
            "line": {
             "colorbar": {
              "outlinewidth": 0,
              "ticks": ""
             }
            },
            "marker": {
             "colorbar": {
              "outlinewidth": 0,
              "ticks": ""
             }
            },
            "type": "scatter3d"
           }
          ],
          "scattercarpet": [
           {
            "marker": {
             "colorbar": {
              "outlinewidth": 0,
              "ticks": ""
             }
            },
            "type": "scattercarpet"
           }
          ],
          "scattergeo": [
           {
            "marker": {
             "colorbar": {
              "outlinewidth": 0,
              "ticks": ""
             }
            },
            "type": "scattergeo"
           }
          ],
          "scattergl": [
           {
            "marker": {
             "colorbar": {
              "outlinewidth": 0,
              "ticks": ""
             }
            },
            "type": "scattergl"
           }
          ],
          "scattermapbox": [
           {
            "marker": {
             "colorbar": {
              "outlinewidth": 0,
              "ticks": ""
             }
            },
            "type": "scattermapbox"
           }
          ],
          "scatterpolar": [
           {
            "marker": {
             "colorbar": {
              "outlinewidth": 0,
              "ticks": ""
             }
            },
            "type": "scatterpolar"
           }
          ],
          "scatterpolargl": [
           {
            "marker": {
             "colorbar": {
              "outlinewidth": 0,
              "ticks": ""
             }
            },
            "type": "scatterpolargl"
           }
          ],
          "scatterternary": [
           {
            "marker": {
             "colorbar": {
              "outlinewidth": 0,
              "ticks": ""
             }
            },
            "type": "scatterternary"
           }
          ],
          "surface": [
           {
            "colorbar": {
             "outlinewidth": 0,
             "ticks": ""
            },
            "colorscale": [
             [
              0,
              "#0d0887"
             ],
             [
              0.1111111111111111,
              "#46039f"
             ],
             [
              0.2222222222222222,
              "#7201a8"
             ],
             [
              0.3333333333333333,
              "#9c179e"
             ],
             [
              0.4444444444444444,
              "#bd3786"
             ],
             [
              0.5555555555555556,
              "#d8576b"
             ],
             [
              0.6666666666666666,
              "#ed7953"
             ],
             [
              0.7777777777777778,
              "#fb9f3a"
             ],
             [
              0.8888888888888888,
              "#fdca26"
             ],
             [
              1,
              "#f0f921"
             ]
            ],
            "type": "surface"
           }
          ],
          "table": [
           {
            "cells": {
             "fill": {
              "color": "#EBF0F8"
             },
             "line": {
              "color": "white"
             }
            },
            "header": {
             "fill": {
              "color": "#C8D4E3"
             },
             "line": {
              "color": "white"
             }
            },
            "type": "table"
           }
          ]
         },
         "layout": {
          "annotationdefaults": {
           "arrowcolor": "#2a3f5f",
           "arrowhead": 0,
           "arrowwidth": 1
          },
          "autotypenumbers": "strict",
          "coloraxis": {
           "colorbar": {
            "outlinewidth": 0,
            "ticks": ""
           }
          },
          "colorscale": {
           "diverging": [
            [
             0,
             "#8e0152"
            ],
            [
             0.1,
             "#c51b7d"
            ],
            [
             0.2,
             "#de77ae"
            ],
            [
             0.3,
             "#f1b6da"
            ],
            [
             0.4,
             "#fde0ef"
            ],
            [
             0.5,
             "#f7f7f7"
            ],
            [
             0.6,
             "#e6f5d0"
            ],
            [
             0.7,
             "#b8e186"
            ],
            [
             0.8,
             "#7fbc41"
            ],
            [
             0.9,
             "#4d9221"
            ],
            [
             1,
             "#276419"
            ]
           ],
           "sequential": [
            [
             0,
             "#0d0887"
            ],
            [
             0.1111111111111111,
             "#46039f"
            ],
            [
             0.2222222222222222,
             "#7201a8"
            ],
            [
             0.3333333333333333,
             "#9c179e"
            ],
            [
             0.4444444444444444,
             "#bd3786"
            ],
            [
             0.5555555555555556,
             "#d8576b"
            ],
            [
             0.6666666666666666,
             "#ed7953"
            ],
            [
             0.7777777777777778,
             "#fb9f3a"
            ],
            [
             0.8888888888888888,
             "#fdca26"
            ],
            [
             1,
             "#f0f921"
            ]
           ],
           "sequentialminus": [
            [
             0,
             "#0d0887"
            ],
            [
             0.1111111111111111,
             "#46039f"
            ],
            [
             0.2222222222222222,
             "#7201a8"
            ],
            [
             0.3333333333333333,
             "#9c179e"
            ],
            [
             0.4444444444444444,
             "#bd3786"
            ],
            [
             0.5555555555555556,
             "#d8576b"
            ],
            [
             0.6666666666666666,
             "#ed7953"
            ],
            [
             0.7777777777777778,
             "#fb9f3a"
            ],
            [
             0.8888888888888888,
             "#fdca26"
            ],
            [
             1,
             "#f0f921"
            ]
           ]
          },
          "colorway": [
           "#636efa",
           "#EF553B",
           "#00cc96",
           "#ab63fa",
           "#FFA15A",
           "#19d3f3",
           "#FF6692",
           "#B6E880",
           "#FF97FF",
           "#FECB52"
          ],
          "font": {
           "color": "#2a3f5f"
          },
          "geo": {
           "bgcolor": "white",
           "lakecolor": "white",
           "landcolor": "#E5ECF6",
           "showlakes": true,
           "showland": true,
           "subunitcolor": "white"
          },
          "hoverlabel": {
           "align": "left"
          },
          "hovermode": "closest",
          "mapbox": {
           "style": "light"
          },
          "paper_bgcolor": "white",
          "plot_bgcolor": "#E5ECF6",
          "polar": {
           "angularaxis": {
            "gridcolor": "white",
            "linecolor": "white",
            "ticks": ""
           },
           "bgcolor": "#E5ECF6",
           "radialaxis": {
            "gridcolor": "white",
            "linecolor": "white",
            "ticks": ""
           }
          },
          "scene": {
           "xaxis": {
            "backgroundcolor": "#E5ECF6",
            "gridcolor": "white",
            "gridwidth": 2,
            "linecolor": "white",
            "showbackground": true,
            "ticks": "",
            "zerolinecolor": "white"
           },
           "yaxis": {
            "backgroundcolor": "#E5ECF6",
            "gridcolor": "white",
            "gridwidth": 2,
            "linecolor": "white",
            "showbackground": true,
            "ticks": "",
            "zerolinecolor": "white"
           },
           "zaxis": {
            "backgroundcolor": "#E5ECF6",
            "gridcolor": "white",
            "gridwidth": 2,
            "linecolor": "white",
            "showbackground": true,
            "ticks": "",
            "zerolinecolor": "white"
           }
          },
          "shapedefaults": {
           "line": {
            "color": "#2a3f5f"
           }
          },
          "ternary": {
           "aaxis": {
            "gridcolor": "white",
            "linecolor": "white",
            "ticks": ""
           },
           "baxis": {
            "gridcolor": "white",
            "linecolor": "white",
            "ticks": ""
           },
           "bgcolor": "#E5ECF6",
           "caxis": {
            "gridcolor": "white",
            "linecolor": "white",
            "ticks": ""
           }
          },
          "title": {
           "x": 0.05
          },
          "xaxis": {
           "automargin": true,
           "gridcolor": "white",
           "linecolor": "white",
           "ticks": "",
           "title": {
            "standoff": 15
           },
           "zerolinecolor": "white",
           "zerolinewidth": 2
          },
          "yaxis": {
           "automargin": true,
           "gridcolor": "white",
           "linecolor": "white",
           "ticks": "",
           "title": {
            "standoff": 15
           },
           "zerolinecolor": "white",
           "zerolinewidth": 2
          }
         }
        },
        "xaxis": {
         "dtick": 0.05,
         "range": [
          0,
          1
         ],
         "showgrid": true,
         "showticklabels": true,
         "type": "linear"
        },
        "yaxis": {
         "dtick": 0.05,
         "range": [
          0,
          1
         ],
         "showgrid": true,
         "showticklabels": true,
         "type": "linear"
        }
       }
      },
      "image/png": "[encoded data removed]",
      "text/html": [
       "<div>                            <div id=\"308a19a5-0899-40d5-a093-462f7d0361db\" class=\"plotly-graph-div\" style=\"height:525px; width:100%;\"></div>            <script type=\"text/javascript\">                require([\"plotly\"], function(Plotly) {                    window.PLOTLYENV=window.PLOTLYENV || {};                                    if (document.getElementById(\"308a19a5-0899-40d5-a093-462f7d0361db\")) {                    Plotly.newPlot(                        \"308a19a5-0899-40d5-a093-462f7d0361db\",                        [{\"link\":{\"color\":[\"rgba(255,215,0, 0.4)\",\"rgba(128,0,128, 0.4)\",\"rgba(255,215,0, 0.4)\",\"rgba(128,0,128, 0.4)\",\"rgba(255,215,0, 0.4)\",\"rgba(128,0,128, 0.4)\",\"rgba(30,144,255, 0.4)\",\"rgba(30,144,255, 0.4)\",\"rgba(255,0,0, 0.4)\",\"rgba(255,0,0, 0.4)\",\"rgba(255,215,0,0.4)\",\"rgba(255,215,0,0.4)\",\"rgba(255,215,0,0.4)\",\"rgba(255,215,0,0.4)\",\"rgba(255,215,0,0.4)\",\"rgba(255,215,0,0.4)\",\"rgba(255,215,0,0.4)\",\"rgba(255,215,0,0.4)\",\"rgba(255,215,0,0.4)\",\"rgba(255,215,0,0.4)\",\"rgba(255,215,0,0.4)\",\"rgba(255,215,0,0.4)\",\"rgba(128,0,128,0.4)\",\"rgba(128,0,128,0.4)\",\"rgba(128,0,128,0.4)\",\"rgba(128,0,128,0.4)\",\"rgba(128,0,128,0.4)\",\"rgba(128,0,128,0.4)\",\"rgba(128,0,128,0.4)\",\"rgba(128,0,128,0.4)\",\"rgba(128,0,128,0.4)\",\"rgba(128,0,128,0.4)\",\"rgba(128,0,128,0.4)\",\"rgba(128,0,128,0.4)\",\"rgba(255,215,0,0.4)\",\"rgba(255,215,0,0.4)\",\"rgba(255,215,0,0.4)\",\"rgba(255,215,0,0.4)\",\"rgba(255,215,0,0.4)\",\"rgba(255,215,0,0.4)\",\"rgba(255,215,0,0.4)\",\"rgba(255,215,0,0.4)\",\"rgba(255,215,0,0.4)\",\"rgba(255,215,0,0.4)\",\"rgba(255,215,0,0.4)\",\"rgba(255,215,0,0.4)\",\"rgba(128,0,128,0.4)\",\"rgba(128,0,128,0.4)\",\"rgba(128,0,128,0.4)\",\"rgba(128,0,128,0.4)\",\"rgba(128,0,128,0.4)\",\"rgba(128,0,128,0.4)\",\"rgba(128,0,128,0.4)\",\"rgba(128,0,128,0.4)\",\"rgba(128,0,128,0.4)\",\"rgba(128,0,128,0.4)\",\"rgba(128,0,128,0.4)\",\"rgba(128,0,128,0.4)\",\"rgba(255,215,0,0.4)\",\"rgba(255,215,0,0.4)\",\"rgba(255,215,0,0.4)\",\"rgba(255,215,0,0.4)\",\"rgba(255,215,0,0.4)\",\"rgba(255,215,0,0.4)\",\"rgba(255,215,0,0.4)\",\"rgba(255,215,0,0.4)\",\"rgba(255,215,0,0.4)\",\"rgba(255,215,0,0.4)\",\"rgba(255,215,0,0.4)\",\"rgba(255,215,0,0.4)\",\"rgba(128,0,128,0.4)\",\"rgba(128,0,128,0.4)\",\"rgba(128,0,128,0.4)\",\"rgba(128,0,128,0.4)\",\"rgba(128,0,128,0.4)\",\"rgba(128,0,128,0.4)\",\"rgba(128,0,128,0.4)\",\"rgba(128,0,128,0.4)\",\"rgba(128,0,128,0.4)\",\"rgba(128,0,128,0.4)\",\"rgba(128,0,128,0.4)\",\"rgba(128,0,128,0.4)\",\"rgba(30,144,255, 0.4)\",\"rgba(255,0,0, 0.4)\",\"rgba(255,215,0,0.4)\",\"rgba(255,215,0,0.4)\",\"rgba(255,215,0,0.4)\",\"rgba(255,215,0,0.4)\",\"rgba(255,215,0,0.4)\",\"rgba(255,215,0,0.4)\",\"rgba(255,215,0,0.4)\",\"rgba(255,215,0,0.4)\",\"rgba(255,215,0,0.4)\",\"rgba(255,215,0,0.4)\",\"rgba(255,215,0,0.4)\",\"rgba(255,215,0,0.4)\",\"rgba(128,0,128,0.4)\",\"rgba(128,0,128,0.4)\",\"rgba(128,0,128,0.4)\",\"rgba(128,0,128,0.4)\",\"rgba(128,0,128,0.4)\",\"rgba(128,0,128,0.4)\",\"rgba(128,0,128,0.4)\",\"rgba(128,0,128,0.4)\",\"rgba(128,0,128,0.4)\",\"rgba(128,0,128,0.4)\",\"rgba(128,0,128,0.4)\",\"rgba(128,0,128,0.4)\"],\"customdata\":[\"Fusion efficiency =1.2\\u003cbr\\u003ePool 1 Lymphocytes\\u003cbr\\u003eMse 9, 10\\u003cbr\\u003eStrains: qxv\",\"Fusion efficiency =1.3\\u003cbr\\u003ePool 1 Lymphocytes\\u003cbr\\u003eMse 1, 2, 4, 8\\u003cbr\\u003eStrains: Mixed, bxs, kxg7\",\" [192 HITS]\\u003cbr\\u003e, 1-A2   , 1-B21  , 1-B3   , 1-B7   , 1-C1   , 1-C13  , 1-C16  , 1-C17  , 1-C20  , 1-C23  , 1-C6   , 1-C8   , 1-D11  , 1-D24  , 1-D5   , 1-E10  , 1-E15  , 1-E16  , 1-E2   , \\u003cbr\\u003e, 1-E24  , 1-F17  , 1-F19  , 1-F2   , 1-G1   , 1-G10  , 1-G4   , 1-H10  , 1-H15  , 1-H18  , 1-H24  , 1-H5   , 1-H6   , 1-H9   , 1-I11  , 1-I16  , 1-I21  , 1-I5   , 1-I9   , 1-J10  , \\u003cbr\\u003e, 1-J13  , 1-J22  , 1-J24  , 1-J9   , 1-K16  , 1-K22  , 1-K23  , 1-K24  , 1-K9   , 1-L20  , 1-L5   , 1-M21  , 1-M24  , 1-M4   , 1-N19  , 1-N20  , 1-N3   , 1-O23  , 1-O9   , 1-P13  , \\u003cbr\\u003e, 1-P18  , 1-P19  , 1-P7   , 1-P8   , 2-A13  , 2-A20  , 2-A23  , 2-A8   , 2-B1   , 2-B12  , 2-B3   , 2-B4   , 2-C13  , 2-C20  , 2-D13  , 2-D16  , 2-E12  , 2-E13  , 2-E2   , 2-E21  , \\u003cbr\\u003e, 2-E5   , 2-E6   , 2-E9   , 2-F10  , 2-F11  , 2-F2   , 2-F24  , 2-G11  , 2-G16  , 2-G3   , 2-H12  , 2-H14  , 2-H15  , 2-H5   , 2-I16  , 2-I22  , 2-I6   , 2-J17  , 2-J23  , 2-K10  , \\u003cbr\\u003e, 2-K3   , 2-L1   , 2-L11  , 2-L23  , 2-L3   , 2-M10  , 2-M18  , 2-M24  , 2-M3   , 2-M4   , 2-M5   , 2-M7   , 2-N6   , 2-N7   , 2-O14  , 2-O2   , 2-O21  , 2-P12  , 3-A6   , 3-B16  , \\u003cbr\\u003e, 3-B23  , 3-B8   , 3-C13  , 3-C17  , 3-C18  , 3-C20  , 3-C5   , 3-D10  , 3-D12  , 3-D19  , 3-D23  , 3-D8   , 3-E11  , 3-E16  , 3-E8   , 3-F15  , 3-F20  , 3-F9   , 3-G13  , 3-G15  , \\u003cbr\\u003e, 3-G24  , 3-H13  , 3-H16  , 3-H21  , 3-I20  , 3-I3   , 3-I5   , 3-I9   , 3-J15  , 3-J19  , 3-J6   , 3-K14  , 3-K16  , 3-K18  , 3-K20  , 3-K21  , 3-K3   , 3-K8   , 3-L1   , 3-L12  , \\u003cbr\\u003e, 3-L19  , 3-L3   , 3-M16  , 3-M2   , 3-M23  , 3-M7   , 3-M8   , 3-N4   , 3-N8   , 3-O12  , 3-O14  , 3-O20  , 3-P11  , 3-P9   , 4-A12  , 4-A2   , 4-A23  , 4-B1   , 4-B15  , 4-C16  , \\u003cbr\\u003e, 4-C21  , 4-D21  , 4-D7   , 4-E10  , 4-E18  , 4-E3   , 4-F13  , 4-G24  , 4-G7   , 4-H3   , 4-H7   , 4-I13  , 4-K14  , \\u003cbr\\u003e,\",\" [192 HITS]\\u003cbr\\u003e, 4-K20  , 4-K7   , 4-M24  , 4-M3   , 4-M6   , 4-N1   , 4-N4   , 4-O11  , 4-O20  , 4-O21  , 4-O23  , 4-P12  , 4-P3   , 4-P9   , 5-A17  , 5-A5   , 5-A8   , 5-B13  , 5-B20  , \\u003cbr\\u003e, 5-B7   , 5-C10  , 5-C14  , 5-C4   , 5-D15  , 5-D24  , 5-E12  , 5-E18  , 5-E7   , 5-F4   , 5-G19  , 5-G5   , 5-H14  , 5-H21  , 5-H3   , 5-H4   , 5-I5   , 5-I9   , 5-J14  , 5-J21  , \\u003cbr\\u003e, 5-J23  , 5-J3   , 5-J6   , 5-K22  , 5-K8   , 5-L20  , 5-L21  , 5-L22  , 5-L4   , 5-L8   , 5-M11  , 5-M17  , 5-N10  , 5-N14  , 5-N20  , 5-N24  , 5-N5   , 5-N9   , 5-O9   , 5-P10  , \\u003cbr\\u003e, 5-P23  , 5-P5   , 6-A16  , 6-A2   , 6-A3   , 6-D4   , 6-E22  , 6-F23  , 6-F24  , 6-G3   , 6-G9   , 6-H13  , 6-I12  , 6-I7   , 6-J17  , 6-J21  , 6-J9   , 6-M10  , 6-M14  , 6-P11  , \\u003cbr\\u003e, 6-P14  , 6-P2   , 7-A1   , 7-A13  , 7-A14  , 7-A18  , 7-A9   , 7-B16  , 7-B6   , 7-C13  , 7-C2   , 7-C6   , 7-D15  , 7-D23  , 7-E14  , 7-E2   , 7-F1   , 7-F19  , 7-G10  , 7-G12  , \\u003cbr\\u003e, 7-G13  , 7-G18  , 7-G22  , 7-H3   , 7-I20  , 7-I8   , 7-K13  , 7-K14  , 7-L18  , 7-L6   , 7-M10  , 7-M18  , 7-M3   , 7-N10  , 7-N13  , 7-N5   , 7-O15  , 7-O6   , 8-A14  , 8-A16  , \\u003cbr\\u003e, 8-A22  , 8-B5   , 8-C11  , 8-C12  , 8-C15  , 8-C16  , 8-D1   , 8-D22  , 8-D8   , 8-E13  , 8-H24  , 8-H4   , 8-H9   , 8-I6   , 8-J15  , 8-J19  , 8-K15  , 8-K19  , 8-K22  , 8-L18  , \\u003cbr\\u003e, 8-O12  , 8-O17  , 8-P24  , 8-P7   , 9-B12  , 9-B24  , 9-C13  , 9-C18  , 9-C19  , 9-C5   , 9-D13  , 9-D19  , 9-E19  , 9-F14  , 9-F19  , 9-G11  , 9-G21  , 9-H1   , 9-H22  , 9-H8   , \\u003cbr\\u003e, 9-I10  , 9-J18  , 9-K11  , 9-K14  , 9-L1   , 9-L10  , 9-M13  , 9-M2   , 9-M6   , 9-N19  , 9-N21  , 9-N3   , 9-O12  , 9-O22  , 10-A15, 10-B24, 10-C7  , 10-D10, 10-D18, 10-D3  , \\u003cbr\\u003e, 10-F21, 10-G20, 10-H8  , 10-J18, 10-J21, 10-K3  , 10-K8  , 10-L12, 10-M11, 10-N18, 10-N6  , 10-O22, 10-O4  , \\u003cbr\\u003e,\",\" [187 HITS]\\u003cbr\\u003e, 1-B21  , 1-B7   , 1-C13  , 1-C17  , 1-C23  , 1-C6   , 1-C8   , 1-D11  , 1-D24  , 1-D5   , 1-E10  , 1-E15  , 1-E16  , 1-E2   , 1-E24  , 1-F17  , 1-F19  , 1-F2   , 1-G1   , \\u003cbr\\u003e, 1-G10  , 1-G4   , 1-H10  , 1-H15  , 1-H18  , 1-H24  , 1-H5   , 1-H6   , 1-H9   , 1-I11  , 1-I16  , 1-I21  , 1-I5   , 1-I9   , 1-J10  , 1-J13  , 1-J22  , 1-J24  , 1-J9   , 1-K16  , \\u003cbr\\u003e, 1-K22  , 1-K23  , 1-K24  , 1-K9   , 1-L20  , 1-L5   , 1-M21  , 1-M24  , 1-M4   , 1-N19  , 1-N20  , 1-N3   , 1-O23  , 1-O9   , 1-P13  , 1-P18  , 1-P19  , 1-P7   , 1-P8   , 2-A13  , \\u003cbr\\u003e, 2-A20  , 2-A23  , 2-A8   , 2-B1   , 2-B12  , 2-B3   , 2-B4   , 2-C13  , 2-C20  , 2-D13  , 2-D16  , 2-E12  , 2-E13  , 2-E2   , 2-E21  , 2-E5   , 2-E6   , 2-E9   , 2-F10  , 2-F11  , \\u003cbr\\u003e, 2-F2   , 2-F24  , 2-G11  , 2-G16  , 2-G3   , 2-H12  , 2-H14  , 2-H15  , 2-H5   , 2-I16  , 2-I22  , 2-I6   , 2-J17  , 2-J23  , 2-K10  , 2-K3   , 2-L1   , 2-L11  , 2-L23  , 2-L3   , \\u003cbr\\u003e, 2-M10  , 2-M18  , 2-M24  , 2-M3   , 2-M4   , 2-M5   , 2-M7   , 2-N6   , 2-N7   , 2-O14  , 2-O2   , 2-O21  , 2-P12  , 3-A6   , 3-B16  , 3-B23  , 3-B8   , 3-C13  , 3-C17  , 3-C18  , \\u003cbr\\u003e, 3-C20  , 3-C5   , 3-D10  , 3-D12  , 3-D19  , 3-D23  , 3-D8   , 3-E11  , 3-E16  , 3-E8   , 3-F15  , 3-F20  , 3-F9   , 3-G13  , 3-G15  , 3-G24  , 3-H13  , 3-H16  , 3-H21  , 3-I20  , \\u003cbr\\u003e, 3-I3   , 3-I5   , 3-I9   , 3-J15  , 3-J19  , 3-J6   , 3-K14  , 3-K16  , 3-K18  , 3-K20  , 3-K21  , 3-K3   , 3-K8   , 3-L1   , 3-L12  , 3-L19  , 3-L3   , 3-M16  , 3-M2   , 3-M23  , \\u003cbr\\u003e, 3-M7   , 3-M8   , 3-N4   , 3-N8   , 3-O12  , 3-O14  , 3-O20  , 3-P11  , 3-P9   , 4-A12  , 4-A2   , 4-A23  , 4-B1   , 4-B15  , 4-C16  , 4-C21  , 4-D21  , 4-D7   , 4-E10  , 4-E18  , \\u003cbr\\u003e, 4-E3   , 4-F13  , 4-G24  , 4-G7   , 4-H3   , 4-H7   , 4-I13  , 4-K14  , \\u003cbr\\u003e,\",\" [187 HITS]\\u003cbr\\u003e, 4-K7   , 4-M3   , 4-N1   , 4-O11  , 4-O21  , 4-O23  , 4-P12  , 4-P3   , 4-P9   , 5-A17  , 5-A5   , 5-A8   , 5-B13  , 5-B20  , 5-B7   , 5-C10  , 5-C14  , 5-C4   , 5-D15  , \\u003cbr\\u003e, 5-D24  , 5-E12  , 5-E18  , 5-E7   , 5-F4   , 5-G19  , 5-G5   , 5-H14  , 5-H21  , 5-H3   , 5-H4   , 5-I5   , 5-I9   , 5-J14  , 5-J21  , 5-J23  , 5-J3   , 5-J6   , 5-K22  , 5-K8   , \\u003cbr\\u003e, 5-L20  , 5-L21  , 5-L22  , 5-L4   , 5-L8   , 5-M11  , 5-M17  , 5-N10  , 5-N14  , 5-N20  , 5-N24  , 5-N5   , 5-N9   , 5-O9   , 5-P10  , 5-P23  , 5-P5   , 6-A16  , 6-A2   , 6-A3   , \\u003cbr\\u003e, 6-D4   , 6-E22  , 6-F23  , 6-F24  , 6-G3   , 6-G9   , 6-H13  , 6-I12  , 6-I7   , 6-J17  , 6-J21  , 6-J9   , 6-M10  , 6-M14  , 6-P11  , 6-P14  , 6-P2   , 7-A1   , 7-A13  , 7-A14  , \\u003cbr\\u003e, 7-A18  , 7-A9   , 7-B16  , 7-B6   , 7-C13  , 7-C2   , 7-C6   , 7-D15  , 7-D23  , 7-E14  , 7-E2   , 7-F1   , 7-F19  , 7-G10  , 7-G12  , 7-G13  , 7-G18  , 7-G22  , 7-H3   , 7-I20  , \\u003cbr\\u003e, 7-I8   , 7-K13  , 7-K14  , 7-L18  , 7-L6   , 7-M10  , 7-M18  , 7-M3   , 7-N10  , 7-N13  , 7-N5   , 7-O15  , 7-O6   , 8-A14  , 8-A16  , 8-A22  , 8-B5   , 8-C11  , 8-C12  , 8-C15  , \\u003cbr\\u003e, 8-C16  , 8-D1   , 8-D22  , 8-D8   , 8-E13  , 8-H24  , 8-H4   , 8-H9   , 8-I6   , 8-J15  , 8-J19  , 8-K15  , 8-K19  , 8-K22  , 8-L18  , 8-O12  , 8-O17  , 8-P24  , 8-P7   , 9-B12  , \\u003cbr\\u003e, 9-B24  , 9-C13  , 9-C18  , 9-C19  , 9-C5   , 9-D13  , 9-D19  , 9-E19  , 9-F14  , 9-F19  , 9-G11  , 9-G21  , 9-H1   , 9-H22  , 9-H8   , 9-I10  , 9-J18  , 9-K11  , 9-K14  , 9-L1   , \\u003cbr\\u003e, 9-L10  , 9-M13  , 9-M2   , 9-M6   , 9-N19  , 9-N21  , 9-N3   , 9-O12  , 9-O22  , 10-A15, 10-B24, 10-C7  , 10-D10, 10-D18, 10-D3  , 10-F21, 10-G20, 10-H8  , 10-J18, 10-J21, \\u003cbr\\u003e, 10-K3  , 10-K8  , 10-L12, 10-M11, 10-N18, 10-N6  , 10-O22, 10-O4  , \\u003cbr\\u003e,\",\"2-O1\\u003cbr\\u003e3-D11\\u003cbr\\u003e3-O21\\u003cbr\\u003e4-A16\\u003cbr\\u003e4-N1\\u003cbr\\u003e5-I19\\u003cbr\\u003e5-L22\\u003cbr\\u003e5-L6\\u003cbr\\u003e7-E1\\u003cbr\\u003e7-P21\\u003cbr\\u003e8-E6\\u003cbr\\u003e9-B7\\u003cbr\\u003eTop hit #13\\u003cbr\\u003eTop hit #14\\u003cbr\\u003eTop hit #15\\u003cbr\\u003eTop hit #16\\u003cbr\\u003eTop hit #17\\u003cbr\\u003eTop hit #18\\u003cbr\\u003e\",\"Top hit #22\\u003cbr\\u003eTop hit #23\\u003cbr\\u003eTop hit #24\\u003cbr\\u003e\",\"2-O1\\u003cbr\\u003e3-D11\\u003cbr\\u003e3-O21\\u003cbr\\u003e4-A16\\u003cbr\\u003e4-N1\\u003cbr\\u003e5-I19\\u003cbr\\u003e5-L22\\u003cbr\\u003e5-L6\\u003cbr\\u003e7-E1\\u003cbr\\u003e7-P21\\u003cbr\\u003e8-E6\\u003cbr\\u003e9-B7\\u003cbr\\u003eTop hit #13\\u003cbr\\u003eTop hit #14\\u003cbr\\u003eTop hit #15\\u003cbr\\u003eTop hit #16\\u003cbr\\u003eTop hit #17\\u003cbr\\u003eTop hit #18\\u003cbr\\u003e\",\"Top hit #22\\u003cbr\\u003eTop hit #23\\u003cbr\\u003eTop hit #24\\u003cbr\\u003e\",\"RLU: 527914\",\"RLU: 223561\",\"RLU: 549197\",\"RLU: 259956\",\"RLU: 193156\",\"RLU: 381599\",\"RLU: 498733\",\"RLU: 447667\",\"RLU: 378186\",\"RLU: 610984\",\"RLU: 342921\",\"RLU: 292333\",\"RLU: 292333\",\"RLU: 292333\",\"RLU: 292333\",\"RLU: 292333\",\"RLU: 292333\",\"RLU: 292333\",\"RLU: 292333\",\"RLU: 292333\",\"RLU: 292333\",\"RLU: 292333\",\"RLU: 292333\",\"RLU: 292333\",\"Clone screen RLU: 278295\",\"Clone screen RLU: 596386\",\"Clone screen RLU: 250907\",\"Clone screen RLU: 550873\",\"Clone screen RLU: 118945\",\"Clone screen RLU: 235897\",\"Clone screen RLU: \",\"Clone screen RLU: 706130\",\"Clone screen RLU: 313927\",\"Clone screen RLU: \",\"Clone screen RLU: 368460\",\"Clone screen RLU: 280969\",\"Clone screen RLU: \",\"Clone screen RLU: 280969\",\"Clone screen RLU: 280969\",\"Clone screen RLU: 280969\",\"Clone screen RLU: 280969\",\"Clone screen RLU: 280969\",\"Clone screen RLU: 280969\",\"Clone screen RLU: 280969\",\"Clone screen RLU: 280969\",\"Clone screen RLU: 280969\",\"Clone screen RLU: 280969\",\"Clone screen RLU: 280969\",\"Clone screen RLU: 268914\",\"Clone screen RLU: 548279\",\"Clone screen RLU: 245640\",\"Clone screen RLU: 542545\",\"Clone screen RLU: 115117\",\"Clone screen RLU: 137351\",\"Clone screen RLU: \",\"Clone screen RLU: 388528\",\"Clone screen RLU: 256232\",\"Clone screen RLU: \",\"Clone screen RLU: 327766\",\"Clone screen RLU: 282555\",\"Clone screen RLU: \",\"Clone screen RLU: 282555\",\"Clone screen RLU: 282555\",\"Clone screen RLU: 282555\",\"Clone screen RLU: 282555\",\"Clone screen RLU: 282555\",\"Clone screen RLU: 282555\",\"Clone screen RLU: 282555\",\"Clone screen RLU: 282555\",\"Clone screen RLU: 282555\",\"Clone screen RLU: 282555\",\"Clone screen RLU: 282555\",\"Top hit #19\\u003cbr\\u003eTop hit #20\\u003cbr\\u003eTop hit #21\\u003cbr\\u003e\",\"Top hit #19\\u003cbr\\u003eTop hit #20\\u003cbr\\u003eTop hit #21\\u003cbr\\u003e\",\"Clone screen RLU: 619596\",\"Clone screen RLU: 376422\",\"Clone screen RLU: 695831\",\"Clone screen RLU: 526526\",\"Clone screen RLU: 527472.5\",\"Clone screen RLU: 549521.5\",\"Clone screen RLU: 871013.5\",\"Clone screen RLU: 740833\",\"Clone screen RLU: 429561.5\",\"Clone screen RLU: 639789.5\",\"Clone screen RLU: 540905\",\"Clone screen RLU: 402076\",\"Clone screen RLU: 402076\",\"Clone screen RLU: 402076\",\"Clone screen RLU: 402076\",\"Clone screen RLU: 402076\",\"Clone screen RLU: 402076\",\"Clone screen RLU: 402076\",\"Clone screen RLU: 402076\",\"Clone screen RLU: 402076\",\"Clone screen RLU: 402076\",\"Clone screen RLU: 402076\",\"Clone screen RLU: 402076\",\"Clone screen RLU: 402076\"],\"hovertemplate\":\"%{customdata}\",\"source\":[0,1,0,1,3,3,5,6,5,6,4,4,4,4,4,4,4,4,4,4,4,4,4,4,4,4,4,4,4,4,4,4,4,4,9,10,11,12,13,14,15,16,17,18,19,20,21,22,23,24,25,26,27,28,29,30,31,32,9,10,11,12,13,14,15,16,17,18,19,20,21,22,23,24,25,26,27,28,29,30,31,32,33,33,9,10,11,12,13,14,15,16,17,18,19,20,21,22,23,24,25,26,27,28,29,30,31,32],\"target\":[2,2,3,3,4,4,7,7,8,8,9,10,11,12,13,14,15,16,17,18,19,20,21,22,23,24,25,26,27,28,29,30,31,32,5,5,5,5,5,5,5,5,5,5,5,5,5,5,5,5,5,5,5,5,5,5,5,5,6,6,6,6,6,6,6,6,6,6,6,6,6,6,6,6,6,6,6,6,6,6,6,6,7,8,33,33,33,33,33,33,33,33,33,33,33,33,33,33,33,33,33,33,33,33,33,33,33,33],\"value\":[2304.0,2496.0,192.0,192.0,187.0,187.0,20.0,3.0,20.0,3.0,1.0,1.0,1.0,1.0,1.0,1.0,1.0,1.0,1.0,1.0,1.0,1.0,1.0,1.0,1.0,1.0,1.0,1.0,1.0,1.0,1.0,1.0,1.0,1.0,1.0,1.0,1.0,1.0,1.0,0.0,1.0,1.0,1.0,1.0,1.0,0.0,1.0,1.0,1.0,1.0,1.0,0.0,1.0,1.0,1.0,1.0,0.0,0.0,1.0,1.0,1.0,1.0,1.0,0.0,0.0,1.0,1.0,1.0,1.0,0.0,1.0,1.0,1.0,1.0,1.0,0.0,1.0,1.0,1.0,1.0,1.0,1.0,3.0,3.0,0.0,0.0,0.0,0.0,0.0,1.0,0.0,0.0,0.0,0.0,0.0,1.0,0.0,0.0,0.0,0.0,0.0,1.0,0.0,0.0,0.0,0.0,0.0,0.0,null,null,null,null,null,null,null,null,null,null,null,null,null,null,null,null,null,null,null,null,null,null,null,null,null,null,null,null,null,null,null,null,null,null,null,null,null,null,null,null,null,null,null,null,null,null,null,null,null,null,null,null,null,null,null,null,null,null,null,null,null,null,null,null,null,null,null,null,null,null,null,null,null,null,null,null,null,null,null,null,null,null,null,null,null,null,null,null,null,null,null,null,null,null,null,null,null,null,null,null,null,null]},\"node\":{\"color\":[\"#ffd700\",\"#800080\",\"#000000\",\"#000000\",\"#000000\",\"#00008b\",\"#00008b\",\"#1e90ff\",\"#ff0000\",\"#ffd700\",\"#ffd700\",\"#ffd700\",\"#ffd700\",\"#ffd700\",\"#ffd700\",\"#ffd700\",\"#ffd700\",\"#ffd700\",\"#ffd700\",\"#ffd700\",\"#ffd700\",\"#800080\",\"#800080\",\"#800080\",\"#800080\",\"#800080\",\"#800080\",\"#800080\",\"#800080\",\"#800080\",\"#800080\",\"#800080\",\"#800080\",\"#00008b\"],\"customdata\":[\"Fusion efficiency =  1.2\\u003cbr\\u003eFused b-cells:  Lymphocytes\\u003cbr\\u003eMse ID#  9, 10\\u003cbr\\u003eMse strain(s):  qxv\",\"Fusion efficiency = 1.3\\u003cbr\\u003ePool 2 Lymphocytes\\u003cbr\\u003eMse 9, 10 \\u003cbr\\u003eStrains: Mixed, bxs, kxg7\",\"4800 Screened against 1ug\\u002fmL Target-His by ELISA\\u003cbr\\u003e\\u003cbr\\u003e384 hits moved forward to Confirmation\\u003cbr\\u003escreen\",\"384 Screened against 1ug\\u002fmL Target-His by ELISA\\u003cbr\\u003e\\u003cbr\\u003e355 confirmed\",\"355 screened against 1ug\\u002fmL Target-His by ELISA \\u003cbr\\u003e\\u003cbr\\u003e337 expanded and cryopreserved\",\"24 Clone A's obtained out of 24\\u003cbr\\u003eClone screen RLU:  \\u003cbr\\u003e2-O1 (RLU:278295)\\u003cbr\\u003e3-D11 (RLU:596386)\\u003cbr\\u003e3-O21 (RLU:250907)\\u003cbr\\u003e4-A16 (RLU:550873)\\u003cbr\\u003e4-N1 (RLU:118945)\\u003cbr\\u003e5-I19 (RLU:235897)\\u003cbr\\u003e5-L22 (RLU:)\\u003cbr\\u003e5-L6 (RLU:706130)\\u003cbr\\u003e7-E1 (RLU:313927)\\u003cbr\\u003e7-P21 (RLU:)\\u003cbr\\u003e8-E6 (RLU:368460)\\u003cbr\\u003e9-B7 (RLU:280969)\\u003cbr\\u003eTop hit #13 (RLU:)\\u003cbr\\u003eTop hit #14 (RLU:280969)\\u003cbr\\u003eTop hit #15 (RLU:280969)\\u003cbr\\u003eTop hit #16 (RLU:280969)\\u003cbr\\u003eTop hit #17 (RLU:280969)\\u003cbr\\u003eTop hit #18 (RLU:280969)\\u003cbr\\u003eTop hit #19 (RLU:280969)\\u003cbr\\u003eTop hit #20 (RLU:280969)\\u003cbr\\u003eTop hit #21 (RLU:280969)\\u003cbr\\u003eTop hit #22 (RLU:280969)\\u003cbr\\u003eTop hit #23 (RLU:280969)\\u003cbr\\u003eTop hit #24 (RLU:280969\",\"21 Clone B's obtained out of 24\\u003cbr\\u003eClone screen RLU:  \\u003cbr\\u003e2-O1 (RLU:268914)\\u003cbr\\u003e3-D11 (RLU:548279)\\u003cbr\\u003e3-O21 (RLU:245640)\\u003cbr\\u003e4-A16 (RLU:542545)\\u003cbr\\u003e4-N1 (RLU:115117)\\u003cbr\\u003e5-I19 (RLU:137351)\\u003cbr\\u003e5-L22 (RLU:)\\u003cbr\\u003e5-L6 (RLU:388528)\\u003cbr\\u003e7-E1 (RLU:256232)\\u003cbr\\u003e7-P21 (RLU:)\\u003cbr\\u003e8-E6 (RLU:327766)\\u003cbr\\u003e9-B7 (RLU:282555)\\u003cbr\\u003eTop hit #13 (RLU:)\\u003cbr\\u003eTop hit #14 (RLU:282555)\\u003cbr\\u003eTop hit #15 (RLU:282555)\\u003cbr\\u003eTop hit #16 (RLU:282555)\\u003cbr\\u003eTop hit #17 (RLU:282555)\\u003cbr\\u003eTop hit #18 (RLU:282555)\\u003cbr\\u003eTop hit #19 (RLU:282555)\\u003cbr\\u003eTop hit #20 (RLU:282555)\\u003cbr\\u003eTop hit #21 (RLU:282555)\\u003cbr\\u003eTop hit #22 (RLU:282555)\\u003cbr\\u003eTop hit #23 (RLU:282555)\\u003cbr\\u003eTop hit #24 (RLU:282555\",\"21 Clones clean against BVP\\u003cbr\\u003eBVP RLU:  \\u003cbr\\u003e2-O1 (RLU:######)\\u003cbr\\u003e3-D11 (RLU:###)\\u003cbr\\u003e3-O21 (RLU:###)\\u003cbr\\u003e4-A16 (RLU:###)\\u003cbr\\u003e4-N1 (RLU:###)\\u003cbr\\u003e5-I19 (RLU:###)\\u003cbr\\u003e5-L22 (RLU:###)\\u003cbr\\u003e5-L6 (RLU:###)\\u003cbr\\u003e7-E1 (RLU:###)\\u003cbr\\u003e7-P21 (RLU:###)\\u003cbr\\u003e8-E6 (RLU:###)\\u003cbr\\u003e9-B7 (RLU:###)\\u003cbr\\u003eTop hit #13 (RLU:###)\\u003cbr\\u003eTop hit #14 (RLU:###)\\u003cbr\\u003eTop hit #15 (RLU:###)\\u003cbr\\u003eTop hit #16 (RLU:###)\\u003cbr\\u003eTop hit #17 (RLU:###)\\u003cbr\\u003eTop hit #18 (RLU:###)\\u003cbr\\u003eTop hit #19 (RLU:###)\\u003cbr\\u003eTop hit #20 (RLU:###)\\u003cbr\\u003eTop hit #21 (RLU:###)\\u003cbr\\u003eTop hit #22 (RLU:###)\\u003cbr\\u003eTop hit #23 (RLU:###)\\u003cbr\\u003eTop hit #24 (RLU:###\",\"19 Unique: \\u003cbr\\u003e3-O21\\u003cbr\\u003e4-A16\\u003cbr\\u003e4-N1\\u003cbr\\u003e5-I19\\u003cbr\\u003e5-L22\\u003cbr\\u003e5-L6\\u003cbr\\u003e7-E1\\u003cbr\\u003e7-P21\\u003cbr\\u003eTop hit #12\\u003cbr\\u003eTop hit #13\\u003cbr\\u003eTop hit #14\\u003cbr\\u003eTop hit #15\\u003cbr\\u003eTop hit #16\\u003cbr\\u003eTop hit #17\\u003cbr\\u003eTop hit #18\\u003cbr\\u003eTop hit #19\\u003cbr\\u003eTop hit #20\\u003cbr\\u003eTop hit #21\\u003cbr\\u003eTop hit #22\\u003cbr\\u003e\\u003cbr\\u003e2 Sibling: \\u003cbr\\u003e2-O1 and 3-D11\\u003cbr\\u003e8-E6 and 9-B7\\u003cbr\\u003e\\u003cbr\\u003e0 Identical: \\u003cbr\\u003e\\u003cbr\\u003e\\u003cbr\\u003e3 Multiple HC\\u002fLC: \\u003cbr\\u003e7-P21\\u003cbr\\u003eTop hit #24\\u003cbr\\u003eTop hit #23\",\"1*Screen RLU:  905599\\u003cbr\\u003e2*Screen RLU:  392623\\u003cbr\\u003e3*Screen RLU:  527914\\u003cbr\\u003eScaleup RLU:  260161.5\\u003cbr\\u003ePoly\\u002fNonspecific binding to BVP?    Yes\\u003cbr\\u003eCDR3_HC sequence:  aaaa\\u003cbr\\u003eCDR3_LC sequence:  aaaa\\u003cbr\\u003eZ^2 Liability score:  3\\u003cbr\\u003eIsotype: mIGG2B mKAPPA\\u003cbr\\u003eEC50 (nM):  3.3\\u003cbr\\u003eIC50 (nM):  ## \\u002f ## \\u002f ##\",\"1*Screen RLU:  717841\\u003cbr\\u003e2*Screen RLU:  260434\\u003cbr\\u003e3*Screen RLU:  223561\\u003cbr\\u003eScaleup RLU:  437035.5\\u003cbr\\u003ePoly\\u002fNonspecific binding to BVP?    No\\u003cbr\\u003eCDR3_HC sequence:  aaaa\\u003cbr\\u003eCDR3_LC sequence:  aaaa\\u003cbr\\u003eZ^2 Liability score:  3\\u003cbr\\u003eIsotype: mIGG2B mKAPPA\\u003cbr\\u003eEC50 (nM):  2.7\\u003cbr\\u003eIC50 (nM):  ## \\u002f ## \\u002f ##\",\"1*Screen RLU:  715840\\u003cbr\\u003e2*Screen RLU:  517541\\u003cbr\\u003e3*Screen RLU:  549197\\u003cbr\\u003eScaleup RLU:  374000.5\\u003cbr\\u003ePoly\\u002fNonspecific binding to BVP?    No\\u003cbr\\u003eCDR3_HC sequence:  aaaa\\u003cbr\\u003eCDR3_LC sequence:  aaaa\\u003cbr\\u003eZ^2 Liability score:  1\\u003cbr\\u003eIsotype: mIGG2B mKAPPA\\u003cbr\\u003eEC50 (nM):  2.4\\u003cbr\\u003eIC50 (nM):  ## \\u002f ## \\u002f ##\",\"1*Screen RLU:  776156\\u003cbr\\u003e2*Screen RLU:  329872\\u003cbr\\u003e3*Screen RLU:  259956\\u003cbr\\u003eScaleup RLU:  796688\\u003cbr\\u003ePoly\\u002fNonspecific binding to BVP?    No\\u003cbr\\u003eCDR3_HC sequence:  aaaa\\u003cbr\\u003eCDR3_LC sequence:  aaaa\\u003cbr\\u003eZ^2 Liability score:  1\\u003cbr\\u003eIsotype: mIGG2B mKAPPA\\u003cbr\\u003eEC50 (nM):  1.3\\u003cbr\\u003eIC50 (nM):  ## \\u002f ## \\u002f ##\",\"1*Screen RLU:  770354\\u003cbr\\u003e2*Screen RLU:  177531\\u003cbr\\u003e3*Screen RLU:  193156\\u003cbr\\u003eScaleup RLU:  136818\\u003cbr\\u003ePoly\\u002fNonspecific binding to BVP?    No\\u003cbr\\u003eCDR3_HC sequence:  aaaa\\u003cbr\\u003eCDR3_LC sequence:  aaaa\\u003cbr\\u003eZ^2 Liability score:  3\\u003cbr\\u003eIsotype: mIGG1 mKAPPA\\u003cbr\\u003eEC50 (nM):  1.5\\u003cbr\\u003eIC50 (nM):  ## \\u002f ## \\u002f ##\",\"1*Screen RLU:  841335\\u003cbr\\u003e2*Screen RLU:  388916\\u003cbr\\u003e3*Screen RLU:  381599\\u003cbr\\u003eScaleup RLU:  518082.5\\u003cbr\\u003ePoly\\u002fNonspecific binding to BVP?    No\\u003cbr\\u003eCDR3_HC sequence:  aaaa\\u003cbr\\u003eCDR3_LC sequence:  aaaa\\u003cbr\\u003eZ^2 Liability score:  4\\u003cbr\\u003eIsotype: mIGG2B mKAPPA\\u003cbr\\u003eEC50 (nM):  2.4\\u003cbr\\u003eIC50 (nM):  ## \\u002f ## \\u002f ##\",\"1*Screen RLU:  741884\\u003cbr\\u003e2*Screen RLU:  479432\\u003cbr\\u003e3*Screen RLU:  498733\\u003cbr\\u003eScaleup RLU:  131953.5\\u003cbr\\u003ePoly\\u002fNonspecific binding to BVP?    No\\u003cbr\\u003eCDR3_HC sequence:  aaaa\\u003cbr\\u003eCDR3_LC sequence:  aaaa\\u003cbr\\u003eZ^2 Liability score:  4\\u003cbr\\u003eIsotype: mIGM mKAPPA\\u003cbr\\u003eEC50 (nM):  49.8\\u003cbr\\u003eIC50 (nM):  ## \\u002f ## \\u002f ##\",\"1*Screen RLU:  847900\\u003cbr\\u003e2*Screen RLU:  480873\\u003cbr\\u003e3*Screen RLU:  447667\\u003cbr\\u003eScaleup RLU:  968153\\u003cbr\\u003ePoly\\u002fNonspecific binding to BVP?    No\\u003cbr\\u003eCDR3_HC sequence:  aaaa\\u003cbr\\u003eCDR3_LC sequence:  aaaa\\u003cbr\\u003eZ^2 Liability score:  3\\u003cbr\\u003eIsotype: mIgG2b mKAPPA\\u003cbr\\u003eEC50 (nM):  1.2\\u003cbr\\u003eIC50 (nM):  ## \\u002f ## \\u002f ##\",\"1*Screen RLU:  707369\\u003cbr\\u003e2*Screen RLU:  364123\\u003cbr\\u003e3*Screen RLU:  378186\\u003cbr\\u003eScaleup RLU:  551059.5\\u003cbr\\u003ePoly\\u002fNonspecific binding to BVP?    No\\u003cbr\\u003eCDR3_HC sequence:  aaaa\\u003cbr\\u003eCDR3_LC sequence:  aaaa\\u003cbr\\u003eZ^2 Liability score:  5\\u003cbr\\u003eIsotype: mIGG2B mLAMBDA\\u003cbr\\u003eEC50 (nM):  2.2\\u003cbr\\u003eIC50 (nM):  ## \\u002f ## \\u002f ##\",\"1*Screen RLU:  806803\\u003cbr\\u003e2*Screen RLU:  585692\\u003cbr\\u003e3*Screen RLU:  610984\\u003cbr\\u003eScaleup RLU:  242905\\u003cbr\\u003ePoly\\u002fNonspecific binding to BVP?    No\\u003cbr\\u003eCDR3_HC sequence:  aaaa\\u003cbr\\u003eCDR3_LC sequence:  aaaa\\u003cbr\\u003eZ^2 Liability score:  4\\u003cbr\\u003eIsotype: mIGG1 mKAPPA\\u003cbr\\u003eEC50 (nM):  0.9\\u003cbr\\u003eIC50 (nM):  ## \\u002f ## \\u002f ##\",\"1*Screen RLU:  784380\\u003cbr\\u003e2*Screen RLU:  343425\\u003cbr\\u003e3*Screen RLU:  342921\\u003cbr\\u003eScaleup RLU:  417699.5\\u003cbr\\u003ePoly\\u002fNonspecific binding to BVP?    No\\u003cbr\\u003eCDR3_HC sequence:  aaaa\\u003cbr\\u003eCDR3_LC sequence:  aaaa\\u003cbr\\u003eZ^2 Liability score:  2\\u003cbr\\u003eIsotype: mIGG1 mKAPPA\\u003cbr\\u003eEC50 (nM):  0.6\\u003cbr\\u003eIC50 (nM):  ## \\u002f ## \\u002f ##\",\"1*Screen RLU:  728793\\u003cbr\\u003e2*Screen RLU:  330972\\u003cbr\\u003e3*Screen RLU:  292333\\u003cbr\\u003eScaleup RLU:  260472.5\\u003cbr\\u003ePoly\\u002fNonspecific binding to BVP?    No\\u003cbr\\u003eCDR3_HC sequence:  aaaa\\u003cbr\\u003eCDR3_LC sequence:  aaaa\\u003cbr\\u003eZ^2 Liability score:  2\\u003cbr\\u003eIsotype: mIGG2C mKAPPA\\u003cbr\\u003eEC50 (nM):  1.1\\u003cbr\\u003eIC50 (nM):  ## \\u002f ## \\u002f ##\",\"1*Screen RLU:  728793\\u003cbr\\u003e2*Screen RLU:  330972\\u003cbr\\u003e3*Screen RLU:  292333\\u003cbr\\u003eScaleup RLU:  260473.5\\u003cbr\\u003ePoly\\u002fNonspecific binding to BVP?    No\\u003cbr\\u003eCDR3_HC sequence:  aaaa\\u003cbr\\u003eCDR3_LC sequence:  aaaa\\u003cbr\\u003eZ^2 Liability score:  3\\u003cbr\\u003eIsotype: mIGG2C mKAPPA\\u003cbr\\u003eEC50 (nM):  2.1\\u003cbr\\u003eIC50 (nM):  ## \\u002f ## \\u002f ##\",\"1*Screen RLU:  728793\\u003cbr\\u003e2*Screen RLU:  330972\\u003cbr\\u003e3*Screen RLU:  292333\\u003cbr\\u003eScaleup RLU:  260474.5\\u003cbr\\u003ePoly\\u002fNonspecific binding to BVP?    No\\u003cbr\\u003eCDR3_HC sequence:  aaaa\\u003cbr\\u003eCDR3_LC sequence:  aaaa\\u003cbr\\u003eZ^2 Liability score:  4\\u003cbr\\u003eIsotype: mIGG2C mKAPPA\\u003cbr\\u003eEC50 (nM):  3.1\\u003cbr\\u003eIC50 (nM):  ## \\u002f ## \\u002f ##\",\"1*Screen RLU:  728793\\u003cbr\\u003e2*Screen RLU:  330972\\u003cbr\\u003e3*Screen RLU:  292333\\u003cbr\\u003eScaleup RLU:  260475.5\\u003cbr\\u003ePoly\\u002fNonspecific binding to BVP?    No\\u003cbr\\u003eCDR3_HC sequence:  aaaa\\u003cbr\\u003eCDR3_LC sequence:  aaaa\\u003cbr\\u003eZ^2 Liability score:  5\\u003cbr\\u003eIsotype: mIGG2C mKAPPA\\u003cbr\\u003eEC50 (nM):  4.1\\u003cbr\\u003eIC50 (nM):  ## \\u002f ## \\u002f ##\",\"1*Screen RLU:  728793\\u003cbr\\u003e2*Screen RLU:  330972\\u003cbr\\u003e3*Screen RLU:  292333\\u003cbr\\u003eScaleup RLU:  260476.5\\u003cbr\\u003ePoly\\u002fNonspecific binding to BVP?    No\\u003cbr\\u003eCDR3_HC sequence:  aaaa\\u003cbr\\u003eCDR3_LC sequence:  aaaa\\u003cbr\\u003eZ^2 Liability score:  6\\u003cbr\\u003eIsotype: mIGG2C mKAPPA\\u003cbr\\u003eEC50 (nM):  5.1\\u003cbr\\u003eIC50 (nM):  ## \\u002f ## \\u002f ##\",\"1*Screen RLU:  728793\\u003cbr\\u003e2*Screen RLU:  330972\\u003cbr\\u003e3*Screen RLU:  292333\\u003cbr\\u003eScaleup RLU:  260477.5\\u003cbr\\u003ePoly\\u002fNonspecific binding to BVP?    No\\u003cbr\\u003eCDR3_HC sequence:  aaaa\\u003cbr\\u003eCDR3_LC sequence:  aaaa\\u003cbr\\u003eZ^2 Liability score:  7\\u003cbr\\u003eIsotype: mIGG2C mKAPPA\\u003cbr\\u003eEC50 (nM):  6.1\\u003cbr\\u003eIC50 (nM):  ## \\u002f ## \\u002f ##\",\"1*Screen RLU:  728793\\u003cbr\\u003e2*Screen RLU:  330972\\u003cbr\\u003e3*Screen RLU:  292333\\u003cbr\\u003eScaleup RLU:  260478.5\\u003cbr\\u003ePoly\\u002fNonspecific binding to BVP?    No\\u003cbr\\u003eCDR3_HC sequence:  aaaa\\u003cbr\\u003eCDR3_LC sequence:  aaaa\\u003cbr\\u003eZ^2 Liability score:  8\\u003cbr\\u003eIsotype: mIGG2C mKAPPA\\u003cbr\\u003eEC50 (nM):  7.1\\u003cbr\\u003eIC50 (nM):  ## \\u002f ## \\u002f ##\",\"1*Screen RLU:  728793\\u003cbr\\u003e2*Screen RLU:  330972\\u003cbr\\u003e3*Screen RLU:  292333\\u003cbr\\u003eScaleup RLU:  260479.5\\u003cbr\\u003ePoly\\u002fNonspecific binding to BVP?    No\\u003cbr\\u003eCDR3_HC sequence:  aaaa\\u003cbr\\u003eCDR3_LC sequence:  aaaa\\u003cbr\\u003eZ^2 Liability score:  9\\u003cbr\\u003eIsotype: mIGG2C mKAPPA\\u003cbr\\u003eEC50 (nM):  8.1\\u003cbr\\u003eIC50 (nM):  ## \\u002f ## \\u002f ##\",\"1*Screen RLU:  728793\\u003cbr\\u003e2*Screen RLU:  330972\\u003cbr\\u003e3*Screen RLU:  292333\\u003cbr\\u003eScaleup RLU:  260480.5\\u003cbr\\u003ePoly\\u002fNonspecific binding to BVP?    No\\u003cbr\\u003eCDR3_HC sequence:  aaaa\\u003cbr\\u003eCDR3_LC sequence:  aaaa\\u003cbr\\u003eZ^2 Liability score:  10\\u003cbr\\u003eIsotype: mIGG2C mKAPPA\\u003cbr\\u003eEC50 (nM):  9.1\\u003cbr\\u003eIC50 (nM):  ## \\u002f ## \\u002f ##\",\"1*Screen RLU:  728793\\u003cbr\\u003e2*Screen RLU:  330972\\u003cbr\\u003e3*Screen RLU:  292333\\u003cbr\\u003eScaleup RLU:  260481.5\\u003cbr\\u003ePoly\\u002fNonspecific binding to BVP?    No\\u003cbr\\u003eCDR3_HC sequence:  aaaa\\u003cbr\\u003eCDR3_LC sequence:  aaaa\\u003cbr\\u003eZ^2 Liability score:  11\\u003cbr\\u003eIsotype: mIGG2C mKAPPA\\u003cbr\\u003eEC50 (nM):  10.1\\u003cbr\\u003eIC50 (nM):  ## \\u002f ## \\u002f ##\",\"1*Screen RLU:  728793\\u003cbr\\u003e2*Screen RLU:  330972\\u003cbr\\u003e3*Screen RLU:  292333\\u003cbr\\u003eScaleup RLU:  260482.5\\u003cbr\\u003ePoly\\u002fNonspecific binding to BVP?    No\\u003cbr\\u003eCDR3_HC sequence:  aaaa\\u003cbr\\u003eCDR3_LC sequence:  aaaa\\u003cbr\\u003eZ^2 Liability score:  12\\u003cbr\\u003eIsotype: mIGG2C mKAPPA\\u003cbr\\u003eEC50 (nM):  11.1\\u003cbr\\u003eIC50 (nM):  ## \\u002f ## \\u002f ##\",\"1*Screen RLU:  728793\\u003cbr\\u003e2*Screen RLU:  330972\\u003cbr\\u003e3*Screen RLU:  292333\\u003cbr\\u003eScaleup RLU:  260483.5\\u003cbr\\u003ePoly\\u002fNonspecific binding to BVP?    No\\u003cbr\\u003eCDR3_HC sequence:  aaaa\\u003cbr\\u003eCDR3_LC sequence:  aaaa\\u003cbr\\u003eZ^2 Liability score:  13\\u003cbr\\u003eIsotype: mIGG2C mKAPPA\\u003cbr\\u003eEC50 (nM):  12.1\\u003cbr\\u003eIC50 (nM):  ## \\u002f ## \\u002f ##\",\"1*Screen RLU:  728793\\u003cbr\\u003e2*Screen RLU:  330972\\u003cbr\\u003e3*Screen RLU:  292333\\u003cbr\\u003eScaleup RLU:  260484.5\\u003cbr\\u003ePoly\\u002fNonspecific binding to BVP?    No\\u003cbr\\u003eCDR3_HC sequence:  aaaa\\u003cbr\\u003eCDR3_LC sequence:  aaaa\\u003cbr\\u003eZ^2 Liability score:  14\\u003cbr\\u003eIsotype: mIGG2C mKAPPA\\u003cbr\\u003eEC50 (nM):  13.1\\u003cbr\\u003eIC50 (nM):  ## \\u002f ## \\u002f ##\",\"3 Polyclones\\u002fParentals obtained out of 24 \\u003cbr\\u003ePost-thaw RLU:  \\u003cbr\\u003e5-I19 (RLU:549521.5)\\u003cbr\\u003e9-B7 (RLU:402076\"],\"hovertemplate\":\"%{customdata}\",\"label\":[\"Fusion 1 \\u003cbr\\u003e# hybridomas =  2304\\u003cbr\\u003eFusion efficiency =  1.2\\u003cbr\\u003e# of wells screened:  1920\\u003cbr\\u003eMse ID#  9, 10\\u003cbr\\u003eMse strain(s):  qxv\\u003cbr\\u003eFused b-cells:  Lymphocytes\\u003cbr\\u003eImmunization method:  HT-Hock\\u003cbr\\u003eImmunogen:  aaa\\u003cbr\\u003eFinal boost:  aaa\",\"Fusion 2 \\u003cbr\\u003e# hybridomas =  2496\\u003cbr\\u003eFusion efficiency =  1.3\\u003cbr\\u003e# of wells screened:  1920\\u003cbr\\u003eMse ID#  1, 2, 4, 8\\u003cbr\\u003eMse strain(s):  Mixed, bxs, kxg7\\u003cbr\\u003eFused b-cells:  Lymphocytes\\u003cbr\\u003eImmunization method:  HT-Hock\\u003cbr\\u003eImmunogen:  aaa\\u003cbr\\u003eFinal boost:  aaa\",\"\\u003cb\\u003ePrimary\\u003cbr\\u003escreen\\u003cbr\\u003e\\u003cspan style='color:red'\\u003e384 hits\",\"\\u003cb\\u003eConfirmation\\u003cbr\\u003escreen\\u003cbr\\u003e\\u003cspan style='color:red'\\u003e355\\u002f384hits\",\"\\u003cb\\u003eTertiary screen\\u003cbr\\u003e\\u003cspan style='color:red'\\u003e337\\u002f355 hits\\u003cbr\\u003e\\u003cspan style='color:black'\\u003e\\u003cb\\u003eexpanded & cryopreserved\",\"Clone A\\u003cbr\\u003e(24\\u002f24)\",\"Clone B (21\\u002f24)\",\"BVP\\u003cbr\\u003e(21\\u002f24 clean)\",\"\\u003cb\\u003eSequencing\\u003c\\u002fb\\u003e \\u003cbr\\u003e( Single heavy & light\\u003cbr\\u003e chain obtained\\u003cbr\\u003e for 21\\u002f24)\",\"2-O1\",\"3-D11\",\"3-O21\",\"4-A16\",\"4-N1\",\"5-I19\",\"5-L22\",\"5-L6\",\"7-E1\",\"7-P21\",\"8-E6\",\"9-B7\",\"Top hit #13\",\"Top hit #14\",\"Top hit #15\",\"Top hit #16\",\"Top hit #17\",\"Top hit #18\",\"Top hit #19\",\"Top hit #20\",\"Top hit #21\",\"Top hit #22\",\"Top hit #23\",\"Top hit #24\",\"Parental\\u002fPoly\\u003cbr\\u003e(3\\u002f12)\"],\"x\":[-0.01,-0.01,0.2,0.3,0.4,0.65,0.65,0.95,0.9,0.45,0.45,0.45,0.45,0.45,0.45,0.45,0.45,0.45,0.45,0.45,0.45,0.55,0.55,0.55,0.55,0.55,0.55,0.55,0.55,0.55,0.55,0.55,0.55,0.65,null,null,null,null,null,null,null,null,null,null,null,null,null,null,null,null,null,null,null,null,null,null,null,null,null,null,null,null,null,null,null,null,null,null,null,null,null,null,null,null,null,null,null,null,null,null,null,null,null,null,null,null,null,null,null,null,null,null,null,null,null,null,null,null,null,null,null,null,null,null,null,null,null,null,null,null,null,null,null,null,null,null,null,null,null,null,null,null,null,null,null,null,null,null,null,null,null,null,null,null,null,null,null,null,null,null,null,null,null,null,null,null,null,null,null,null,null,null,null,null,null,null,null,null,null,null,null,null,null,null,null,null,null,null,null,null,null,null,null,null,null,null,null,null,null,null,null,null,null,null,null,null,null,null,null,null,null,null,null,null,null,null,null,null,null,null,null,null,null,null,null,null,null,null,null,null],\"y\":[0.25,0.75,0.5,0.25,0.35,0.1,0.3,0.35,0.5,0.6,0.625,0.65,0.675,0.7,0.725,0.75,0.775,0.8,0.825,0.85,0.875,0.6,0.625,0.65,0.675,0.7,0.725,0.75,0.775,0.8,0.825,0.85,0.875,0.4,null,null,null,null,null,null,null,null,null,null,null,null,null,null,null,null,null,null,null,null,null,null,null,null,null,null,null,null,null,null,null,null,null,null,null,null,null,null,null,null,null,null,null,null,null,null,null,null,null,null,null,null,null,null,null,null,null,null,null,null,null,null,null,null,null,null,null,null,null,null,null,null,null,null,null,null,null,null,null,null,null,null,null,null,null,null,null,null,null,null,null,null,null,null,null,null,null,null,null,null,null,null,null,null,null,null,null,null,null,null,null,null,null,null,null,null,null,null,null,null,null,null,null,null,null,null,null,null,null,null,null,null,null,null,null,null,null,null,null,null,null,null,null,null,null,null,null,null,null,null,null,null,null,null,null,null,null,null,null,null,null,null,null,null,null,null,null,null,null,null,null,null,null,null,null,null]},\"type\":\"sankey\"},{\"mode\":\"none\",\"x\":[1],\"y\":[1],\"type\":\"scatter\"}],                        {\"font\":{\"size\":12},\"template\":{\"data\":{\"histogram2dcontour\":[{\"type\":\"histogram2dcontour\",\"colorbar\":{\"outlinewidth\":0,\"ticks\":\"\"},\"colorscale\":[[0.0,\"#0d0887\"],[0.1111111111111111,\"#46039f\"],[0.2222222222222222,\"#7201a8\"],[0.3333333333333333,\"#9c179e\"],[0.4444444444444444,\"#bd3786\"],[0.5555555555555556,\"#d8576b\"],[0.6666666666666666,\"#ed7953\"],[0.7777777777777778,\"#fb9f3a\"],[0.8888888888888888,\"#fdca26\"],[1.0,\"#f0f921\"]]}],\"choropleth\":[{\"type\":\"choropleth\",\"colorbar\":{\"outlinewidth\":0,\"ticks\":\"\"}}],\"histogram2d\":[{\"type\":\"histogram2d\",\"colorbar\":{\"outlinewidth\":0,\"ticks\":\"\"},\"colorscale\":[[0.0,\"#0d0887\"],[0.1111111111111111,\"#46039f\"],[0.2222222222222222,\"#7201a8\"],[0.3333333333333333,\"#9c179e\"],[0.4444444444444444,\"#bd3786\"],[0.5555555555555556,\"#d8576b\"],[0.6666666666666666,\"#ed7953\"],[0.7777777777777778,\"#fb9f3a\"],[0.8888888888888888,\"#fdca26\"],[1.0,\"#f0f921\"]]}],\"heatmap\":[{\"type\":\"heatmap\",\"colorbar\":{\"outlinewidth\":0,\"ticks\":\"\"},\"colorscale\":[[0.0,\"#0d0887\"],[0.1111111111111111,\"#46039f\"],[0.2222222222222222,\"#7201a8\"],[0.3333333333333333,\"#9c179e\"],[0.4444444444444444,\"#bd3786\"],[0.5555555555555556,\"#d8576b\"],[0.6666666666666666,\"#ed7953\"],[0.7777777777777778,\"#fb9f3a\"],[0.8888888888888888,\"#fdca26\"],[1.0,\"#f0f921\"]]}],\"heatmapgl\":[{\"type\":\"heatmapgl\",\"colorbar\":{\"outlinewidth\":0,\"ticks\":\"\"},\"colorscale\":[[0.0,\"#0d0887\"],[0.1111111111111111,\"#46039f\"],[0.2222222222222222,\"#7201a8\"],[0.3333333333333333,\"#9c179e\"],[0.4444444444444444,\"#bd3786\"],[0.5555555555555556,\"#d8576b\"],[0.6666666666666666,\"#ed7953\"],[0.7777777777777778,\"#fb9f3a\"],[0.8888888888888888,\"#fdca26\"],[1.0,\"#f0f921\"]]}],\"contourcarpet\":[{\"type\":\"contourcarpet\",\"colorbar\":{\"outlinewidth\":0,\"ticks\":\"\"}}],\"contour\":[{\"type\":\"contour\",\"colorbar\":{\"outlinewidth\":0,\"ticks\":\"\"},\"colorscale\":[[0.0,\"#0d0887\"],[0.1111111111111111,\"#46039f\"],[0.2222222222222222,\"#7201a8\"],[0.3333333333333333,\"#9c179e\"],[0.4444444444444444,\"#bd3786\"],[0.5555555555555556,\"#d8576b\"],[0.6666666666666666,\"#ed7953\"],[0.7777777777777778,\"#fb9f3a\"],[0.8888888888888888,\"#fdca26\"],[1.0,\"#f0f921\"]]}],\"surface\":[{\"type\":\"surface\",\"colorbar\":{\"outlinewidth\":0,\"ticks\":\"\"},\"colorscale\":[[0.0,\"#0d0887\"],[0.1111111111111111,\"#46039f\"],[0.2222222222222222,\"#7201a8\"],[0.3333333333333333,\"#9c179e\"],[0.4444444444444444,\"#bd3786\"],[0.5555555555555556,\"#d8576b\"],[0.6666666666666666,\"#ed7953\"],[0.7777777777777778,\"#fb9f3a\"],[0.8888888888888888,\"#fdca26\"],[1.0,\"#f0f921\"]]}],\"mesh3d\":[{\"type\":\"mesh3d\",\"colorbar\":{\"outlinewidth\":0,\"ticks\":\"\"}}],\"scatter\":[{\"fillpattern\":{\"fillmode\":\"overlay\",\"size\":10,\"solidity\":0.2},\"type\":\"scatter\"}],\"parcoords\":[{\"type\":\"parcoords\",\"line\":{\"colorbar\":{\"outlinewidth\":0,\"ticks\":\"\"}}}],\"scatterpolargl\":[{\"type\":\"scatterpolargl\",\"marker\":{\"colorbar\":{\"outlinewidth\":0,\"ticks\":\"\"}}}],\"bar\":[{\"error_x\":{\"color\":\"#2a3f5f\"},\"error_y\":{\"color\":\"#2a3f5f\"},\"marker\":{\"line\":{\"color\":\"#E5ECF6\",\"width\":0.5},\"pattern\":{\"fillmode\":\"overlay\",\"size\":10,\"solidity\":0.2}},\"type\":\"bar\"}],\"scattergeo\":[{\"type\":\"scattergeo\",\"marker\":{\"colorbar\":{\"outlinewidth\":0,\"ticks\":\"\"}}}],\"scatterpolar\":[{\"type\":\"scatterpolar\",\"marker\":{\"colorbar\":{\"outlinewidth\":0,\"ticks\":\"\"}}}],\"histogram\":[{\"marker\":{\"pattern\":{\"fillmode\":\"overlay\",\"size\":10,\"solidity\":0.2}},\"type\":\"histogram\"}],\"scattergl\":[{\"type\":\"scattergl\",\"marker\":{\"colorbar\":{\"outlinewidth\":0,\"ticks\":\"\"}}}],\"scatter3d\":[{\"type\":\"scatter3d\",\"line\":{\"colorbar\":{\"outlinewidth\":0,\"ticks\":\"\"}},\"marker\":{\"colorbar\":{\"outlinewidth\":0,\"ticks\":\"\"}}}],\"scattermapbox\":[{\"type\":\"scattermapbox\",\"marker\":{\"colorbar\":{\"outlinewidth\":0,\"ticks\":\"\"}}}],\"scatterternary\":[{\"type\":\"scatterternary\",\"marker\":{\"colorbar\":{\"outlinewidth\":0,\"ticks\":\"\"}}}],\"scattercarpet\":[{\"type\":\"scattercarpet\",\"marker\":{\"colorbar\":{\"outlinewidth\":0,\"ticks\":\"\"}}}],\"carpet\":[{\"aaxis\":{\"endlinecolor\":\"#2a3f5f\",\"gridcolor\":\"white\",\"linecolor\":\"white\",\"minorgridcolor\":\"white\",\"startlinecolor\":\"#2a3f5f\"},\"baxis\":{\"endlinecolor\":\"#2a3f5f\",\"gridcolor\":\"white\",\"linecolor\":\"white\",\"minorgridcolor\":\"white\",\"startlinecolor\":\"#2a3f5f\"},\"type\":\"carpet\"}],\"table\":[{\"cells\":{\"fill\":{\"color\":\"#EBF0F8\"},\"line\":{\"color\":\"white\"}},\"header\":{\"fill\":{\"color\":\"#C8D4E3\"},\"line\":{\"color\":\"white\"}},\"type\":\"table\"}],\"barpolar\":[{\"marker\":{\"line\":{\"color\":\"#E5ECF6\",\"width\":0.5},\"pattern\":{\"fillmode\":\"overlay\",\"size\":10,\"solidity\":0.2}},\"type\":\"barpolar\"}],\"pie\":[{\"automargin\":true,\"type\":\"pie\"}]},\"layout\":{\"autotypenumbers\":\"strict\",\"colorway\":[\"#636efa\",\"#EF553B\",\"#00cc96\",\"#ab63fa\",\"#FFA15A\",\"#19d3f3\",\"#FF6692\",\"#B6E880\",\"#FF97FF\",\"#FECB52\"],\"font\":{\"color\":\"#2a3f5f\"},\"hovermode\":\"closest\",\"hoverlabel\":{\"align\":\"left\"},\"paper_bgcolor\":\"white\",\"plot_bgcolor\":\"#E5ECF6\",\"polar\":{\"bgcolor\":\"#E5ECF6\",\"angularaxis\":{\"gridcolor\":\"white\",\"linecolor\":\"white\",\"ticks\":\"\"},\"radialaxis\":{\"gridcolor\":\"white\",\"linecolor\":\"white\",\"ticks\":\"\"}},\"ternary\":{\"bgcolor\":\"#E5ECF6\",\"aaxis\":{\"gridcolor\":\"white\",\"linecolor\":\"white\",\"ticks\":\"\"},\"baxis\":{\"gridcolor\":\"white\",\"linecolor\":\"white\",\"ticks\":\"\"},\"caxis\":{\"gridcolor\":\"white\",\"linecolor\":\"white\",\"ticks\":\"\"}},\"coloraxis\":{\"colorbar\":{\"outlinewidth\":0,\"ticks\":\"\"}},\"colorscale\":{\"sequential\":[[0.0,\"#0d0887\"],[0.1111111111111111,\"#46039f\"],[0.2222222222222222,\"#7201a8\"],[0.3333333333333333,\"#9c179e\"],[0.4444444444444444,\"#bd3786\"],[0.5555555555555556,\"#d8576b\"],[0.6666666666666666,\"#ed7953\"],[0.7777777777777778,\"#fb9f3a\"],[0.8888888888888888,\"#fdca26\"],[1.0,\"#f0f921\"]],\"sequentialminus\":[[0.0,\"#0d0887\"],[0.1111111111111111,\"#46039f\"],[0.2222222222222222,\"#7201a8\"],[0.3333333333333333,\"#9c179e\"],[0.4444444444444444,\"#bd3786\"],[0.5555555555555556,\"#d8576b\"],[0.6666666666666666,\"#ed7953\"],[0.7777777777777778,\"#fb9f3a\"],[0.8888888888888888,\"#fdca26\"],[1.0,\"#f0f921\"]],\"diverging\":[[0,\"#8e0152\"],[0.1,\"#c51b7d\"],[0.2,\"#de77ae\"],[0.3,\"#f1b6da\"],[0.4,\"#fde0ef\"],[0.5,\"#f7f7f7\"],[0.6,\"#e6f5d0\"],[0.7,\"#b8e186\"],[0.8,\"#7fbc41\"],[0.9,\"#4d9221\"],[1,\"#276419\"]]},\"xaxis\":{\"gridcolor\":\"white\",\"linecolor\":\"white\",\"ticks\":\"\",\"title\":{\"standoff\":15},\"zerolinecolor\":\"white\",\"automargin\":true,\"zerolinewidth\":2},\"yaxis\":{\"gridcolor\":\"white\",\"linecolor\":\"white\",\"ticks\":\"\",\"title\":{\"standoff\":15},\"zerolinecolor\":\"white\",\"automargin\":true,\"zerolinewidth\":2},\"scene\":{\"xaxis\":{\"backgroundcolor\":\"#E5ECF6\",\"gridcolor\":\"white\",\"linecolor\":\"white\",\"showbackground\":true,\"ticks\":\"\",\"zerolinecolor\":\"white\",\"gridwidth\":2},\"yaxis\":{\"backgroundcolor\":\"#E5ECF6\",\"gridcolor\":\"white\",\"linecolor\":\"white\",\"showbackground\":true,\"ticks\":\"\",\"zerolinecolor\":\"white\",\"gridwidth\":2},\"zaxis\":{\"backgroundcolor\":\"#E5ECF6\",\"gridcolor\":\"white\",\"linecolor\":\"white\",\"showbackground\":true,\"ticks\":\"\",\"zerolinecolor\":\"white\",\"gridwidth\":2}},\"shapedefaults\":{\"line\":{\"color\":\"#2a3f5f\"}},\"annotationdefaults\":{\"arrowcolor\":\"#2a3f5f\",\"arrowhead\":0,\"arrowwidth\":1},\"geo\":{\"bgcolor\":\"white\",\"landcolor\":\"#E5ECF6\",\"subunitcolor\":\"white\",\"showland\":true,\"showlakes\":true,\"lakecolor\":\"white\"},\"title\":{\"x\":0.05},\"mapbox\":{\"style\":\"light\"}}},\"xaxis\":{\"showticklabels\":true,\"showgrid\":true,\"dtick\":0.05,\"range\":[0,1]},\"yaxis\":{\"showticklabels\":true,\"showgrid\":true,\"dtick\":0.05,\"range\":[0,1]},\"plot_bgcolor\":\"#e6e6fa\",\"paper_bgcolor\":\"#e6e6fa\"},                        {\"responsive\": true}                    ).then(function(){\n",
       "                            \n",
       "var gd = document.getElementById('308a19a5-0899-40d5-a093-462f7d0361db');\n",
       "var x = new MutationObserver(function (mutations, observer) {{\n",
       "        var display = window.getComputedStyle(gd).display;\n",
       "        if (!display || display === 'none') {{\n",
       "            console.log([gd, 'removed!']);\n",
       "            Plotly.purge(gd);\n",
       "            observer.disconnect();\n",
       "        }}\n",
       "}});\n",
       "\n",
       "// Listen for the removal of the full notebook cells\n",
       "var notebookContainer = gd.closest('#notebook-container');\n",
       "if (notebookContainer) {{\n",
       "    x.observe(notebookContainer, {childList: true});\n",
       "}}\n",
       "\n",
       "// Listen for the clearing of the current output cell\n",
       "var outputEl = gd.closest('.output');\n",
       "if (outputEl) {{\n",
       "    x.observe(outputEl, {childList: true});\n",
       "}}\n",
       "\n",
       "                        })                };                });            </script>        </div>"
      ]
     },
     "metadata": {},
     "output_type": "display_data"
    }
   ],
   "source": [
    "fig_annotate.update_xaxes(showticklabels=True,\n",
    "                          showgrid=True,\n",
    "                          dtick=0.05,\n",
    "                          range = [0,1])\n",
    "fig_annotate.update_yaxes(showticklabels=True,\n",
    "                          showgrid=True,\n",
    "                          dtick=0.05,\n",
    "                          range = [0,1])\n",
    "\n",
    "#temporary background color to make gridlines more obvious. \n",
    "fig_annotate.update_layout({\"plot_bgcolor\": \"#e6e6fa\",\n",
    "                            \"paper_bgcolor\": \"#e6e6fa\"}) "
   ]
  },
  {
   "cell_type": "code",
   "execution_count": 44,
   "id": "77ed5f45-efb0-450b-95aa-a5db35c28194",
   "metadata": {},
   "outputs": [
    {
     "data": {
      "application/vnd.plotly.v1+json": {
       "config": {
        "plotlyServerURL": "https://plot.ly"
       },
       "data": [
        {
         "link": {
          "color": [
           "rgba(255,215,0, 0.4)",
           "rgba(128,0,128, 0.4)",
           "rgba(255,215,0, 0.4)",
           "rgba(128,0,128, 0.4)",
           "rgba(255,215,0, 0.4)",
           "rgba(128,0,128, 0.4)",
           "rgba(30,144,255, 0.4)",
           "rgba(30,144,255, 0.4)",
           "rgba(255,0,0, 0.4)",
           "rgba(255,0,0, 0.4)",
           "rgba(255,215,0,0.4)",
           "rgba(255,215,0,0.4)",
           "rgba(255,215,0,0.4)",
           "rgba(255,215,0,0.4)",
           "rgba(255,215,0,0.4)",
           "rgba(255,215,0,0.4)",
           "rgba(255,215,0,0.4)",
           "rgba(255,215,0,0.4)",
           "rgba(255,215,0,0.4)",
           "rgba(255,215,0,0.4)",
           "rgba(255,215,0,0.4)",
           "rgba(255,215,0,0.4)",
           "rgba(128,0,128,0.4)",
           "rgba(128,0,128,0.4)",
           "rgba(128,0,128,0.4)",
           "rgba(128,0,128,0.4)",
           "rgba(128,0,128,0.4)",
           "rgba(128,0,128,0.4)",
           "rgba(128,0,128,0.4)",
           "rgba(128,0,128,0.4)",
           "rgba(128,0,128,0.4)",
           "rgba(128,0,128,0.4)",
           "rgba(128,0,128,0.4)",
           "rgba(128,0,128,0.4)",
           "rgba(255,215,0,0.4)",
           "rgba(255,215,0,0.4)",
           "rgba(255,215,0,0.4)",
           "rgba(255,215,0,0.4)",
           "rgba(255,215,0,0.4)",
           "rgba(255,215,0,0.4)",
           "rgba(255,215,0,0.4)",
           "rgba(255,215,0,0.4)",
           "rgba(255,215,0,0.4)",
           "rgba(255,215,0,0.4)",
           "rgba(255,215,0,0.4)",
           "rgba(255,215,0,0.4)",
           "rgba(128,0,128,0.4)",
           "rgba(128,0,128,0.4)",
           "rgba(128,0,128,0.4)",
           "rgba(128,0,128,0.4)",
           "rgba(128,0,128,0.4)",
           "rgba(128,0,128,0.4)",
           "rgba(128,0,128,0.4)",
           "rgba(128,0,128,0.4)",
           "rgba(128,0,128,0.4)",
           "rgba(128,0,128,0.4)",
           "rgba(128,0,128,0.4)",
           "rgba(128,0,128,0.4)",
           "rgba(255,215,0,0.4)",
           "rgba(255,215,0,0.4)",
           "rgba(255,215,0,0.4)",
           "rgba(255,215,0,0.4)",
           "rgba(255,215,0,0.4)",
           "rgba(255,215,0,0.4)",
           "rgba(255,215,0,0.4)",
           "rgba(255,215,0,0.4)",
           "rgba(255,215,0,0.4)",
           "rgba(255,215,0,0.4)",
           "rgba(255,215,0,0.4)",
           "rgba(255,215,0,0.4)",
           "rgba(128,0,128,0.4)",
           "rgba(128,0,128,0.4)",
           "rgba(128,0,128,0.4)",
           "rgba(128,0,128,0.4)",
           "rgba(128,0,128,0.4)",
           "rgba(128,0,128,0.4)",
           "rgba(128,0,128,0.4)",
           "rgba(128,0,128,0.4)",
           "rgba(128,0,128,0.4)",
           "rgba(128,0,128,0.4)",
           "rgba(128,0,128,0.4)",
           "rgba(128,0,128,0.4)",
           "rgba(30,144,255, 0.4)",
           "rgba(255,0,0, 0.4)",
           "rgba(255,215,0,0.4)",
           "rgba(255,215,0,0.4)",
           "rgba(255,215,0,0.4)",
           "rgba(255,215,0,0.4)",
           "rgba(255,215,0,0.4)",
           "rgba(255,215,0,0.4)",
           "rgba(255,215,0,0.4)",
           "rgba(255,215,0,0.4)",
           "rgba(255,215,0,0.4)",
           "rgba(255,215,0,0.4)",
           "rgba(255,215,0,0.4)",
           "rgba(255,215,0,0.4)",
           "rgba(128,0,128,0.4)",
           "rgba(128,0,128,0.4)",
           "rgba(128,0,128,0.4)",
           "rgba(128,0,128,0.4)",
           "rgba(128,0,128,0.4)",
           "rgba(128,0,128,0.4)",
           "rgba(128,0,128,0.4)",
           "rgba(128,0,128,0.4)",
           "rgba(128,0,128,0.4)",
           "rgba(128,0,128,0.4)",
           "rgba(128,0,128,0.4)",
           "rgba(128,0,128,0.4)"
          ],
          "customdata": [
           "Fusion efficiency =1.2<br>Pool 1 Lymphocytes<br>Mse 9, 10<br>Strains: qxv",
           "Fusion efficiency =1.3<br>Pool 1 Lymphocytes<br>Mse 1, 2, 4, 8<br>Strains: Mixed, bxs, kxg7",
           " [192 HITS]<br>, 1-A2   , 1-B21  , 1-B3   , 1-B7   , 1-C1   , 1-C13  , 1-C16  , 1-C17  , 1-C20  , 1-C23  , 1-C6   , 1-C8   , 1-D11  , 1-D24  , 1-D5   , 1-E10  , 1-E15  , 1-E16  , 1-E2   , <br>, 1-E24  , 1-F17  , 1-F19  , 1-F2   , 1-G1   , 1-G10  , 1-G4   , 1-H10  , 1-H15  , 1-H18  , 1-H24  , 1-H5   , 1-H6   , 1-H9   , 1-I11  , 1-I16  , 1-I21  , 1-I5   , 1-I9   , 1-J10  , <br>, 1-J13  , 1-J22  , 1-J24  , 1-J9   , 1-K16  , 1-K22  , 1-K23  , 1-K24  , 1-K9   , 1-L20  , 1-L5   , 1-M21  , 1-M24  , 1-M4   , 1-N19  , 1-N20  , 1-N3   , 1-O23  , 1-O9   , 1-P13  , <br>, 1-P18  , 1-P19  , 1-P7   , 1-P8   , 2-A13  , 2-A20  , 2-A23  , 2-A8   , 2-B1   , 2-B12  , 2-B3   , 2-B4   , 2-C13  , 2-C20  , 2-D13  , 2-D16  , 2-E12  , 2-E13  , 2-E2   , 2-E21  , <br>, 2-E5   , 2-E6   , 2-E9   , 2-F10  , 2-F11  , 2-F2   , 2-F24  , 2-G11  , 2-G16  , 2-G3   , 2-H12  , 2-H14  , 2-H15  , 2-H5   , 2-I16  , 2-I22  , 2-I6   , 2-J17  , 2-J23  , 2-K10  , <br>, 2-K3   , 2-L1   , 2-L11  , 2-L23  , 2-L3   , 2-M10  , 2-M18  , 2-M24  , 2-M3   , 2-M4   , 2-M5   , 2-M7   , 2-N6   , 2-N7   , 2-O14  , 2-O2   , 2-O21  , 2-P12  , 3-A6   , 3-B16  , <br>, 3-B23  , 3-B8   , 3-C13  , 3-C17  , 3-C18  , 3-C20  , 3-C5   , 3-D10  , 3-D12  , 3-D19  , 3-D23  , 3-D8   , 3-E11  , 3-E16  , 3-E8   , 3-F15  , 3-F20  , 3-F9   , 3-G13  , 3-G15  , <br>, 3-G24  , 3-H13  , 3-H16  , 3-H21  , 3-I20  , 3-I3   , 3-I5   , 3-I9   , 3-J15  , 3-J19  , 3-J6   , 3-K14  , 3-K16  , 3-K18  , 3-K20  , 3-K21  , 3-K3   , 3-K8   , 3-L1   , 3-L12  , <br>, 3-L19  , 3-L3   , 3-M16  , 3-M2   , 3-M23  , 3-M7   , 3-M8   , 3-N4   , 3-N8   , 3-O12  , 3-O14  , 3-O20  , 3-P11  , 3-P9   , 4-A12  , 4-A2   , 4-A23  , 4-B1   , 4-B15  , 4-C16  , <br>, 4-C21  , 4-D21  , 4-D7   , 4-E10  , 4-E18  , 4-E3   , 4-F13  , 4-G24  , 4-G7   , 4-H3   , 4-H7   , 4-I13  , 4-K14  , <br>,",
           " [192 HITS]<br>, 4-K20  , 4-K7   , 4-M24  , 4-M3   , 4-M6   , 4-N1   , 4-N4   , 4-O11  , 4-O20  , 4-O21  , 4-O23  , 4-P12  , 4-P3   , 4-P9   , 5-A17  , 5-A5   , 5-A8   , 5-B13  , 5-B20  , <br>, 5-B7   , 5-C10  , 5-C14  , 5-C4   , 5-D15  , 5-D24  , 5-E12  , 5-E18  , 5-E7   , 5-F4   , 5-G19  , 5-G5   , 5-H14  , 5-H21  , 5-H3   , 5-H4   , 5-I5   , 5-I9   , 5-J14  , 5-J21  , <br>, 5-J23  , 5-J3   , 5-J6   , 5-K22  , 5-K8   , 5-L20  , 5-L21  , 5-L22  , 5-L4   , 5-L8   , 5-M11  , 5-M17  , 5-N10  , 5-N14  , 5-N20  , 5-N24  , 5-N5   , 5-N9   , 5-O9   , 5-P10  , <br>, 5-P23  , 5-P5   , 6-A16  , 6-A2   , 6-A3   , 6-D4   , 6-E22  , 6-F23  , 6-F24  , 6-G3   , 6-G9   , 6-H13  , 6-I12  , 6-I7   , 6-J17  , 6-J21  , 6-J9   , 6-M10  , 6-M14  , 6-P11  , <br>, 6-P14  , 6-P2   , 7-A1   , 7-A13  , 7-A14  , 7-A18  , 7-A9   , 7-B16  , 7-B6   , 7-C13  , 7-C2   , 7-C6   , 7-D15  , 7-D23  , 7-E14  , 7-E2   , 7-F1   , 7-F19  , 7-G10  , 7-G12  , <br>, 7-G13  , 7-G18  , 7-G22  , 7-H3   , 7-I20  , 7-I8   , 7-K13  , 7-K14  , 7-L18  , 7-L6   , 7-M10  , 7-M18  , 7-M3   , 7-N10  , 7-N13  , 7-N5   , 7-O15  , 7-O6   , 8-A14  , 8-A16  , <br>, 8-A22  , 8-B5   , 8-C11  , 8-C12  , 8-C15  , 8-C16  , 8-D1   , 8-D22  , 8-D8   , 8-E13  , 8-H24  , 8-H4   , 8-H9   , 8-I6   , 8-J15  , 8-J19  , 8-K15  , 8-K19  , 8-K22  , 8-L18  , <br>, 8-O12  , 8-O17  , 8-P24  , 8-P7   , 9-B12  , 9-B24  , 9-C13  , 9-C18  , 9-C19  , 9-C5   , 9-D13  , 9-D19  , 9-E19  , 9-F14  , 9-F19  , 9-G11  , 9-G21  , 9-H1   , 9-H22  , 9-H8   , <br>, 9-I10  , 9-J18  , 9-K11  , 9-K14  , 9-L1   , 9-L10  , 9-M13  , 9-M2   , 9-M6   , 9-N19  , 9-N21  , 9-N3   , 9-O12  , 9-O22  , 10-A15, 10-B24, 10-C7  , 10-D10, 10-D18, 10-D3  , <br>, 10-F21, 10-G20, 10-H8  , 10-J18, 10-J21, 10-K3  , 10-K8  , 10-L12, 10-M11, 10-N18, 10-N6  , 10-O22, 10-O4  , <br>,",
           " [187 HITS]<br>, 1-B21  , 1-B7   , 1-C13  , 1-C17  , 1-C23  , 1-C6   , 1-C8   , 1-D11  , 1-D24  , 1-D5   , 1-E10  , 1-E15  , 1-E16  , 1-E2   , 1-E24  , 1-F17  , 1-F19  , 1-F2   , 1-G1   , <br>, 1-G10  , 1-G4   , 1-H10  , 1-H15  , 1-H18  , 1-H24  , 1-H5   , 1-H6   , 1-H9   , 1-I11  , 1-I16  , 1-I21  , 1-I5   , 1-I9   , 1-J10  , 1-J13  , 1-J22  , 1-J24  , 1-J9   , 1-K16  , <br>, 1-K22  , 1-K23  , 1-K24  , 1-K9   , 1-L20  , 1-L5   , 1-M21  , 1-M24  , 1-M4   , 1-N19  , 1-N20  , 1-N3   , 1-O23  , 1-O9   , 1-P13  , 1-P18  , 1-P19  , 1-P7   , 1-P8   , 2-A13  , <br>, 2-A20  , 2-A23  , 2-A8   , 2-B1   , 2-B12  , 2-B3   , 2-B4   , 2-C13  , 2-C20  , 2-D13  , 2-D16  , 2-E12  , 2-E13  , 2-E2   , 2-E21  , 2-E5   , 2-E6   , 2-E9   , 2-F10  , 2-F11  , <br>, 2-F2   , 2-F24  , 2-G11  , 2-G16  , 2-G3   , 2-H12  , 2-H14  , 2-H15  , 2-H5   , 2-I16  , 2-I22  , 2-I6   , 2-J17  , 2-J23  , 2-K10  , 2-K3   , 2-L1   , 2-L11  , 2-L23  , 2-L3   , <br>, 2-M10  , 2-M18  , 2-M24  , 2-M3   , 2-M4   , 2-M5   , 2-M7   , 2-N6   , 2-N7   , 2-O14  , 2-O2   , 2-O21  , 2-P12  , 3-A6   , 3-B16  , 3-B23  , 3-B8   , 3-C13  , 3-C17  , 3-C18  , <br>, 3-C20  , 3-C5   , 3-D10  , 3-D12  , 3-D19  , 3-D23  , 3-D8   , 3-E11  , 3-E16  , 3-E8   , 3-F15  , 3-F20  , 3-F9   , 3-G13  , 3-G15  , 3-G24  , 3-H13  , 3-H16  , 3-H21  , 3-I20  , <br>, 3-I3   , 3-I5   , 3-I9   , 3-J15  , 3-J19  , 3-J6   , 3-K14  , 3-K16  , 3-K18  , 3-K20  , 3-K21  , 3-K3   , 3-K8   , 3-L1   , 3-L12  , 3-L19  , 3-L3   , 3-M16  , 3-M2   , 3-M23  , <br>, 3-M7   , 3-M8   , 3-N4   , 3-N8   , 3-O12  , 3-O14  , 3-O20  , 3-P11  , 3-P9   , 4-A12  , 4-A2   , 4-A23  , 4-B1   , 4-B15  , 4-C16  , 4-C21  , 4-D21  , 4-D7   , 4-E10  , 4-E18  , <br>, 4-E3   , 4-F13  , 4-G24  , 4-G7   , 4-H3   , 4-H7   , 4-I13  , 4-K14  , <br>,",
           " [187 HITS]<br>, 4-K7   , 4-M3   , 4-N1   , 4-O11  , 4-O21  , 4-O23  , 4-P12  , 4-P3   , 4-P9   , 5-A17  , 5-A5   , 5-A8   , 5-B13  , 5-B20  , 5-B7   , 5-C10  , 5-C14  , 5-C4   , 5-D15  , <br>, 5-D24  , 5-E12  , 5-E18  , 5-E7   , 5-F4   , 5-G19  , 5-G5   , 5-H14  , 5-H21  , 5-H3   , 5-H4   , 5-I5   , 5-I9   , 5-J14  , 5-J21  , 5-J23  , 5-J3   , 5-J6   , 5-K22  , 5-K8   , <br>, 5-L20  , 5-L21  , 5-L22  , 5-L4   , 5-L8   , 5-M11  , 5-M17  , 5-N10  , 5-N14  , 5-N20  , 5-N24  , 5-N5   , 5-N9   , 5-O9   , 5-P10  , 5-P23  , 5-P5   , 6-A16  , 6-A2   , 6-A3   , <br>, 6-D4   , 6-E22  , 6-F23  , 6-F24  , 6-G3   , 6-G9   , 6-H13  , 6-I12  , 6-I7   , 6-J17  , 6-J21  , 6-J9   , 6-M10  , 6-M14  , 6-P11  , 6-P14  , 6-P2   , 7-A1   , 7-A13  , 7-A14  , <br>, 7-A18  , 7-A9   , 7-B16  , 7-B6   , 7-C13  , 7-C2   , 7-C6   , 7-D15  , 7-D23  , 7-E14  , 7-E2   , 7-F1   , 7-F19  , 7-G10  , 7-G12  , 7-G13  , 7-G18  , 7-G22  , 7-H3   , 7-I20  , <br>, 7-I8   , 7-K13  , 7-K14  , 7-L18  , 7-L6   , 7-M10  , 7-M18  , 7-M3   , 7-N10  , 7-N13  , 7-N5   , 7-O15  , 7-O6   , 8-A14  , 8-A16  , 8-A22  , 8-B5   , 8-C11  , 8-C12  , 8-C15  , <br>, 8-C16  , 8-D1   , 8-D22  , 8-D8   , 8-E13  , 8-H24  , 8-H4   , 8-H9   , 8-I6   , 8-J15  , 8-J19  , 8-K15  , 8-K19  , 8-K22  , 8-L18  , 8-O12  , 8-O17  , 8-P24  , 8-P7   , 9-B12  , <br>, 9-B24  , 9-C13  , 9-C18  , 9-C19  , 9-C5   , 9-D13  , 9-D19  , 9-E19  , 9-F14  , 9-F19  , 9-G11  , 9-G21  , 9-H1   , 9-H22  , 9-H8   , 9-I10  , 9-J18  , 9-K11  , 9-K14  , 9-L1   , <br>, 9-L10  , 9-M13  , 9-M2   , 9-M6   , 9-N19  , 9-N21  , 9-N3   , 9-O12  , 9-O22  , 10-A15, 10-B24, 10-C7  , 10-D10, 10-D18, 10-D3  , 10-F21, 10-G20, 10-H8  , 10-J18, 10-J21, <br>, 10-K3  , 10-K8  , 10-L12, 10-M11, 10-N18, 10-N6  , 10-O22, 10-O4  , <br>,",
           "2-O1<br>3-D11<br>3-O21<br>4-A16<br>4-N1<br>5-I19<br>5-L22<br>5-L6<br>7-E1<br>7-P21<br>8-E6<br>9-B7<br>Top hit #13<br>Top hit #14<br>Top hit #15<br>Top hit #16<br>Top hit #17<br>Top hit #18<br>",
           "Top hit #22<br>Top hit #23<br>Top hit #24<br>",
           "2-O1<br>3-D11<br>3-O21<br>4-A16<br>4-N1<br>5-I19<br>5-L22<br>5-L6<br>7-E1<br>7-P21<br>8-E6<br>9-B7<br>Top hit #13<br>Top hit #14<br>Top hit #15<br>Top hit #16<br>Top hit #17<br>Top hit #18<br>",
           "Top hit #22<br>Top hit #23<br>Top hit #24<br>",
           "RLU: 527914",
           "RLU: 223561",
           "RLU: 549197",
           "RLU: 259956",
           "RLU: 193156",
           "RLU: 381599",
           "RLU: 498733",
           "RLU: 447667",
           "RLU: 378186",
           "RLU: 610984",
           "RLU: 342921",
           "RLU: 292333",
           "RLU: 292333",
           "RLU: 292333",
           "RLU: 292333",
           "RLU: 292333",
           "RLU: 292333",
           "RLU: 292333",
           "RLU: 292333",
           "RLU: 292333",
           "RLU: 292333",
           "RLU: 292333",
           "RLU: 292333",
           "RLU: 292333",
           "Clone screen RLU: 278295",
           "Clone screen RLU: 596386",
           "Clone screen RLU: 250907",
           "Clone screen RLU: 550873",
           "Clone screen RLU: 118945",
           "Clone screen RLU: 235897",
           "Clone screen RLU: ",
           "Clone screen RLU: 706130",
           "Clone screen RLU: 313927",
           "Clone screen RLU: ",
           "Clone screen RLU: 368460",
           "Clone screen RLU: 280969",
           "Clone screen RLU: ",
           "Clone screen RLU: 280969",
           "Clone screen RLU: 280969",
           "Clone screen RLU: 280969",
           "Clone screen RLU: 280969",
           "Clone screen RLU: 280969",
           "Clone screen RLU: 280969",
           "Clone screen RLU: 280969",
           "Clone screen RLU: 280969",
           "Clone screen RLU: 280969",
           "Clone screen RLU: 280969",
           "Clone screen RLU: 280969",
           "Clone screen RLU: 268914",
           "Clone screen RLU: 548279",
           "Clone screen RLU: 245640",
           "Clone screen RLU: 542545",
           "Clone screen RLU: 115117",
           "Clone screen RLU: 137351",
           "Clone screen RLU: ",
           "Clone screen RLU: 388528",
           "Clone screen RLU: 256232",
           "Clone screen RLU: ",
           "Clone screen RLU: 327766",
           "Clone screen RLU: 282555",
           "Clone screen RLU: ",
           "Clone screen RLU: 282555",
           "Clone screen RLU: 282555",
           "Clone screen RLU: 282555",
           "Clone screen RLU: 282555",
           "Clone screen RLU: 282555",
           "Clone screen RLU: 282555",
           "Clone screen RLU: 282555",
           "Clone screen RLU: 282555",
           "Clone screen RLU: 282555",
           "Clone screen RLU: 282555",
           "Clone screen RLU: 282555",
           "Top hit #19<br>Top hit #20<br>Top hit #21<br>",
           "Top hit #19<br>Top hit #20<br>Top hit #21<br>",
           "Clone screen RLU: 619596",
           "Clone screen RLU: 376422",
           "Clone screen RLU: 695831",
           "Clone screen RLU: 526526",
           "Clone screen RLU: 527472.5",
           "Clone screen RLU: 549521.5",
           "Clone screen RLU: 871013.5",
           "Clone screen RLU: 740833",
           "Clone screen RLU: 429561.5",
           "Clone screen RLU: 639789.5",
           "Clone screen RLU: 540905",
           "Clone screen RLU: 402076",
           "Clone screen RLU: 402076",
           "Clone screen RLU: 402076",
           "Clone screen RLU: 402076",
           "Clone screen RLU: 402076",
           "Clone screen RLU: 402076",
           "Clone screen RLU: 402076",
           "Clone screen RLU: 402076",
           "Clone screen RLU: 402076",
           "Clone screen RLU: 402076",
           "Clone screen RLU: 402076",
           "Clone screen RLU: 402076",
           "Clone screen RLU: 402076"
          ],
          "hovertemplate": "%{customdata}",
          "source": [
           0,
           1,
           0,
           1,
           3,
           3,
           5,
           6,
           5,
           6,
           4,
           4,
           4,
           4,
           4,
           4,
           4,
           4,
           4,
           4,
           4,
           4,
           4,
           4,
           4,
           4,
           4,
           4,
           4,
           4,
           4,
           4,
           4,
           4,
           9,
           10,
           11,
           12,
           13,
           14,
           15,
           16,
           17,
           18,
           19,
           20,
           21,
           22,
           23,
           24,
           25,
           26,
           27,
           28,
           29,
           30,
           31,
           32,
           9,
           10,
           11,
           12,
           13,
           14,
           15,
           16,
           17,
           18,
           19,
           20,
           21,
           22,
           23,
           24,
           25,
           26,
           27,
           28,
           29,
           30,
           31,
           32,
           33,
           33,
           9,
           10,
           11,
           12,
           13,
           14,
           15,
           16,
           17,
           18,
           19,
           20,
           21,
           22,
           23,
           24,
           25,
           26,
           27,
           28,
           29,
           30,
           31,
           32
          ],
          "target": [
           2,
           2,
           3,
           3,
           4,
           4,
           7,
           7,
           8,
           8,
           9,
           10,
           11,
           12,
           13,
           14,
           15,
           16,
           17,
           18,
           19,
           20,
           21,
           22,
           23,
           24,
           25,
           26,
           27,
           28,
           29,
           30,
           31,
           32,
           5,
           5,
           5,
           5,
           5,
           5,
           5,
           5,
           5,
           5,
           5,
           5,
           5,
           5,
           5,
           5,
           5,
           5,
           5,
           5,
           5,
           5,
           5,
           5,
           6,
           6,
           6,
           6,
           6,
           6,
           6,
           6,
           6,
           6,
           6,
           6,
           6,
           6,
           6,
           6,
           6,
           6,
           6,
           6,
           6,
           6,
           6,
           6,
           7,
           8,
           33,
           33,
           33,
           33,
           33,
           33,
           33,
           33,
           33,
           33,
           33,
           33,
           33,
           33,
           33,
           33,
           33,
           33,
           33,
           33,
           33,
           33,
           33,
           33
          ],
          "value": [
           2304,
           2496,
           192,
           192,
           187,
           187,
           20,
           3,
           20,
           3,
           1,
           1,
           1,
           1,
           1,
           1,
           1,
           1,
           1,
           1,
           1,
           1,
           1,
           1,
           1,
           1,
           1,
           1,
           1,
           1,
           1,
           1,
           1,
           1,
           1,
           1,
           1,
           1,
           1,
           0,
           1,
           1,
           1,
           1,
           1,
           0,
           1,
           1,
           1,
           1,
           1,
           0,
           1,
           1,
           1,
           1,
           0,
           0,
           1,
           1,
           1,
           1,
           1,
           0,
           0,
           1,
           1,
           1,
           1,
           0,
           1,
           1,
           1,
           1,
           1,
           0,
           1,
           1,
           1,
           1,
           1,
           1,
           3,
           3,
           0,
           0,
           0,
           0,
           0,
           1,
           0,
           0,
           0,
           0,
           0,
           1,
           0,
           0,
           0,
           0,
           0,
           1,
           0,
           0,
           0,
           0,
           0,
           0,
           null,
           null,
           null,
           null,
           null,
           null,
           null,
           null,
           null,
           null,
           null,
           null,
           null,
           null,
           null,
           null,
           null,
           null,
           null,
           null,
           null,
           null,
           null,
           null,
           null,
           null,
           null,
           null,
           null,
           null,
           null,
           null,
           null,
           null,
           null,
           null,
           null,
           null,
           null,
           null,
           null,
           null,
           null,
           null,
           null,
           null,
           null,
           null,
           null,
           null,
           null,
           null,
           null,
           null,
           null,
           null,
           null,
           null,
           null,
           null,
           null,
           null,
           null,
           null,
           null,
           null,
           null,
           null,
           null,
           null,
           null,
           null,
           null,
           null,
           null,
           null,
           null,
           null,
           null,
           null,
           null,
           null,
           null,
           null,
           null,
           null,
           null,
           null,
           null,
           null,
           null,
           null,
           null,
           null,
           null,
           null,
           null,
           null,
           null,
           null,
           null,
           null
          ]
         },
         "node": {
          "color": [
           "#ffd700",
           "#800080",
           "#000000",
           "#000000",
           "#000000",
           "#00008b",
           "#00008b",
           "#1e90ff",
           "#ff0000",
           "#ffd700",
           "#ffd700",
           "#ffd700",
           "#ffd700",
           "#ffd700",
           "#ffd700",
           "#ffd700",
           "#ffd700",
           "#ffd700",
           "#ffd700",
           "#ffd700",
           "#ffd700",
           "#800080",
           "#800080",
           "#800080",
           "#800080",
           "#800080",
           "#800080",
           "#800080",
           "#800080",
           "#800080",
           "#800080",
           "#800080",
           "#800080",
           "#00008b"
          ],
          "customdata": [
           "Fusion efficiency =  1.2<br>Fused b-cells:  Lymphocytes<br>Mse ID#  9, 10<br>Mse strain(s):  qxv",
           "Fusion efficiency = 1.3<br>Pool 2 Lymphocytes<br>Mse 9, 10 <br>Strains: Mixed, bxs, kxg7",
           "4800 Screened against 1ug/mL Target-His by ELISA<br><br>384 hits moved forward to Confirmation<br>screen",
           "384 Screened against 1ug/mL Target-His by ELISA<br><br>355 confirmed",
           "355 screened against 1ug/mL Target-His by ELISA <br><br>337 expanded and cryopreserved",
           "24 Clone A's obtained out of 24<br>Clone screen RLU:  <br>2-O1 (RLU:278295)<br>3-D11 (RLU:596386)<br>3-O21 (RLU:250907)<br>4-A16 (RLU:550873)<br>4-N1 (RLU:118945)<br>5-I19 (RLU:235897)<br>5-L22 (RLU:)<br>5-L6 (RLU:706130)<br>7-E1 (RLU:313927)<br>7-P21 (RLU:)<br>8-E6 (RLU:368460)<br>9-B7 (RLU:280969)<br>Top hit #13 (RLU:)<br>Top hit #14 (RLU:280969)<br>Top hit #15 (RLU:280969)<br>Top hit #16 (RLU:280969)<br>Top hit #17 (RLU:280969)<br>Top hit #18 (RLU:280969)<br>Top hit #19 (RLU:280969)<br>Top hit #20 (RLU:280969)<br>Top hit #21 (RLU:280969)<br>Top hit #22 (RLU:280969)<br>Top hit #23 (RLU:280969)<br>Top hit #24 (RLU:280969",
           "21 Clone B's obtained out of 24<br>Clone screen RLU:  <br>2-O1 (RLU:268914)<br>3-D11 (RLU:548279)<br>3-O21 (RLU:245640)<br>4-A16 (RLU:542545)<br>4-N1 (RLU:115117)<br>5-I19 (RLU:137351)<br>5-L22 (RLU:)<br>5-L6 (RLU:388528)<br>7-E1 (RLU:256232)<br>7-P21 (RLU:)<br>8-E6 (RLU:327766)<br>9-B7 (RLU:282555)<br>Top hit #13 (RLU:)<br>Top hit #14 (RLU:282555)<br>Top hit #15 (RLU:282555)<br>Top hit #16 (RLU:282555)<br>Top hit #17 (RLU:282555)<br>Top hit #18 (RLU:282555)<br>Top hit #19 (RLU:282555)<br>Top hit #20 (RLU:282555)<br>Top hit #21 (RLU:282555)<br>Top hit #22 (RLU:282555)<br>Top hit #23 (RLU:282555)<br>Top hit #24 (RLU:282555",
           "21 Clones clean against BVP<br>BVP RLU:  <br>2-O1 (RLU:######)<br>3-D11 (RLU:###)<br>3-O21 (RLU:###)<br>4-A16 (RLU:###)<br>4-N1 (RLU:###)<br>5-I19 (RLU:###)<br>5-L22 (RLU:###)<br>5-L6 (RLU:###)<br>7-E1 (RLU:###)<br>7-P21 (RLU:###)<br>8-E6 (RLU:###)<br>9-B7 (RLU:###)<br>Top hit #13 (RLU:###)<br>Top hit #14 (RLU:###)<br>Top hit #15 (RLU:###)<br>Top hit #16 (RLU:###)<br>Top hit #17 (RLU:###)<br>Top hit #18 (RLU:###)<br>Top hit #19 (RLU:###)<br>Top hit #20 (RLU:###)<br>Top hit #21 (RLU:###)<br>Top hit #22 (RLU:###)<br>Top hit #23 (RLU:###)<br>Top hit #24 (RLU:###",
           "19 Unique: <br>3-O21<br>4-A16<br>4-N1<br>5-I19<br>5-L22<br>5-L6<br>7-E1<br>7-P21<br>Top hit #12<br>Top hit #13<br>Top hit #14<br>Top hit #15<br>Top hit #16<br>Top hit #17<br>Top hit #18<br>Top hit #19<br>Top hit #20<br>Top hit #21<br>Top hit #22<br><br>2 Sibling: <br>2-O1 and 3-D11<br>8-E6 and 9-B7<br><br>0 Identical: <br><br><br>3 Multiple HC/LC: <br>7-P21<br>Top hit #24<br>Top hit #23",
           "1*Screen RLU:  905599<br>2*Screen RLU:  392623<br>3*Screen RLU:  527914<br>Scaleup RLU:  260161.5<br>Poly/Nonspecific binding to BVP?    Yes<br>CDR3_HC sequence:  aaaa<br>CDR3_LC sequence:  aaaa<br>Z^2 Liability score:  3<br>Isotype: mIGG2B mKAPPA<br>EC50 (nM):  3.3<br>IC50 (nM):  ## / ## / ##",
           "1*Screen RLU:  717841<br>2*Screen RLU:  260434<br>3*Screen RLU:  223561<br>Scaleup RLU:  437035.5<br>Poly/Nonspecific binding to BVP?    No<br>CDR3_HC sequence:  aaaa<br>CDR3_LC sequence:  aaaa<br>Z^2 Liability score:  3<br>Isotype: mIGG2B mKAPPA<br>EC50 (nM):  2.7<br>IC50 (nM):  ## / ## / ##",
           "1*Screen RLU:  715840<br>2*Screen RLU:  517541<br>3*Screen RLU:  549197<br>Scaleup RLU:  374000.5<br>Poly/Nonspecific binding to BVP?    No<br>CDR3_HC sequence:  aaaa<br>CDR3_LC sequence:  aaaa<br>Z^2 Liability score:  1<br>Isotype: mIGG2B mKAPPA<br>EC50 (nM):  2.4<br>IC50 (nM):  ## / ## / ##",
           "1*Screen RLU:  776156<br>2*Screen RLU:  329872<br>3*Screen RLU:  259956<br>Scaleup RLU:  796688<br>Poly/Nonspecific binding to BVP?    No<br>CDR3_HC sequence:  aaaa<br>CDR3_LC sequence:  aaaa<br>Z^2 Liability score:  1<br>Isotype: mIGG2B mKAPPA<br>EC50 (nM):  1.3<br>IC50 (nM):  ## / ## / ##",
           "1*Screen RLU:  770354<br>2*Screen RLU:  177531<br>3*Screen RLU:  193156<br>Scaleup RLU:  136818<br>Poly/Nonspecific binding to BVP?    No<br>CDR3_HC sequence:  aaaa<br>CDR3_LC sequence:  aaaa<br>Z^2 Liability score:  3<br>Isotype: mIGG1 mKAPPA<br>EC50 (nM):  1.5<br>IC50 (nM):  ## / ## / ##",
           "1*Screen RLU:  841335<br>2*Screen RLU:  388916<br>3*Screen RLU:  381599<br>Scaleup RLU:  518082.5<br>Poly/Nonspecific binding to BVP?    No<br>CDR3_HC sequence:  aaaa<br>CDR3_LC sequence:  aaaa<br>Z^2 Liability score:  4<br>Isotype: mIGG2B mKAPPA<br>EC50 (nM):  2.4<br>IC50 (nM):  ## / ## / ##",
           "1*Screen RLU:  741884<br>2*Screen RLU:  479432<br>3*Screen RLU:  498733<br>Scaleup RLU:  131953.5<br>Poly/Nonspecific binding to BVP?    No<br>CDR3_HC sequence:  aaaa<br>CDR3_LC sequence:  aaaa<br>Z^2 Liability score:  4<br>Isotype: mIGM mKAPPA<br>EC50 (nM):  49.8<br>IC50 (nM):  ## / ## / ##",
           "1*Screen RLU:  847900<br>2*Screen RLU:  480873<br>3*Screen RLU:  447667<br>Scaleup RLU:  968153<br>Poly/Nonspecific binding to BVP?    No<br>CDR3_HC sequence:  aaaa<br>CDR3_LC sequence:  aaaa<br>Z^2 Liability score:  3<br>Isotype: mIgG2b mKAPPA<br>EC50 (nM):  1.2<br>IC50 (nM):  ## / ## / ##",
           "1*Screen RLU:  707369<br>2*Screen RLU:  364123<br>3*Screen RLU:  378186<br>Scaleup RLU:  551059.5<br>Poly/Nonspecific binding to BVP?    No<br>CDR3_HC sequence:  aaaa<br>CDR3_LC sequence:  aaaa<br>Z^2 Liability score:  5<br>Isotype: mIGG2B mLAMBDA<br>EC50 (nM):  2.2<br>IC50 (nM):  ## / ## / ##",
           "1*Screen RLU:  806803<br>2*Screen RLU:  585692<br>3*Screen RLU:  610984<br>Scaleup RLU:  242905<br>Poly/Nonspecific binding to BVP?    No<br>CDR3_HC sequence:  aaaa<br>CDR3_LC sequence:  aaaa<br>Z^2 Liability score:  4<br>Isotype: mIGG1 mKAPPA<br>EC50 (nM):  0.9<br>IC50 (nM):  ## / ## / ##",
           "1*Screen RLU:  784380<br>2*Screen RLU:  343425<br>3*Screen RLU:  342921<br>Scaleup RLU:  417699.5<br>Poly/Nonspecific binding to BVP?    No<br>CDR3_HC sequence:  aaaa<br>CDR3_LC sequence:  aaaa<br>Z^2 Liability score:  2<br>Isotype: mIGG1 mKAPPA<br>EC50 (nM):  0.6<br>IC50 (nM):  ## / ## / ##",
           "1*Screen RLU:  728793<br>2*Screen RLU:  330972<br>3*Screen RLU:  292333<br>Scaleup RLU:  260472.5<br>Poly/Nonspecific binding to BVP?    No<br>CDR3_HC sequence:  aaaa<br>CDR3_LC sequence:  aaaa<br>Z^2 Liability score:  2<br>Isotype: mIGG2C mKAPPA<br>EC50 (nM):  1.1<br>IC50 (nM):  ## / ## / ##",
           "1*Screen RLU:  728793<br>2*Screen RLU:  330972<br>3*Screen RLU:  292333<br>Scaleup RLU:  260473.5<br>Poly/Nonspecific binding to BVP?    No<br>CDR3_HC sequence:  aaaa<br>CDR3_LC sequence:  aaaa<br>Z^2 Liability score:  3<br>Isotype: mIGG2C mKAPPA<br>EC50 (nM):  2.1<br>IC50 (nM):  ## / ## / ##",
           "1*Screen RLU:  728793<br>2*Screen RLU:  330972<br>3*Screen RLU:  292333<br>Scaleup RLU:  260474.5<br>Poly/Nonspecific binding to BVP?    No<br>CDR3_HC sequence:  aaaa<br>CDR3_LC sequence:  aaaa<br>Z^2 Liability score:  4<br>Isotype: mIGG2C mKAPPA<br>EC50 (nM):  3.1<br>IC50 (nM):  ## / ## / ##",
           "1*Screen RLU:  728793<br>2*Screen RLU:  330972<br>3*Screen RLU:  292333<br>Scaleup RLU:  260475.5<br>Poly/Nonspecific binding to BVP?    No<br>CDR3_HC sequence:  aaaa<br>CDR3_LC sequence:  aaaa<br>Z^2 Liability score:  5<br>Isotype: mIGG2C mKAPPA<br>EC50 (nM):  4.1<br>IC50 (nM):  ## / ## / ##",
           "1*Screen RLU:  728793<br>2*Screen RLU:  330972<br>3*Screen RLU:  292333<br>Scaleup RLU:  260476.5<br>Poly/Nonspecific binding to BVP?    No<br>CDR3_HC sequence:  aaaa<br>CDR3_LC sequence:  aaaa<br>Z^2 Liability score:  6<br>Isotype: mIGG2C mKAPPA<br>EC50 (nM):  5.1<br>IC50 (nM):  ## / ## / ##",
           "1*Screen RLU:  728793<br>2*Screen RLU:  330972<br>3*Screen RLU:  292333<br>Scaleup RLU:  260477.5<br>Poly/Nonspecific binding to BVP?    No<br>CDR3_HC sequence:  aaaa<br>CDR3_LC sequence:  aaaa<br>Z^2 Liability score:  7<br>Isotype: mIGG2C mKAPPA<br>EC50 (nM):  6.1<br>IC50 (nM):  ## / ## / ##",
           "1*Screen RLU:  728793<br>2*Screen RLU:  330972<br>3*Screen RLU:  292333<br>Scaleup RLU:  260478.5<br>Poly/Nonspecific binding to BVP?    No<br>CDR3_HC sequence:  aaaa<br>CDR3_LC sequence:  aaaa<br>Z^2 Liability score:  8<br>Isotype: mIGG2C mKAPPA<br>EC50 (nM):  7.1<br>IC50 (nM):  ## / ## / ##",
           "1*Screen RLU:  728793<br>2*Screen RLU:  330972<br>3*Screen RLU:  292333<br>Scaleup RLU:  260479.5<br>Poly/Nonspecific binding to BVP?    No<br>CDR3_HC sequence:  aaaa<br>CDR3_LC sequence:  aaaa<br>Z^2 Liability score:  9<br>Isotype: mIGG2C mKAPPA<br>EC50 (nM):  8.1<br>IC50 (nM):  ## / ## / ##",
           "1*Screen RLU:  728793<br>2*Screen RLU:  330972<br>3*Screen RLU:  292333<br>Scaleup RLU:  260480.5<br>Poly/Nonspecific binding to BVP?    No<br>CDR3_HC sequence:  aaaa<br>CDR3_LC sequence:  aaaa<br>Z^2 Liability score:  10<br>Isotype: mIGG2C mKAPPA<br>EC50 (nM):  9.1<br>IC50 (nM):  ## / ## / ##",
           "1*Screen RLU:  728793<br>2*Screen RLU:  330972<br>3*Screen RLU:  292333<br>Scaleup RLU:  260481.5<br>Poly/Nonspecific binding to BVP?    No<br>CDR3_HC sequence:  aaaa<br>CDR3_LC sequence:  aaaa<br>Z^2 Liability score:  11<br>Isotype: mIGG2C mKAPPA<br>EC50 (nM):  10.1<br>IC50 (nM):  ## / ## / ##",
           "1*Screen RLU:  728793<br>2*Screen RLU:  330972<br>3*Screen RLU:  292333<br>Scaleup RLU:  260482.5<br>Poly/Nonspecific binding to BVP?    No<br>CDR3_HC sequence:  aaaa<br>CDR3_LC sequence:  aaaa<br>Z^2 Liability score:  12<br>Isotype: mIGG2C mKAPPA<br>EC50 (nM):  11.1<br>IC50 (nM):  ## / ## / ##",
           "1*Screen RLU:  728793<br>2*Screen RLU:  330972<br>3*Screen RLU:  292333<br>Scaleup RLU:  260483.5<br>Poly/Nonspecific binding to BVP?    No<br>CDR3_HC sequence:  aaaa<br>CDR3_LC sequence:  aaaa<br>Z^2 Liability score:  13<br>Isotype: mIGG2C mKAPPA<br>EC50 (nM):  12.1<br>IC50 (nM):  ## / ## / ##",
           "1*Screen RLU:  728793<br>2*Screen RLU:  330972<br>3*Screen RLU:  292333<br>Scaleup RLU:  260484.5<br>Poly/Nonspecific binding to BVP?    No<br>CDR3_HC sequence:  aaaa<br>CDR3_LC sequence:  aaaa<br>Z^2 Liability score:  14<br>Isotype: mIGG2C mKAPPA<br>EC50 (nM):  13.1<br>IC50 (nM):  ## / ## / ##",
           "3 Polyclones/Parentals obtained out of 24 <br>Post-thaw RLU:  <br>5-I19 (RLU:549521.5)<br>9-B7 (RLU:402076"
          ],
          "hovertemplate": "%{customdata}",
          "label": [
           "Fusion 1 <br># hybridomas =  2304<br>Fusion efficiency =  1.2<br># of wells screened:  1920<br>Mse ID#  9, 10<br>Mse strain(s):  qxv<br>Fused b-cells:  Lymphocytes<br>Immunization method:  HT-Hock<br>Immunogen:  aaa<br>Final boost:  aaa",
           "Fusion 2 <br># hybridomas =  2496<br>Fusion efficiency =  1.3<br># of wells screened:  1920<br>Mse ID#  1, 2, 4, 8<br>Mse strain(s):  Mixed, bxs, kxg7<br>Fused b-cells:  Lymphocytes<br>Immunization method:  HT-Hock<br>Immunogen:  aaa<br>Final boost:  aaa",
           "<b>Primary<br>screen<br><span style='color:red'>384 hits",
           "<b>Confirmation<br>screen<br><span style='color:red'>355/384hits",
           "<b>Tertiary screen<br><span style='color:red'>337/355 hits<br><span style='color:black'><b>expanded & cryopreserved",
           "Clone A<br>(24/24)",
           "Clone B (21/24)",
           "BVP<br>(21/24 clean)",
           "<b>Sequencing</b> <br>( Single heavy & light<br> chain obtained<br> for 21/24)",
           "2-O1",
           "3-D11",
           "3-O21",
           "4-A16",
           "4-N1",
           "5-I19",
           "5-L22",
           "5-L6",
           "7-E1",
           "7-P21",
           "8-E6",
           "9-B7",
           "Top hit #13",
           "Top hit #14",
           "Top hit #15",
           "Top hit #16",
           "Top hit #17",
           "Top hit #18",
           "Top hit #19",
           "Top hit #20",
           "Top hit #21",
           "Top hit #22",
           "Top hit #23",
           "Top hit #24",
           "Parental/Poly<br>(3/12)"
          ],
          "x": [
           -0.01,
           -0.01,
           0.2,
           0.3,
           0.4,
           0.65,
           0.65,
           0.95,
           0.9,
           0.45,
           0.45,
           0.45,
           0.45,
           0.45,
           0.45,
           0.45,
           0.45,
           0.45,
           0.45,
           0.45,
           0.45,
           0.55,
           0.55,
           0.55,
           0.55,
           0.55,
           0.55,
           0.55,
           0.55,
           0.55,
           0.55,
           0.55,
           0.55,
           0.65,
           null,
           null,
           null,
           null,
           null,
           null,
           null,
           null,
           null,
           null,
           null,
           null,
           null,
           null,
           null,
           null,
           null,
           null,
           null,
           null,
           null,
           null,
           null,
           null,
           null,
           null,
           null,
           null,
           null,
           null,
           null,
           null,
           null,
           null,
           null,
           null,
           null,
           null,
           null,
           null,
           null,
           null,
           null,
           null,
           null,
           null,
           null,
           null,
           null,
           null,
           null,
           null,
           null,
           null,
           null,
           null,
           null,
           null,
           null,
           null,
           null,
           null,
           null,
           null,
           null,
           null,
           null,
           null,
           null,
           null,
           null,
           null,
           null,
           null,
           null,
           null,
           null,
           null,
           null,
           null,
           null,
           null,
           null,
           null,
           null,
           null,
           null,
           null,
           null,
           null,
           null,
           null,
           null,
           null,
           null,
           null,
           null,
           null,
           null,
           null,
           null,
           null,
           null,
           null,
           null,
           null,
           null,
           null,
           null,
           null,
           null,
           null,
           null,
           null,
           null,
           null,
           null,
           null,
           null,
           null,
           null,
           null,
           null,
           null,
           null,
           null,
           null,
           null,
           null,
           null,
           null,
           null,
           null,
           null,
           null,
           null,
           null,
           null,
           null,
           null,
           null,
           null,
           null,
           null,
           null,
           null,
           null,
           null,
           null,
           null,
           null,
           null,
           null,
           null,
           null,
           null,
           null,
           null,
           null,
           null,
           null,
           null,
           null,
           null,
           null,
           null,
           null,
           null,
           null,
           null,
           null,
           null,
           null,
           null,
           null,
           null
          ],
          "y": [
           0.25,
           0.75,
           0.5,
           0.25,
           0.35,
           0.1,
           0.3,
           0.35,
           0.5,
           0.6,
           0.625,
           0.65,
           0.675,
           0.7,
           0.725,
           0.75,
           0.775,
           0.8,
           0.825,
           0.85,
           0.875,
           0.6,
           0.625,
           0.65,
           0.675,
           0.7,
           0.725,
           0.75,
           0.775,
           0.8,
           0.825,
           0.85,
           0.875,
           0.4,
           null,
           null,
           null,
           null,
           null,
           null,
           null,
           null,
           null,
           null,
           null,
           null,
           null,
           null,
           null,
           null,
           null,
           null,
           null,
           null,
           null,
           null,
           null,
           null,
           null,
           null,
           null,
           null,
           null,
           null,
           null,
           null,
           null,
           null,
           null,
           null,
           null,
           null,
           null,
           null,
           null,
           null,
           null,
           null,
           null,
           null,
           null,
           null,
           null,
           null,
           null,
           null,
           null,
           null,
           null,
           null,
           null,
           null,
           null,
           null,
           null,
           null,
           null,
           null,
           null,
           null,
           null,
           null,
           null,
           null,
           null,
           null,
           null,
           null,
           null,
           null,
           null,
           null,
           null,
           null,
           null,
           null,
           null,
           null,
           null,
           null,
           null,
           null,
           null,
           null,
           null,
           null,
           null,
           null,
           null,
           null,
           null,
           null,
           null,
           null,
           null,
           null,
           null,
           null,
           null,
           null,
           null,
           null,
           null,
           null,
           null,
           null,
           null,
           null,
           null,
           null,
           null,
           null,
           null,
           null,
           null,
           null,
           null,
           null,
           null,
           null,
           null,
           null,
           null,
           null,
           null,
           null,
           null,
           null,
           null,
           null,
           null,
           null,
           null,
           null,
           null,
           null,
           null,
           null,
           null,
           null,
           null,
           null,
           null,
           null,
           null,
           null,
           null,
           null,
           null,
           null,
           null,
           null,
           null,
           null,
           null,
           null,
           null,
           null,
           null,
           null,
           null,
           null,
           null,
           null,
           null,
           null,
           null,
           null,
           null,
           null
          ]
         },
         "type": "sankey"
        },
        {
         "mode": "none",
         "type": "scatter",
         "x": [
          1
         ],
         "y": [
          1
         ]
        }
       ],
       "layout": {
        "autosize": true,
        "font": {
         "size": 12
        },
        "paper_bgcolor": "#e6e6fa",
        "plot_bgcolor": "#e6e6fa",
        "template": {
         "data": {
          "bar": [
           {
            "error_x": {
             "color": "#2a3f5f"
            },
            "error_y": {
             "color": "#2a3f5f"
            },
            "marker": {
             "line": {
              "color": "#E5ECF6",
              "width": 0.5
             },
             "pattern": {
              "fillmode": "overlay",
              "size": 10,
              "solidity": 0.2
             }
            },
            "type": "bar"
           }
          ],
          "barpolar": [
           {
            "marker": {
             "line": {
              "color": "#E5ECF6",
              "width": 0.5
             },
             "pattern": {
              "fillmode": "overlay",
              "size": 10,
              "solidity": 0.2
             }
            },
            "type": "barpolar"
           }
          ],
          "carpet": [
           {
            "aaxis": {
             "endlinecolor": "#2a3f5f",
             "gridcolor": "white",
             "linecolor": "white",
             "minorgridcolor": "white",
             "startlinecolor": "#2a3f5f"
            },
            "baxis": {
             "endlinecolor": "#2a3f5f",
             "gridcolor": "white",
             "linecolor": "white",
             "minorgridcolor": "white",
             "startlinecolor": "#2a3f5f"
            },
            "type": "carpet"
           }
          ],
          "choropleth": [
           {
            "colorbar": {
             "outlinewidth": 0,
             "ticks": ""
            },
            "type": "choropleth"
           }
          ],
          "contour": [
           {
            "colorbar": {
             "outlinewidth": 0,
             "ticks": ""
            },
            "colorscale": [
             [
              0,
              "#0d0887"
             ],
             [
              0.1111111111111111,
              "#46039f"
             ],
             [
              0.2222222222222222,
              "#7201a8"
             ],
             [
              0.3333333333333333,
              "#9c179e"
             ],
             [
              0.4444444444444444,
              "#bd3786"
             ],
             [
              0.5555555555555556,
              "#d8576b"
             ],
             [
              0.6666666666666666,
              "#ed7953"
             ],
             [
              0.7777777777777778,
              "#fb9f3a"
             ],
             [
              0.8888888888888888,
              "#fdca26"
             ],
             [
              1,
              "#f0f921"
             ]
            ],
            "type": "contour"
           }
          ],
          "contourcarpet": [
           {
            "colorbar": {
             "outlinewidth": 0,
             "ticks": ""
            },
            "type": "contourcarpet"
           }
          ],
          "heatmap": [
           {
            "colorbar": {
             "outlinewidth": 0,
             "ticks": ""
            },
            "colorscale": [
             [
              0,
              "#0d0887"
             ],
             [
              0.1111111111111111,
              "#46039f"
             ],
             [
              0.2222222222222222,
              "#7201a8"
             ],
             [
              0.3333333333333333,
              "#9c179e"
             ],
             [
              0.4444444444444444,
              "#bd3786"
             ],
             [
              0.5555555555555556,
              "#d8576b"
             ],
             [
              0.6666666666666666,
              "#ed7953"
             ],
             [
              0.7777777777777778,
              "#fb9f3a"
             ],
             [
              0.8888888888888888,
              "#fdca26"
             ],
             [
              1,
              "#f0f921"
             ]
            ],
            "type": "heatmap"
           }
          ],
          "heatmapgl": [
           {
            "colorbar": {
             "outlinewidth": 0,
             "ticks": ""
            },
            "colorscale": [
             [
              0,
              "#0d0887"
             ],
             [
              0.1111111111111111,
              "#46039f"
             ],
             [
              0.2222222222222222,
              "#7201a8"
             ],
             [
              0.3333333333333333,
              "#9c179e"
             ],
             [
              0.4444444444444444,
              "#bd3786"
             ],
             [
              0.5555555555555556,
              "#d8576b"
             ],
             [
              0.6666666666666666,
              "#ed7953"
             ],
             [
              0.7777777777777778,
              "#fb9f3a"
             ],
             [
              0.8888888888888888,
              "#fdca26"
             ],
             [
              1,
              "#f0f921"
             ]
            ],
            "type": "heatmapgl"
           }
          ],
          "histogram": [
           {
            "marker": {
             "pattern": {
              "fillmode": "overlay",
              "size": 10,
              "solidity": 0.2
             }
            },
            "type": "histogram"
           }
          ],
          "histogram2d": [
           {
            "colorbar": {
             "outlinewidth": 0,
             "ticks": ""
            },
            "colorscale": [
             [
              0,
              "#0d0887"
             ],
             [
              0.1111111111111111,
              "#46039f"
             ],
             [
              0.2222222222222222,
              "#7201a8"
             ],
             [
              0.3333333333333333,
              "#9c179e"
             ],
             [
              0.4444444444444444,
              "#bd3786"
             ],
             [
              0.5555555555555556,
              "#d8576b"
             ],
             [
              0.6666666666666666,
              "#ed7953"
             ],
             [
              0.7777777777777778,
              "#fb9f3a"
             ],
             [
              0.8888888888888888,
              "#fdca26"
             ],
             [
              1,
              "#f0f921"
             ]
            ],
            "type": "histogram2d"
           }
          ],
          "histogram2dcontour": [
           {
            "colorbar": {
             "outlinewidth": 0,
             "ticks": ""
            },
            "colorscale": [
             [
              0,
              "#0d0887"
             ],
             [
              0.1111111111111111,
              "#46039f"
             ],
             [
              0.2222222222222222,
              "#7201a8"
             ],
             [
              0.3333333333333333,
              "#9c179e"
             ],
             [
              0.4444444444444444,
              "#bd3786"
             ],
             [
              0.5555555555555556,
              "#d8576b"
             ],
             [
              0.6666666666666666,
              "#ed7953"
             ],
             [
              0.7777777777777778,
              "#fb9f3a"
             ],
             [
              0.8888888888888888,
              "#fdca26"
             ],
             [
              1,
              "#f0f921"
             ]
            ],
            "type": "histogram2dcontour"
           }
          ],
          "mesh3d": [
           {
            "colorbar": {
             "outlinewidth": 0,
             "ticks": ""
            },
            "type": "mesh3d"
           }
          ],
          "parcoords": [
           {
            "line": {
             "colorbar": {
              "outlinewidth": 0,
              "ticks": ""
             }
            },
            "type": "parcoords"
           }
          ],
          "pie": [
           {
            "automargin": true,
            "type": "pie"
           }
          ],
          "scatter": [
           {
            "fillpattern": {
             "fillmode": "overlay",
             "size": 10,
             "solidity": 0.2
            },
            "type": "scatter"
           }
          ],
          "scatter3d": [
           {
            "line": {
             "colorbar": {
              "outlinewidth": 0,
              "ticks": ""
             }
            },
            "marker": {
             "colorbar": {
              "outlinewidth": 0,
              "ticks": ""
             }
            },
            "type": "scatter3d"
           }
          ],
          "scattercarpet": [
           {
            "marker": {
             "colorbar": {
              "outlinewidth": 0,
              "ticks": ""
             }
            },
            "type": "scattercarpet"
           }
          ],
          "scattergeo": [
           {
            "marker": {
             "colorbar": {
              "outlinewidth": 0,
              "ticks": ""
             }
            },
            "type": "scattergeo"
           }
          ],
          "scattergl": [
           {
            "marker": {
             "colorbar": {
              "outlinewidth": 0,
              "ticks": ""
             }
            },
            "type": "scattergl"
           }
          ],
          "scattermapbox": [
           {
            "marker": {
             "colorbar": {
              "outlinewidth": 0,
              "ticks": ""
             }
            },
            "type": "scattermapbox"
           }
          ],
          "scatterpolar": [
           {
            "marker": {
             "colorbar": {
              "outlinewidth": 0,
              "ticks": ""
             }
            },
            "type": "scatterpolar"
           }
          ],
          "scatterpolargl": [
           {
            "marker": {
             "colorbar": {
              "outlinewidth": 0,
              "ticks": ""
             }
            },
            "type": "scatterpolargl"
           }
          ],
          "scatterternary": [
           {
            "marker": {
             "colorbar": {
              "outlinewidth": 0,
              "ticks": ""
             }
            },
            "type": "scatterternary"
           }
          ],
          "surface": [
           {
            "colorbar": {
             "outlinewidth": 0,
             "ticks": ""
            },
            "colorscale": [
             [
              0,
              "#0d0887"
             ],
             [
              0.1111111111111111,
              "#46039f"
             ],
             [
              0.2222222222222222,
              "#7201a8"
             ],
             [
              0.3333333333333333,
              "#9c179e"
             ],
             [
              0.4444444444444444,
              "#bd3786"
             ],
             [
              0.5555555555555556,
              "#d8576b"
             ],
             [
              0.6666666666666666,
              "#ed7953"
             ],
             [
              0.7777777777777778,
              "#fb9f3a"
             ],
             [
              0.8888888888888888,
              "#fdca26"
             ],
             [
              1,
              "#f0f921"
             ]
            ],
            "type": "surface"
           }
          ],
          "table": [
           {
            "cells": {
             "fill": {
              "color": "#EBF0F8"
             },
             "line": {
              "color": "white"
             }
            },
            "header": {
             "fill": {
              "color": "#C8D4E3"
             },
             "line": {
              "color": "white"
             }
            },
            "type": "table"
           }
          ]
         },
         "layout": {
          "annotationdefaults": {
           "arrowcolor": "#2a3f5f",
           "arrowhead": 0,
           "arrowwidth": 1
          },
          "autotypenumbers": "strict",
          "coloraxis": {
           "colorbar": {
            "outlinewidth": 0,
            "ticks": ""
           }
          },
          "colorscale": {
           "diverging": [
            [
             0,
             "#8e0152"
            ],
            [
             0.1,
             "#c51b7d"
            ],
            [
             0.2,
             "#de77ae"
            ],
            [
             0.3,
             "#f1b6da"
            ],
            [
             0.4,
             "#fde0ef"
            ],
            [
             0.5,
             "#f7f7f7"
            ],
            [
             0.6,
             "#e6f5d0"
            ],
            [
             0.7,
             "#b8e186"
            ],
            [
             0.8,
             "#7fbc41"
            ],
            [
             0.9,
             "#4d9221"
            ],
            [
             1,
             "#276419"
            ]
           ],
           "sequential": [
            [
             0,
             "#0d0887"
            ],
            [
             0.1111111111111111,
             "#46039f"
            ],
            [
             0.2222222222222222,
             "#7201a8"
            ],
            [
             0.3333333333333333,
             "#9c179e"
            ],
            [
             0.4444444444444444,
             "#bd3786"
            ],
            [
             0.5555555555555556,
             "#d8576b"
            ],
            [
             0.6666666666666666,
             "#ed7953"
            ],
            [
             0.7777777777777778,
             "#fb9f3a"
            ],
            [
             0.8888888888888888,
             "#fdca26"
            ],
            [
             1,
             "#f0f921"
            ]
           ],
           "sequentialminus": [
            [
             0,
             "#0d0887"
            ],
            [
             0.1111111111111111,
             "#46039f"
            ],
            [
             0.2222222222222222,
             "#7201a8"
            ],
            [
             0.3333333333333333,
             "#9c179e"
            ],
            [
             0.4444444444444444,
             "#bd3786"
            ],
            [
             0.5555555555555556,
             "#d8576b"
            ],
            [
             0.6666666666666666,
             "#ed7953"
            ],
            [
             0.7777777777777778,
             "#fb9f3a"
            ],
            [
             0.8888888888888888,
             "#fdca26"
            ],
            [
             1,
             "#f0f921"
            ]
           ]
          },
          "colorway": [
           "#636efa",
           "#EF553B",
           "#00cc96",
           "#ab63fa",
           "#FFA15A",
           "#19d3f3",
           "#FF6692",
           "#B6E880",
           "#FF97FF",
           "#FECB52"
          ],
          "font": {
           "color": "#2a3f5f"
          },
          "geo": {
           "bgcolor": "white",
           "lakecolor": "white",
           "landcolor": "#E5ECF6",
           "showlakes": true,
           "showland": true,
           "subunitcolor": "white"
          },
          "hoverlabel": {
           "align": "left"
          },
          "hovermode": "closest",
          "mapbox": {
           "style": "light"
          },
          "paper_bgcolor": "white",
          "plot_bgcolor": "#E5ECF6",
          "polar": {
           "angularaxis": {
            "gridcolor": "white",
            "linecolor": "white",
            "ticks": ""
           },
           "bgcolor": "#E5ECF6",
           "radialaxis": {
            "gridcolor": "white",
            "linecolor": "white",
            "ticks": ""
           }
          },
          "scene": {
           "xaxis": {
            "backgroundcolor": "#E5ECF6",
            "gridcolor": "white",
            "gridwidth": 2,
            "linecolor": "white",
            "showbackground": true,
            "ticks": "",
            "zerolinecolor": "white"
           },
           "yaxis": {
            "backgroundcolor": "#E5ECF6",
            "gridcolor": "white",
            "gridwidth": 2,
            "linecolor": "white",
            "showbackground": true,
            "ticks": "",
            "zerolinecolor": "white"
           },
           "zaxis": {
            "backgroundcolor": "#E5ECF6",
            "gridcolor": "white",
            "gridwidth": 2,
            "linecolor": "white",
            "showbackground": true,
            "ticks": "",
            "zerolinecolor": "white"
           }
          },
          "shapedefaults": {
           "line": {
            "color": "#2a3f5f"
           }
          },
          "ternary": {
           "aaxis": {
            "gridcolor": "white",
            "linecolor": "white",
            "ticks": ""
           },
           "baxis": {
            "gridcolor": "white",
            "linecolor": "white",
            "ticks": ""
           },
           "bgcolor": "#E5ECF6",
           "caxis": {
            "gridcolor": "white",
            "linecolor": "white",
            "ticks": ""
           }
          },
          "title": {
           "x": 0.05
          },
          "xaxis": {
           "automargin": true,
           "gridcolor": "white",
           "linecolor": "white",
           "ticks": "",
           "title": {
            "standoff": 15
           },
           "zerolinecolor": "white",
           "zerolinewidth": 2
          },
          "yaxis": {
           "automargin": true,
           "gridcolor": "white",
           "linecolor": "white",
           "ticks": "",
           "title": {
            "standoff": 15
           },
           "zerolinecolor": "white",
           "zerolinewidth": 2
          }
         }
        },
        "title": {
         "text": "<b>SR##### Client [Target]<br>Hybridoma antibody discovery <br> (Campaign Summary)",
         "x": 0.5
        },
        "xaxis": {
         "dtick": 0.05,
         "range": [
          0,
          1
         ],
         "showgrid": true,
         "showticklabels": true,
         "type": "linear"
        },
        "yaxis": {
         "dtick": 0.05,
         "range": [
          0,
          1
         ],
         "showgrid": true,
         "showticklabels": true,
         "type": "linear"
        }
       }
      },
      "image/png": "[encoded data removed]",
      "text/html": [
       "<div>                            <div id=\"7eabcc08-92f6-440a-9ab9-2b8af21a67c9\" class=\"plotly-graph-div\" style=\"height:525px; width:100%;\"></div>            <script type=\"text/javascript\">                require([\"plotly\"], function(Plotly) {                    window.PLOTLYENV=window.PLOTLYENV || {};                                    if (document.getElementById(\"7eabcc08-92f6-440a-9ab9-2b8af21a67c9\")) {                    Plotly.newPlot(                        \"7eabcc08-92f6-440a-9ab9-2b8af21a67c9\",                        [{\"link\":{\"color\":[\"rgba(255,215,0, 0.4)\",\"rgba(128,0,128, 0.4)\",\"rgba(255,215,0, 0.4)\",\"rgba(128,0,128, 0.4)\",\"rgba(255,215,0, 0.4)\",\"rgba(128,0,128, 0.4)\",\"rgba(30,144,255, 0.4)\",\"rgba(30,144,255, 0.4)\",\"rgba(255,0,0, 0.4)\",\"rgba(255,0,0, 0.4)\",\"rgba(255,215,0,0.4)\",\"rgba(255,215,0,0.4)\",\"rgba(255,215,0,0.4)\",\"rgba(255,215,0,0.4)\",\"rgba(255,215,0,0.4)\",\"rgba(255,215,0,0.4)\",\"rgba(255,215,0,0.4)\",\"rgba(255,215,0,0.4)\",\"rgba(255,215,0,0.4)\",\"rgba(255,215,0,0.4)\",\"rgba(255,215,0,0.4)\",\"rgba(255,215,0,0.4)\",\"rgba(128,0,128,0.4)\",\"rgba(128,0,128,0.4)\",\"rgba(128,0,128,0.4)\",\"rgba(128,0,128,0.4)\",\"rgba(128,0,128,0.4)\",\"rgba(128,0,128,0.4)\",\"rgba(128,0,128,0.4)\",\"rgba(128,0,128,0.4)\",\"rgba(128,0,128,0.4)\",\"rgba(128,0,128,0.4)\",\"rgba(128,0,128,0.4)\",\"rgba(128,0,128,0.4)\",\"rgba(255,215,0,0.4)\",\"rgba(255,215,0,0.4)\",\"rgba(255,215,0,0.4)\",\"rgba(255,215,0,0.4)\",\"rgba(255,215,0,0.4)\",\"rgba(255,215,0,0.4)\",\"rgba(255,215,0,0.4)\",\"rgba(255,215,0,0.4)\",\"rgba(255,215,0,0.4)\",\"rgba(255,215,0,0.4)\",\"rgba(255,215,0,0.4)\",\"rgba(255,215,0,0.4)\",\"rgba(128,0,128,0.4)\",\"rgba(128,0,128,0.4)\",\"rgba(128,0,128,0.4)\",\"rgba(128,0,128,0.4)\",\"rgba(128,0,128,0.4)\",\"rgba(128,0,128,0.4)\",\"rgba(128,0,128,0.4)\",\"rgba(128,0,128,0.4)\",\"rgba(128,0,128,0.4)\",\"rgba(128,0,128,0.4)\",\"rgba(128,0,128,0.4)\",\"rgba(128,0,128,0.4)\",\"rgba(255,215,0,0.4)\",\"rgba(255,215,0,0.4)\",\"rgba(255,215,0,0.4)\",\"rgba(255,215,0,0.4)\",\"rgba(255,215,0,0.4)\",\"rgba(255,215,0,0.4)\",\"rgba(255,215,0,0.4)\",\"rgba(255,215,0,0.4)\",\"rgba(255,215,0,0.4)\",\"rgba(255,215,0,0.4)\",\"rgba(255,215,0,0.4)\",\"rgba(255,215,0,0.4)\",\"rgba(128,0,128,0.4)\",\"rgba(128,0,128,0.4)\",\"rgba(128,0,128,0.4)\",\"rgba(128,0,128,0.4)\",\"rgba(128,0,128,0.4)\",\"rgba(128,0,128,0.4)\",\"rgba(128,0,128,0.4)\",\"rgba(128,0,128,0.4)\",\"rgba(128,0,128,0.4)\",\"rgba(128,0,128,0.4)\",\"rgba(128,0,128,0.4)\",\"rgba(128,0,128,0.4)\",\"rgba(30,144,255, 0.4)\",\"rgba(255,0,0, 0.4)\",\"rgba(255,215,0,0.4)\",\"rgba(255,215,0,0.4)\",\"rgba(255,215,0,0.4)\",\"rgba(255,215,0,0.4)\",\"rgba(255,215,0,0.4)\",\"rgba(255,215,0,0.4)\",\"rgba(255,215,0,0.4)\",\"rgba(255,215,0,0.4)\",\"rgba(255,215,0,0.4)\",\"rgba(255,215,0,0.4)\",\"rgba(255,215,0,0.4)\",\"rgba(255,215,0,0.4)\",\"rgba(128,0,128,0.4)\",\"rgba(128,0,128,0.4)\",\"rgba(128,0,128,0.4)\",\"rgba(128,0,128,0.4)\",\"rgba(128,0,128,0.4)\",\"rgba(128,0,128,0.4)\",\"rgba(128,0,128,0.4)\",\"rgba(128,0,128,0.4)\",\"rgba(128,0,128,0.4)\",\"rgba(128,0,128,0.4)\",\"rgba(128,0,128,0.4)\",\"rgba(128,0,128,0.4)\"],\"customdata\":[\"Fusion efficiency =1.2\\u003cbr\\u003ePool 1 Lymphocytes\\u003cbr\\u003eMse 9, 10\\u003cbr\\u003eStrains: qxv\",\"Fusion efficiency =1.3\\u003cbr\\u003ePool 1 Lymphocytes\\u003cbr\\u003eMse 1, 2, 4, 8\\u003cbr\\u003eStrains: Mixed, bxs, kxg7\",\" [192 HITS]\\u003cbr\\u003e, 1-A2   , 1-B21  , 1-B3   , 1-B7   , 1-C1   , 1-C13  , 1-C16  , 1-C17  , 1-C20  , 1-C23  , 1-C6   , 1-C8   , 1-D11  , 1-D24  , 1-D5   , 1-E10  , 1-E15  , 1-E16  , 1-E2   , \\u003cbr\\u003e, 1-E24  , 1-F17  , 1-F19  , 1-F2   , 1-G1   , 1-G10  , 1-G4   , 1-H10  , 1-H15  , 1-H18  , 1-H24  , 1-H5   , 1-H6   , 1-H9   , 1-I11  , 1-I16  , 1-I21  , 1-I5   , 1-I9   , 1-J10  , \\u003cbr\\u003e, 1-J13  , 1-J22  , 1-J24  , 1-J9   , 1-K16  , 1-K22  , 1-K23  , 1-K24  , 1-K9   , 1-L20  , 1-L5   , 1-M21  , 1-M24  , 1-M4   , 1-N19  , 1-N20  , 1-N3   , 1-O23  , 1-O9   , 1-P13  , \\u003cbr\\u003e, 1-P18  , 1-P19  , 1-P7   , 1-P8   , 2-A13  , 2-A20  , 2-A23  , 2-A8   , 2-B1   , 2-B12  , 2-B3   , 2-B4   , 2-C13  , 2-C20  , 2-D13  , 2-D16  , 2-E12  , 2-E13  , 2-E2   , 2-E21  , \\u003cbr\\u003e, 2-E5   , 2-E6   , 2-E9   , 2-F10  , 2-F11  , 2-F2   , 2-F24  , 2-G11  , 2-G16  , 2-G3   , 2-H12  , 2-H14  , 2-H15  , 2-H5   , 2-I16  , 2-I22  , 2-I6   , 2-J17  , 2-J23  , 2-K10  , \\u003cbr\\u003e, 2-K3   , 2-L1   , 2-L11  , 2-L23  , 2-L3   , 2-M10  , 2-M18  , 2-M24  , 2-M3   , 2-M4   , 2-M5   , 2-M7   , 2-N6   , 2-N7   , 2-O14  , 2-O2   , 2-O21  , 2-P12  , 3-A6   , 3-B16  , \\u003cbr\\u003e, 3-B23  , 3-B8   , 3-C13  , 3-C17  , 3-C18  , 3-C20  , 3-C5   , 3-D10  , 3-D12  , 3-D19  , 3-D23  , 3-D8   , 3-E11  , 3-E16  , 3-E8   , 3-F15  , 3-F20  , 3-F9   , 3-G13  , 3-G15  , \\u003cbr\\u003e, 3-G24  , 3-H13  , 3-H16  , 3-H21  , 3-I20  , 3-I3   , 3-I5   , 3-I9   , 3-J15  , 3-J19  , 3-J6   , 3-K14  , 3-K16  , 3-K18  , 3-K20  , 3-K21  , 3-K3   , 3-K8   , 3-L1   , 3-L12  , \\u003cbr\\u003e, 3-L19  , 3-L3   , 3-M16  , 3-M2   , 3-M23  , 3-M7   , 3-M8   , 3-N4   , 3-N8   , 3-O12  , 3-O14  , 3-O20  , 3-P11  , 3-P9   , 4-A12  , 4-A2   , 4-A23  , 4-B1   , 4-B15  , 4-C16  , \\u003cbr\\u003e, 4-C21  , 4-D21  , 4-D7   , 4-E10  , 4-E18  , 4-E3   , 4-F13  , 4-G24  , 4-G7   , 4-H3   , 4-H7   , 4-I13  , 4-K14  , \\u003cbr\\u003e,\",\" [192 HITS]\\u003cbr\\u003e, 4-K20  , 4-K7   , 4-M24  , 4-M3   , 4-M6   , 4-N1   , 4-N4   , 4-O11  , 4-O20  , 4-O21  , 4-O23  , 4-P12  , 4-P3   , 4-P9   , 5-A17  , 5-A5   , 5-A8   , 5-B13  , 5-B20  , \\u003cbr\\u003e, 5-B7   , 5-C10  , 5-C14  , 5-C4   , 5-D15  , 5-D24  , 5-E12  , 5-E18  , 5-E7   , 5-F4   , 5-G19  , 5-G5   , 5-H14  , 5-H21  , 5-H3   , 5-H4   , 5-I5   , 5-I9   , 5-J14  , 5-J21  , \\u003cbr\\u003e, 5-J23  , 5-J3   , 5-J6   , 5-K22  , 5-K8   , 5-L20  , 5-L21  , 5-L22  , 5-L4   , 5-L8   , 5-M11  , 5-M17  , 5-N10  , 5-N14  , 5-N20  , 5-N24  , 5-N5   , 5-N9   , 5-O9   , 5-P10  , \\u003cbr\\u003e, 5-P23  , 5-P5   , 6-A16  , 6-A2   , 6-A3   , 6-D4   , 6-E22  , 6-F23  , 6-F24  , 6-G3   , 6-G9   , 6-H13  , 6-I12  , 6-I7   , 6-J17  , 6-J21  , 6-J9   , 6-M10  , 6-M14  , 6-P11  , \\u003cbr\\u003e, 6-P14  , 6-P2   , 7-A1   , 7-A13  , 7-A14  , 7-A18  , 7-A9   , 7-B16  , 7-B6   , 7-C13  , 7-C2   , 7-C6   , 7-D15  , 7-D23  , 7-E14  , 7-E2   , 7-F1   , 7-F19  , 7-G10  , 7-G12  , \\u003cbr\\u003e, 7-G13  , 7-G18  , 7-G22  , 7-H3   , 7-I20  , 7-I8   , 7-K13  , 7-K14  , 7-L18  , 7-L6   , 7-M10  , 7-M18  , 7-M3   , 7-N10  , 7-N13  , 7-N5   , 7-O15  , 7-O6   , 8-A14  , 8-A16  , \\u003cbr\\u003e, 8-A22  , 8-B5   , 8-C11  , 8-C12  , 8-C15  , 8-C16  , 8-D1   , 8-D22  , 8-D8   , 8-E13  , 8-H24  , 8-H4   , 8-H9   , 8-I6   , 8-J15  , 8-J19  , 8-K15  , 8-K19  , 8-K22  , 8-L18  , \\u003cbr\\u003e, 8-O12  , 8-O17  , 8-P24  , 8-P7   , 9-B12  , 9-B24  , 9-C13  , 9-C18  , 9-C19  , 9-C5   , 9-D13  , 9-D19  , 9-E19  , 9-F14  , 9-F19  , 9-G11  , 9-G21  , 9-H1   , 9-H22  , 9-H8   , \\u003cbr\\u003e, 9-I10  , 9-J18  , 9-K11  , 9-K14  , 9-L1   , 9-L10  , 9-M13  , 9-M2   , 9-M6   , 9-N19  , 9-N21  , 9-N3   , 9-O12  , 9-O22  , 10-A15, 10-B24, 10-C7  , 10-D10, 10-D18, 10-D3  , \\u003cbr\\u003e, 10-F21, 10-G20, 10-H8  , 10-J18, 10-J21, 10-K3  , 10-K8  , 10-L12, 10-M11, 10-N18, 10-N6  , 10-O22, 10-O4  , \\u003cbr\\u003e,\",\" [187 HITS]\\u003cbr\\u003e, 1-B21  , 1-B7   , 1-C13  , 1-C17  , 1-C23  , 1-C6   , 1-C8   , 1-D11  , 1-D24  , 1-D5   , 1-E10  , 1-E15  , 1-E16  , 1-E2   , 1-E24  , 1-F17  , 1-F19  , 1-F2   , 1-G1   , \\u003cbr\\u003e, 1-G10  , 1-G4   , 1-H10  , 1-H15  , 1-H18  , 1-H24  , 1-H5   , 1-H6   , 1-H9   , 1-I11  , 1-I16  , 1-I21  , 1-I5   , 1-I9   , 1-J10  , 1-J13  , 1-J22  , 1-J24  , 1-J9   , 1-K16  , \\u003cbr\\u003e, 1-K22  , 1-K23  , 1-K24  , 1-K9   , 1-L20  , 1-L5   , 1-M21  , 1-M24  , 1-M4   , 1-N19  , 1-N20  , 1-N3   , 1-O23  , 1-O9   , 1-P13  , 1-P18  , 1-P19  , 1-P7   , 1-P8   , 2-A13  , \\u003cbr\\u003e, 2-A20  , 2-A23  , 2-A8   , 2-B1   , 2-B12  , 2-B3   , 2-B4   , 2-C13  , 2-C20  , 2-D13  , 2-D16  , 2-E12  , 2-E13  , 2-E2   , 2-E21  , 2-E5   , 2-E6   , 2-E9   , 2-F10  , 2-F11  , \\u003cbr\\u003e, 2-F2   , 2-F24  , 2-G11  , 2-G16  , 2-G3   , 2-H12  , 2-H14  , 2-H15  , 2-H5   , 2-I16  , 2-I22  , 2-I6   , 2-J17  , 2-J23  , 2-K10  , 2-K3   , 2-L1   , 2-L11  , 2-L23  , 2-L3   , \\u003cbr\\u003e, 2-M10  , 2-M18  , 2-M24  , 2-M3   , 2-M4   , 2-M5   , 2-M7   , 2-N6   , 2-N7   , 2-O14  , 2-O2   , 2-O21  , 2-P12  , 3-A6   , 3-B16  , 3-B23  , 3-B8   , 3-C13  , 3-C17  , 3-C18  , \\u003cbr\\u003e, 3-C20  , 3-C5   , 3-D10  , 3-D12  , 3-D19  , 3-D23  , 3-D8   , 3-E11  , 3-E16  , 3-E8   , 3-F15  , 3-F20  , 3-F9   , 3-G13  , 3-G15  , 3-G24  , 3-H13  , 3-H16  , 3-H21  , 3-I20  , \\u003cbr\\u003e, 3-I3   , 3-I5   , 3-I9   , 3-J15  , 3-J19  , 3-J6   , 3-K14  , 3-K16  , 3-K18  , 3-K20  , 3-K21  , 3-K3   , 3-K8   , 3-L1   , 3-L12  , 3-L19  , 3-L3   , 3-M16  , 3-M2   , 3-M23  , \\u003cbr\\u003e, 3-M7   , 3-M8   , 3-N4   , 3-N8   , 3-O12  , 3-O14  , 3-O20  , 3-P11  , 3-P9   , 4-A12  , 4-A2   , 4-A23  , 4-B1   , 4-B15  , 4-C16  , 4-C21  , 4-D21  , 4-D7   , 4-E10  , 4-E18  , \\u003cbr\\u003e, 4-E3   , 4-F13  , 4-G24  , 4-G7   , 4-H3   , 4-H7   , 4-I13  , 4-K14  , \\u003cbr\\u003e,\",\" [187 HITS]\\u003cbr\\u003e, 4-K7   , 4-M3   , 4-N1   , 4-O11  , 4-O21  , 4-O23  , 4-P12  , 4-P3   , 4-P9   , 5-A17  , 5-A5   , 5-A8   , 5-B13  , 5-B20  , 5-B7   , 5-C10  , 5-C14  , 5-C4   , 5-D15  , \\u003cbr\\u003e, 5-D24  , 5-E12  , 5-E18  , 5-E7   , 5-F4   , 5-G19  , 5-G5   , 5-H14  , 5-H21  , 5-H3   , 5-H4   , 5-I5   , 5-I9   , 5-J14  , 5-J21  , 5-J23  , 5-J3   , 5-J6   , 5-K22  , 5-K8   , \\u003cbr\\u003e, 5-L20  , 5-L21  , 5-L22  , 5-L4   , 5-L8   , 5-M11  , 5-M17  , 5-N10  , 5-N14  , 5-N20  , 5-N24  , 5-N5   , 5-N9   , 5-O9   , 5-P10  , 5-P23  , 5-P5   , 6-A16  , 6-A2   , 6-A3   , \\u003cbr\\u003e, 6-D4   , 6-E22  , 6-F23  , 6-F24  , 6-G3   , 6-G9   , 6-H13  , 6-I12  , 6-I7   , 6-J17  , 6-J21  , 6-J9   , 6-M10  , 6-M14  , 6-P11  , 6-P14  , 6-P2   , 7-A1   , 7-A13  , 7-A14  , \\u003cbr\\u003e, 7-A18  , 7-A9   , 7-B16  , 7-B6   , 7-C13  , 7-C2   , 7-C6   , 7-D15  , 7-D23  , 7-E14  , 7-E2   , 7-F1   , 7-F19  , 7-G10  , 7-G12  , 7-G13  , 7-G18  , 7-G22  , 7-H3   , 7-I20  , \\u003cbr\\u003e, 7-I8   , 7-K13  , 7-K14  , 7-L18  , 7-L6   , 7-M10  , 7-M18  , 7-M3   , 7-N10  , 7-N13  , 7-N5   , 7-O15  , 7-O6   , 8-A14  , 8-A16  , 8-A22  , 8-B5   , 8-C11  , 8-C12  , 8-C15  , \\u003cbr\\u003e, 8-C16  , 8-D1   , 8-D22  , 8-D8   , 8-E13  , 8-H24  , 8-H4   , 8-H9   , 8-I6   , 8-J15  , 8-J19  , 8-K15  , 8-K19  , 8-K22  , 8-L18  , 8-O12  , 8-O17  , 8-P24  , 8-P7   , 9-B12  , \\u003cbr\\u003e, 9-B24  , 9-C13  , 9-C18  , 9-C19  , 9-C5   , 9-D13  , 9-D19  , 9-E19  , 9-F14  , 9-F19  , 9-G11  , 9-G21  , 9-H1   , 9-H22  , 9-H8   , 9-I10  , 9-J18  , 9-K11  , 9-K14  , 9-L1   , \\u003cbr\\u003e, 9-L10  , 9-M13  , 9-M2   , 9-M6   , 9-N19  , 9-N21  , 9-N3   , 9-O12  , 9-O22  , 10-A15, 10-B24, 10-C7  , 10-D10, 10-D18, 10-D3  , 10-F21, 10-G20, 10-H8  , 10-J18, 10-J21, \\u003cbr\\u003e, 10-K3  , 10-K8  , 10-L12, 10-M11, 10-N18, 10-N6  , 10-O22, 10-O4  , \\u003cbr\\u003e,\",\"2-O1\\u003cbr\\u003e3-D11\\u003cbr\\u003e3-O21\\u003cbr\\u003e4-A16\\u003cbr\\u003e4-N1\\u003cbr\\u003e5-I19\\u003cbr\\u003e5-L22\\u003cbr\\u003e5-L6\\u003cbr\\u003e7-E1\\u003cbr\\u003e7-P21\\u003cbr\\u003e8-E6\\u003cbr\\u003e9-B7\\u003cbr\\u003eTop hit #13\\u003cbr\\u003eTop hit #14\\u003cbr\\u003eTop hit #15\\u003cbr\\u003eTop hit #16\\u003cbr\\u003eTop hit #17\\u003cbr\\u003eTop hit #18\\u003cbr\\u003e\",\"Top hit #22\\u003cbr\\u003eTop hit #23\\u003cbr\\u003eTop hit #24\\u003cbr\\u003e\",\"2-O1\\u003cbr\\u003e3-D11\\u003cbr\\u003e3-O21\\u003cbr\\u003e4-A16\\u003cbr\\u003e4-N1\\u003cbr\\u003e5-I19\\u003cbr\\u003e5-L22\\u003cbr\\u003e5-L6\\u003cbr\\u003e7-E1\\u003cbr\\u003e7-P21\\u003cbr\\u003e8-E6\\u003cbr\\u003e9-B7\\u003cbr\\u003eTop hit #13\\u003cbr\\u003eTop hit #14\\u003cbr\\u003eTop hit #15\\u003cbr\\u003eTop hit #16\\u003cbr\\u003eTop hit #17\\u003cbr\\u003eTop hit #18\\u003cbr\\u003e\",\"Top hit #22\\u003cbr\\u003eTop hit #23\\u003cbr\\u003eTop hit #24\\u003cbr\\u003e\",\"RLU: 527914\",\"RLU: 223561\",\"RLU: 549197\",\"RLU: 259956\",\"RLU: 193156\",\"RLU: 381599\",\"RLU: 498733\",\"RLU: 447667\",\"RLU: 378186\",\"RLU: 610984\",\"RLU: 342921\",\"RLU: 292333\",\"RLU: 292333\",\"RLU: 292333\",\"RLU: 292333\",\"RLU: 292333\",\"RLU: 292333\",\"RLU: 292333\",\"RLU: 292333\",\"RLU: 292333\",\"RLU: 292333\",\"RLU: 292333\",\"RLU: 292333\",\"RLU: 292333\",\"Clone screen RLU: 278295\",\"Clone screen RLU: 596386\",\"Clone screen RLU: 250907\",\"Clone screen RLU: 550873\",\"Clone screen RLU: 118945\",\"Clone screen RLU: 235897\",\"Clone screen RLU: \",\"Clone screen RLU: 706130\",\"Clone screen RLU: 313927\",\"Clone screen RLU: \",\"Clone screen RLU: 368460\",\"Clone screen RLU: 280969\",\"Clone screen RLU: \",\"Clone screen RLU: 280969\",\"Clone screen RLU: 280969\",\"Clone screen RLU: 280969\",\"Clone screen RLU: 280969\",\"Clone screen RLU: 280969\",\"Clone screen RLU: 280969\",\"Clone screen RLU: 280969\",\"Clone screen RLU: 280969\",\"Clone screen RLU: 280969\",\"Clone screen RLU: 280969\",\"Clone screen RLU: 280969\",\"Clone screen RLU: 268914\",\"Clone screen RLU: 548279\",\"Clone screen RLU: 245640\",\"Clone screen RLU: 542545\",\"Clone screen RLU: 115117\",\"Clone screen RLU: 137351\",\"Clone screen RLU: \",\"Clone screen RLU: 388528\",\"Clone screen RLU: 256232\",\"Clone screen RLU: \",\"Clone screen RLU: 327766\",\"Clone screen RLU: 282555\",\"Clone screen RLU: \",\"Clone screen RLU: 282555\",\"Clone screen RLU: 282555\",\"Clone screen RLU: 282555\",\"Clone screen RLU: 282555\",\"Clone screen RLU: 282555\",\"Clone screen RLU: 282555\",\"Clone screen RLU: 282555\",\"Clone screen RLU: 282555\",\"Clone screen RLU: 282555\",\"Clone screen RLU: 282555\",\"Clone screen RLU: 282555\",\"Top hit #19\\u003cbr\\u003eTop hit #20\\u003cbr\\u003eTop hit #21\\u003cbr\\u003e\",\"Top hit #19\\u003cbr\\u003eTop hit #20\\u003cbr\\u003eTop hit #21\\u003cbr\\u003e\",\"Clone screen RLU: 619596\",\"Clone screen RLU: 376422\",\"Clone screen RLU: 695831\",\"Clone screen RLU: 526526\",\"Clone screen RLU: 527472.5\",\"Clone screen RLU: 549521.5\",\"Clone screen RLU: 871013.5\",\"Clone screen RLU: 740833\",\"Clone screen RLU: 429561.5\",\"Clone screen RLU: 639789.5\",\"Clone screen RLU: 540905\",\"Clone screen RLU: 402076\",\"Clone screen RLU: 402076\",\"Clone screen RLU: 402076\",\"Clone screen RLU: 402076\",\"Clone screen RLU: 402076\",\"Clone screen RLU: 402076\",\"Clone screen RLU: 402076\",\"Clone screen RLU: 402076\",\"Clone screen RLU: 402076\",\"Clone screen RLU: 402076\",\"Clone screen RLU: 402076\",\"Clone screen RLU: 402076\",\"Clone screen RLU: 402076\"],\"hovertemplate\":\"%{customdata}\",\"source\":[0,1,0,1,3,3,5,6,5,6,4,4,4,4,4,4,4,4,4,4,4,4,4,4,4,4,4,4,4,4,4,4,4,4,9,10,11,12,13,14,15,16,17,18,19,20,21,22,23,24,25,26,27,28,29,30,31,32,9,10,11,12,13,14,15,16,17,18,19,20,21,22,23,24,25,26,27,28,29,30,31,32,33,33,9,10,11,12,13,14,15,16,17,18,19,20,21,22,23,24,25,26,27,28,29,30,31,32],\"target\":[2,2,3,3,4,4,7,7,8,8,9,10,11,12,13,14,15,16,17,18,19,20,21,22,23,24,25,26,27,28,29,30,31,32,5,5,5,5,5,5,5,5,5,5,5,5,5,5,5,5,5,5,5,5,5,5,5,5,6,6,6,6,6,6,6,6,6,6,6,6,6,6,6,6,6,6,6,6,6,6,6,6,7,8,33,33,33,33,33,33,33,33,33,33,33,33,33,33,33,33,33,33,33,33,33,33,33,33],\"value\":[2304.0,2496.0,192.0,192.0,187.0,187.0,20.0,3.0,20.0,3.0,1.0,1.0,1.0,1.0,1.0,1.0,1.0,1.0,1.0,1.0,1.0,1.0,1.0,1.0,1.0,1.0,1.0,1.0,1.0,1.0,1.0,1.0,1.0,1.0,1.0,1.0,1.0,1.0,1.0,0.0,1.0,1.0,1.0,1.0,1.0,0.0,1.0,1.0,1.0,1.0,1.0,0.0,1.0,1.0,1.0,1.0,0.0,0.0,1.0,1.0,1.0,1.0,1.0,0.0,0.0,1.0,1.0,1.0,1.0,0.0,1.0,1.0,1.0,1.0,1.0,0.0,1.0,1.0,1.0,1.0,1.0,1.0,3.0,3.0,0.0,0.0,0.0,0.0,0.0,1.0,0.0,0.0,0.0,0.0,0.0,1.0,0.0,0.0,0.0,0.0,0.0,1.0,0.0,0.0,0.0,0.0,0.0,0.0,null,null,null,null,null,null,null,null,null,null,null,null,null,null,null,null,null,null,null,null,null,null,null,null,null,null,null,null,null,null,null,null,null,null,null,null,null,null,null,null,null,null,null,null,null,null,null,null,null,null,null,null,null,null,null,null,null,null,null,null,null,null,null,null,null,null,null,null,null,null,null,null,null,null,null,null,null,null,null,null,null,null,null,null,null,null,null,null,null,null,null,null,null,null,null,null,null,null,null,null,null,null]},\"node\":{\"color\":[\"#ffd700\",\"#800080\",\"#000000\",\"#000000\",\"#000000\",\"#00008b\",\"#00008b\",\"#1e90ff\",\"#ff0000\",\"#ffd700\",\"#ffd700\",\"#ffd700\",\"#ffd700\",\"#ffd700\",\"#ffd700\",\"#ffd700\",\"#ffd700\",\"#ffd700\",\"#ffd700\",\"#ffd700\",\"#ffd700\",\"#800080\",\"#800080\",\"#800080\",\"#800080\",\"#800080\",\"#800080\",\"#800080\",\"#800080\",\"#800080\",\"#800080\",\"#800080\",\"#800080\",\"#00008b\"],\"customdata\":[\"Fusion efficiency =  1.2\\u003cbr\\u003eFused b-cells:  Lymphocytes\\u003cbr\\u003eMse ID#  9, 10\\u003cbr\\u003eMse strain(s):  qxv\",\"Fusion efficiency = 1.3\\u003cbr\\u003ePool 2 Lymphocytes\\u003cbr\\u003eMse 9, 10 \\u003cbr\\u003eStrains: Mixed, bxs, kxg7\",\"4800 Screened against 1ug\\u002fmL Target-His by ELISA\\u003cbr\\u003e\\u003cbr\\u003e384 hits moved forward to Confirmation\\u003cbr\\u003escreen\",\"384 Screened against 1ug\\u002fmL Target-His by ELISA\\u003cbr\\u003e\\u003cbr\\u003e355 confirmed\",\"355 screened against 1ug\\u002fmL Target-His by ELISA \\u003cbr\\u003e\\u003cbr\\u003e337 expanded and cryopreserved\",\"24 Clone A's obtained out of 24\\u003cbr\\u003eClone screen RLU:  \\u003cbr\\u003e2-O1 (RLU:278295)\\u003cbr\\u003e3-D11 (RLU:596386)\\u003cbr\\u003e3-O21 (RLU:250907)\\u003cbr\\u003e4-A16 (RLU:550873)\\u003cbr\\u003e4-N1 (RLU:118945)\\u003cbr\\u003e5-I19 (RLU:235897)\\u003cbr\\u003e5-L22 (RLU:)\\u003cbr\\u003e5-L6 (RLU:706130)\\u003cbr\\u003e7-E1 (RLU:313927)\\u003cbr\\u003e7-P21 (RLU:)\\u003cbr\\u003e8-E6 (RLU:368460)\\u003cbr\\u003e9-B7 (RLU:280969)\\u003cbr\\u003eTop hit #13 (RLU:)\\u003cbr\\u003eTop hit #14 (RLU:280969)\\u003cbr\\u003eTop hit #15 (RLU:280969)\\u003cbr\\u003eTop hit #16 (RLU:280969)\\u003cbr\\u003eTop hit #17 (RLU:280969)\\u003cbr\\u003eTop hit #18 (RLU:280969)\\u003cbr\\u003eTop hit #19 (RLU:280969)\\u003cbr\\u003eTop hit #20 (RLU:280969)\\u003cbr\\u003eTop hit #21 (RLU:280969)\\u003cbr\\u003eTop hit #22 (RLU:280969)\\u003cbr\\u003eTop hit #23 (RLU:280969)\\u003cbr\\u003eTop hit #24 (RLU:280969\",\"21 Clone B's obtained out of 24\\u003cbr\\u003eClone screen RLU:  \\u003cbr\\u003e2-O1 (RLU:268914)\\u003cbr\\u003e3-D11 (RLU:548279)\\u003cbr\\u003e3-O21 (RLU:245640)\\u003cbr\\u003e4-A16 (RLU:542545)\\u003cbr\\u003e4-N1 (RLU:115117)\\u003cbr\\u003e5-I19 (RLU:137351)\\u003cbr\\u003e5-L22 (RLU:)\\u003cbr\\u003e5-L6 (RLU:388528)\\u003cbr\\u003e7-E1 (RLU:256232)\\u003cbr\\u003e7-P21 (RLU:)\\u003cbr\\u003e8-E6 (RLU:327766)\\u003cbr\\u003e9-B7 (RLU:282555)\\u003cbr\\u003eTop hit #13 (RLU:)\\u003cbr\\u003eTop hit #14 (RLU:282555)\\u003cbr\\u003eTop hit #15 (RLU:282555)\\u003cbr\\u003eTop hit #16 (RLU:282555)\\u003cbr\\u003eTop hit #17 (RLU:282555)\\u003cbr\\u003eTop hit #18 (RLU:282555)\\u003cbr\\u003eTop hit #19 (RLU:282555)\\u003cbr\\u003eTop hit #20 (RLU:282555)\\u003cbr\\u003eTop hit #21 (RLU:282555)\\u003cbr\\u003eTop hit #22 (RLU:282555)\\u003cbr\\u003eTop hit #23 (RLU:282555)\\u003cbr\\u003eTop hit #24 (RLU:282555\",\"21 Clones clean against BVP\\u003cbr\\u003eBVP RLU:  \\u003cbr\\u003e2-O1 (RLU:######)\\u003cbr\\u003e3-D11 (RLU:###)\\u003cbr\\u003e3-O21 (RLU:###)\\u003cbr\\u003e4-A16 (RLU:###)\\u003cbr\\u003e4-N1 (RLU:###)\\u003cbr\\u003e5-I19 (RLU:###)\\u003cbr\\u003e5-L22 (RLU:###)\\u003cbr\\u003e5-L6 (RLU:###)\\u003cbr\\u003e7-E1 (RLU:###)\\u003cbr\\u003e7-P21 (RLU:###)\\u003cbr\\u003e8-E6 (RLU:###)\\u003cbr\\u003e9-B7 (RLU:###)\\u003cbr\\u003eTop hit #13 (RLU:###)\\u003cbr\\u003eTop hit #14 (RLU:###)\\u003cbr\\u003eTop hit #15 (RLU:###)\\u003cbr\\u003eTop hit #16 (RLU:###)\\u003cbr\\u003eTop hit #17 (RLU:###)\\u003cbr\\u003eTop hit #18 (RLU:###)\\u003cbr\\u003eTop hit #19 (RLU:###)\\u003cbr\\u003eTop hit #20 (RLU:###)\\u003cbr\\u003eTop hit #21 (RLU:###)\\u003cbr\\u003eTop hit #22 (RLU:###)\\u003cbr\\u003eTop hit #23 (RLU:###)\\u003cbr\\u003eTop hit #24 (RLU:###\",\"19 Unique: \\u003cbr\\u003e3-O21\\u003cbr\\u003e4-A16\\u003cbr\\u003e4-N1\\u003cbr\\u003e5-I19\\u003cbr\\u003e5-L22\\u003cbr\\u003e5-L6\\u003cbr\\u003e7-E1\\u003cbr\\u003e7-P21\\u003cbr\\u003eTop hit #12\\u003cbr\\u003eTop hit #13\\u003cbr\\u003eTop hit #14\\u003cbr\\u003eTop hit #15\\u003cbr\\u003eTop hit #16\\u003cbr\\u003eTop hit #17\\u003cbr\\u003eTop hit #18\\u003cbr\\u003eTop hit #19\\u003cbr\\u003eTop hit #20\\u003cbr\\u003eTop hit #21\\u003cbr\\u003eTop hit #22\\u003cbr\\u003e\\u003cbr\\u003e2 Sibling: \\u003cbr\\u003e2-O1 and 3-D11\\u003cbr\\u003e8-E6 and 9-B7\\u003cbr\\u003e\\u003cbr\\u003e0 Identical: \\u003cbr\\u003e\\u003cbr\\u003e\\u003cbr\\u003e3 Multiple HC\\u002fLC: \\u003cbr\\u003e7-P21\\u003cbr\\u003eTop hit #24\\u003cbr\\u003eTop hit #23\",\"1*Screen RLU:  905599\\u003cbr\\u003e2*Screen RLU:  392623\\u003cbr\\u003e3*Screen RLU:  527914\\u003cbr\\u003eScaleup RLU:  260161.5\\u003cbr\\u003ePoly\\u002fNonspecific binding to BVP?    Yes\\u003cbr\\u003eCDR3_HC sequence:  aaaa\\u003cbr\\u003eCDR3_LC sequence:  aaaa\\u003cbr\\u003eZ^2 Liability score:  3\\u003cbr\\u003eIsotype: mIGG2B mKAPPA\\u003cbr\\u003eEC50 (nM):  3.3\\u003cbr\\u003eIC50 (nM):  ## \\u002f ## \\u002f ##\",\"1*Screen RLU:  717841\\u003cbr\\u003e2*Screen RLU:  260434\\u003cbr\\u003e3*Screen RLU:  223561\\u003cbr\\u003eScaleup RLU:  437035.5\\u003cbr\\u003ePoly\\u002fNonspecific binding to BVP?    No\\u003cbr\\u003eCDR3_HC sequence:  aaaa\\u003cbr\\u003eCDR3_LC sequence:  aaaa\\u003cbr\\u003eZ^2 Liability score:  3\\u003cbr\\u003eIsotype: mIGG2B mKAPPA\\u003cbr\\u003eEC50 (nM):  2.7\\u003cbr\\u003eIC50 (nM):  ## \\u002f ## \\u002f ##\",\"1*Screen RLU:  715840\\u003cbr\\u003e2*Screen RLU:  517541\\u003cbr\\u003e3*Screen RLU:  549197\\u003cbr\\u003eScaleup RLU:  374000.5\\u003cbr\\u003ePoly\\u002fNonspecific binding to BVP?    No\\u003cbr\\u003eCDR3_HC sequence:  aaaa\\u003cbr\\u003eCDR3_LC sequence:  aaaa\\u003cbr\\u003eZ^2 Liability score:  1\\u003cbr\\u003eIsotype: mIGG2B mKAPPA\\u003cbr\\u003eEC50 (nM):  2.4\\u003cbr\\u003eIC50 (nM):  ## \\u002f ## \\u002f ##\",\"1*Screen RLU:  776156\\u003cbr\\u003e2*Screen RLU:  329872\\u003cbr\\u003e3*Screen RLU:  259956\\u003cbr\\u003eScaleup RLU:  796688\\u003cbr\\u003ePoly\\u002fNonspecific binding to BVP?    No\\u003cbr\\u003eCDR3_HC sequence:  aaaa\\u003cbr\\u003eCDR3_LC sequence:  aaaa\\u003cbr\\u003eZ^2 Liability score:  1\\u003cbr\\u003eIsotype: mIGG2B mKAPPA\\u003cbr\\u003eEC50 (nM):  1.3\\u003cbr\\u003eIC50 (nM):  ## \\u002f ## \\u002f ##\",\"1*Screen RLU:  770354\\u003cbr\\u003e2*Screen RLU:  177531\\u003cbr\\u003e3*Screen RLU:  193156\\u003cbr\\u003eScaleup RLU:  136818\\u003cbr\\u003ePoly\\u002fNonspecific binding to BVP?    No\\u003cbr\\u003eCDR3_HC sequence:  aaaa\\u003cbr\\u003eCDR3_LC sequence:  aaaa\\u003cbr\\u003eZ^2 Liability score:  3\\u003cbr\\u003eIsotype: mIGG1 mKAPPA\\u003cbr\\u003eEC50 (nM):  1.5\\u003cbr\\u003eIC50 (nM):  ## \\u002f ## \\u002f ##\",\"1*Screen RLU:  841335\\u003cbr\\u003e2*Screen RLU:  388916\\u003cbr\\u003e3*Screen RLU:  381599\\u003cbr\\u003eScaleup RLU:  518082.5\\u003cbr\\u003ePoly\\u002fNonspecific binding to BVP?    No\\u003cbr\\u003eCDR3_HC sequence:  aaaa\\u003cbr\\u003eCDR3_LC sequence:  aaaa\\u003cbr\\u003eZ^2 Liability score:  4\\u003cbr\\u003eIsotype: mIGG2B mKAPPA\\u003cbr\\u003eEC50 (nM):  2.4\\u003cbr\\u003eIC50 (nM):  ## \\u002f ## \\u002f ##\",\"1*Screen RLU:  741884\\u003cbr\\u003e2*Screen RLU:  479432\\u003cbr\\u003e3*Screen RLU:  498733\\u003cbr\\u003eScaleup RLU:  131953.5\\u003cbr\\u003ePoly\\u002fNonspecific binding to BVP?    No\\u003cbr\\u003eCDR3_HC sequence:  aaaa\\u003cbr\\u003eCDR3_LC sequence:  aaaa\\u003cbr\\u003eZ^2 Liability score:  4\\u003cbr\\u003eIsotype: mIGM mKAPPA\\u003cbr\\u003eEC50 (nM):  49.8\\u003cbr\\u003eIC50 (nM):  ## \\u002f ## \\u002f ##\",\"1*Screen RLU:  847900\\u003cbr\\u003e2*Screen RLU:  480873\\u003cbr\\u003e3*Screen RLU:  447667\\u003cbr\\u003eScaleup RLU:  968153\\u003cbr\\u003ePoly\\u002fNonspecific binding to BVP?    No\\u003cbr\\u003eCDR3_HC sequence:  aaaa\\u003cbr\\u003eCDR3_LC sequence:  aaaa\\u003cbr\\u003eZ^2 Liability score:  3\\u003cbr\\u003eIsotype: mIgG2b mKAPPA\\u003cbr\\u003eEC50 (nM):  1.2\\u003cbr\\u003eIC50 (nM):  ## \\u002f ## \\u002f ##\",\"1*Screen RLU:  707369\\u003cbr\\u003e2*Screen RLU:  364123\\u003cbr\\u003e3*Screen RLU:  378186\\u003cbr\\u003eScaleup RLU:  551059.5\\u003cbr\\u003ePoly\\u002fNonspecific binding to BVP?    No\\u003cbr\\u003eCDR3_HC sequence:  aaaa\\u003cbr\\u003eCDR3_LC sequence:  aaaa\\u003cbr\\u003eZ^2 Liability score:  5\\u003cbr\\u003eIsotype: mIGG2B mLAMBDA\\u003cbr\\u003eEC50 (nM):  2.2\\u003cbr\\u003eIC50 (nM):  ## \\u002f ## \\u002f ##\",\"1*Screen RLU:  806803\\u003cbr\\u003e2*Screen RLU:  585692\\u003cbr\\u003e3*Screen RLU:  610984\\u003cbr\\u003eScaleup RLU:  242905\\u003cbr\\u003ePoly\\u002fNonspecific binding to BVP?    No\\u003cbr\\u003eCDR3_HC sequence:  aaaa\\u003cbr\\u003eCDR3_LC sequence:  aaaa\\u003cbr\\u003eZ^2 Liability score:  4\\u003cbr\\u003eIsotype: mIGG1 mKAPPA\\u003cbr\\u003eEC50 (nM):  0.9\\u003cbr\\u003eIC50 (nM):  ## \\u002f ## \\u002f ##\",\"1*Screen RLU:  784380\\u003cbr\\u003e2*Screen RLU:  343425\\u003cbr\\u003e3*Screen RLU:  342921\\u003cbr\\u003eScaleup RLU:  417699.5\\u003cbr\\u003ePoly\\u002fNonspecific binding to BVP?    No\\u003cbr\\u003eCDR3_HC sequence:  aaaa\\u003cbr\\u003eCDR3_LC sequence:  aaaa\\u003cbr\\u003eZ^2 Liability score:  2\\u003cbr\\u003eIsotype: mIGG1 mKAPPA\\u003cbr\\u003eEC50 (nM):  0.6\\u003cbr\\u003eIC50 (nM):  ## \\u002f ## \\u002f ##\",\"1*Screen RLU:  728793\\u003cbr\\u003e2*Screen RLU:  330972\\u003cbr\\u003e3*Screen RLU:  292333\\u003cbr\\u003eScaleup RLU:  260472.5\\u003cbr\\u003ePoly\\u002fNonspecific binding to BVP?    No\\u003cbr\\u003eCDR3_HC sequence:  aaaa\\u003cbr\\u003eCDR3_LC sequence:  aaaa\\u003cbr\\u003eZ^2 Liability score:  2\\u003cbr\\u003eIsotype: mIGG2C mKAPPA\\u003cbr\\u003eEC50 (nM):  1.1\\u003cbr\\u003eIC50 (nM):  ## \\u002f ## \\u002f ##\",\"1*Screen RLU:  728793\\u003cbr\\u003e2*Screen RLU:  330972\\u003cbr\\u003e3*Screen RLU:  292333\\u003cbr\\u003eScaleup RLU:  260473.5\\u003cbr\\u003ePoly\\u002fNonspecific binding to BVP?    No\\u003cbr\\u003eCDR3_HC sequence:  aaaa\\u003cbr\\u003eCDR3_LC sequence:  aaaa\\u003cbr\\u003eZ^2 Liability score:  3\\u003cbr\\u003eIsotype: mIGG2C mKAPPA\\u003cbr\\u003eEC50 (nM):  2.1\\u003cbr\\u003eIC50 (nM):  ## \\u002f ## \\u002f ##\",\"1*Screen RLU:  728793\\u003cbr\\u003e2*Screen RLU:  330972\\u003cbr\\u003e3*Screen RLU:  292333\\u003cbr\\u003eScaleup RLU:  260474.5\\u003cbr\\u003ePoly\\u002fNonspecific binding to BVP?    No\\u003cbr\\u003eCDR3_HC sequence:  aaaa\\u003cbr\\u003eCDR3_LC sequence:  aaaa\\u003cbr\\u003eZ^2 Liability score:  4\\u003cbr\\u003eIsotype: mIGG2C mKAPPA\\u003cbr\\u003eEC50 (nM):  3.1\\u003cbr\\u003eIC50 (nM):  ## \\u002f ## \\u002f ##\",\"1*Screen RLU:  728793\\u003cbr\\u003e2*Screen RLU:  330972\\u003cbr\\u003e3*Screen RLU:  292333\\u003cbr\\u003eScaleup RLU:  260475.5\\u003cbr\\u003ePoly\\u002fNonspecific binding to BVP?    No\\u003cbr\\u003eCDR3_HC sequence:  aaaa\\u003cbr\\u003eCDR3_LC sequence:  aaaa\\u003cbr\\u003eZ^2 Liability score:  5\\u003cbr\\u003eIsotype: mIGG2C mKAPPA\\u003cbr\\u003eEC50 (nM):  4.1\\u003cbr\\u003eIC50 (nM):  ## \\u002f ## \\u002f ##\",\"1*Screen RLU:  728793\\u003cbr\\u003e2*Screen RLU:  330972\\u003cbr\\u003e3*Screen RLU:  292333\\u003cbr\\u003eScaleup RLU:  260476.5\\u003cbr\\u003ePoly\\u002fNonspecific binding to BVP?    No\\u003cbr\\u003eCDR3_HC sequence:  aaaa\\u003cbr\\u003eCDR3_LC sequence:  aaaa\\u003cbr\\u003eZ^2 Liability score:  6\\u003cbr\\u003eIsotype: mIGG2C mKAPPA\\u003cbr\\u003eEC50 (nM):  5.1\\u003cbr\\u003eIC50 (nM):  ## \\u002f ## \\u002f ##\",\"1*Screen RLU:  728793\\u003cbr\\u003e2*Screen RLU:  330972\\u003cbr\\u003e3*Screen RLU:  292333\\u003cbr\\u003eScaleup RLU:  260477.5\\u003cbr\\u003ePoly\\u002fNonspecific binding to BVP?    No\\u003cbr\\u003eCDR3_HC sequence:  aaaa\\u003cbr\\u003eCDR3_LC sequence:  aaaa\\u003cbr\\u003eZ^2 Liability score:  7\\u003cbr\\u003eIsotype: mIGG2C mKAPPA\\u003cbr\\u003eEC50 (nM):  6.1\\u003cbr\\u003eIC50 (nM):  ## \\u002f ## \\u002f ##\",\"1*Screen RLU:  728793\\u003cbr\\u003e2*Screen RLU:  330972\\u003cbr\\u003e3*Screen RLU:  292333\\u003cbr\\u003eScaleup RLU:  260478.5\\u003cbr\\u003ePoly\\u002fNonspecific binding to BVP?    No\\u003cbr\\u003eCDR3_HC sequence:  aaaa\\u003cbr\\u003eCDR3_LC sequence:  aaaa\\u003cbr\\u003eZ^2 Liability score:  8\\u003cbr\\u003eIsotype: mIGG2C mKAPPA\\u003cbr\\u003eEC50 (nM):  7.1\\u003cbr\\u003eIC50 (nM):  ## \\u002f ## \\u002f ##\",\"1*Screen RLU:  728793\\u003cbr\\u003e2*Screen RLU:  330972\\u003cbr\\u003e3*Screen RLU:  292333\\u003cbr\\u003eScaleup RLU:  260479.5\\u003cbr\\u003ePoly\\u002fNonspecific binding to BVP?    No\\u003cbr\\u003eCDR3_HC sequence:  aaaa\\u003cbr\\u003eCDR3_LC sequence:  aaaa\\u003cbr\\u003eZ^2 Liability score:  9\\u003cbr\\u003eIsotype: mIGG2C mKAPPA\\u003cbr\\u003eEC50 (nM):  8.1\\u003cbr\\u003eIC50 (nM):  ## \\u002f ## \\u002f ##\",\"1*Screen RLU:  728793\\u003cbr\\u003e2*Screen RLU:  330972\\u003cbr\\u003e3*Screen RLU:  292333\\u003cbr\\u003eScaleup RLU:  260480.5\\u003cbr\\u003ePoly\\u002fNonspecific binding to BVP?    No\\u003cbr\\u003eCDR3_HC sequence:  aaaa\\u003cbr\\u003eCDR3_LC sequence:  aaaa\\u003cbr\\u003eZ^2 Liability score:  10\\u003cbr\\u003eIsotype: mIGG2C mKAPPA\\u003cbr\\u003eEC50 (nM):  9.1\\u003cbr\\u003eIC50 (nM):  ## \\u002f ## \\u002f ##\",\"1*Screen RLU:  728793\\u003cbr\\u003e2*Screen RLU:  330972\\u003cbr\\u003e3*Screen RLU:  292333\\u003cbr\\u003eScaleup RLU:  260481.5\\u003cbr\\u003ePoly\\u002fNonspecific binding to BVP?    No\\u003cbr\\u003eCDR3_HC sequence:  aaaa\\u003cbr\\u003eCDR3_LC sequence:  aaaa\\u003cbr\\u003eZ^2 Liability score:  11\\u003cbr\\u003eIsotype: mIGG2C mKAPPA\\u003cbr\\u003eEC50 (nM):  10.1\\u003cbr\\u003eIC50 (nM):  ## \\u002f ## \\u002f ##\",\"1*Screen RLU:  728793\\u003cbr\\u003e2*Screen RLU:  330972\\u003cbr\\u003e3*Screen RLU:  292333\\u003cbr\\u003eScaleup RLU:  260482.5\\u003cbr\\u003ePoly\\u002fNonspecific binding to BVP?    No\\u003cbr\\u003eCDR3_HC sequence:  aaaa\\u003cbr\\u003eCDR3_LC sequence:  aaaa\\u003cbr\\u003eZ^2 Liability score:  12\\u003cbr\\u003eIsotype: mIGG2C mKAPPA\\u003cbr\\u003eEC50 (nM):  11.1\\u003cbr\\u003eIC50 (nM):  ## \\u002f ## \\u002f ##\",\"1*Screen RLU:  728793\\u003cbr\\u003e2*Screen RLU:  330972\\u003cbr\\u003e3*Screen RLU:  292333\\u003cbr\\u003eScaleup RLU:  260483.5\\u003cbr\\u003ePoly\\u002fNonspecific binding to BVP?    No\\u003cbr\\u003eCDR3_HC sequence:  aaaa\\u003cbr\\u003eCDR3_LC sequence:  aaaa\\u003cbr\\u003eZ^2 Liability score:  13\\u003cbr\\u003eIsotype: mIGG2C mKAPPA\\u003cbr\\u003eEC50 (nM):  12.1\\u003cbr\\u003eIC50 (nM):  ## \\u002f ## \\u002f ##\",\"1*Screen RLU:  728793\\u003cbr\\u003e2*Screen RLU:  330972\\u003cbr\\u003e3*Screen RLU:  292333\\u003cbr\\u003eScaleup RLU:  260484.5\\u003cbr\\u003ePoly\\u002fNonspecific binding to BVP?    No\\u003cbr\\u003eCDR3_HC sequence:  aaaa\\u003cbr\\u003eCDR3_LC sequence:  aaaa\\u003cbr\\u003eZ^2 Liability score:  14\\u003cbr\\u003eIsotype: mIGG2C mKAPPA\\u003cbr\\u003eEC50 (nM):  13.1\\u003cbr\\u003eIC50 (nM):  ## \\u002f ## \\u002f ##\",\"3 Polyclones\\u002fParentals obtained out of 24 \\u003cbr\\u003ePost-thaw RLU:  \\u003cbr\\u003e5-I19 (RLU:549521.5)\\u003cbr\\u003e9-B7 (RLU:402076\"],\"hovertemplate\":\"%{customdata}\",\"label\":[\"Fusion 1 \\u003cbr\\u003e# hybridomas =  2304\\u003cbr\\u003eFusion efficiency =  1.2\\u003cbr\\u003e# of wells screened:  1920\\u003cbr\\u003eMse ID#  9, 10\\u003cbr\\u003eMse strain(s):  qxv\\u003cbr\\u003eFused b-cells:  Lymphocytes\\u003cbr\\u003eImmunization method:  HT-Hock\\u003cbr\\u003eImmunogen:  aaa\\u003cbr\\u003eFinal boost:  aaa\",\"Fusion 2 \\u003cbr\\u003e# hybridomas =  2496\\u003cbr\\u003eFusion efficiency =  1.3\\u003cbr\\u003e# of wells screened:  1920\\u003cbr\\u003eMse ID#  1, 2, 4, 8\\u003cbr\\u003eMse strain(s):  Mixed, bxs, kxg7\\u003cbr\\u003eFused b-cells:  Lymphocytes\\u003cbr\\u003eImmunization method:  HT-Hock\\u003cbr\\u003eImmunogen:  aaa\\u003cbr\\u003eFinal boost:  aaa\",\"\\u003cb\\u003ePrimary\\u003cbr\\u003escreen\\u003cbr\\u003e\\u003cspan style='color:red'\\u003e384 hits\",\"\\u003cb\\u003eConfirmation\\u003cbr\\u003escreen\\u003cbr\\u003e\\u003cspan style='color:red'\\u003e355\\u002f384hits\",\"\\u003cb\\u003eTertiary screen\\u003cbr\\u003e\\u003cspan style='color:red'\\u003e337\\u002f355 hits\\u003cbr\\u003e\\u003cspan style='color:black'\\u003e\\u003cb\\u003eexpanded & cryopreserved\",\"Clone A\\u003cbr\\u003e(24\\u002f24)\",\"Clone B (21\\u002f24)\",\"BVP\\u003cbr\\u003e(21\\u002f24 clean)\",\"\\u003cb\\u003eSequencing\\u003c\\u002fb\\u003e \\u003cbr\\u003e( Single heavy & light\\u003cbr\\u003e chain obtained\\u003cbr\\u003e for 21\\u002f24)\",\"2-O1\",\"3-D11\",\"3-O21\",\"4-A16\",\"4-N1\",\"5-I19\",\"5-L22\",\"5-L6\",\"7-E1\",\"7-P21\",\"8-E6\",\"9-B7\",\"Top hit #13\",\"Top hit #14\",\"Top hit #15\",\"Top hit #16\",\"Top hit #17\",\"Top hit #18\",\"Top hit #19\",\"Top hit #20\",\"Top hit #21\",\"Top hit #22\",\"Top hit #23\",\"Top hit #24\",\"Parental\\u002fPoly\\u003cbr\\u003e(3\\u002f12)\"],\"x\":[-0.01,-0.01,0.2,0.3,0.4,0.65,0.65,0.95,0.9,0.45,0.45,0.45,0.45,0.45,0.45,0.45,0.45,0.45,0.45,0.45,0.45,0.55,0.55,0.55,0.55,0.55,0.55,0.55,0.55,0.55,0.55,0.55,0.55,0.65,null,null,null,null,null,null,null,null,null,null,null,null,null,null,null,null,null,null,null,null,null,null,null,null,null,null,null,null,null,null,null,null,null,null,null,null,null,null,null,null,null,null,null,null,null,null,null,null,null,null,null,null,null,null,null,null,null,null,null,null,null,null,null,null,null,null,null,null,null,null,null,null,null,null,null,null,null,null,null,null,null,null,null,null,null,null,null,null,null,null,null,null,null,null,null,null,null,null,null,null,null,null,null,null,null,null,null,null,null,null,null,null,null,null,null,null,null,null,null,null,null,null,null,null,null,null,null,null,null,null,null,null,null,null,null,null,null,null,null,null,null,null,null,null,null,null,null,null,null,null,null,null,null,null,null,null,null,null,null,null,null,null,null,null,null,null,null,null,null,null,null,null,null,null,null,null],\"y\":[0.25,0.75,0.5,0.25,0.35,0.1,0.3,0.35,0.5,0.6,0.625,0.65,0.675,0.7,0.725,0.75,0.775,0.8,0.825,0.85,0.875,0.6,0.625,0.65,0.675,0.7,0.725,0.75,0.775,0.8,0.825,0.85,0.875,0.4,null,null,null,null,null,null,null,null,null,null,null,null,null,null,null,null,null,null,null,null,null,null,null,null,null,null,null,null,null,null,null,null,null,null,null,null,null,null,null,null,null,null,null,null,null,null,null,null,null,null,null,null,null,null,null,null,null,null,null,null,null,null,null,null,null,null,null,null,null,null,null,null,null,null,null,null,null,null,null,null,null,null,null,null,null,null,null,null,null,null,null,null,null,null,null,null,null,null,null,null,null,null,null,null,null,null,null,null,null,null,null,null,null,null,null,null,null,null,null,null,null,null,null,null,null,null,null,null,null,null,null,null,null,null,null,null,null,null,null,null,null,null,null,null,null,null,null,null,null,null,null,null,null,null,null,null,null,null,null,null,null,null,null,null,null,null,null,null,null,null,null,null,null,null,null,null]},\"type\":\"sankey\"},{\"mode\":\"none\",\"x\":[1],\"y\":[1],\"type\":\"scatter\"}],                        {\"font\":{\"size\":12},\"template\":{\"data\":{\"histogram2dcontour\":[{\"type\":\"histogram2dcontour\",\"colorbar\":{\"outlinewidth\":0,\"ticks\":\"\"},\"colorscale\":[[0.0,\"#0d0887\"],[0.1111111111111111,\"#46039f\"],[0.2222222222222222,\"#7201a8\"],[0.3333333333333333,\"#9c179e\"],[0.4444444444444444,\"#bd3786\"],[0.5555555555555556,\"#d8576b\"],[0.6666666666666666,\"#ed7953\"],[0.7777777777777778,\"#fb9f3a\"],[0.8888888888888888,\"#fdca26\"],[1.0,\"#f0f921\"]]}],\"choropleth\":[{\"type\":\"choropleth\",\"colorbar\":{\"outlinewidth\":0,\"ticks\":\"\"}}],\"histogram2d\":[{\"type\":\"histogram2d\",\"colorbar\":{\"outlinewidth\":0,\"ticks\":\"\"},\"colorscale\":[[0.0,\"#0d0887\"],[0.1111111111111111,\"#46039f\"],[0.2222222222222222,\"#7201a8\"],[0.3333333333333333,\"#9c179e\"],[0.4444444444444444,\"#bd3786\"],[0.5555555555555556,\"#d8576b\"],[0.6666666666666666,\"#ed7953\"],[0.7777777777777778,\"#fb9f3a\"],[0.8888888888888888,\"#fdca26\"],[1.0,\"#f0f921\"]]}],\"heatmap\":[{\"type\":\"heatmap\",\"colorbar\":{\"outlinewidth\":0,\"ticks\":\"\"},\"colorscale\":[[0.0,\"#0d0887\"],[0.1111111111111111,\"#46039f\"],[0.2222222222222222,\"#7201a8\"],[0.3333333333333333,\"#9c179e\"],[0.4444444444444444,\"#bd3786\"],[0.5555555555555556,\"#d8576b\"],[0.6666666666666666,\"#ed7953\"],[0.7777777777777778,\"#fb9f3a\"],[0.8888888888888888,\"#fdca26\"],[1.0,\"#f0f921\"]]}],\"heatmapgl\":[{\"type\":\"heatmapgl\",\"colorbar\":{\"outlinewidth\":0,\"ticks\":\"\"},\"colorscale\":[[0.0,\"#0d0887\"],[0.1111111111111111,\"#46039f\"],[0.2222222222222222,\"#7201a8\"],[0.3333333333333333,\"#9c179e\"],[0.4444444444444444,\"#bd3786\"],[0.5555555555555556,\"#d8576b\"],[0.6666666666666666,\"#ed7953\"],[0.7777777777777778,\"#fb9f3a\"],[0.8888888888888888,\"#fdca26\"],[1.0,\"#f0f921\"]]}],\"contourcarpet\":[{\"type\":\"contourcarpet\",\"colorbar\":{\"outlinewidth\":0,\"ticks\":\"\"}}],\"contour\":[{\"type\":\"contour\",\"colorbar\":{\"outlinewidth\":0,\"ticks\":\"\"},\"colorscale\":[[0.0,\"#0d0887\"],[0.1111111111111111,\"#46039f\"],[0.2222222222222222,\"#7201a8\"],[0.3333333333333333,\"#9c179e\"],[0.4444444444444444,\"#bd3786\"],[0.5555555555555556,\"#d8576b\"],[0.6666666666666666,\"#ed7953\"],[0.7777777777777778,\"#fb9f3a\"],[0.8888888888888888,\"#fdca26\"],[1.0,\"#f0f921\"]]}],\"surface\":[{\"type\":\"surface\",\"colorbar\":{\"outlinewidth\":0,\"ticks\":\"\"},\"colorscale\":[[0.0,\"#0d0887\"],[0.1111111111111111,\"#46039f\"],[0.2222222222222222,\"#7201a8\"],[0.3333333333333333,\"#9c179e\"],[0.4444444444444444,\"#bd3786\"],[0.5555555555555556,\"#d8576b\"],[0.6666666666666666,\"#ed7953\"],[0.7777777777777778,\"#fb9f3a\"],[0.8888888888888888,\"#fdca26\"],[1.0,\"#f0f921\"]]}],\"mesh3d\":[{\"type\":\"mesh3d\",\"colorbar\":{\"outlinewidth\":0,\"ticks\":\"\"}}],\"scatter\":[{\"fillpattern\":{\"fillmode\":\"overlay\",\"size\":10,\"solidity\":0.2},\"type\":\"scatter\"}],\"parcoords\":[{\"type\":\"parcoords\",\"line\":{\"colorbar\":{\"outlinewidth\":0,\"ticks\":\"\"}}}],\"scatterpolargl\":[{\"type\":\"scatterpolargl\",\"marker\":{\"colorbar\":{\"outlinewidth\":0,\"ticks\":\"\"}}}],\"bar\":[{\"error_x\":{\"color\":\"#2a3f5f\"},\"error_y\":{\"color\":\"#2a3f5f\"},\"marker\":{\"line\":{\"color\":\"#E5ECF6\",\"width\":0.5},\"pattern\":{\"fillmode\":\"overlay\",\"size\":10,\"solidity\":0.2}},\"type\":\"bar\"}],\"scattergeo\":[{\"type\":\"scattergeo\",\"marker\":{\"colorbar\":{\"outlinewidth\":0,\"ticks\":\"\"}}}],\"scatterpolar\":[{\"type\":\"scatterpolar\",\"marker\":{\"colorbar\":{\"outlinewidth\":0,\"ticks\":\"\"}}}],\"histogram\":[{\"marker\":{\"pattern\":{\"fillmode\":\"overlay\",\"size\":10,\"solidity\":0.2}},\"type\":\"histogram\"}],\"scattergl\":[{\"type\":\"scattergl\",\"marker\":{\"colorbar\":{\"outlinewidth\":0,\"ticks\":\"\"}}}],\"scatter3d\":[{\"type\":\"scatter3d\",\"line\":{\"colorbar\":{\"outlinewidth\":0,\"ticks\":\"\"}},\"marker\":{\"colorbar\":{\"outlinewidth\":0,\"ticks\":\"\"}}}],\"scattermapbox\":[{\"type\":\"scattermapbox\",\"marker\":{\"colorbar\":{\"outlinewidth\":0,\"ticks\":\"\"}}}],\"scatterternary\":[{\"type\":\"scatterternary\",\"marker\":{\"colorbar\":{\"outlinewidth\":0,\"ticks\":\"\"}}}],\"scattercarpet\":[{\"type\":\"scattercarpet\",\"marker\":{\"colorbar\":{\"outlinewidth\":0,\"ticks\":\"\"}}}],\"carpet\":[{\"aaxis\":{\"endlinecolor\":\"#2a3f5f\",\"gridcolor\":\"white\",\"linecolor\":\"white\",\"minorgridcolor\":\"white\",\"startlinecolor\":\"#2a3f5f\"},\"baxis\":{\"endlinecolor\":\"#2a3f5f\",\"gridcolor\":\"white\",\"linecolor\":\"white\",\"minorgridcolor\":\"white\",\"startlinecolor\":\"#2a3f5f\"},\"type\":\"carpet\"}],\"table\":[{\"cells\":{\"fill\":{\"color\":\"#EBF0F8\"},\"line\":{\"color\":\"white\"}},\"header\":{\"fill\":{\"color\":\"#C8D4E3\"},\"line\":{\"color\":\"white\"}},\"type\":\"table\"}],\"barpolar\":[{\"marker\":{\"line\":{\"color\":\"#E5ECF6\",\"width\":0.5},\"pattern\":{\"fillmode\":\"overlay\",\"size\":10,\"solidity\":0.2}},\"type\":\"barpolar\"}],\"pie\":[{\"automargin\":true,\"type\":\"pie\"}]},\"layout\":{\"autotypenumbers\":\"strict\",\"colorway\":[\"#636efa\",\"#EF553B\",\"#00cc96\",\"#ab63fa\",\"#FFA15A\",\"#19d3f3\",\"#FF6692\",\"#B6E880\",\"#FF97FF\",\"#FECB52\"],\"font\":{\"color\":\"#2a3f5f\"},\"hovermode\":\"closest\",\"hoverlabel\":{\"align\":\"left\"},\"paper_bgcolor\":\"white\",\"plot_bgcolor\":\"#E5ECF6\",\"polar\":{\"bgcolor\":\"#E5ECF6\",\"angularaxis\":{\"gridcolor\":\"white\",\"linecolor\":\"white\",\"ticks\":\"\"},\"radialaxis\":{\"gridcolor\":\"white\",\"linecolor\":\"white\",\"ticks\":\"\"}},\"ternary\":{\"bgcolor\":\"#E5ECF6\",\"aaxis\":{\"gridcolor\":\"white\",\"linecolor\":\"white\",\"ticks\":\"\"},\"baxis\":{\"gridcolor\":\"white\",\"linecolor\":\"white\",\"ticks\":\"\"},\"caxis\":{\"gridcolor\":\"white\",\"linecolor\":\"white\",\"ticks\":\"\"}},\"coloraxis\":{\"colorbar\":{\"outlinewidth\":0,\"ticks\":\"\"}},\"colorscale\":{\"sequential\":[[0.0,\"#0d0887\"],[0.1111111111111111,\"#46039f\"],[0.2222222222222222,\"#7201a8\"],[0.3333333333333333,\"#9c179e\"],[0.4444444444444444,\"#bd3786\"],[0.5555555555555556,\"#d8576b\"],[0.6666666666666666,\"#ed7953\"],[0.7777777777777778,\"#fb9f3a\"],[0.8888888888888888,\"#fdca26\"],[1.0,\"#f0f921\"]],\"sequentialminus\":[[0.0,\"#0d0887\"],[0.1111111111111111,\"#46039f\"],[0.2222222222222222,\"#7201a8\"],[0.3333333333333333,\"#9c179e\"],[0.4444444444444444,\"#bd3786\"],[0.5555555555555556,\"#d8576b\"],[0.6666666666666666,\"#ed7953\"],[0.7777777777777778,\"#fb9f3a\"],[0.8888888888888888,\"#fdca26\"],[1.0,\"#f0f921\"]],\"diverging\":[[0,\"#8e0152\"],[0.1,\"#c51b7d\"],[0.2,\"#de77ae\"],[0.3,\"#f1b6da\"],[0.4,\"#fde0ef\"],[0.5,\"#f7f7f7\"],[0.6,\"#e6f5d0\"],[0.7,\"#b8e186\"],[0.8,\"#7fbc41\"],[0.9,\"#4d9221\"],[1,\"#276419\"]]},\"xaxis\":{\"gridcolor\":\"white\",\"linecolor\":\"white\",\"ticks\":\"\",\"title\":{\"standoff\":15},\"zerolinecolor\":\"white\",\"automargin\":true,\"zerolinewidth\":2},\"yaxis\":{\"gridcolor\":\"white\",\"linecolor\":\"white\",\"ticks\":\"\",\"title\":{\"standoff\":15},\"zerolinecolor\":\"white\",\"automargin\":true,\"zerolinewidth\":2},\"scene\":{\"xaxis\":{\"backgroundcolor\":\"#E5ECF6\",\"gridcolor\":\"white\",\"linecolor\":\"white\",\"showbackground\":true,\"ticks\":\"\",\"zerolinecolor\":\"white\",\"gridwidth\":2},\"yaxis\":{\"backgroundcolor\":\"#E5ECF6\",\"gridcolor\":\"white\",\"linecolor\":\"white\",\"showbackground\":true,\"ticks\":\"\",\"zerolinecolor\":\"white\",\"gridwidth\":2},\"zaxis\":{\"backgroundcolor\":\"#E5ECF6\",\"gridcolor\":\"white\",\"linecolor\":\"white\",\"showbackground\":true,\"ticks\":\"\",\"zerolinecolor\":\"white\",\"gridwidth\":2}},\"shapedefaults\":{\"line\":{\"color\":\"#2a3f5f\"}},\"annotationdefaults\":{\"arrowcolor\":\"#2a3f5f\",\"arrowhead\":0,\"arrowwidth\":1},\"geo\":{\"bgcolor\":\"white\",\"landcolor\":\"#E5ECF6\",\"subunitcolor\":\"white\",\"showland\":true,\"showlakes\":true,\"lakecolor\":\"white\"},\"title\":{\"x\":0.05},\"mapbox\":{\"style\":\"light\"}}},\"xaxis\":{\"showticklabels\":true,\"showgrid\":true,\"dtick\":0.05,\"range\":[0,1]},\"yaxis\":{\"showticklabels\":true,\"showgrid\":true,\"dtick\":0.05,\"range\":[0,1]},\"plot_bgcolor\":\"#e6e6fa\",\"paper_bgcolor\":\"#e6e6fa\",\"title\":{\"text\":\"\\u003cb\\u003eSR##### Client [Target]\\u003cbr\\u003eHybridoma antibody discovery \\u003cbr\\u003e (Campaign Summary)\",\"x\":0.5}},                        {\"responsive\": true}                    ).then(function(){\n",
       "                            \n",
       "var gd = document.getElementById('7eabcc08-92f6-440a-9ab9-2b8af21a67c9');\n",
       "var x = new MutationObserver(function (mutations, observer) {{\n",
       "        var display = window.getComputedStyle(gd).display;\n",
       "        if (!display || display === 'none') {{\n",
       "            console.log([gd, 'removed!']);\n",
       "            Plotly.purge(gd);\n",
       "            observer.disconnect();\n",
       "        }}\n",
       "}});\n",
       "\n",
       "// Listen for the removal of the full notebook cells\n",
       "var notebookContainer = gd.closest('#notebook-container');\n",
       "if (notebookContainer) {{\n",
       "    x.observe(notebookContainer, {childList: true});\n",
       "}}\n",
       "\n",
       "// Listen for the clearing of the current output cell\n",
       "var outputEl = gd.closest('.output');\n",
       "if (outputEl) {{\n",
       "    x.observe(outputEl, {childList: true});\n",
       "}}\n",
       "\n",
       "                        })                };                });            </script>        </div>"
      ]
     },
     "metadata": {},
     "output_type": "display_data"
    }
   ],
   "source": [
    "#Center the title\n",
    "fig_annotate.update_layout(\n",
    "    title= project_title,\n",
    "    title_x = 0.5)"
   ]
  },
  {
   "cell_type": "markdown",
   "id": "622be9f6-57a0-43ee-b7bd-316697d194fb",
   "metadata": {},
   "source": [
    "<span style=\"color:red;font-weight:10;font-size:30px\">\n",
    "<b><u>2️⃣💉🐭💬 READ THESE INSTRUCTIONS:</b> </u><br>\n",
    "    \n",
    "<span style=\"color:red;font-weight:10;font-size:20px\">  \n",
    "To add or edit another note, type and fill in the following:<br>\n",
    "<div class=\"alert alert-block alert-warning\">\n",
    "<b> add_custom_annotation(figure, <span style=\"color: blue;\">x</span>, <span style=\"color: blue;\">y</span>, <span style=\"color: blue;\">\"text\"</span>, \n",
    "                         <span style=\"color: black;\">size=12</span>, <span style=\"color: black;\">family=\"Sans-serif\"</span>,<span style=\"color: black;\">color=\"#000000\"</span>, <span style=\"color: black;\">align=\"left\"</span>) </b>\n",
    "</div>\n",
    "\n",
    "<span style=\"color:red;font-weight:10;font-size:20px\"> \n",
    "🧀 Your parameters <span style=\"color: blue;\">x</span> and <span style=\"color: blue;\">y</span> will be replaced with numbers, and they are the (x,y) location of your note based on the gridlines in the image generated from above. \n",
    "<br>\n",
    "🧀 Your parameter <span style=\"color: blue;\">\"text\"</span> will be your note written in between quotation marks.\n",
    "<br>\n",
    "🧀 The following 4 paramters (<span style=\"color: black;\">size</span>, <span style=\"color: black;\">family</span>, <span style=\"color: black;\">color</span>, <span style=\"color: black;\">align</span> ) are optional and does not need to be written in. Their defaults are listed above, but you can modify them if you wish to change the size, font, color, or alignment of your note. \n",
    "<br>\n",
    "🧀 If you want to change the color, use these color codes found in url's here: "
   ]
  },
  {
   "cell_type": "markdown",
   "id": "8f7be57a-e545-46bd-8df5-33e544dd6ae4",
   "metadata": {},
   "source": [
    "https://www.quackit.com/css/css_color_codes.cfm <br>\n",
    "https://reeddesign.co.uk/test/namedcolors.html "
   ]
  },
  {
   "cell_type": "code",
   "execution_count": 47,
   "id": "2788ebd3-f48c-43b5-9b39-b756a4059c23",
   "metadata": {},
   "outputs": [],
   "source": [
    "def add_custom_annotation(figure, x, y, text, size=12, family=\"Sans-serif\", color = \"#000000\", xref=\"x\", yref=\"y\", align=\"left\"):\n",
    "    '''For adding static annotations'''\n",
    "    fig.add_annotation(\n",
    "        x=x, y=y,\n",
    "        xref=xref, yref=yref,\n",
    "        text=text,\n",
    "        showarrow=False,\n",
    "        font=dict(\n",
    "            family=family,\n",
    "            size=size,\n",
    "            color=color),   \n",
    "        align=align,\n",
    "        bgcolor=\"rgba(0,0,0,0)\",\n",
    "        opacity=1)"
   ]
  },
  {
   "cell_type": "code",
   "execution_count": 48,
   "id": "ca3b7186-0fcb-4565-b834-fadc3ba77238",
   "metadata": {},
   "outputs": [],
   "source": [
    "add_custom_annotation(fig_annotate, 0.52, 0.48, \"<span style='color:red;font-weight:10;font-size:15px'><b>(Subclone Top 12 against <br>target1/target2/target3)<b>\", align = \"center\") #Subcloning "
   ]
  },
  {
   "cell_type": "code",
   "execution_count": 49,
   "id": "ecbb76bc-c47d-4b38-b1e2-3abc0a8a150d",
   "metadata": {},
   "outputs": [
    {
     "data": {
      "text/plain": [
       "'temp-plot.html'"
      ]
     },
     "execution_count": 49,
     "metadata": {},
     "output_type": "execute_result"
    }
   ],
   "source": [
    "#Color code for transparency: \"rgba(0, 0, 0, 0)\" \n",
    "fig_annotate.update_xaxes(showticklabels=False)\n",
    "fig_annotate.update_yaxes(showticklabels=False)\n",
    "fig_annotate.update_layout({\"plot_bgcolor\": \"rgba(0, 0, 0, 0)\",\n",
    "                            \"paper_bgcolor\": \"rgba(0, 0, 0, 0)\"})\n",
    "\n",
    "#OUTPUT IS INTERACTIVE. MOVE NODES TO LIKING.\n",
    "yay = plot(fig_annotate,\n",
    "     image_filename=\"sankey_plot\", \n",
    "     image=\"png\", \n",
    "     image_width=1000, \n",
    "     image_height=600)\n",
    "yay "
   ]
  },
  {
   "cell_type": "code",
   "execution_count": null,
   "id": "18c9b7df-a7d8-499f-a060-6297b46bb306",
   "metadata": {},
   "outputs": [],
   "source": []
  }
 ],
 "metadata": {
  "kernelspec": {
   "display_name": "Python 3 (ipykernel)",
   "language": "python",
   "name": "python3"
  },
  "language_info": {
   "codemirror_mode": {
    "name": "ipython",
    "version": 3
   },
   "file_extension": ".py",
   "mimetype": "text/x-python",
   "name": "python",
   "nbconvert_exporter": "python",
   "pygments_lexer": "ipython3",
   "version": "3.12.2"
  }
 },
 "nbformat": 4,
 "nbformat_minor": 5
}
